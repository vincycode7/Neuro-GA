{
 "cells": [
  {
   "cell_type": "code",
   "execution_count": 1,
   "metadata": {},
   "outputs": [],
   "source": [
    "from sklearn.preprocessing import StandardScaler,LabelEncoder\n",
    "from sklearn.feature_extraction.text import CountVectorizer\n",
    "from process_data import Fill_Empty_Spaces,String_Encoder,Replace_Values,Fill_Empty_Spaces,Encode_Feature_Label\n",
    "from joblib import dump, load\n",
    "\n",
    "import pandas as pd\n",
    "import numpy as np\n",
    "import time"
   ]
  },
  {
   "cell_type": "code",
   "execution_count": 2,
   "metadata": {},
   "outputs": [],
   "source": [
    "dataset_url = 'dataset/new_data4.csv'\n",
    "data = pd.read_csv(dataset_url)"
   ]
  },
  {
   "cell_type": "code",
   "execution_count": 3,
   "metadata": {},
   "outputs": [
    {
     "output_type": "execute_result",
     "data": {
      "text/plain": "(3145130, 17)"
     },
     "metadata": {},
     "execution_count": 3
    }
   ],
   "source": [
    "data[data.target == 0].shape"
   ]
  },
  {
   "cell_type": "code",
   "execution_count": 4,
   "metadata": {},
   "outputs": [
    {
     "output_type": "execute_result",
     "data": {
      "text/plain": "(1533706, 17)"
     },
     "metadata": {},
     "execution_count": 4
    }
   ],
   "source": [
    "data[data.target == 1].shape"
   ]
  },
  {
   "cell_type": "code",
   "execution_count": 6,
   "metadata": {},
   "outputs": [],
   "source": [
    "data.drop('target',axis=1,inplace=True)"
   ]
  },
  {
   "cell_type": "code",
   "execution_count": 5,
   "metadata": {},
   "outputs": [
    {
     "output_type": "execute_result",
     "data": {
      "text/plain": "(2061098, 17)"
     },
     "metadata": {},
     "execution_count": 5
    }
   ],
   "source": [
    "data[data.target == 2].shape"
   ]
  },
  {
   "cell_type": "code",
   "execution_count": 9,
   "metadata": {},
   "outputs": [
    {
     "output_type": "execute_result",
     "data": {
      "text/plain": "7.418470269886916"
     },
     "metadata": {},
     "execution_count": 9
    }
   ],
   "source": [
    "(500000*100)/6739934"
   ]
  },
  {
   "cell_type": "code",
   "execution_count": null,
   "metadata": {},
   "outputs": [],
   "source": [
    "(200000*100)/6739934"
   ]
  },
  {
   "cell_type": "code",
   "execution_count": null,
   "metadata": {},
   "outputs": [],
   "source": [
    "7.41848"
   ]
  },
  {
   "cell_type": "code",
   "execution_count": null,
   "metadata": {},
   "outputs": [],
   "source": [
    "1. *300,000* for training, *90,000* for evaluation, *90,000* for testing\n",
    "2. for training *100,000* for each class (to make the classes balanced) for testing and validation *30,000* for each class (to make the classes balanced)\n",
    "3. string features*(2)['IMPORTER_NAME','DECLARANT_NAME',]*, norminal features*(2)['CTY_ORIGIN','MODE_OF_TRANSPORT']* ordinal features*(0)* numerical features*(9)['HS_DESC(this will have values from hscode)',  'ITM_PRICE', 'GROSS_MASS',  'NET_MASS', 'TOTAL_TAX',  'INVOICE_AMT', 'QTY',  'STATISTICAL_VALUE','INVOICE_AMT']*\n",
    "4. standard scaling\n",
    "5. for string features *(countvectorizer a class in sklearn was used because it helps convert various strings into feature vectors by converting each word into a one hot encoded feature.)*\n",
    "for nominal features *(OneHotEncoder a class in sklearn was used to convert features into onehot encoding.)*\n",
    "for ordinal features *few questions to be asked to finalize the method to choose*\n",
    "6..\n",
    "7. *since this is a classification problem categoracal_cross_entropy_loss and accuracy will be used to evaluate perfomance, recall and precision will also be used to evaluate performance on each class*\n",
    "8. inspection_act column --> this was almost manual, first step was to filter out all the unique inspections act values by dropping duplicates by indexing out the column, then using the *drop_duplicate method in pandas to drop all duplicates keeping the first labels, after this was done the amount of instance to look through reduced by abit, next step was to go thought the reduced inspection act and find unique values, now at this point for every unique value found we removed every other instances that has that unique value in them, that way we reduce the amount of instance to look through every time we find a unique value until we had instances with out unique values this instances where labels *medium risk*.\n",
    "9. low_risk_keywords = [ 'RELEASE AUTHORISED',' RELEASE AUTHORISED.',',RELEASE AUTHORISED', 'RELEASE AUTHORISED.','RELSD BY','COMFIRMED',\n",
    "                'RLEASAE',' LEASED ','RELEASDE BASED ON','CORRECTLY CLASSIFIED',\n",
    "                'VERIFIED','RE- LEASED','AUTH',\n",
    "                'RELSD  BASED',\n",
    "                ' IN COMPLIANCE','RLS AUTHORISED',\n",
    "                'CONFRMED','CONFIRMED','RLDS BY',\n",
    "                'RELASED','RELAESED','RELEASAED',',ISSUED AND PAID',\n",
    "                '.ISSUED AND PAID','ISSUED AND PAID','RELAESED','PAID','APAID',\n",
    "                ' RELD ','PAYMENT CONFIRMED:','AUTHORIZED','AUTHORISE.',\n",
    "                'PAID VIA RECEIPT','RLEASED','ISSUED AND PAID','CONFIRM PAID','RELS BSD ON',\n",
    "                'RLEASED.','.RLS AUTHORISED','RLEASE RECOMMENDED','REL AUTHO','RELSD BASED ON EXM.',\n",
    "                'RLS AUTHORISED','ELEASE AUTHORISED','RLS AUTHORISED.','RELEASA AUTHORISED',\n",
    "                'RLEASE AUTHORISED','CONFIRMED.','REELASED','RELELASE AUTHROISED.','CLEARED','CLEARED BY',\n",
    "                'RELAESD AUTHORISED','DN CONFIRMED PAID','.ISSUED AND PAID','RELERASED AUTHORISED.',\n",
    "                'PAYMENT CONFIRMED.','RELEAED AUTHORISED','RESLD AUTHORISED.', 'SATISFIED  AS', \n",
    "                ' RELSD ', 'REL AUTHOURISED', ' RLSD ','RLSD.','RLSD','RLSD BASED ON','.RLSD BASED ON',\n",
    "                'RELEASED AUTHORISED.','REL AUTHORISED', 'REL AUTHORISED.', '.REL. AUTHORISED.', \n",
    "                'RELEASED.','RELEASED!','RELEASED','RELEASE AUTHORIZED','RELEASE AUTHOURIZE.','REL ANTHO',\n",
    "                'RELEASE BASED ON ABOVE EXAMINATION','RELEASE AUTHOURIZED.','RELEAASED BASE ON','.RELSD',\n",
    "                ',RSLD','A.I.RSLD','RELEASD AUTHORISED','REALESD','AUTHORISED.','RELSD','RELAESE BASE',\n",
    "                'AUTHORISED','RELELEASED','RELEASDED','RELESED','RELESE  AUTHORISED.','SATISFIED AS DECLARED.',\n",
    "                '.RELEASSE AUTHORISED','.REL.ATHORISED.','.REL.AUTHORISED.','AND  APPROVED','RELSED BASED ON EXAMINATION',\n",
    "                '. RELEAS AUTHORIZED','DN CONFIRMED PAID', '. RELASE',',  SATISFIED AS ENTERRED','RELS BASED ON EXM ',\n",
    "                'REL THUTHORISED.','. AUTHORISED','.RELEASE  AUTHORISED','RELEASE RECOMMENDED','RELSED BASED ON',\n",
    "                'REEASED AUTHORISED.','RELLEASED.','RLSED','AND APPROVED',',ISSUED AND PAID',\n",
    "                '.REL AUTHORSED','RLSED','RELEASD AUTHORISED.','AND PAID','RELEAED','RELEAS RECOMMENDED',\n",
    "                'RLASD','RELELASE AUTHORISED.','.RLESD','BASED ON THE DN RAISED BY Q & A AND PAID',\n",
    "                'RELEAASE AUTHORIZED','UPLIFTED','D/N PAID','DN PAID','RELEASE EFFECTED','.RELEASED BY','RELSD BY']\n",
    "\n",
    "10. high_risk_keywords = ['REFER TO Q/A FOR FUTHER ACTION','REOUTED','SGD REFERS TO Q&A','REFFER TO Q&A.','BACK TO RED',\n",
    "                'FRAUDULENT','ITEMS NOT DECLARED','REFER TO Q&A','VALUATION REFERS','REFFER TO Q&A','RED','ENTRY MODIFICATION',\n",
    "                'MODIFY','TRANSFER OF SHIPMENT','REVENUE REFERS','REFR TO Q&A','REFERED TO','REF TO VALUATION',\n",
    "                'RE-WRITE',' RE-S ',' FYNA ','TO CPC','UPDATE',' REFERS TO ','. REFER SGD TO APM.','REFERD TO VALUATION',\n",
    "                ' TFNA ','ATTENTION','LOCAT','CHENGE','REFERS TO Q&A','VALUATION REFERS.','REASIGN TO EXAMINER',\n",
    "                'CORRECT','FORWARDED','DN APPROVED','CONFIRM PAYMENT BEFORE RELEASE','STRIKE FORCE REFER',\n",
    "                'MISTAKE','OMITTED','CHANGE TO','NOT DECLARED','REFERED TO CPC','REFD TO VALUATION','RELOC LABEL',\n",
    "                'REASIGNED','PLS CONFIRM','LOCATION CHANGE','CPC REFERS','REFERED TO VALUATION.','REFD TO SDV VALUATION',\n",
    "                'REASSIGNMENT',' RE-R ','REFERS FOR FNA','SGD REFERS','VALUATIONN REFERS','AS PPROVED BY CA',\n",
    "                'IF SATISFIED',' RFD ','NOT SATISFIED','FRAUD DETECTED','.VALUATION REFERS,','RFED FOR DOC CHECK',\n",
    "                'INPUT EXAM REPORT','PLEASE CHECK','VALUATION/CPC REFERS','TO Q&A','REFFERED TO Q&A/',\n",
    "                'WRONGLY','WRONG','CANCELLATION','CANCELLED','VALUATION ABOVE REFERS','Q & A REFERS.',\n",
    "                'CORRECTION','LOCATION CODE CHANGE','VALUATION REFERS.','REFD. TO SDV VALUATION',\n",
    "                'ACCIDENTED','CHANGE EFFECTED PLEASE','RE-ROUTE','VALUATION REFERS','DC VALUATION, ABOVE',\n",
    "                'INPUTED WRONGLY','CROSS CHECK','ROUNTED','ROUTED','CPC REFERED.','VALUATION,ABOVE REFERS',\n",
    "                'BACK TO BULK','SEVCTION','P.E.M','CPC REFER.','SUSPECTED','SONCLEARANCE REQUIRE',\n",
    "                'CHANGE LOCATION','CHANGE OF LOCATION','OMMITTED','BACK TO RED.','SHORTLANDED','REFRD TO Q & A',\n",
    "                ' F N A','RE-RETOUTED','TO SCANNING','PLEASE CONFIRM','REASSIGNED TO','REFFERED TO VALUATION',\n",
    "                'ADDITIONAL  PAYMENT','REQUESTED','.ISSUED','AMMEND','SGD REFER TO VALUATION','REF, TO VAL',\n",
    "                'ADDITIONAL PAYMENT','MODIFOED TO PAY','REFD TO  VALUATION','DECLARED. Q & A REFERS.',\n",
    "                'DOES NOT COVER','necrssary action','MODIFIED TO PAY','SGD REFER TO VALUATION.',\n",
    "                '/ODIFIED TO PAY','PROCEED','ODIFIED TO PAY','REFERS FOR FURTHER ACTION','REFER TO VALUATOIN,',\n",
    "                'necessary action','RE LOCATION','ALERT!','REFERS FOR FURTHER ACTION.','REFER TO VALUATOIN',\n",
    "                'ALERT','DN BASED ON UNDER PAYMENT','MODIFUIED TO PAY','REFFERS TO VALUATION',\n",
    "                'RELOCATION','MODIFIED','YOU MAY PROCEED','REFERS TO VALFFA','Q & A REFERS.',\n",
    "                'DN BASED ON DECLARATION.','APPROVED','relocation','REFER TO CLASSIC VAL',\n",
    "                'RFEERS','WRONGLY INPUTED',' COMFIRM ','RELOCATION','VALUARION REFERS','REFFERED TO Q7A/',\n",
    "                'RE ROUTED',',YOU MAY PROCEED',' RED ','MODIFICATION DONE','CPC (Q7A) REFERS',\n",
    "                'NECESSARY ACTION','DN RAISED,','AMENDMENT','FORWARDED TO CPC', 'REFEERED TO VALUATION',\n",
    "                'YOU MAY WISH TO TAKE FURTHER ACTION','FURTHER ACTION','DC VALUATION','CAS APPREOVED BY CAC',\n",
    "                'REFERS TO QUERY FOR RE-LOCATION.','REFERS TO QUERY','VALUATION REFER.',\n",
    "                'REROUTED TO TERMINAL','RE ALLOCATED','UNDECLEARED','FWDED TO','DC VALUATION, ABOVE',\n",
    "                'RE-ROUTED TO RED','DN  RAISED,','FOLLOW UP',' FOLLOW UP','Q&A REFERS.','REFRD T0 VALUATIO',\n",
    "                'POST ENTRY MODIFICATION DONE TO CHANGE','FOLLOW UP ','FWDED TO VALUATION','EXAMINATION NOT CONDUCTED.',\n",
    "                'RE ROUTED TO TERMINAL','REFERS TO VAL','REFERS TO ','VALUATION REFERS','REFERES TO Q & A',\n",
    "                'RE-ROUTED TO YELLOW','RE ROUTE BACK TO BLUE LANE','REFER TO VALUATION','REFD TO',\n",
    "                'REFER TO VALUATION.','YOU MAY WISH TO PROCEED ACCORDINGLY','VAPPRPVED BY CAC','REFD',\n",
    "                'YOU MAY WISH TO CONTINUE','RECEIPT NOT','MODIFIED TO PAY','UNDECLARED.Q & A REFERS',\n",
    "                'VAT PAYMENT','REASSIGNED.','AGAINST','RE ASSIGNED','RELEASD','PENDING PHYSICAL EXAMINATION',\n",
    "                'RE-CONFIRM','RE ASSIGNED','YOU MAUY WISH TO PROCEED','RECONFIRM','Q&A REFERS.','CPC  REFERS',\n",
    "                ' PAY ','RE ASSIGNED TO EXAMINER','. REFERED TO EXAMINER.','PENDING PHYSICAL EXAMINATION.',\n",
    "                'REFERRED TO VALUATION','FOR FOLLOW UP','REFERED TO VALUATION,','REF.TO VALUATION','REF.TO VALUATION.',\n",
    "                ',YOU MAY WISH TO TAKE FURTHER NECESSARY ACTION AFTER PAYMENT CONFIRMATION.','REFD TO   DOC CHECKS',\n",
    "                'MODIFUICATION DONE','RE ASSIGNED','REFERED TO VALUATION','YOU MAY TAKE','REFERS.',\n",
    "                '. RE-ROUTED TO TERMINAL.','.RE-ROUTED TO TERMINAL.','O/C VALUATION','REFD  TO  Q   &  A',\n",
    "                'RE-ROUTED TO TERMINAL.','YOU MAY WISH',' QUERY ','INPUT VERIFICATION REPORT',\n",
    "                'FOR FUTHER ACTION','MODIFICATION','ADDING',\"VALUATION UNIT REFER\",\n",
    "                ',REFER','RE-ROUTED TO THE TERMINAL','.REFERRED','EXAMINATION NOT CONDUCTED',\n",
    "                'RE-ASSIGNED TO YELLOW','.CPC REFERRED.','REFERED TO Q&A',\n",
    "                'RE-ROUTE TO BLUE LANE','RE-ROUTED','REALLOCATED','ISSUED BY VALUATION',\n",
    "                '. CPC REFEERED','.REFER ','. REFER','INSPECTION','FORCE REFER',\n",
    "                'CODE AMENDED','ADDITIONAL ITEM CREATED TO PAY','REFFERED TO VALUATION',\n",
    "                'WRONG CLASSIFICATION',',YOU MAY WISH TO TAKE','REF ;TO VALUATION',\n",
    "                'CPC REFFERED','REFERRED TO CPC','RE-ASSIGN TO','VALUATION, REFERS',\n",
    "                'D/N RAISED','YOU MAY PROCEED ACCORDINGLY.','REFER TO SDV VALUATION',\n",
    "                'RAISED','.RELEASE AUHTORISED',' D/N RAISED ',',D/N RAISED',\n",
    "                'YOU MAY WISH TO PROCEED AFTER PAYMENT CONFIRMATION.','VALUATION, REFERS.',\n",
    "                'POST MODIFICATION','RE-ALLOCATED','REFER TO SDV VALUATION.','VAL RFERD',\n",
    "                'REFERRE', 'YOU MAY PROCEED AFTER CONFIRMATION OF PAYMENT','DC REVENUE REFER',\n",
    "                ' REFER ','NOT BEEN PAID','REFFERRED','VALAUTION REFERS.','VALAUTION REFERS',\n",
    "                'YOU MAY WISH TO PROCEED','VALUATION AND Q&A REFERS.','VALUATION AND Q&A REFERS','CPC (Q&A) REFERS']\n",
    "\n"
   ]
  },
  {
   "cell_type": "code",
   "execution_count": 3,
   "metadata": {},
   "outputs": [],
   "source": [
    "data.loc[data.index,'HS_DESC'] = data.HSCODE\n",
    "data.drop('HSCODE', axis=1, inplace=True)"
   ]
  },
  {
   "cell_type": "code",
   "execution_count": 5,
   "metadata": {},
   "outputs": [
    {
     "output_type": "execute_result",
     "data": {
      "text/plain": "                   IMPORTER_NAME  \\\n0  RIAD GLOBAL HERITAGE LIMITED,   \n1  RIAD GLOBAL HERITAGE LIMITED,   \n2  RIAD GLOBAL HERITAGE LIMITED,   \n3  RIAD GLOBAL HERITAGE LIMITED,   \n4  RIAD GLOBAL HERITAGE LIMITED,   \n\n                                      DECLARANT_NAME CTY_ORIGIN  \\\n0  OKPROSPER GLOBAL LOGISTICS LTD\\n   RAILWAY APA...      China   \n1  OKPROSPER GLOBAL LOGISTICS LTD\\n   RAILWAY APA...      China   \n2  OKPROSPER GLOBAL LOGISTICS LTD\\n   RAILWAY APA...      China   \n3  OKPROSPER GLOBAL LOGISTICS LTD\\n   RAILWAY APA...      China   \n4  OKPROSPER GLOBAL LOGISTICS LTD\\n   RAILWAY APA...      China   \n\n  MODE_OF_TRANSPORT  HS_DESC  ITM_NUM  QTY  GROSS_MASS  NET_MASS  ITM_PRICE  \\\n0     Sea transport        5     0.25  400     10000.0   10000.0    3081456   \n1     Sea transport        5     0.25  400     10000.0   10000.0    3081456   \n2     Sea transport        5     0.25  400     10000.0   10000.0    3081456   \n3     Sea transport        5     0.50  400     10000.0   10000.0    3087570   \n4     Sea transport       10     0.75  180      4520.0    4520.0    1530334   \n\n   STATISTICAL_VALUE  TOTAL_TAX  INVOICE_AMT  \\\n0          3565285.0     968848      8524750   \n1          3565285.0     968848      8524750   \n2          3565285.0     968848      8524750   \n3          3572399.0     968848      8524750   \n4          1770580.0     968848      8524750   \n\n                                      INSPECTION_ACT  target  \n0  BASED ON DN PAID, RELEASE AUTHORISED.       AC...       0  \n1  BASED ON DN PAID, RELEASE AUTHORISED.       AC...       0  \n2  BASED ON DN PAID, RELEASE AUTHORISED.       AC...       0  \n3  BASED ON DN PAID, RELEASE AUTHORISED.       AC...       0  \n4  BASED ON DN PAID, RELEASE AUTHORISED.       AC...       0  ",
      "text/html": "<div>\n<style scoped>\n    .dataframe tbody tr th:only-of-type {\n        vertical-align: middle;\n    }\n\n    .dataframe tbody tr th {\n        vertical-align: top;\n    }\n\n    .dataframe thead th {\n        text-align: right;\n    }\n</style>\n<table border=\"1\" class=\"dataframe\">\n  <thead>\n    <tr style=\"text-align: right;\">\n      <th></th>\n      <th>IMPORTER_NAME</th>\n      <th>DECLARANT_NAME</th>\n      <th>CTY_ORIGIN</th>\n      <th>MODE_OF_TRANSPORT</th>\n      <th>HS_DESC</th>\n      <th>ITM_NUM</th>\n      <th>QTY</th>\n      <th>GROSS_MASS</th>\n      <th>NET_MASS</th>\n      <th>ITM_PRICE</th>\n      <th>STATISTICAL_VALUE</th>\n      <th>TOTAL_TAX</th>\n      <th>INVOICE_AMT</th>\n      <th>INSPECTION_ACT</th>\n      <th>target</th>\n    </tr>\n  </thead>\n  <tbody>\n    <tr>\n      <td>0</td>\n      <td>RIAD GLOBAL HERITAGE LIMITED,</td>\n      <td>OKPROSPER GLOBAL LOGISTICS LTD\\n   RAILWAY APA...</td>\n      <td>China</td>\n      <td>Sea transport</td>\n      <td>5</td>\n      <td>0.25</td>\n      <td>400</td>\n      <td>10000.0</td>\n      <td>10000.0</td>\n      <td>3081456</td>\n      <td>3565285.0</td>\n      <td>968848</td>\n      <td>8524750</td>\n      <td>BASED ON DN PAID, RELEASE AUTHORISED.       AC...</td>\n      <td>0</td>\n    </tr>\n    <tr>\n      <td>1</td>\n      <td>RIAD GLOBAL HERITAGE LIMITED,</td>\n      <td>OKPROSPER GLOBAL LOGISTICS LTD\\n   RAILWAY APA...</td>\n      <td>China</td>\n      <td>Sea transport</td>\n      <td>5</td>\n      <td>0.25</td>\n      <td>400</td>\n      <td>10000.0</td>\n      <td>10000.0</td>\n      <td>3081456</td>\n      <td>3565285.0</td>\n      <td>968848</td>\n      <td>8524750</td>\n      <td>BASED ON DN PAID, RELEASE AUTHORISED.       AC...</td>\n      <td>0</td>\n    </tr>\n    <tr>\n      <td>2</td>\n      <td>RIAD GLOBAL HERITAGE LIMITED,</td>\n      <td>OKPROSPER GLOBAL LOGISTICS LTD\\n   RAILWAY APA...</td>\n      <td>China</td>\n      <td>Sea transport</td>\n      <td>5</td>\n      <td>0.25</td>\n      <td>400</td>\n      <td>10000.0</td>\n      <td>10000.0</td>\n      <td>3081456</td>\n      <td>3565285.0</td>\n      <td>968848</td>\n      <td>8524750</td>\n      <td>BASED ON DN PAID, RELEASE AUTHORISED.       AC...</td>\n      <td>0</td>\n    </tr>\n    <tr>\n      <td>3</td>\n      <td>RIAD GLOBAL HERITAGE LIMITED,</td>\n      <td>OKPROSPER GLOBAL LOGISTICS LTD\\n   RAILWAY APA...</td>\n      <td>China</td>\n      <td>Sea transport</td>\n      <td>5</td>\n      <td>0.50</td>\n      <td>400</td>\n      <td>10000.0</td>\n      <td>10000.0</td>\n      <td>3087570</td>\n      <td>3572399.0</td>\n      <td>968848</td>\n      <td>8524750</td>\n      <td>BASED ON DN PAID, RELEASE AUTHORISED.       AC...</td>\n      <td>0</td>\n    </tr>\n    <tr>\n      <td>4</td>\n      <td>RIAD GLOBAL HERITAGE LIMITED,</td>\n      <td>OKPROSPER GLOBAL LOGISTICS LTD\\n   RAILWAY APA...</td>\n      <td>China</td>\n      <td>Sea transport</td>\n      <td>10</td>\n      <td>0.75</td>\n      <td>180</td>\n      <td>4520.0</td>\n      <td>4520.0</td>\n      <td>1530334</td>\n      <td>1770580.0</td>\n      <td>968848</td>\n      <td>8524750</td>\n      <td>BASED ON DN PAID, RELEASE AUTHORISED.       AC...</td>\n      <td>0</td>\n    </tr>\n  </tbody>\n</table>\n</div>"
     },
     "metadata": {},
     "execution_count": 5
    }
   ],
   "source": [
    "data.head()"
   ]
  },
  {
   "cell_type": "code",
   "execution_count": 6,
   "metadata": {},
   "outputs": [
    {
     "output_type": "execute_result",
     "data": {
      "text/plain": "(2907355, 15)"
     },
     "metadata": {},
     "execution_count": 6
    }
   ],
   "source": [
    "data[data.target == 0].shape"
   ]
  },
  {
   "cell_type": "code",
   "execution_count": 7,
   "metadata": {},
   "outputs": [
    {
     "output_type": "execute_result",
     "data": {
      "text/plain": "(1533553, 15)"
     },
     "metadata": {},
     "execution_count": 7
    }
   ],
   "source": [
    "data[data.target == 1].shape"
   ]
  },
  {
   "cell_type": "code",
   "execution_count": 8,
   "metadata": {},
   "outputs": [
    {
     "output_type": "execute_result",
     "data": {
      "text/plain": "(2299026, 15)"
     },
     "metadata": {},
     "execution_count": 8
    }
   ],
   "source": [
    "data[data.target == 2].shape"
   ]
  },
  {
   "cell_type": "code",
   "execution_count": 7,
   "metadata": {},
   "outputs": [],
   "source": [
    "lab = load('label_fea_encoder.joblib')"
   ]
  },
  {
   "cell_type": "code",
   "execution_count": 11,
   "metadata": {},
   "outputs": [
    {
     "output_type": "execute_result",
     "data": {
      "text/plain": "array(['Air transport', 'Inland waterways transport', 'Mode unknown',\n       'Multimodal Transport', 'Postal Transport', 'Rail transport',\n       'Road transport', 'Sea transport'], dtype=object)"
     },
     "metadata": {},
     "execution_count": 11
    }
   ],
   "source": [
    "lab.all_encode['MODE_OF_TRANSPORT'].classes_"
   ]
  },
  {
   "cell_type": "code",
   "execution_count": 11,
   "metadata": {},
   "outputs": [
    {
     "output_type": "execute_result",
     "data": {
      "text/plain": "(2, 4)"
     },
     "metadata": {},
     "execution_count": 11
    }
   ],
   "source": [
    "x1,x2 = '2/4'.split('/')\n",
    "int(x1),int(x2)"
   ]
  },
  {
   "cell_type": "code",
   "execution_count": 12,
   "metadata": {},
   "outputs": [
    {
     "output_type": "execute_result",
     "data": {
      "text/plain": "                   IMPORTER_NAME  \\\n0  RIAD GLOBAL HERITAGE LIMITED,   \n1  RIAD GLOBAL HERITAGE LIMITED,   \n2  RIAD GLOBAL HERITAGE LIMITED,   \n3  RIAD GLOBAL HERITAGE LIMITED,   \n4  RIAD GLOBAL HERITAGE LIMITED,   \n\n                                      DECLARANT_NAME  \\\n0  OKPROSPER GLOBAL LOGISTICS LTD\\n   RAILWAY APA...   \n1  OKPROSPER GLOBAL LOGISTICS LTD\\n   RAILWAY APA...   \n2  OKPROSPER GLOBAL LOGISTICS LTD\\n   RAILWAY APA...   \n3  OKPROSPER GLOBAL LOGISTICS LTD\\n   RAILWAY APA...   \n4  OKPROSPER GLOBAL LOGISTICS LTD\\n   RAILWAY APA...   \n\n                      OFFICE_NAME CTY_ORIGIN MODE_OF_TRANSPORT  HSCODE  \\\n0  KIRIKIRI LIGHTER TERMINAL CMD.      China     Sea transport     5.0   \n1  KIRIKIRI LIGHTER TERMINAL CMD.      China     Sea transport     5.0   \n2  KIRIKIRI LIGHTER TERMINAL CMD.      China     Sea transport     5.0   \n3  KIRIKIRI LIGHTER TERMINAL CMD.      China     Sea transport     5.0   \n4  KIRIKIRI LIGHTER TERMINAL CMD.      China     Sea transport    10.0   \n\n                                             HS_DESC ITM_NUM  QTY  GROSS_MASS  \\\n0  Parts, including regulators of Hydraulic turbi...     1/4  400     10000.0   \n1  Parts of hydraulic turbines, water wheels incl...     1/4  400     10000.0   \n2  Hydraulic turbines, water wheels and....   -Pa...     1/4  400     10000.0   \n3              Other static converters not specified     2/4  400     10000.0   \n4     Isolating switches and make-and-break switches     3/4  180      4520.0   \n\n   NET_MASS  ITM_PRICE  STATISTICAL_VALUE  TOTAL_TAX  INVOICE_AMT  \\\n0   10000.0    3081456          3565285.0     968848      8524750   \n1   10000.0    3081456          3565285.0     968848      8524750   \n2   10000.0    3081456          3565285.0     968848      8524750   \n3   10000.0    3087570          3572399.0     968848      8524750   \n4    4520.0    1530334          1770580.0     968848      8524750   \n\n                                      INSPECTION_ACT  target  \n0  BASED ON DN PAID, RELEASE AUTHORISED.       AC...       0  \n1  BASED ON DN PAID, RELEASE AUTHORISED.       AC...       0  \n2  BASED ON DN PAID, RELEASE AUTHORISED.       AC...       0  \n3  BASED ON DN PAID, RELEASE AUTHORISED.       AC...       0  \n4  BASED ON DN PAID, RELEASE AUTHORISED.       AC...       0  ",
      "text/html": "<div>\n<style scoped>\n    .dataframe tbody tr th:only-of-type {\n        vertical-align: middle;\n    }\n\n    .dataframe tbody tr th {\n        vertical-align: top;\n    }\n\n    .dataframe thead th {\n        text-align: right;\n    }\n</style>\n<table border=\"1\" class=\"dataframe\">\n  <thead>\n    <tr style=\"text-align: right;\">\n      <th></th>\n      <th>IMPORTER_NAME</th>\n      <th>DECLARANT_NAME</th>\n      <th>OFFICE_NAME</th>\n      <th>CTY_ORIGIN</th>\n      <th>MODE_OF_TRANSPORT</th>\n      <th>HSCODE</th>\n      <th>HS_DESC</th>\n      <th>ITM_NUM</th>\n      <th>QTY</th>\n      <th>GROSS_MASS</th>\n      <th>NET_MASS</th>\n      <th>ITM_PRICE</th>\n      <th>STATISTICAL_VALUE</th>\n      <th>TOTAL_TAX</th>\n      <th>INVOICE_AMT</th>\n      <th>INSPECTION_ACT</th>\n      <th>target</th>\n    </tr>\n  </thead>\n  <tbody>\n    <tr>\n      <td>0</td>\n      <td>RIAD GLOBAL HERITAGE LIMITED,</td>\n      <td>OKPROSPER GLOBAL LOGISTICS LTD\\n   RAILWAY APA...</td>\n      <td>KIRIKIRI LIGHTER TERMINAL CMD.</td>\n      <td>China</td>\n      <td>Sea transport</td>\n      <td>5.0</td>\n      <td>Parts, including regulators of Hydraulic turbi...</td>\n      <td>1/4</td>\n      <td>400</td>\n      <td>10000.0</td>\n      <td>10000.0</td>\n      <td>3081456</td>\n      <td>3565285.0</td>\n      <td>968848</td>\n      <td>8524750</td>\n      <td>BASED ON DN PAID, RELEASE AUTHORISED.       AC...</td>\n      <td>0</td>\n    </tr>\n    <tr>\n      <td>1</td>\n      <td>RIAD GLOBAL HERITAGE LIMITED,</td>\n      <td>OKPROSPER GLOBAL LOGISTICS LTD\\n   RAILWAY APA...</td>\n      <td>KIRIKIRI LIGHTER TERMINAL CMD.</td>\n      <td>China</td>\n      <td>Sea transport</td>\n      <td>5.0</td>\n      <td>Parts of hydraulic turbines, water wheels incl...</td>\n      <td>1/4</td>\n      <td>400</td>\n      <td>10000.0</td>\n      <td>10000.0</td>\n      <td>3081456</td>\n      <td>3565285.0</td>\n      <td>968848</td>\n      <td>8524750</td>\n      <td>BASED ON DN PAID, RELEASE AUTHORISED.       AC...</td>\n      <td>0</td>\n    </tr>\n    <tr>\n      <td>2</td>\n      <td>RIAD GLOBAL HERITAGE LIMITED,</td>\n      <td>OKPROSPER GLOBAL LOGISTICS LTD\\n   RAILWAY APA...</td>\n      <td>KIRIKIRI LIGHTER TERMINAL CMD.</td>\n      <td>China</td>\n      <td>Sea transport</td>\n      <td>5.0</td>\n      <td>Hydraulic turbines, water wheels and....   -Pa...</td>\n      <td>1/4</td>\n      <td>400</td>\n      <td>10000.0</td>\n      <td>10000.0</td>\n      <td>3081456</td>\n      <td>3565285.0</td>\n      <td>968848</td>\n      <td>8524750</td>\n      <td>BASED ON DN PAID, RELEASE AUTHORISED.       AC...</td>\n      <td>0</td>\n    </tr>\n    <tr>\n      <td>3</td>\n      <td>RIAD GLOBAL HERITAGE LIMITED,</td>\n      <td>OKPROSPER GLOBAL LOGISTICS LTD\\n   RAILWAY APA...</td>\n      <td>KIRIKIRI LIGHTER TERMINAL CMD.</td>\n      <td>China</td>\n      <td>Sea transport</td>\n      <td>5.0</td>\n      <td>Other static converters not specified</td>\n      <td>2/4</td>\n      <td>400</td>\n      <td>10000.0</td>\n      <td>10000.0</td>\n      <td>3087570</td>\n      <td>3572399.0</td>\n      <td>968848</td>\n      <td>8524750</td>\n      <td>BASED ON DN PAID, RELEASE AUTHORISED.       AC...</td>\n      <td>0</td>\n    </tr>\n    <tr>\n      <td>4</td>\n      <td>RIAD GLOBAL HERITAGE LIMITED,</td>\n      <td>OKPROSPER GLOBAL LOGISTICS LTD\\n   RAILWAY APA...</td>\n      <td>KIRIKIRI LIGHTER TERMINAL CMD.</td>\n      <td>China</td>\n      <td>Sea transport</td>\n      <td>10.0</td>\n      <td>Isolating switches and make-and-break switches</td>\n      <td>3/4</td>\n      <td>180</td>\n      <td>4520.0</td>\n      <td>4520.0</td>\n      <td>1530334</td>\n      <td>1770580.0</td>\n      <td>968848</td>\n      <td>8524750</td>\n      <td>BASED ON DN PAID, RELEASE AUTHORISED.       AC...</td>\n      <td>0</td>\n    </tr>\n  </tbody>\n</table>\n</div>"
     },
     "metadata": {},
     "execution_count": 12
    }
   ],
   "source": [
    "data.head()"
   ]
  },
  {
   "cell_type": "code",
   "execution_count": 11,
   "metadata": {
    "tags": []
   },
   "outputs": [
    {
     "output_type": "stream",
     "name": "stdout",
     "text": "here 1\nhere 2\nhere 3\n"
    }
   ],
   "source": [
    "#vectorize 'MODE_OF_TRANSPORT', 'CTY_ORIGIN' features\n",
    "features = ['CTY_ORIGIN', 'MODE_OF_TRANSPORT',]\n",
    "print('here 1')\n",
    "data = Fill_Empty_Spaces(all_features=data.columns, find_in=features,with_='Mode unknown').fit_transform(data)\n",
    "print('here 2')\n",
    "enc_fea_lab = Encode_Feature_Label(all_features=data.columns, to_encode=features)\n",
    "print('here 3')\n",
    "enc_fea_lab = enc_fea_lab.fit(data)"
   ]
  },
  {
   "cell_type": "code",
   "execution_count": 12,
   "metadata": {},
   "outputs": [
    {
     "output_type": "execute_result",
     "data": {
      "text/plain": "array(['Air transport', 'Inland waterways transport', 'Mode unknown',\n       'Multimodal Transport', 'Postal Transport', 'Rail transport',\n       'Road transport', 'Sea transport'], dtype=object)"
     },
     "metadata": {},
     "execution_count": 12
    }
   ],
   "source": [
    "enc_fea_lab.all_encode['MODE_OF_TRANSPORT'].classes_"
   ]
  },
  {
   "cell_type": "code",
   "execution_count": 1,
   "metadata": {},
   "outputs": [
    {
     "output_type": "error",
     "ename": "NameError",
     "evalue": "name 'data' is not defined",
     "traceback": [
      "\u001b[0;31m---------------------------------------------------------------------------\u001b[0m",
      "\u001b[0;31mNameError\u001b[0m                                 Traceback (most recent call last)",
      "\u001b[0;32m<ipython-input-1-79e416aa5d3f>\u001b[0m in \u001b[0;36m<module>\u001b[0;34m\u001b[0m\n\u001b[0;32m----> 1\u001b[0;31m \u001b[0mdata\u001b[0m\u001b[0;34m.\u001b[0m\u001b[0miloc\u001b[0m\u001b[0;34m[\u001b[0m\u001b[0;36m29\u001b[0m\u001b[0;34m]\u001b[0m\u001b[0;34m\u001b[0m\u001b[0;34m\u001b[0m\u001b[0m\n\u001b[0m",
      "\u001b[0;31mNameError\u001b[0m: name 'data' is not defined"
     ]
    }
   ],
   "source": [
    "data.iloc[29]"
   ]
  },
  {
   "cell_type": "code",
   "execution_count": 86,
   "metadata": {},
   "outputs": [
    {
     "output_type": "execute_result",
     "data": {
      "text/plain": "'  s   kmvf  ss  jj         cmo   cme  cm  ck'"
     },
     "metadata": {},
     "execution_count": 86
    }
   ],
   "source": [
    "import re\n",
    "\n",
    "re.sub(\"\\d\",\" \", '45s46 kmvf 4ss23jj455 39999cmo33 cme30cm33ck')"
   ]
  },
  {
   "cell_type": "code",
   "execution_count": 5,
   "metadata": {},
   "outputs": [
    {
     "output_type": "execute_result",
     "data": {
      "text/plain": "                                         INSPECTION_ACT\n0     BASED ON DN PAID, RELEASE AUTHORISED.       AC...\n1     BASED ON DN PAID, RELEASE AUTHORISED.       AC...\n2     BASED ON DN PAID, RELEASE AUTHORISED.       AC...\n3     BASED ON DN PAID, RELEASE AUTHORISED.       AC...\n4     BASED ON DN PAID, RELEASE AUTHORISED.       AC...\n...                                                 ...\n996    X  FT CONT.NUM BSIU      /  WAS IDENTIFIED OP...\n997    X  FT CONT.NUM BSIU      /  WAS IDENTIFIED OP...\n998    X  FT CONT.NUM BSIU      /  WAS IDENTIFIED OP...\n999    X  FT CONT.NUM BSIU      /  WAS IDENTIFIED OP...\n1000   X  FT CONT.NUM BSIU      /  WAS IDENTIFIED OP...\n\n[1001 rows x 1 columns]",
      "text/html": "<div>\n<style scoped>\n    .dataframe tbody tr th:only-of-type {\n        vertical-align: middle;\n    }\n\n    .dataframe tbody tr th {\n        vertical-align: top;\n    }\n\n    .dataframe thead th {\n        text-align: right;\n    }\n</style>\n<table border=\"1\" class=\"dataframe\">\n  <thead>\n    <tr style=\"text-align: right;\">\n      <th></th>\n      <th>INSPECTION_ACT</th>\n    </tr>\n  </thead>\n  <tbody>\n    <tr>\n      <td>0</td>\n      <td>BASED ON DN PAID, RELEASE AUTHORISED.       AC...</td>\n    </tr>\n    <tr>\n      <td>1</td>\n      <td>BASED ON DN PAID, RELEASE AUTHORISED.       AC...</td>\n    </tr>\n    <tr>\n      <td>2</td>\n      <td>BASED ON DN PAID, RELEASE AUTHORISED.       AC...</td>\n    </tr>\n    <tr>\n      <td>3</td>\n      <td>BASED ON DN PAID, RELEASE AUTHORISED.       AC...</td>\n    </tr>\n    <tr>\n      <td>4</td>\n      <td>BASED ON DN PAID, RELEASE AUTHORISED.       AC...</td>\n    </tr>\n    <tr>\n      <td>...</td>\n      <td>...</td>\n    </tr>\n    <tr>\n      <td>996</td>\n      <td>X  FT CONT.NUM BSIU      /  WAS IDENTIFIED OP...</td>\n    </tr>\n    <tr>\n      <td>997</td>\n      <td>X  FT CONT.NUM BSIU      /  WAS IDENTIFIED OP...</td>\n    </tr>\n    <tr>\n      <td>998</td>\n      <td>X  FT CONT.NUM BSIU      /  WAS IDENTIFIED OP...</td>\n    </tr>\n    <tr>\n      <td>999</td>\n      <td>X  FT CONT.NUM BSIU      /  WAS IDENTIFIED OP...</td>\n    </tr>\n    <tr>\n      <td>1000</td>\n      <td>X  FT CONT.NUM BSIU      /  WAS IDENTIFIED OP...</td>\n    </tr>\n  </tbody>\n</table>\n<p>1001 rows × 1 columns</p>\n</div>"
     },
     "metadata": {},
     "execution_count": 5
    }
   ],
   "source": [
    "data[['INSPECTION_ACT']].loc[:1000].replace(\"\\d\",' ',regex=True)"
   ]
  },
  {
   "cell_type": "code",
   "execution_count": 4,
   "metadata": {},
   "outputs": [
    {
     "output_type": "execute_result",
     "data": {
      "text/plain": "                                         INSPECTION_ACT\n0     BASED ON DN PAID, RELEASE AUTHORISED.       AC...\n1     BASED ON DN PAID, RELEASE AUTHORISED.       AC...\n2     BASED ON DN PAID, RELEASE AUTHORISED.       AC...\n3     BASED ON DN PAID, RELEASE AUTHORISED.       AC...\n4     BASED ON DN PAID, RELEASE AUTHORISED.       AC...\n...                                                 ...\n996    X  FT CONT.NUM BSIU      /  WAS IDENTIFIED OP...\n997    X  FT CONT.NUM BSIU      /  WAS IDENTIFIED OP...\n998    X  FT CONT.NUM BSIU      /  WAS IDENTIFIED OP...\n999    X  FT CONT.NUM BSIU      /  WAS IDENTIFIED OP...\n1000   X  FT CONT.NUM BSIU      /  WAS IDENTIFIED OP...\n\n[1001 rows x 1 columns]",
      "text/html": "<div>\n<style scoped>\n    .dataframe tbody tr th:only-of-type {\n        vertical-align: middle;\n    }\n\n    .dataframe tbody tr th {\n        vertical-align: top;\n    }\n\n    .dataframe thead th {\n        text-align: right;\n    }\n</style>\n<table border=\"1\" class=\"dataframe\">\n  <thead>\n    <tr style=\"text-align: right;\">\n      <th></th>\n      <th>INSPECTION_ACT</th>\n    </tr>\n  </thead>\n  <tbody>\n    <tr>\n      <td>0</td>\n      <td>BASED ON DN PAID, RELEASE AUTHORISED.       AC...</td>\n    </tr>\n    <tr>\n      <td>1</td>\n      <td>BASED ON DN PAID, RELEASE AUTHORISED.       AC...</td>\n    </tr>\n    <tr>\n      <td>2</td>\n      <td>BASED ON DN PAID, RELEASE AUTHORISED.       AC...</td>\n    </tr>\n    <tr>\n      <td>3</td>\n      <td>BASED ON DN PAID, RELEASE AUTHORISED.       AC...</td>\n    </tr>\n    <tr>\n      <td>4</td>\n      <td>BASED ON DN PAID, RELEASE AUTHORISED.       AC...</td>\n    </tr>\n    <tr>\n      <td>...</td>\n      <td>...</td>\n    </tr>\n    <tr>\n      <td>996</td>\n      <td>X  FT CONT.NUM BSIU      /  WAS IDENTIFIED OP...</td>\n    </tr>\n    <tr>\n      <td>997</td>\n      <td>X  FT CONT.NUM BSIU      /  WAS IDENTIFIED OP...</td>\n    </tr>\n    <tr>\n      <td>998</td>\n      <td>X  FT CONT.NUM BSIU      /  WAS IDENTIFIED OP...</td>\n    </tr>\n    <tr>\n      <td>999</td>\n      <td>X  FT CONT.NUM BSIU      /  WAS IDENTIFIED OP...</td>\n    </tr>\n    <tr>\n      <td>1000</td>\n      <td>X  FT CONT.NUM BSIU      /  WAS IDENTIFIED OP...</td>\n    </tr>\n  </tbody>\n</table>\n<p>1001 rows × 1 columns</p>\n</div>"
     },
     "metadata": {},
     "execution_count": 4
    }
   ],
   "source": [
    "data[['INSPECTION_ACT']].loc[:1000]"
   ]
  },
  {
   "cell_type": "code",
   "execution_count": 3,
   "metadata": {},
   "outputs": [
    {
     "output_type": "error",
     "ename": "ValueError",
     "evalue": "For argument \"inplace\" expected type bool, received type tuple.",
     "traceback": [
      "\u001b[0;31m---------------------------------------------------------------------------\u001b[0m",
      "\u001b[0;31mValueError\u001b[0m                                Traceback (most recent call last)",
      "\u001b[0;32m<ipython-input-3-8f6d4be01ff3>\u001b[0m in \u001b[0;36m<module>\u001b[0;34m\u001b[0m\n\u001b[1;32m      1\u001b[0m \u001b[0mreg\u001b[0m \u001b[0;34m=\u001b[0m \u001b[0mReplace_Values\u001b[0m\u001b[0;34m(\u001b[0m\u001b[0mto_replace\u001b[0m\u001b[0;34m=\u001b[0m\u001b[0;34m\"\\d\"\u001b[0m\u001b[0;34m,\u001b[0m\u001b[0mvalue\u001b[0m\u001b[0;34m=\u001b[0m\u001b[0;34m\" \"\u001b[0m\u001b[0;34m,\u001b[0m\u001b[0mregex\u001b[0m\u001b[0;34m=\u001b[0m\u001b[0;32mTrue\u001b[0m\u001b[0;34m)\u001b[0m\u001b[0;34m\u001b[0m\u001b[0;34m\u001b[0m\u001b[0m\n\u001b[0;32m----> 2\u001b[0;31m \u001b[0mreg\u001b[0m\u001b[0;34m.\u001b[0m\u001b[0mfit_transform\u001b[0m\u001b[0;34m(\u001b[0m\u001b[0mdata\u001b[0m\u001b[0;34m[\u001b[0m\u001b[0;34m[\u001b[0m\u001b[0;34m'INSPECTION_ACT'\u001b[0m\u001b[0;34m]\u001b[0m\u001b[0;34m]\u001b[0m\u001b[0;34m.\u001b[0m\u001b[0mloc\u001b[0m\u001b[0;34m[\u001b[0m\u001b[0;34m:\u001b[0m\u001b[0;36m1000\u001b[0m\u001b[0;34m]\u001b[0m\u001b[0;34m)\u001b[0m\u001b[0;34m\u001b[0m\u001b[0;34m\u001b[0m\u001b[0m\n\u001b[0m",
      "\u001b[0;32m~/anaconda3/lib/python3.7/site-packages/sklearn/base.py\u001b[0m in \u001b[0;36mfit_transform\u001b[0;34m(self, X, y, **fit_params)\u001b[0m\n\u001b[1;32m    551\u001b[0m         \u001b[0;32mif\u001b[0m \u001b[0my\u001b[0m \u001b[0;32mis\u001b[0m \u001b[0;32mNone\u001b[0m\u001b[0;34m:\u001b[0m\u001b[0;34m\u001b[0m\u001b[0;34m\u001b[0m\u001b[0m\n\u001b[1;32m    552\u001b[0m             \u001b[0;31m# fit method of arity 1 (unsupervised transformation)\u001b[0m\u001b[0;34m\u001b[0m\u001b[0;34m\u001b[0m\u001b[0;34m\u001b[0m\u001b[0m\n\u001b[0;32m--> 553\u001b[0;31m             \u001b[0;32mreturn\u001b[0m \u001b[0mself\u001b[0m\u001b[0;34m.\u001b[0m\u001b[0mfit\u001b[0m\u001b[0;34m(\u001b[0m\u001b[0mX\u001b[0m\u001b[0;34m,\u001b[0m \u001b[0;34m**\u001b[0m\u001b[0mfit_params\u001b[0m\u001b[0;34m)\u001b[0m\u001b[0;34m.\u001b[0m\u001b[0mtransform\u001b[0m\u001b[0;34m(\u001b[0m\u001b[0mX\u001b[0m\u001b[0;34m)\u001b[0m\u001b[0;34m\u001b[0m\u001b[0;34m\u001b[0m\u001b[0m\n\u001b[0m\u001b[1;32m    554\u001b[0m         \u001b[0;32melse\u001b[0m\u001b[0;34m:\u001b[0m\u001b[0;34m\u001b[0m\u001b[0;34m\u001b[0m\u001b[0m\n\u001b[1;32m    555\u001b[0m             \u001b[0;31m# fit method of arity 2 (supervised transformation)\u001b[0m\u001b[0;34m\u001b[0m\u001b[0;34m\u001b[0m\u001b[0;34m\u001b[0m\u001b[0m\n",
      "\u001b[0;32m~/Documents/programs/machine learning/Genetic Algorithm with Deep Learning/process_data.py\u001b[0m in \u001b[0;36mtransform\u001b[0;34m(self, X, y)\u001b[0m\n\u001b[1;32m     44\u001b[0m \u001b[0;34m\u001b[0m\u001b[0m\n\u001b[1;32m     45\u001b[0m     \u001b[0;32mdef\u001b[0m \u001b[0mtransform\u001b[0m\u001b[0;34m(\u001b[0m\u001b[0mself\u001b[0m\u001b[0;34m,\u001b[0m\u001b[0mX\u001b[0m\u001b[0;34m,\u001b[0m\u001b[0my\u001b[0m\u001b[0;34m=\u001b[0m\u001b[0;32mNone\u001b[0m\u001b[0;34m)\u001b[0m\u001b[0;34m:\u001b[0m\u001b[0;34m\u001b[0m\u001b[0;34m\u001b[0m\u001b[0m\n\u001b[0;32m---> 46\u001b[0;31m         \u001b[0;32mreturn\u001b[0m \u001b[0mX\u001b[0m\u001b[0;34m.\u001b[0m\u001b[0mreplace\u001b[0m\u001b[0;34m(\u001b[0m\u001b[0mself\u001b[0m\u001b[0;34m.\u001b[0m\u001b[0mto_replace\u001b[0m\u001b[0;34m,\u001b[0m\u001b[0mself\u001b[0m\u001b[0;34m.\u001b[0m\u001b[0mvalue\u001b[0m\u001b[0;34m,\u001b[0m\u001b[0mself\u001b[0m\u001b[0;34m.\u001b[0m\u001b[0mregex\u001b[0m\u001b[0;34m)\u001b[0m\u001b[0;34m\u001b[0m\u001b[0;34m\u001b[0m\u001b[0m\n\u001b[0m\u001b[1;32m     47\u001b[0m \u001b[0;34m\u001b[0m\u001b[0m\n\u001b[1;32m     48\u001b[0m \u001b[0;31m#Class to concat Multiple dataset if available\u001b[0m\u001b[0;34m\u001b[0m\u001b[0;34m\u001b[0m\u001b[0;34m\u001b[0m\u001b[0m\n",
      "\u001b[0;32m~/anaconda3/lib/python3.7/site-packages/pandas/core/frame.py\u001b[0m in \u001b[0;36mreplace\u001b[0;34m(self, to_replace, value, inplace, limit, regex, method)\u001b[0m\n\u001b[1;32m   4261\u001b[0m             \u001b[0mlimit\u001b[0m\u001b[0;34m=\u001b[0m\u001b[0mlimit\u001b[0m\u001b[0;34m,\u001b[0m\u001b[0;34m\u001b[0m\u001b[0;34m\u001b[0m\u001b[0m\n\u001b[1;32m   4262\u001b[0m             \u001b[0mregex\u001b[0m\u001b[0;34m=\u001b[0m\u001b[0mregex\u001b[0m\u001b[0;34m,\u001b[0m\u001b[0;34m\u001b[0m\u001b[0;34m\u001b[0m\u001b[0m\n\u001b[0;32m-> 4263\u001b[0;31m             \u001b[0mmethod\u001b[0m\u001b[0;34m=\u001b[0m\u001b[0mmethod\u001b[0m\u001b[0;34m,\u001b[0m\u001b[0;34m\u001b[0m\u001b[0;34m\u001b[0m\u001b[0m\n\u001b[0m\u001b[1;32m   4264\u001b[0m         )\n\u001b[1;32m   4265\u001b[0m \u001b[0;34m\u001b[0m\u001b[0m\n",
      "\u001b[0;32m~/anaconda3/lib/python3.7/site-packages/pandas/core/generic.py\u001b[0m in \u001b[0;36mreplace\u001b[0;34m(self, to_replace, value, inplace, limit, regex, method)\u001b[0m\n\u001b[1;32m   6618\u001b[0m         \u001b[0mmethod\u001b[0m\u001b[0;34m=\u001b[0m\u001b[0;34m\"pad\"\u001b[0m\u001b[0;34m,\u001b[0m\u001b[0;34m\u001b[0m\u001b[0;34m\u001b[0m\u001b[0m\n\u001b[1;32m   6619\u001b[0m     ):\n\u001b[0;32m-> 6620\u001b[0;31m         \u001b[0minplace\u001b[0m \u001b[0;34m=\u001b[0m \u001b[0mvalidate_bool_kwarg\u001b[0m\u001b[0;34m(\u001b[0m\u001b[0minplace\u001b[0m\u001b[0;34m,\u001b[0m \u001b[0;34m\"inplace\"\u001b[0m\u001b[0;34m)\u001b[0m\u001b[0;34m\u001b[0m\u001b[0;34m\u001b[0m\u001b[0m\n\u001b[0m\u001b[1;32m   6621\u001b[0m         \u001b[0;32mif\u001b[0m \u001b[0;32mnot\u001b[0m \u001b[0mis_bool\u001b[0m\u001b[0;34m(\u001b[0m\u001b[0mregex\u001b[0m\u001b[0;34m)\u001b[0m \u001b[0;32mand\u001b[0m \u001b[0mto_replace\u001b[0m \u001b[0;32mis\u001b[0m \u001b[0;32mnot\u001b[0m \u001b[0;32mNone\u001b[0m\u001b[0;34m:\u001b[0m\u001b[0;34m\u001b[0m\u001b[0;34m\u001b[0m\u001b[0m\n\u001b[1;32m   6622\u001b[0m             raise AssertionError(\n",
      "\u001b[0;32m~/anaconda3/lib/python3.7/site-packages/pandas/util/_validators.py\u001b[0m in \u001b[0;36mvalidate_bool_kwarg\u001b[0;34m(value, arg_name)\u001b[0m\n\u001b[1;32m    234\u001b[0m         raise ValueError(\n\u001b[1;32m    235\u001b[0m             \u001b[0;34m'For argument \"{arg}\" expected type bool, received '\u001b[0m\u001b[0;34m\u001b[0m\u001b[0;34m\u001b[0m\u001b[0m\n\u001b[0;32m--> 236\u001b[0;31m             \u001b[0;34m\"type {typ}.\"\u001b[0m\u001b[0;34m.\u001b[0m\u001b[0mformat\u001b[0m\u001b[0;34m(\u001b[0m\u001b[0marg\u001b[0m\u001b[0;34m=\u001b[0m\u001b[0marg_name\u001b[0m\u001b[0;34m,\u001b[0m \u001b[0mtyp\u001b[0m\u001b[0;34m=\u001b[0m\u001b[0mtype\u001b[0m\u001b[0;34m(\u001b[0m\u001b[0mvalue\u001b[0m\u001b[0;34m)\u001b[0m\u001b[0;34m.\u001b[0m\u001b[0m__name__\u001b[0m\u001b[0;34m)\u001b[0m\u001b[0;34m\u001b[0m\u001b[0;34m\u001b[0m\u001b[0m\n\u001b[0m\u001b[1;32m    237\u001b[0m         )\n\u001b[1;32m    238\u001b[0m     \u001b[0;32mreturn\u001b[0m \u001b[0mvalue\u001b[0m\u001b[0;34m\u001b[0m\u001b[0;34m\u001b[0m\u001b[0m\n",
      "\u001b[0;31mValueError\u001b[0m: For argument \"inplace\" expected type bool, received type tuple."
     ]
    }
   ],
   "source": [
    "reg = Replace_Values(to_replace=\"\\d\",value=\" \",regex=True)\n",
    "reg.fit_transform(data[['INSPECTION_ACT']].loc[:1000])"
   ]
  },
  {
   "cell_type": "code",
   "execution_count": 5,
   "metadata": {},
   "outputs": [],
   "source": [
    "features = ['INSPECTION_ACT', 'IMPORTER_NAME', 'HS_DESC','DECLARANT_NAME','OFFICE_NAME','CTY_ORIGIN', 'MODE_OF_TRANSPORT']\n",
    "data[features] = data[features].replace(\"\\d\",\" \",regex=True)"
   ]
  },
  {
   "cell_type": "code",
   "execution_count": 8,
   "metadata": {},
   "outputs": [],
   "source": [
    "data.to_csv('dataset/new_data4.csv',index=False,)"
   ]
  },
  {
   "cell_type": "code",
   "execution_count": 9,
   "metadata": {},
   "outputs": [
    {
     "output_type": "execute_result",
     "data": {
      "text/plain": "4"
     },
     "metadata": {},
     "execution_count": 9
    }
   ],
   "source": [
    "4"
   ]
  },
  {
   "cell_type": "code",
   "execution_count": 2,
   "metadata": {},
   "outputs": [],
   "source": [
    "features = ['INSPECTION_ACT', 'IMPORTER_NAME', 'HS_DESC','DECLARANT_NAME','OFFICE_NAME']"
   ]
  },
  {
   "cell_type": "code",
   "execution_count": 17,
   "metadata": {
    "tags": []
   },
   "outputs": [
    {
     "output_type": "execute_result",
     "data": {
      "text/plain": "['an', 'hf', 'na', 'pp', 'zi']"
     },
     "metadata": {},
     "execution_count": 17
    }
   ],
   "source": [
    "# data = Fill_Empty_Spaces(all_features=data.columns, find_in=features,with_=' ').fit_transform(data)\n",
    "lab = CountVectorizer()\n",
    "lab.fit(['an hf','An','AN','Na','N-a','Na?', 'zi pp?.;'])\n",
    "lab.get_feature_names()"
   ]
  },
  {
   "cell_type": "code",
   "execution_count": 2,
   "metadata": {},
   "outputs": [],
   "source": [
    "count_encode = load('string_encoder.joblib')"
   ]
  },
  {
   "cell_type": "code",
   "execution_count": 3,
   "metadata": {},
   "outputs": [
    {
     "output_type": "execute_result",
     "data": {
      "text/plain": "['_a_',\n '_actual',\n '_aircraft',\n '_alluminium',\n '_as',\n '_be_',\n '_bead',\n '_bispyribac',\n '_blanket',\n '_brass',\n '_brss',\n '_classic',\n '_corn',\n '_cuting',\n '_cutting',\n '_cylinder',\n '_dentis',\n '_emulsifier_',\n '_engb',\n '_etsi_rack',\n '_feed',\n '_food',\n '_furnace',\n '_furniture',\n '_generic_lux',\n '_grain',\n '_grindig',\n '_grindind',\n '_grinding',\n '_hortcultural',\n '_horticultrual',\n '_horticultural',\n '_hugude',\n '_hydrauli',\n '_hydraulic',\n '_ii',\n '_industrial',\n '_k_re_ghw_gh',\n '_keyp_rd',\n '_ks',\n '_lawram',\n '_matlan',\n '_menth',\n '_mesurment',\n '_mscu',\n '_ng',\n '_ng_lep',\n '_ns_wat',\n '_ns_wat_',\n '_of',\n '_polyvinyl',\n '_prited',\n '_raw',\n '_release',\n '_roth_',\n '_slate',\n '_sprayer',\n '_surveying',\n '_tailoring',\n '_tiles',\n '_used',\n '_v',\n '_we',\n '_weighing',\n '_wooden',\n '_woven',\n '_zsd_',\n 'aa',\n 'aaa',\n 'aaaa',\n 'aaaaa',\n 'aaaaaa',\n 'aaaaaaaaaaaaaa',\n 'aaaaaaadditional',\n 'aaaaaaasc',\n 'aaaaand',\n 'aaaaasci',\n 'aaaabove',\n 'aaaaguda',\n 'aaaand',\n 'aaaas',\n 'aaaautho',\n 'aaaauthorised',\n 'aaaawb',\n 'aaab',\n 'aaae',\n 'aaaj',\n 'aaak',\n 'aaakeusola',\n 'aaaluko',\n 'aaand',\n 'aaaromat',\n 'aaas',\n 'aaasamer',\n 'aaasamesk',\n 'aaasc',\n 'aaasgcmp',\n 'aaasgesk',\n 'aaasghcmm',\n 'aaasghcrb',\n 'aaasghcry',\n 'aaasghcsp',\n 'aaasghcte',\n 'aaasghcvb',\n 'aaasghcvu',\n 'aaasghpme',\n 'aaasghwcj',\n 'aaasghwcwp',\n 'aaasgm',\n 'aaasgme',\n 'aaasgmelg',\n 'aaasgment',\n 'aaasgmere',\n 'aaasgmetc',\n 'aaasgmetl',\n 'aaasgmevc',\n 'aaasgmevp',\n 'aaasgmewl',\n 'aaasgmeyb',\n 'aaasgmeyl',\n 'aaasgmeyr',\n 'aaau',\n 'aaauthorised',\n 'aab',\n 'aabdulahi',\n 'aabdulkarim',\n 'aabdullahi',\n 'aabimiku',\n 'aabk',\n 'aabn',\n 'aabolarinwa',\n 'aabove',\n 'aabs',\n 'aabubakar',\n 'aaby',\n 'aac',\n 'aacc',\n 'aacceptable',\n 'aaccessories',\n 'aace',\n 'aacf',\n 'aaci',\n 'aacid',\n 'aacii',\n 'aacin',\n 'aacj',\n 'aack',\n 'aacooxx',\n 'aacord',\n 'aacrylic',\n 'aacu',\n 'aacura',\n 'aad',\n 'aada',\n 'aadamu',\n 'aadaptor',\n 'aadby',\n 'aadditional',\n 'aaddtnl',\n 'aadedum',\n 'aademosu',\n 'aadendum',\n 'aadeogun',\n 'aadeshina',\n 'aadeyemi',\n 'aaditional',\n 'aadp',\n 'aadtnl',\n 'aadults',\n 'aae',\n 'aaeh',\n 'aael',\n 'aaerosol',\n 'aaf',\n 'aafalana',\n 'aaffwa',\n 'aafhz',\n 'aafxf',\n 'aag',\n 'aagainst',\n 'aagbaso',\n 'aagencies',\n 'aagencise',\n 'aaghounour',\n 'aagricultural',\n 'aags',\n 'aaguda',\n 'aah',\n 'aahfxf',\n 'aahhi',\n 'aahj',\n 'aahki',\n 'aahmed',\n 'aai',\n 'aaigbodion',\n 'aaii',\n 'aailesanmi',\n 'aair',\n 'aaircraft',\n 'aaj',\n 'aajayi',\n 'aajh',\n 'aajj',\n 'aajk',\n 'aajyi',\n 'aak',\n 'aakanno',\n 'aakd',\n 'aakfwa',\n 'aakfxp',\n 'aakk',\n 'aako',\n 'aakor',\n 'aal',\n 'aalb',\n 'aalborg',\n 'aaliance',\n 'aaliyu',\n 'aalj',\n 'aall',\n 'aalloy',\n 'aalloyed',\n 'aalon',\n 'aaloo',\n 'aalr',\n 'aaltis',\n 'aaluko',\n 'aaluminium',\n 'aalxin',\n 'aalysed',\n 'aam',\n 'aama',\n 'aamfa',\n 'aamfb',\n 'aamg',\n 'aamn',\n 'aamohammed',\n 'aamoxicilin',\n 'aamu',\n 'aan',\n 'aanalys',\n 'aanalyst',\n 'aanb',\n 'aand',\n 'aang',\n 'aanlyst',\n 'aanti',\n 'aanyiam',\n 'aao',\n 'aaoec',\n 'aaofc',\n 'aaonc',\n 'aaoncifn',\n 'aaoncxcn',\n 'aaoo',\n 'aaooo',\n 'aaooy',\n 'aaoyy',\n 'aap',\n 'aaparatus',\n 'aaparisal',\n 'aaph',\n 'aapj',\n 'aapk',\n 'aaples',\n 'aaplication',\n 'aapproval',\n 'aapproved',\n 'aapraised',\n 'aaproved',\n 'aapter',\n 'aaptor',\n 'aapyu',\n 'aaqm',\n 'aar',\n 'aarcade',\n 'aarchiral',\n 'aareleased',\n 'aari',\n 'aarit',\n 'aarive',\n 'aarived',\n 'aarku',\n 'aarno',\n 'aaron',\n 'aaroncold',\n 'aarons',\n 'aaroved',\n 'aarrival',\n 'aarrived',\n 'aarti',\n 'aarticles',\n 'aartis',\n 'aarton',\n 'aarz',\n 'aas',\n 'aasamest',\n 'aasamesy',\n 'aasay',\n 'aasc',\n 'aasci',\n 'aascii',\n 'aasd',\n 'aasemblyu',\n 'aasesed',\n 'aasessment',\n 'aasgme',\n 'aasgmeay',\n 'aasgmeyb',\n 'aassd',\n 'aassesed',\n 'aassy',\n 'aat',\n 'aatached',\n 'aatched',\n 'aater',\n 'aatfs',\n 'aati',\n 'aatji',\n 'aatk',\n 'aattached',\n 'aaty',\n 'aau',\n 'aaudi',\n 'aaudit',\n 'aaugust',\n 'aautho',\n 'aauthorisd',\n 'aauthorised',\n 'aauthorized',\n 'aauto',\n 'aav',\n 'aavb',\n 'aave',\n 'aavensis',\n 'aavj',\n 'aavzzz',\n 'aawb',\n 'aawg',\n 'aawith',\n 'aawp',\n 'aawua',\n 'aax',\n 'aaxhn',\n 'aay',\n 'aayewoh',\n 'aayo',\n 'aaz',\n 'aazo',\n 'aazse',\n 'aazte',\n 'aazy',\n 'ab',\n 'aba',\n 'abaagu',\n 'ababakar',\n 'ababfemi',\n 'ababiah',\n 'ababukar',\n 'abac',\n 'abaca',\n 'abacaoir',\n 'abacavik',\n 'abacavir',\n 'abacha',\n 'abaco',\n 'abacus',\n 'abadullahi',\n 'abafec',\n 'abagu',\n 'abak',\n 'abaklal',\n 'abaktal',\n 'abalone',\n 'abalysed',\n 'abamactin',\n 'abamectin',\n 'abamet',\n 'abametin',\n 'abamigboye',\n 'abandazole',\n 'abandoned',\n 'abandonment',\n 'abang',\n 'abanji',\n 'abaorgu',\n 'abaove',\n 'abarchi',\n 'abarshi',\n 'abarth',\n 'abas',\n 'abase',\n 'abased',\n 'abashi',\n 'abasilim',\n 'abasium',\n 'abass',\n 'abattoir',\n 'abau',\n 'abaubakar',\n 'abayas',\n 'abayemi',\n 'abayomi',\n 'abb',\n 'abba',\n 'abbaa',\n 'abbaea',\n 'abbah',\n 'abbakar',\n 'abbaott',\n 'abbarkar',\n 'abbas',\n 'abbb',\n 'abbba',\n 'abbda',\n 'abbds',\n 'abbdulhadi',\n 'abbdullahi',\n 'abbemat',\n 'abbestor',\n 'abbeu',\n 'abbey',\n 'abbh',\n 'abbktek',\n 'abborber',\n 'abbort',\n 'abbot',\n 'abbott',\n 'abbove',\n 'abbrasive',\n 'abbreviated',\n 'abbreviating',\n 'abbubakar',\n 'abbubarkar',\n 'abbvie',\n 'abbxsn',\n 'abby',\n 'abc',\n 'abca',\n 'abcba',\n 'abcirh',\n 'abck',\n 'abco',\n 'abcorbic',\n 'abcu',\n 'abd',\n 'abda',\n 'abdb',\n 'abdd',\n 'abddu',\n 'abddulkarim',\n 'abddullahi',\n 'abdeu',\n 'abdfullahi',\n 'abdilhadi',\n 'abdilkadir',\n 'abdillahi',\n 'abdilraham',\n 'abdilrahim',\n 'abdilrasheed',\n 'abdilrazaq',\n 'abdiullahi',\n 'abdjan',\n 'abdlkadir',\n 'abdlrahim',\n 'abdlrahman',\n 'abdlraman',\n 'abdluraham',\n 'abdlurahim',\n 'abdmu',\n 'abdo',\n 'abdominal',\n 'abdominalcatheter',\n 'abdrazaq',\n 'abdu',\n 'abdubalam',\n 'abdubalan',\n 'abduchadi',\n 'abduhadi',\n 'abduhali',\n 'abduiiahi',\n 'abduillahi',\n 'abduirashid',\n 'abdujkadir',\n 'abduk',\n 'abdukadi',\n 'abdukadir',\n 'abdukalrim',\n 'abdukarim',\n 'abdukkadir',\n 'abdukllaahui',\n 'abdukllahi',\n 'abdukrahman',\n 'abdul',\n 'abdulah',\n 'abdulaham',\n 'abdulahhi',\n 'abdulahi',\n 'abdulahman',\n 'abdulai',\n 'abdulaim',\n 'abdulakadir',\n 'abdulakarim',\n 'abdulakrim',\n 'abdulallahi',\n 'abdulamlik',\n 'abdularaham',\n 'abdularazaq',\n 'abdulazeez',\n 'abdulhaadi',\n 'abdulhadi',\n 'abdulhadim',\n 'abdulhai',\n 'abdulhameed',\n 'abdulhamid',\n 'abdulharahman',\n 'abdulharam',\n 'abdulharaman',\n 'abdulhman',\n 'abduli',\n 'abduljadir',\n 'abduljkadir',\n 'abdulk',\n 'abdulkabir',\n 'abdulkadi',\n 'abdulkadior',\n 'abdulkadir',\n 'abdulkadiri',\n 'abdulkadri',\n 'abdulkaduir',\n 'abdulkafir',\n 'abdulkagir',\n 'abdulkaim',\n 'abdulkar',\n 'abdulkardir',\n 'abdulkareem',\n 'abdulkarim',\n 'abdulkarima',\n 'abdulkarimu',\n 'abdulkarin',\n 'abdulkariom',\n 'abdulkarm',\n 'abdulkarum',\n 'abdulkasir',\n 'abdulkatrim',\n 'abdulkdir',\n 'abdulkhadi',\n 'abdulkjadir',\n 'abdulklahi',\n 'abdulksadir',\n 'abdulla',\n 'abdullah',\n 'abdullahhi',\n 'abdullahi',\n 'abdullahia',\n 'abdullahiam',\n 'abdullahidsc',\n 'abdullahii',\n 'abdullahim',\n 'abdullahio',\n 'abdullahiz',\n 'abdullahji',\n 'abdullahui',\n 'abdullai',\n 'abdullaia',\n 'abdullaih',\n 'abdullajhi',\n 'abdullalahi',\n 'abdullani',\n 'abdullarazaq',\n 'abdullashi',\n 'abdullashid',\n 'abdullhi',\n 'abdullia',\n 'abdulllahi',\n 'abdullrahaman',\n 'abdullrahim',\n 'abdullrasheed',\n 'abdullrashid',\n 'abdullrazaq',\n 'abdulm',\n 'abdulmajeed',\n 'abdulmaleed',\n 'abdulmaleeq',\n 'abdulmali',\n 'abdulmalib',\n 'abdulmalic',\n 'abdulmalik',\n 'abdulmaliq',\n 'abdulmalk',\n 'abdulqudus',\n 'abdulr',\n 'abdulraahim',\n 'abdulraaman',\n 'abdulrah',\n 'abdulraham',\n 'abdulrahama',\n 'abdulrahaman',\n 'abdulrahamn',\n 'abdulrahan',\n 'abdulrahana',\n 'abdulrahanam',\n 'abdulraheem',\n 'abdulrahim',\n 'abdulrahjman',\n 'abdulrahm',\n 'abdulrahma',\n 'abdulrahmam',\n 'abdulrahman',\n 'abdulrahmana',\n 'abdulrahmanassd',\n 'abdulrahmanh',\n 'abdulrahmans',\n 'abdulrahmkan',\n 'abdulrahmn',\n 'abdulrahmnan',\n 'abdulrahmon',\n 'abdulraim',\n 'abdulralman',\n 'abdulrama',\n 'abdulraman',\n 'abdulramman',\n 'abdulranman',\n 'abdulrarim',\n 'abdulrasaq',\n 'abdulrashed',\n 'abdulrasheed',\n 'abdulrashid',\n 'abdulrashied',\n 'abdulrasqz',\n 'abdulrazak',\n 'abdulrazaq',\n 'abdulrham',\n 'abdulrhama',\n 'abdulrhaman',\n 'abdulrhman',\n 'abdulrshaman',\n 'abdulsalam',\n 'abdulsallam',\n 'abdulsamad',\n 'abdulssamad',\n 'abdulurahim',\n 'abdumalik',\n 'abduokadir',\n 'abduraham',\n 'abdurahaman',\n 'abdurahim',\n 'abdurahman',\n 'abduralman',\n 'abduraman',\n 'abdurasaq',\n 'abdurasheed',\n 'abdurashid',\n 'abdurazaaq',\n 'abdurazak',\n 'abdurazaq',\n 'abdureazaq',\n 'abdurhaman',\n 'abdurlahman',\n 'abdurlraman',\n 'abdurrahman',\n 'abdurrashid',\n 'abdurrazaq',\n 'abdurzaq',\n 'abdusalam',\n 'abdusamad',\n 'abdussamad',\n 'abdyullahi',\n 'abe',\n 'abeau',\n 'abebomi',\n 'abecip',\n 'abegg',\n 'abegunde',\n 'abel',\n 'abeling',\n 'abelt',\n 'abem',\n 'abencies',\n 'abendazole',\n 'abent',\n 'abeokuta',\n 'aber',\n 'aberenika',\n 'abestor',\n 'abestos',\n 'abeu',\n 'abezeta',\n 'abf',\n 'abfap',\n 'abfdulkadir',\n 'abfdullahi',\n 'abfxf',\n 'abg',\n 'abgf',\n 'abgm',\n 'abgoa',\n 'abgoas',\n 'abgor',\n 'abgs',\n 'abh',\n 'abhay',\n 'abhc',\n 'abhmi',\n 'abhr',\n 'abhydride',\n 'abi',\n 'abia',\n 'abiakam',\n 'abibakar',\n 'abibu',\n 'abide',\n 'abidec',\n 'abidemi',\n 'abidjan',\n 'abido',\n 'abidoye',\n 'abie',\n 'abifh',\n 'abigail',\n 'abigailfiyemieari',\n 'abiimiku',\n 'abijan',\n 'abike',\n 'abil',\n 'abim',\n 'abimbola',\n 'abimi',\n 'abimiki',\n 'abimiku',\n 'abimikum',\n 'abimikyu',\n 'abimimku',\n 'abimimu',\n 'abimiu',\n 'abimkiu',\n 'abimku',\n 'abimmiku',\n 'abimniku',\n 'abimuku',\n 'abinet',\n 'abiodu',\n 'abiodum',\n 'abiodun',\n 'abiodunj',\n 'abiola',\n 'abiove',\n 'abioye',\n 'abir',\n 'abirami',\n 'abiraterone',\n 'abirisade',\n 'abitration',\n 'abiu',\n 'abiuba',\n 'abiubakar',\n 'abiubaksar',\n 'abiumiku',\n 'abive',\n 'abj',\n 'abjk',\n 'abjo',\n 'abjonn',\n 'abjubakar',\n 'abk',\n 'abka',\n 'abkab',\n 'abkb',\n 'abki',\n 'abkiggogu',\n 'abkioeo',\n 'abkode',\n 'abkooe',\n 'abl',\n 'ablative',\n 'able',\n 'ables',\n 'ablestik',\n 'ablets',\n 'abll',\n 'abloa',\n 'abloarinwa',\n 'ablorinwa',\n 'abloy',\n 'ablrahim',\n 'ablution',\n 'abm',\n 'abmiboye',\n 'abn',\n 'abna',\n 'abnd',\n 'abner',\n 'abni',\n 'abnioe',\n 'abnioeo',\n 'abnk',\n 'abnolarinwa',\n 'abnomic',\n 'abnooe',\n 'abnormal',\n 'abnove',\n 'abnubakar',\n 'abnubakjar',\n 'abo',\n 'aboard',\n 'aboariwa',\n 'aboave',\n 'abob',\n 'aboba',\n 'abobakar',\n 'abobe',\n 'abobg',\n 'abobve',\n 'aboce',\n 'abocve',\n 'aboe',\n 'aboev',\n 'abohve',\n 'aboirasade',\n 'aboirisade',\n 'aboirsade',\n 'aboive',\n 'abol',\n 'abolalarinwa',\n 'abolanrinwa',\n 'abolarainwa',\n 'abolarginwa',\n 'abolari',\n 'abolariea',\n 'abolarin',\n 'abolarina',\n 'abolarinaw',\n 'abolarinea',\n 'abolarinewa',\n 'abolarinw',\n 'abolarinwa',\n 'abolarinwaba',\n 'abolarinwarelease',\n 'abolarinwo',\n 'abolariwa',\n 'abolaroinwa',\n 'abollarinwa',\n 'abolorinwa',\n 'abolrainwa',\n 'abolrarinwa',\n 'abolrinwa',\n 'abon',\n 'abond',\n 'aboolarinwa',\n 'aboove',\n 'abopove',\n 'abopve',\n 'abopved',\n 'abor',\n 'aborasade',\n 'aborashade',\n 'aborbers',\n 'aboresade',\n 'aboriade',\n 'aboriasde',\n 'aboriased',\n 'aboridae',\n 'aboridase',\n 'aboriisade',\n 'aborinwa',\n 'aborisa',\n 'aborisadde',\n 'aborisade',\n 'aborisadee',\n 'aborisader',\n 'aborisadse',\n 'aborisae',\n 'aborisaed',\n 'aborisde',\n 'aborise',\n 'aborishade',\n 'aborishae',\n 'aborishhade',\n 'aborlarinwa',\n 'aborosade',\n 'aboroshade',\n 'aborsade',\n 'abort',\n 'abortion',\n 'aboruisade',\n 'abosor',\n 'abosorbing',\n 'abosrober',\n 'aboue',\n 'about',\n 'abouts',\n 'abouve',\n 'abov',\n 'abovae',\n 'abovbe',\n 'abovbed',\n 'abovce',\n 'above',\n 'aboveac',\n 'aboveand',\n 'aboved',\n 'abovee',\n 'aboveexamination',\n 'abovef',\n 'abovefna',\n 'abovefromvaluation',\n 'aboveground',\n 'abovekindly',\n 'abovem',\n 'abovemin',\n 'aboveminuites',\n 'aboveminute',\n 'aboveminutes',\n 'abovemrelease',\n 'aboveon',\n 'abovepayment',\n 'abovepls',\n 'aboveq',\n 'abover',\n 'aboverefered',\n 'aboverefers',\n 'aboverelease',\n 'aboves',\n 'abovev',\n 'abovfe',\n 'abovr',\n 'abovre',\n 'abovve',\n 'abovw',\n 'abp',\n 'abpeptidurs',\n 'abplarinwa',\n 'abpolarinwa',\n 'abporisade',\n 'abpove',\n 'abpve',\n 'abr',\n 'abradable',\n 'abraham',\n 'abrahim',\n 'abraider',\n 'abraj',\n 'abras',\n 'abrasion',\n 'abrasive',\n 'abrasives',\n 'abrassive',\n 'abratic',\n 'abricot',\n 'abrieu',\n 'abrisade',\n 'abro',\n 'abrosade',\n 'abrshi',\n 'abrsion',\n 'abrsive',\n 'abruecker',\n 'abs',\n 'abscence',\n 'abscent',\n 'abse',\n 'absed',\n 'abseed',\n 'absen',\n 'absence',\n 'absent',\n 'abserber',\n 'absg',\n 'absgiffiol',\n 'absil',\n 'absket',\n 'abso',\n 'absobable',\n 'absobber',\n 'absobent',\n 'absober',\n 'absoberand',\n 'absobers',\n 'absoeber',\n 'absolu',\n 'absolut',\n 'absolute',\n 'absolutely',\n 'absolve',\n 'absolver',\n 'absolves',\n 'absorb',\n 'absorba',\n 'absorbable',\n 'absorbant',\n 'absorbate',\n 'absorbe',\n 'absorbed',\n 'absorben',\n 'absorbent',\n 'absorbents',\n 'absorber',\n 'absorbercpc',\n 'absorbers',\n 'absorberss',\n ...]"
     },
     "metadata": {},
     "execution_count": 3
    }
   ],
   "source": [
    "count_encode.all_encode['INSPECTION_ACT'].get_feature_names()"
   ]
  },
  {
   "cell_type": "code",
   "execution_count": 68,
   "metadata": {},
   "outputs": [
    {
     "output_type": "execute_result",
     "data": {
      "text/plain": "Int64Index([   1146,    1147,    1826,    1827,    1828,    1836,    1837,\n               1838,    6245,    6246,\n            ...\n            6776307, 6776308, 6776309, 6776310, 6776311, 6776312, 6776854,\n            6776855, 6776856, 6777795],\n           dtype='int64', length=38563)"
     },
     "metadata": {},
     "execution_count": 68
    }
   ],
   "source": [
    "data['HSCODE'][data['HSCODE'].isna()].index\n",
    "(6778497, 17)"
   ]
  },
  {
   "cell_type": "code",
   "execution_count": 69,
   "metadata": {},
   "outputs": [
    {
     "output_type": "execute_result",
     "data": {
      "text/plain": "38563"
     },
     "metadata": {},
     "execution_count": 69
    }
   ],
   "source": [
    "6778497-6739934"
   ]
  },
  {
   "cell_type": "code",
   "execution_count": 163,
   "metadata": {
    "tags": []
   },
   "outputs": [],
   "source": [
    "look_url='dataset/CET_tariff.xls'\n",
    "look_up = pd.read_excel(look_url)[['CET code','ID']]\n",
    "look_up = look_up.sort_values(by='CET code').set_index(look_up['CET code']).drop('CET code',axis=1)\n",
    "# print(look_up[look_up['CET code'] == 841090000078].iloc[0].ID)"
   ]
  },
  {
   "cell_type": "code",
   "execution_count": 167,
   "metadata": {},
   "outputs": [
    {
     "output_type": "execute_result",
     "data": {
      "text/plain": "['ddd', 'eer', 'err']"
     },
     "metadata": {},
     "execution_count": 167
    }
   ],
   "source": [
    "['ddd','eer'] + ['err']"
   ]
  },
  {
   "cell_type": "code",
   "execution_count": 168,
   "metadata": {
    "tags": []
   },
   "outputs": [
    {
     "output_type": "stream",
     "name": "stdout",
     "text": "10.0\nend at 0.0024051666259765625\n"
    }
   ],
   "source": [
    "start = time.time()\n",
    "# print(look_up[look_up['CET code'] == 8535300000].iloc[0].ID)\n",
    "print(look_up.loc[8535300000].ID)\n",
    "print(f'end at {time.time()-start}')"
   ]
  },
  {
   "cell_type": "code",
   "execution_count": null,
   "metadata": {},
   "outputs": [],
   "source": []
  },
  {
   "cell_type": "code",
   "execution_count": 8,
   "metadata": {},
   "outputs": [
    {
     "output_type": "execute_result",
     "data": {
      "text/plain": "5362"
     },
     "metadata": {},
     "execution_count": 8
    }
   ],
   "source": [
    "data.HSCODE.nunique()"
   ]
  },
  {
   "cell_type": "code",
   "execution_count": 13,
   "metadata": {},
   "outputs": [
    {
     "output_type": "execute_result",
     "data": {
      "text/plain": "target    3163577\ndtype: int64"
     },
     "metadata": {},
     "execution_count": 13
    }
   ],
   "source": [
    "data[data.target == 0][['target']].count()"
   ]
  },
  {
   "cell_type": "code",
   "execution_count": null,
   "metadata": {},
   "outputs": [],
   "source": []
  },
  {
   "cell_type": "code",
   "execution_count": 6,
   "metadata": {},
   "outputs": [],
   "source": [
    "data[data.target == 0][['INSPECTION_ACT','target']].sort_values('INSPECTION_ACT').to_csv('labels0.csv',index=False)"
   ]
  },
  {
   "cell_type": "code",
   "execution_count": 14,
   "metadata": {},
   "outputs": [
    {
     "output_type": "execute_result",
     "data": {
      "text/plain": "target    1540938\ndtype: int64"
     },
     "metadata": {},
     "execution_count": 14
    }
   ],
   "source": [
    "data[data.target == 1][['target']].count()"
   ]
  },
  {
   "cell_type": "code",
   "execution_count": 7,
   "metadata": {},
   "outputs": [],
   "source": [
    "data[data.target == 1][['INSPECTION_ACT','target']].sort_values('INSPECTION_ACT').to_csv('labels1.csv',index=False)"
   ]
  },
  {
   "cell_type": "code",
   "execution_count": 15,
   "metadata": {},
   "outputs": [
    {
     "output_type": "execute_result",
     "data": {
      "text/plain": "target    2073982\ndtype: int64"
     },
     "metadata": {},
     "execution_count": 15
    }
   ],
   "source": [
    "data[data.target == 2][['target']].count()"
   ]
  },
  {
   "cell_type": "code",
   "execution_count": 8,
   "metadata": {},
   "outputs": [],
   "source": [
    "data[data.target == 2][['INSPECTION_ACT','target']].sort_values('INSPECTION_ACT').to_csv('labels2.csv',index=False)"
   ]
  },
  {
   "cell_type": "code",
   "execution_count": 3,
   "metadata": {},
   "outputs": [
    {
     "output_type": "execute_result",
     "data": {
      "text/plain": "target    2305521\ndtype: int64"
     },
     "metadata": {},
     "execution_count": 3
    }
   ],
   "source": [
    "data[data.target == 0][['target']].count()"
   ]
  },
  {
   "cell_type": "code",
   "execution_count": 4,
   "metadata": {},
   "outputs": [
    {
     "output_type": "execute_result",
     "data": {
      "text/plain": "target    4472976\ndtype: int64"
     },
     "metadata": {},
     "execution_count": 4
    }
   ],
   "source": [
    "data[data.target == 1][['target']].count()"
   ]
  },
  {
   "cell_type": "code",
   "execution_count": 1,
   "metadata": {},
   "outputs": [],
   "source": [
    "# #laod in data\n",
    "# start =  time.time()\n",
    "# data1 = pd.read_csv('2018.csv', encoding='cp1252')\n",
    "# print(f'Took {time.time()-start} secs')"
   ]
  },
  {
   "cell_type": "code",
   "execution_count": 2,
   "metadata": {},
   "outputs": [],
   "source": [
    "# start =  time.time()\n",
    "# data2 = pd.read_csv('2019.csv', encoding='cp1252')\n",
    "# print(f'Took {time.time()-start} secs')a"
   ]
  },
  {
   "cell_type": "code",
   "execution_count": 4,
   "metadata": {},
   "outputs": [],
   "source": [
    "# start =  time.time()\n",
    "# new_dataset = pd.read_csv('new_dataset.csv')\n",
    "# print(f'Took {time.time()-start} secs')"
   ]
  },
  {
   "cell_type": "code",
   "execution_count": 2,
   "metadata": {},
   "outputs": [
    {
     "name": "stderr",
     "output_type": "stream",
     "text": [
      "/home/vincycode7/anaconda3/lib/python3.7/site-packages/IPython/core/interactiveshell.py:3058: DtypeWarning: Columns (16) have mixed types. Specify dtype option on import or set low_memory=False.\n",
      "  interactivity=interactivity, compiler=compiler, result=result)\n"
     ]
    },
    {
     "name": "stdout",
     "output_type": "stream",
     "text": [
      "Took 34.01676273345947 secs\n"
     ]
    }
   ],
   "source": [
    "start =  time.time()\n",
    "#Extract Features we are interested in and delete features that dataframe that we are done using\n",
    "cols = ['IMPORTER_NAME', 'DECLARANT_NAME', 'OFFICE_COD', 'OFFICE_NAME', 'CTY_ORIGIN',\n",
    "       'MODE_OF_TRANSPORT', 'HSCODE', 'HS_DESC', 'ITM_NUM', 'QTY',\n",
    "       'GROSS_MASS', 'NET_MASS', 'ITM_PRICE', 'STATISTICAL_VALUE', 'TOTAL_TAX',\n",
    "       'INVOICE_AMT', 'INSPECTION_ACT']\n",
    "col2 = ['IMPORTER_NAME','INSPECTION_ACT']\n",
    "new_dataset2 = pd.read_csv('new_dataset2.csv')[col2].copy()\n",
    "print(f'Took {time.time()-start} secs')"
   ]
  },
  {
   "cell_type": "code",
   "execution_count": null,
   "metadata": {},
   "outputs": [],
   "source": []
  },
  {
   "cell_type": "code",
   "execution_count": 1,
   "metadata": {
    "scrolled": true
   },
   "outputs": [
    {
     "output_type": "error",
     "ename": "NameError",
     "evalue": "name 'new_dataset2' is not defined",
     "traceback": [
      "\u001b[0;31m---------------------------------------------------------------------------\u001b[0m",
      "\u001b[0;31mNameError\u001b[0m                                 Traceback (most recent call last)",
      "\u001b[0;32m<ipython-input-1-48e9dd1333ff>\u001b[0m in \u001b[0;36m<module>\u001b[0;34m\u001b[0m\n\u001b[0;32m----> 1\u001b[0;31m \u001b[0mnew_dataset2\u001b[0m\u001b[0;34m.\u001b[0m\u001b[0mhead\u001b[0m\u001b[0;34m(\u001b[0m\u001b[0;34m)\u001b[0m\u001b[0;34m\u001b[0m\u001b[0;34m\u001b[0m\u001b[0m\n\u001b[0m",
      "\u001b[0;31mNameError\u001b[0m: name 'new_dataset2' is not defined"
     ]
    }
   ],
   "source": [
    "new_dataset2.head()"
   ]
  },
  {
   "cell_type": "markdown",
   "metadata": {},
   "source": [
    "> 1. Importer | 'IMPORTER_NAME',\n",
    "> 2. Declarant | 'DECLARANT_NAME',\n",
    "> 3. Country of Origin | 'CTY_ORIGIN',\n",
    "> 4. Trading country | *,\n",
    "> 5. Commodities | 'HS_DESC',\n",
    "> 6. Item price | 'ITM_PRICE',\n",
    "> 7. Mode of tramsport | 'MODE_OF_TRANSPORT',\n",
    "> 8. Number of items | 'ITM_NUM',\n",
    "> 9. Gross Mass | 'GROSS_MASS',\n",
    "> 10. Net Mass | 'NET_MASS',\n",
    "> 11. Tax amount | 'TOTAL_TAX',\n",
    "> 12. Invoice amount | 'INVOICE_AMT',\n",
    "> 13. Quantity | 'QTY',\n",
    "> 14. Statistical value | 'STATISTICAL_VALUE',"
   ]
  },
  {
   "cell_type": "code",
   "execution_count": 4,
   "metadata": {},
   "outputs": [],
   "source": [
    "# ['IMPORTER_NAME', 'DECLARANT_NAME', 'CTY_ORIGIN', 'ITM_NUM', 'QTY',\n",
    "#        'GROSS_MASS', 'NET_MASS', 'ITM_PRICE', 'STATISTICAL_VALUE', 'TOTAL_TAX','INVOICE_AMT']"
   ]
  },
  {
   "cell_type": "code",
   "execution_count": 3,
   "metadata": {},
   "outputs": [
    {
     "data": {
      "text/html": [
       "<div>\n",
       "<style scoped>\n",
       "    .dataframe tbody tr th:only-of-type {\n",
       "        vertical-align: middle;\n",
       "    }\n",
       "\n",
       "    .dataframe tbody tr th {\n",
       "        vertical-align: top;\n",
       "    }\n",
       "\n",
       "    .dataframe thead th {\n",
       "        text-align: right;\n",
       "    }\n",
       "</style>\n",
       "<table border=\"1\" class=\"dataframe\">\n",
       "  <thead>\n",
       "    <tr style=\"text-align: right;\">\n",
       "      <th></th>\n",
       "      <th>INSPECTION_ACT</th>\n",
       "    </tr>\n",
       "  </thead>\n",
       "  <tbody>\n",
       "    <tr>\n",
       "      <td>0</td>\n",
       "      <td>BASED ON DN PAID, RELEASE AUTHORISED. 43224 AC...</td>\n",
       "    </tr>\n",
       "    <tr>\n",
       "      <td>1</td>\n",
       "      <td>BASED ON DN PAID, RELEASE AUTHORISED. 43224 AC...</td>\n",
       "    </tr>\n",
       "    <tr>\n",
       "      <td>2</td>\n",
       "      <td>BASED ON DN PAID, RELEASE AUTHORISED. 43224 AC...</td>\n",
       "    </tr>\n",
       "    <tr>\n",
       "      <td>3</td>\n",
       "      <td>BASED ON DN PAID, RELEASE AUTHORISED. 43224 AC...</td>\n",
       "    </tr>\n",
       "    <tr>\n",
       "      <td>4</td>\n",
       "      <td>BASED ON DN PAID, RELEASE AUTHORISED. 43224 AC...</td>\n",
       "    </tr>\n",
       "    <tr>\n",
       "      <td>...</td>\n",
       "      <td>...</td>\n",
       "    </tr>\n",
       "    <tr>\n",
       "      <td>6778492</td>\n",
       "      <td>PAAR PERFECTION</td>\n",
       "    </tr>\n",
       "    <tr>\n",
       "      <td>6778493</td>\n",
       "      <td>PAAR PERFECTION</td>\n",
       "    </tr>\n",
       "    <tr>\n",
       "      <td>6778494</td>\n",
       "      <td>ONE (01)PKG ON ABW NO 615-2752-2670 FTC ROTARY...</td>\n",
       "    </tr>\n",
       "    <tr>\n",
       "      <td>6778495</td>\n",
       "      <td>ONE (01)PKG ON ABW NO 615-2752-2670 FTC ROTARY...</td>\n",
       "    </tr>\n",
       "    <tr>\n",
       "      <td>6778496</td>\n",
       "      <td>ONE (01)PKG ON ABW NO 615-2752-2670 FTC ROTARY...</td>\n",
       "    </tr>\n",
       "  </tbody>\n",
       "</table>\n",
       "<p>6778497 rows × 1 columns</p>\n",
       "</div>"
      ],
      "text/plain": [
       "                                            INSPECTION_ACT\n",
       "0        BASED ON DN PAID, RELEASE AUTHORISED. 43224 AC...\n",
       "1        BASED ON DN PAID, RELEASE AUTHORISED. 43224 AC...\n",
       "2        BASED ON DN PAID, RELEASE AUTHORISED. 43224 AC...\n",
       "3        BASED ON DN PAID, RELEASE AUTHORISED. 43224 AC...\n",
       "4        BASED ON DN PAID, RELEASE AUTHORISED. 43224 AC...\n",
       "...                                                    ...\n",
       "6778492                                    PAAR PERFECTION\n",
       "6778493                                    PAAR PERFECTION\n",
       "6778494  ONE (01)PKG ON ABW NO 615-2752-2670 FTC ROTARY...\n",
       "6778495  ONE (01)PKG ON ABW NO 615-2752-2670 FTC ROTARY...\n",
       "6778496  ONE (01)PKG ON ABW NO 615-2752-2670 FTC ROTARY...\n",
       "\n",
       "[6778497 rows x 1 columns]"
      ]
     },
     "execution_count": 3,
     "metadata": {},
     "output_type": "execute_result"
    }
   ],
   "source": [
    "new_dataset2"
   ]
  },
  {
   "cell_type": "code",
   "execution_count": 14,
   "metadata": {},
   "outputs": [],
   "source": [
    "# #Create a new data set with The Two Datasets\n",
    "# new_dataset = pd.concat([data1, data2], ignore_index=True)\n",
    "# new_dataset\n",
    "# del data1, data2"
   ]
  },
  {
   "cell_type": "code",
   "execution_count": 15,
   "metadata": {},
   "outputs": [],
   "source": [
    "#save new dataset\n",
    "# new_dataset2.to_csv('new_dataset2.csv',index=False,)"
   ]
  },
  {
   "cell_type": "code",
   "execution_count": 8,
   "metadata": {},
   "outputs": [
    {
     "data": {
      "text/html": [
       "<div>\n",
       "<style scoped>\n",
       "    .dataframe tbody tr th:only-of-type {\n",
       "        vertical-align: middle;\n",
       "    }\n",
       "\n",
       "    .dataframe tbody tr th {\n",
       "        vertical-align: top;\n",
       "    }\n",
       "\n",
       "    .dataframe thead th {\n",
       "        text-align: right;\n",
       "    }\n",
       "</style>\n",
       "<table border=\"1\" class=\"dataframe\">\n",
       "  <thead>\n",
       "    <tr style=\"text-align: right;\">\n",
       "      <th></th>\n",
       "      <th>INSPECTION_ACT</th>\n",
       "    </tr>\n",
       "  </thead>\n",
       "  <tbody>\n",
       "    <tr>\n",
       "      <td>0</td>\n",
       "      <td>BASED ON DN PAID, RELEASE AUTHORISED. 43224 AC...</td>\n",
       "    </tr>\n",
       "    <tr>\n",
       "      <td>1</td>\n",
       "      <td>BASED ON DN PAID, RELEASE AUTHORISED. 43224 AC...</td>\n",
       "    </tr>\n",
       "    <tr>\n",
       "      <td>2</td>\n",
       "      <td>BASED ON DN PAID, RELEASE AUTHORISED. 43224 AC...</td>\n",
       "    </tr>\n",
       "    <tr>\n",
       "      <td>3</td>\n",
       "      <td>BASED ON DN PAID, RELEASE AUTHORISED. 43224 AC...</td>\n",
       "    </tr>\n",
       "    <tr>\n",
       "      <td>4</td>\n",
       "      <td>BASED ON DN PAID, RELEASE AUTHORISED. 43224 AC...</td>\n",
       "    </tr>\n",
       "    <tr>\n",
       "      <td>...</td>\n",
       "      <td>...</td>\n",
       "    </tr>\n",
       "    <tr>\n",
       "      <td>6778492</td>\n",
       "      <td>PAAR PERFECTION</td>\n",
       "    </tr>\n",
       "    <tr>\n",
       "      <td>6778493</td>\n",
       "      <td>PAAR PERFECTION</td>\n",
       "    </tr>\n",
       "    <tr>\n",
       "      <td>6778494</td>\n",
       "      <td>ONE (01)PKG ON ABW NO 615-2752-2670 FTC ROTARY...</td>\n",
       "    </tr>\n",
       "    <tr>\n",
       "      <td>6778495</td>\n",
       "      <td>ONE (01)PKG ON ABW NO 615-2752-2670 FTC ROTARY...</td>\n",
       "    </tr>\n",
       "    <tr>\n",
       "      <td>6778496</td>\n",
       "      <td>ONE (01)PKG ON ABW NO 615-2752-2670 FTC ROTARY...</td>\n",
       "    </tr>\n",
       "  </tbody>\n",
       "</table>\n",
       "<p>6778497 rows × 1 columns</p>\n",
       "</div>"
      ],
      "text/plain": [
       "                                            INSPECTION_ACT\n",
       "0        BASED ON DN PAID, RELEASE AUTHORISED. 43224 AC...\n",
       "1        BASED ON DN PAID, RELEASE AUTHORISED. 43224 AC...\n",
       "2        BASED ON DN PAID, RELEASE AUTHORISED. 43224 AC...\n",
       "3        BASED ON DN PAID, RELEASE AUTHORISED. 43224 AC...\n",
       "4        BASED ON DN PAID, RELEASE AUTHORISED. 43224 AC...\n",
       "...                                                    ...\n",
       "6778492                                    PAAR PERFECTION\n",
       "6778493                                    PAAR PERFECTION\n",
       "6778494  ONE (01)PKG ON ABW NO 615-2752-2670 FTC ROTARY...\n",
       "6778495  ONE (01)PKG ON ABW NO 615-2752-2670 FTC ROTARY...\n",
       "6778496  ONE (01)PKG ON ABW NO 615-2752-2670 FTC ROTARY...\n",
       "\n",
       "[6778497 rows x 1 columns]"
      ]
     },
     "execution_count": 8,
     "metadata": {},
     "output_type": "execute_result"
    }
   ],
   "source": [
    "new_dataset2[['INSPECTION_ACT']]"
   ]
  },
  {
   "cell_type": "code",
   "execution_count": 181,
   "metadata": {},
   "outputs": [],
   "source": [
    "new_dataset2['INSPECTION_ACT'] = new_dataset2['INSPECTION_ACT'].str.replace('\\n',' ')\n",
    "# new_dataset2['INSPECTION_ACT'] = new_dataset2['INSPECTION_ACT'].str.replace(':-','')\n",
    "# new_dataset2['INSPECTION_ACT'] = new_dataset2['INSPECTION_ACT'].str.replace(':','')\n",
    "# new_dataset2['INSPECTION_ACT'] = new_dataset2['INSPECTION_ACT'].str.replace(',',' ')\n",
    "# new_dataset2['INSPECTION_ACT'] = new_dataset2['INSPECTION_ACT'].str.replace('&',' ')\n",
    "# new_dataset2['INSPECTION_ACT'] = new_dataset2['INSPECTION_ACT'].str.replace('(',' ')\n",
    "# new_dataset2['INSPECTION_ACT'] = new_dataset2['INSPECTION_ACT'].str.replace(')',' ')\n",
    "\n",
    "new_dataset2['INSPECTION_ACT'] = new_dataset2['INSPECTION_ACT'].str.strip()\n",
    "target1 = new_dataset2[['INSPECTION_ACT']]\n",
    "# target1.to_excel('labels.xlsx')"
   ]
  },
  {
   "cell_type": "code",
   "execution_count": 182,
   "metadata": {},
   "outputs": [],
   "source": [
    "target1 = pd.DataFrame(target1.INSPECTION_ACT.unique(), columns=['INSPECTION_ACT'])\n",
    "target1['target'] = 0\n",
    "# target2 = target1.iloc[:537820].copy()\n",
    "# target1 = target1.iloc[537820:].copy()\n",
    "target1.to_csv('labels1.csv',index=False)\n",
    "# target2.to_csv('labels2.csv',index=False)\n",
    "# target1.to_csv('labels1.csv')\n",
    "# target2.to_csv('labels2.csv')"
   ]
  },
  {
   "cell_type": "code",
   "execution_count": null,
   "metadata": {},
   "outputs": [],
   "source": [
    "for 1 - unique word are *RELEASE AUTHORISED, RELSD BY, SATISFIED  AS ENTERED, RELSD, REL AUTHOURISED, RELS, RLSD, RELSD, REL. AUTHORISED, RELEASED, *"
   ]
  },
  {
   "cell_type": "code",
   "execution_count": null,
   "metadata": {},
   "outputs": [],
   "source": [
    "for 0 - unique word are *REFER TO Q/A FOR FUTHER ACTION, DN RAISED, YOU MAY WISH TO TAKE FURTHER ACTION, SGD, *"
   ]
  },
  {
   "cell_type": "code",
   "execution_count": null,
   "metadata": {},
   "outputs": [],
   "source": [
    "for not sure - words are *23,SGD REFERS TO QUERY FOR RE-LOCATION, 24,SGD RE ALLOCATED FROM PHASE II TERMINAL TO PORT EXPRESS TERMINAL,0, 27,SGD REROUTED TO TERMINAL,0, 31,POST ENTRY MODIFICATION DONE TO CHANGE VEHICLE LOCATION.,0,45,POST ENTRY MODIFICATION DONE TO CHANGE LOCATION OF CARGO.,0, "
   ]
  },
  {
   "cell_type": "code",
   "execution_count": 239,
   "metadata": {},
   "outputs": [],
   "source": [
    "import time\n",
    "import pandas as pd\n",
    "\n",
    "targ2 = pd.read_csv('labels1.csv')\n",
    "ones = ['RELEASE AUTHORISED', 'RELSD BY','REL','EXD BY','COMFIRMED','RLEASAE','LEASED','CORRECTLY CLASSIFIED','EXED','TRANSIT TO','FREE TRADE','VERIFIED','BEING ESCORTED','RE- LEASED','AUTH','FREE  ZONE','EXAMD','ON TRANSIT','ON TRANSFER','FREEZONE','FREE ZONE','TAGGED AS ARRIVED','EXAMINATION','EXAMS BY',' IN COMPLIANCE','EXM','EXAMND','EXAMINED','RLS AUTHORISED','EXMND','CONFRMED','CONFIRMED','EXAMINED  BY','EXAMINED BY','EXMD BY','RELASED','RELAESED','REALESE','RELEASAED',',ISSUED AND PAID','.ISSUED AND PAID','ISSUED AND PAID','RELAESED','PAID','APAID','RELAS','RELD','PAYMENT CONFIRMED:','RLS','AUTHORIZED','AUTHORISE.','PAID VIA RECEIPT','RLEASED','ISSUED AND PAID','CONFIRM PAID','RLEASED.','.RLS AUTHORISED','RLEASE RECOMMENDED','REL AUTHO','RLS AUTHORISED','ELEASE AUTHORISED','RLS AUTHORISED.','RELEASA AUTHORISED','RLEASE AUTHORISED','CONFIRMED.','REELASED','RELELASE AUTHROISED.','RELAESD AUTHORISED','DN CONFIRMED PAID','.ISSUED AND PAID','RELERASED AUTHORISED.','PAYMENT CONFIRMED.','RELEAED AUTHORISED','RESLD AUTHORISED.', 'SATISFIED  AS', 'ENTERED', 'RELSD', 'REL AUTHOURISED','ON TRANSIRE','RELS', 'RLSD','RELEASED AUTHORISED.','REL AUTHORISED', 'REL AUTHORISED.', '.REL. AUTHORISED.', 'RELEASED.','RELEASED!','RELEASED','RELEASE AUTHORIZED','RELEASE AUTHOURIZE.','RELEASE BASED ON ABOVE EXAMINATION','RELEASE AUTHOURIZED.','. REFER SGD TO APM.', '. RELEASE',',RSLD','A.I.RSLD','RELEASD AUTHORISED','REALESD','AUTHORISED.','AUTHORISED','RELELEASED','RELEASDED','RELESED','RELESE  AUTHORISED.','.RELEASSE AUTHORISED','.REL.ATHORISED.','.REL.AUTHORISED.',\"2x20ft CNT-FCIU5305234,EXAMINED BY 42342 DSC EKONG U.G, CIU UNIT AND OTHER RELEVANT AGENCIES. AND FOUND TO CONTAIN 125PK OF JEANS BRAND,450PK OF THREAD TAKE UP CAM\",'. RELEAS AUTHORIZED', '. RELASE',',  SATISFIED AS ENTERRED',' BY','REL THUTHORISED.','. AUTHORISED','.RELEASE  AUTHORISED','CLEARANCE','REEASED AUTHORISED.','RELLEASED.','RLSED','ENTRY MODIFICATION','.REL AUTHORSED','RLSED','.REL','RELEASD AUTHORISED.','ARRIVED','RELEASE','RLASD','RELELASE AUTHORISED.','IDENTIFIED','.RLESD','REL;EASE','RLEASE','EXAMINERR','EXAMINER','RELEAASE AUTHORIZED','UPLIFTED']\n",
    "\n",
    "zeros = ['REFER TO Q/A FOR FUTHER ACTION','REOUTED','BILL OF','TRANSFER','DOCUMENTAIRLY','FRAUDULENT','RETURN','BACK TO','MODIFY','MODI','TRANSFER OF SHIPMENT','RE-WRITE','RE-S','you','FYNA','TO CPC','UPDATE','TFNA','ATTENTION','LOCAT','FOUND TO','CHENGE','PAYMENT','D?N','PENALTY','CORRECT','FORWARDED','Q&A','CONT ','ERR','MISTAKE','OMITTED','CHANGE TO','REASIGNED','PLS CONFIRM','LOCATION CHANGE','REASSIGNMENT','CONTS','PLEASE','RE-R','RAIS','IF SATISFIED','RFD','NOT SATISFIED','FRAUD DETECTED','INPUT EXAM REPORT','FAST TRACK','PLEASE CHECK','WRONGLY','WRONG','PEM','CANCELLATION','CANCELLED','DOCUMENATRILY','DOCUMENTARILY','CORRECTION','ACCIDENTED','CHANGE EFFECTED PLEASE','RE-ROUTE','INPUTED WRONGLY','BASED ON','CROSS CHECK','CHECKED DOCUMENTARILY ONLY','ROUNTED','ROUTED','BACK TO BULK','SEVCTION','DN','D/N','P.E.M','CHANGE LOCATION','CHANGE OF LOCATION','OMMITTED',' F N A','RE-RETOUTED','TO SCANNING','PLEASE CONFIRM','ADDITIONAL PAYMENT','REQUESTED','.ISSUED','AMMEND','ADDITIONAL PAYMENT','MODIFOED TO PAY','RFF','DOES NOT COVER','necrssary action','MODIFIED TO PAY','/ODIFIED TO PAY','PROCEED','ODIFIED TO PAY','necessary action','RE LOCATION','ALERT!','ALERT','DN BASED ON UNDER PAYMENT','MODIFUIED TO PAY','RELOCATION','MODIFIED','YOU MAY PROCEED','DN BASED ON DECLARATION.','APPROVED','relocation','RFEERS','WRONGLY INPUTED','COMFIRM','RELOCATION','RE ROUTED',',YOU MAY PROCEED','RED','MODIFICATION DONE','NECESSARY ACTION','DN RAISED','AMENDMENT','REF', 'YOU MAY WISH TO TAKE FURTHER ACTION','FURTHER ACTION','REFERS TO QUERY FOR RE-LOCATION.','REFERS TO QUERY','REROUTED TO TERMINAL','RE ALLOCATED','UNDECLEARED','RE-ROUTED TO RED','DN  RAISED','POST ENTRY MODIFICATION DONE TO CHANGE','FURTHER','RE ROUTED TO TERMINAL','REFERS','RE-ROUTED TO YELLOW','RE ROUTE BACK TO BLUE LANE','REFER TO VALUATION.','YOU MAY WISH TO PROCEED ACCORDINGLY','YOU MAY WISH TO CONTINUE','RECEIPT NOT','MODIFIED TO PAY','VAT PAYMENT','REASSIGNED.','AGAINST','RE ASSIGNED','RELEASD','RE-CONFIRM','RE ASSIGNED','YOU MAUY WISH TO PROCEED','PAY','RE ASSIGNED TO EXAMINER','. REFERED TO EXAMINER.','REFERRED TO VALUATION',',YOU MAY WISH TO TAKE FURTHER NECESSARY ACTION AFTER PAYMENT CONFIRMATION.','MODIFUICATION DONE',',ISSUED AND PAID','RE ASSIGNED','. RE-ROUTED TO TERMINAL.','.RE-ROUTED TO TERMINAL.','RE-ROUTED TO TERMINAL.','YOU MAY WISH','QUERY','FOR FUTHER ACTION','MODIFICATION','ADDING',',REFER','RE-ROUTED TO THE TERMINAL','.REFERRED','RE-ASSIGNED TO YELLOW','.CPC REFERRED.','RE-ROUTE TO BLUE LANE','RE-ROUTED','REALLOCATED','. CPC REFEERED','.REFER','. REFER','INSPECTION','CODE AMENDED','ADDITIONAL ITEM CREATED TO PAY','WRONG CLASSIFICATION',',YOU MAY WISH TO TAKE','CPC REFFERED','REFERRED TO CPC','RE-ASSIGNED','RE-ASSIGN','D/N RAISED','YOU MAY PROCEED ACCORDINGLY.','RAISED','.RELEASE AUHTORISED','YOU MAY WISH TO PROCEED AFTER PAYMENT CONFIRMATION.','POST MODIFICATION','VALUATION ASSESSEMENT','RE-ALLOCATED','REFERRE','VALUATION ASSESSEMENT','YOU MAY PROCEED AFTER CONFIRMATION OF PAYMENT','REFER','VALAUTION','. VALUATION','CHECK','NOT BEEN PAID','VAL','VAL ASMT.','REFFERRED','YOU MAY WISH TO PROCEED','CHANGE','ROU']\n",
    "\n",
    "def sleeper2(x,each):\n",
    "    try:\n",
    "        if each.lower() in x.lower():\n",
    "            return True\n",
    "    except:\n",
    "#         print(x,'this is it \\n')\n",
    "        pass\n",
    "    return False\n",
    "targ = targ2.copy()    \n",
    "for each in ones+zeros:\n",
    "#     targ.INSPECTION_ACT = targ.INSPECTION_ACT.apply(lambda x: sleeper(x,each))\n",
    "    targ.drop(targ[targ.INSPECTION_ACT.apply(lambda x: sleeper2(x,each))].index, inplace=True)\n",
    "targ.to_csv('labels1.csv',index=False)"
   ]
  },
  {
   "cell_type": "code",
   "execution_count": 240,
   "metadata": {},
   "outputs": [
    {
     "output_type": "execute_result",
     "data": {
      "text/plain": "(532, 2)"
     },
     "metadata": {},
     "execution_count": 240
    }
   ],
   "source": [
    "targ.shape"
   ]
  },
  {
   "cell_type": "code",
   "execution_count": 183,
   "metadata": {},
   "outputs": [
    {
     "output_type": "execute_result",
     "data": {
      "text/plain": "(2218, 2)"
     },
     "metadata": {},
     "execution_count": 183
    }
   ],
   "source": [
    "targ.shape"
   ]
  },
  {
   "cell_type": "code",
   "execution_count": 242,
   "metadata": {},
   "outputs": [
    {
     "output_type": "execute_result",
     "data": {
      "text/plain": "True"
     },
     "metadata": {},
     "execution_count": 242
    }
   ],
   "source": [
    "'exam' in 'examiner exam'"
   ]
  },
  {
   "cell_type": "code",
   "execution_count": 10,
   "metadata": {},
   "outputs": [
    {
     "data": {
      "text/plain": [
       "(1075640,)"
      ]
     },
     "execution_count": 10,
     "metadata": {},
     "output_type": "execute_result"
    }
   ],
   "source": [
    "target1.INSPECTION_ACT.unique().shape"
   ]
  },
  {
   "cell_type": "code",
   "execution_count": 5,
   "metadata": {},
   "outputs": [
    {
     "data": {
      "text/plain": [
       "(1074121,)"
      ]
     },
     "execution_count": 5,
     "metadata": {},
     "output_type": "execute_result"
    }
   ],
   "source": [
    "target1.INSPECTION_ACT.unique().shape"
   ]
  },
  {
   "cell_type": "code",
   "execution_count": 59,
   "metadata": {},
   "outputs": [
    {
     "data": {
      "text/plain": [
       "0          BASED ON DN PAID, RELEASE AUTHORISED. 43224 AC...\n",
       "1          BASED ON DN PAID, RELEASE AUTHORISED. 43224 AC...\n",
       "2          BASED ON DN PAID, RELEASE AUTHORISED. 43224 AC...\n",
       "3          BASED ON DN PAID, RELEASE AUTHORISED. 43224 AC...\n",
       "4          BASED ON DN PAID, RELEASE AUTHORISED. 43224 AC...\n",
       "                                 ...                        \n",
       "6778492                                      PAAR PERFECTION\n",
       "6778493                                      PAAR PERFECTION\n",
       "6778494    ONE (01)PKG ON ABW NO 615-2752-2670 FTC ROTARY...\n",
       "6778495    ONE (01)PKG ON ABW NO 615-2752-2670 FTC ROTARY...\n",
       "6778496    ONE (01)PKG ON ABW NO 615-2752-2670 FTC ROTARY...\n",
       "Name: INSPECTION_ACT, Length: 6778497, dtype: object"
      ]
     },
     "execution_count": 59,
     "metadata": {},
     "output_type": "execute_result"
    }
   ],
   "source": [
    "new_dataset2['INSPECTION_ACT'].unique().shape"
   ]
  },
  {
   "cell_type": "code",
   "execution_count": 41,
   "metadata": {},
   "outputs": [
    {
     "data": {
      "text/plain": [
       "16         ONE USED MACK TRUCK CHNO;1M2N179Y0HA006368 198...\n",
       "17         ONE USED HONDA ACCORD MODEL 2013 CH. N0.1HGCR2...\n",
       "18         ONE USED H.ACORD 2003 CH:JHMC56623C049924.236,...\n",
       "19         DN RAISED BASED ON WRONG CLASIFICATION ON ITEM...\n",
       "20         DN RAISED BASED ON WRONG CLASIFICATION ON ITEM...\n",
       "                                 ...                        \n",
       "6778492                                      PAAR PERFECTION\n",
       "6778493                                      PAAR PERFECTION\n",
       "6778494    ONE (01)PKG ON ABW NO 615-2752-2670 FTC ROTARY...\n",
       "6778495    ONE (01)PKG ON ABW NO 615-2752-2670 FTC ROTARY...\n",
       "6778496    ONE (01)PKG ON ABW NO 615-2752-2670 FTC ROTARY...\n",
       "Name: INSPECTION_ACT, Length: 6778481, dtype: object"
      ]
     },
     "execution_count": 41,
     "metadata": {},
     "output_type": "execute_result"
    }
   ],
   "source": [
    "target1.INSPECTION_ACT.iloc[16:]"
   ]
  },
  {
   "cell_type": "code",
   "execution_count": 43,
   "metadata": {},
   "outputs": [
    {
     "data": {
      "text/plain": [
       "' B'"
      ]
     },
     "execution_count": 43,
     "metadata": {},
     "output_type": "execute_result"
    }
   ],
   "source": [
    "'\\n \\n\\nB'.replace('\\n','')"
   ]
  },
  {
   "cell_type": "code",
   "execution_count": 22,
   "metadata": {},
   "outputs": [
    {
     "ename": "NameError",
     "evalue": "name 'new_dataset' is not defined",
     "output_type": "error",
     "traceback": [
      "\u001b[0;31m---------------------------------------------------------------------------\u001b[0m",
      "\u001b[0;31mNameError\u001b[0m                                 Traceback (most recent call last)",
      "\u001b[0;32m<ipython-input-22-85e5974c50ec>\u001b[0m in \u001b[0;36m<module>\u001b[0;34m\u001b[0m\n\u001b[1;32m      1\u001b[0m \u001b[0;31m#Replace Some Values\u001b[0m\u001b[0;34m\u001b[0m\u001b[0;34m\u001b[0m\u001b[0;34m\u001b[0m\u001b[0m\n\u001b[0;32m----> 2\u001b[0;31m \u001b[0mnew_dataset\u001b[0m\u001b[0;34m.\u001b[0m\u001b[0mreplace\u001b[0m\u001b[0;34m(\u001b[0m\u001b[0;34m'\\n'\u001b[0m\u001b[0;34m,\u001b[0m\u001b[0;34m''\u001b[0m\u001b[0;34m,\u001b[0m\u001b[0minplace\u001b[0m\u001b[0;34m=\u001b[0m\u001b[0;32mTrue\u001b[0m\u001b[0;34m)\u001b[0m\u001b[0;34m\u001b[0m\u001b[0;34m\u001b[0m\u001b[0m\n\u001b[0m",
      "\u001b[0;31mNameError\u001b[0m: name 'new_dataset' is not defined"
     ]
    }
   ],
   "source": [
    "#Replace Some Values\n",
    "new_dataset.replace('\\n','',inplace=True)"
   ]
  },
  {
   "cell_type": "code",
   "execution_count": 4,
   "metadata": {},
   "outputs": [],
   "source": [
    "new_dataset = new_dataset2.replace(':-','')"
   ]
  },
  {
   "cell_type": "code",
   "execution_count": 5,
   "metadata": {},
   "outputs": [],
   "source": [
    "new_dataset = new_dataset.replace(':','')"
   ]
  },
  {
   "cell_type": "code",
   "execution_count": 6,
   "metadata": {},
   "outputs": [],
   "source": [
    "new_dataset = new_dataset.replace('-','')"
   ]
  },
  {
   "cell_type": "code",
   "execution_count": 7,
   "metadata": {},
   "outputs": [],
   "source": [
    "new_dataset = new_dataset.replace(',','')"
   ]
  },
  {
   "cell_type": "code",
   "execution_count": 8,
   "metadata": {},
   "outputs": [],
   "source": [
    "new_dataset = new_dataset.replace('.','')"
   ]
  },
  {
   "cell_type": "code",
   "execution_count": 9,
   "metadata": {},
   "outputs": [],
   "source": [
    "new_dataset = new_dataset.replace(' \\n','')"
   ]
  },
  {
   "cell_type": "code",
   "execution_count": 10,
   "metadata": {},
   "outputs": [],
   "source": [
    "new_dataset = new_dataset.replace(' \\n ','')"
   ]
  },
  {
   "cell_type": "code",
   "execution_count": 10,
   "metadata": {},
   "outputs": [
    {
     "data": {
      "text/plain": [
       "array(['1/4', '2/4', '3/4', ..., '126/292', '125/292', '124/292'],\n",
       "      dtype=object)"
      ]
     },
     "execution_count": 10,
     "metadata": {},
     "output_type": "execute_result"
    }
   ],
   "source": [
    "data1.ITM_NUM.unique()"
   ]
  },
  {
   "cell_type": "code",
   "execution_count": 4,
   "metadata": {},
   "outputs": [
    {
     "data": {
      "text/plain": [
       "array(['BASED ON DN PAID, RELEASE AUTHORISED. 43224 AC IKOR,G.N',\n",
       "       'ONE USED TOYOTA COROLLA 2007 CH NO. 2T1BR30E07C750509.\\nEXAMINED BY 40811 ASC1 ABORISADE,E.O.\\nRELSD BY 39405 AC CHOKOR,O.R.',\n",
       "       'ONE USED 2008 HONDA ACCORD CHS 1HGCP26338A011474, EXAMINED. SATISFIED \\nAS ENTERED . 39495 AC ATOLAGBE, F',\n",
       "       ...,\n",
       "       '1x40FT.CONT.NO: PCIU8589725 WAS IDENTIFIED, OPENED & EXAMINED BY:\\n44866 ASCI ISE, P.E WITH CIU & OTHER RELEVANT AGENCIES, & FTC: 1000PKGS \\nOF DISC HARROW FOR AGRICULTUE & 692PKGS OF PURE WATER MACHINERY.\\n\\nRELEASE AUTHOURISED.',\n",
       "       '0X20FT CONT. NO.CAIU 6266221, MRKU 7720557 , WAS JOINTLY EXAMINED BY 38652 SC IBRAHIM G.K  ,50525 ASC 1 KABIRU M,  AND THEIR EXAMINATION TEAM WITH OTHER RELEVANT AGENCIES IN DON CLIMAX BONDED TERMINAL AND STC\\n(1) 583 PKGS OF BAKING POWDER.\\n(2) 624 PKGS OF FLOUR MEAL POWDER.\\n(3) 583 PKGS OF BUTTER MILK POWDER.\\nBASED ON REPOR ABOVE,36200 AC UDUKOMOSE,B.P RELEASED.\\n\\n',\n",
       "       'ONE (01)PKG ON ABW NO 615-2752-2670 FTC ROTARY BRUSH \\n( GROOVE SHAFT  10PCS, RETAING RING 10PCS, OIL SEAL 10PCS, MACHINE SCREW 10PCS, BUSH SHAFT 15PCS ).\\nEXAMS CONDUCTED BY 41593 SC NWAKWO,N,O.\\nBASED ON EXAMS REPORT,RELEASE AUTHORISED. '],\n",
       "      dtype=object)"
      ]
     },
     "execution_count": 4,
     "metadata": {},
     "output_type": "execute_result"
    }
   ],
   "source": [
    "# col_ins = data1[['INSPECTION_ACT']]\n",
    "# grouped = col_ins.groupby('INSPECTION_ACT')\n",
    "# pd.DataFrame(grouped.groups(),columns=['INSPECTION_ACT'])\n",
    "new_dataset.INSPECTION_ACT.unique()"
   ]
  },
  {
   "cell_type": "code",
   "execution_count": 28,
   "metadata": {},
   "outputs": [
    {
     "data": {
      "text/plain": [
       "{'\\n\\n\\n\\n\\n\\n\\n\\n\\n\\n\\n\\n\\n\\n\\n\\n\\n\\n\\n\\n\\n\\n\\n\\n\\n\\n\\n\\n\\n\\n\\n\\n\\n\\n\\n\\n\\n\\n\\n\\n\\n\\n\\n\\n\\n\\n\\n\\n\\n\\n\\n\\n\\n\\n\\n\\n.': Int64Index([1805320, 1805321, 1805322, 1805323, 1805324, 1805325, 1805326,\n",
       "             1805327, 1805328, 1805329, 1805330, 1805331],\n",
       "            dtype='int64'),\n",
       " '\\n\\n\\n\\n\\n\\n\\n\\n\\n\\n\\n\\n\\n\\n\\n\\n\\n\\n\\n\\n\\n\\n\\n\\n\\n\\n\\n\\n\\n\\n\\n\\n\\n\\n\\n\\n\\n\\n\\n\\n\\n\\n\\n\\n\\n\\n\\n\\n\\n\\n\\n\\n\\n\\n\\nD/N OF =N=80,829.00 PAID VIDE DIAMOND BANK PLC RECEIPT NUMBER:006311092018001358.RELEASE RECOMMENDED BASED ON EXM.REPORT AND PAYMENT ABOVE.\\n\\n\\n\\n\\n\\n\\n': Int64Index([3409112, 3409113, 3409114, 3409115, 3409116, 3409142, 3409143,\n",
       "             3409144, 3409145, 3409146],\n",
       "            dtype='int64'),\n",
       " '\\n\\n\\n\\n\\n\\n\\n\\n\\n\\n\\n\\n\\n\\n\\n\\n\\n\\n\\n\\n\\n\\n\\n\\n\\n\\n\\n\\n\\n\\n\\n\\n\\n\\n\\nRELEASE AUTHORIED.43228 AC EKEOCHA.F.N (MRS).': Int64Index([551170, 551171, 551172, 551173, 551174, 551175, 551176, 551177,\n",
       "             551178, 551179, 551180, 551181, 551182, 551183, 551184],\n",
       "            dtype='int64'),\n",
       " '\\n\\n\\n\\n\\n\\n\\nRELEASE AUTHORISED.43228 AC EKEOCHA.F.N (MRS).': Int64Index([ 520068,  520069,  520070,  520071,  520072,  520073,  520074,\n",
       "              520075,  520076,  520077,  520078,  570647,  570648, 1374274,\n",
       "             1374275, 1374276, 1374277, 1374278, 1374279, 1374280, 1374281,\n",
       "             1374282, 1374283, 1374306, 1374307, 1374317, 1374318, 1374319,\n",
       "             1374320, 1374321, 1448015, 1448016, 1448017, 1448018, 1448019,\n",
       "             1448020, 1448044, 1448045, 1448046, 1448047, 1448048, 1448049,\n",
       "             1448050, 1448051, 1448052, 1448053, 1448054, 3280873, 3280874,\n",
       "             3280884, 3280885, 3280886, 3280887, 3280888],\n",
       "            dtype='int64'),\n",
       " '\\n\\n\\n\\n\\n\\nRELEASE AUTHORISED.43228 AC EKEOCHA.F.N (MRS).': Int64Index([ 499669,  499670,  499671,  499672,  499673, 2740427, 2740428,\n",
       "             2740429, 2740430, 2740431, 2740432, 2740474, 2740475, 2740476,\n",
       "             2740477, 2740478, 2740514, 2740515, 2740516, 2740517, 2740518],\n",
       "            dtype='int64'),\n",
       " '\\n\\n\\n\\n\\n\\nTWELF (12) PACKAGES MADE UP OF FOUR BOXES AND EIGHT PIECES JOINTLY \\nEXAMINED BY 34671, SC, JAAFARU U (MRS); 41558, DSC, MOHAMMED G.I Pjsc;\\n42842, ASCII, ONAPITAN A.F. AND FTC INDUSTRIAL GAS COMPRESSOR \\nASSEMBLY WITH THE ACCESSORIES. SGD RELEASED BY 39409 DC EBEATU P.N. \\n\\n\\n\\n\\n\\n\\n': Int64Index([810143, 810144], dtype='int64'),\n",
       " '\\n\\n\\n\\nONE USED TOYOTA CAMRY 2003 MODEL WITH CHASSIS NO:- 4T1BE32K72U633628\\nIDENTIFIED AND EXAMINED BY  34714 DSC SULEIMAN M AND 52867, ASCII, AKINLOYE,K.Y.\\nRELEASED\\n': Int64Index([2528649, 2528650, 2528651], dtype='int64'),\n",
       " '\\n\\n\\n\\nSEVEN[7] PKGS OF INDUSTRIAL MACHINERY PARTS,OPENED,EXAMINED AND FTC\\nPKG 1  RADIATOR ASSY---1 PC..PKG 2--REPAIR KITS GEAR PUMP--1 PC\\nPKG 3  GENERATOR PULSE,RETAINER OIL SEAL--2 PCS,\\nPKG 4--CABLE INCHING--1 PC,WHEEL CYLINDER ASSY--1 PC,CABLE THROTLE \\n               2PCS.\\nPKG 5--HOSE RUBBER -1 PC,GASKET 1 PC,MAIN GASKET CIV ASSY--1 PC,GASKET\\n            SHIFT VALVE--1 PC\\nPKG 6--HOSE RUBBER --3 PCS,KIT WHEEL CYLINDER--2 PCS,CUSHIN--1 PC\\nPKG 7  --RADIATOR--2 PCS,CABLE THROTLE--2 PCS,SEAL,OIL FRONT AXXLE--2 P\\n              WITH PAAR NO BE20180885185/001 OF 4/9/18  ON AWB NO  615258230\\nEXAMINATION CONDUCTED BY 42347 CSC LAWRENCE A O\\nSGD REFERS TO Q&A\\n\\n': Int64Index([3153221, 3153240, 3153241, 3153242, 3153243, 3153244, 3153245,\n",
       "             3153261, 3153262, 3153263, 3153264, 3153265, 3153284, 3153285,\n",
       "             3153286, 3153287, 3153288, 3153289],\n",
       "            dtype='int64'),\n",
       " '\\n\\n\\n222\\n': Int64Index([1727619, 1727620, 1727621, 1727631, 1727632, 1727633, 1727643,\n",
       "             1727644, 1727645, 1727661, 1727662, 1727663, 1727664, 1727665,\n",
       "             1727666],\n",
       "            dtype='int64'),\n",
       " '\\n\\n\\nC/EXAMINER, BASED ON PAAR, B/L AND EXAM REPORT,\\n HS CODE IS CONSIDERED \\nCORRECTLY ENTERED, YOU MAY WISH TO TFNA, PLS': Int64Index([1816021, 1816022, 1816023, 1816024, 1816025], dtype='int64'),\n",
       " '\\n\\n\\nC/EXAMINER, BASED ON PAAR, B/L AND EXAM REPORT, \\nHS CODE IS CONSIDERED\\n CORRECTLY ENTERED, YOU MAY WISH TO TFNA, PLS': Int64Index([2556314, 2556315, 2556316, 2556317, 2556318], dtype='int64'),\n",
       " '\\n\\n\\nC/EXAMINER, YOU MAY WISH TO TAKE FURTHER ACTION AFTER PAYMENT PLS': Int64Index([605762, 605763, 605764, 605765, 605766, 605767, 605768, 605769,\n",
       "             605770, 605771],\n",
       "            dtype='int64'),\n",
       " '\\n\\n\\nC/EXAMINER, YOU MAY WISH TO TFNA, PLS\\n': Int64Index([2534184, 2534185, 2534186, 2534187, 2534188, 2534204, 2534205,\n",
       "             2534206, 2534207, 2534208],\n",
       "            dtype='int64'),\n",
       " '\\n\\n\\nONE  USED LEXUS RX300 2004 MODEL WITH CHASSIS NO:- JT6HF10U8Y060995\\nIDENTIFIED AND EXAMINED BY  34714 DSC SULEIMAN M AND 40623, ASCII, ABDULMALIK, I\\nRELEASED': Int64Index([205359, 205360, 205361], dtype='int64'),\n",
       " '\\n\\n\\nONE 1 USED FORD ECONOLINE BUS 2006 MODEL WITH CHASSIS NO:- 1FDXE45S26HA11959\\nIDENTIFIED AND EXAMINED BY  34714 DSC SULEIMAN M AND 49798 ,ASCI, SIDI,M.M.\\nRELEASED': Int64Index([1983669, 1983670, 1983671], dtype='int64'),\n",
       " '\\n\\n\\nONE ONE USED MERCEDES BENZ E300 2009 MODEL WITH CHASSIS NO:- CH: WDBUF87X19B405785\\nIDENTIFIED AND EXAMINED BY  34714 DSC SULEIMAN M AND 44267,ASCII, AKINLADE,O.E\\nREFER TO VALUATION': Int64Index([2065172, 2065173, 2065174], dtype='int64'),\n",
       " '\\n\\n\\nONE USED  HONDA ACCORD 2007 MODEL WITH CHASSIS NO:1HGCM563X7A213334\\nIDENTIFIED AND EXAMINED BY  41814,CSC,ADESHINA,J.O AND 34714 DSC SULEIMAN M. \\nRELEASED': Int64Index([3125281, 3125282, 3125283], dtype='int64'),\n",
       " '\\n\\n\\nONE USED  LEXUS GS 350 2008 MODEL WITH CHASIS NO:- CHASS:  JTHBE96S680028533\\nIDENTIFIED AND EXAMINED BY-34714,DSC,SULEIMAN,M AND 49798, ASCI,SIDI \\nRELEASED': Int64Index([122624, 122625, 122626], dtype='int64'),\n",
       " '\\n\\n\\nONE USED ACURA TSX 2006 MODEL WITH CHASSIS NO:- JH4CL969X6C026058\\nIDENTIFIED AND EXAMINED BY  34714 DSC SULEIMAN M AND 40623, ASCII, ABDULMALIK, I\\nRELEASED': Int64Index([2602697, 2602698, 2602699], dtype='int64'),\n",
       " '\\n\\n\\nONE USED FORD EXPLORER  2004 MODEL WITH CHASSIS NO;-ZU77K94UA56332\\nIDENTIFIED AND EXAMINED BY-34714,DSC,SULEIMAN,M AND 49798, ASCI,SIDI \\nRELEASED': Int64Index([2474100, 2474101, 2474102], dtype='int64'),\n",
       " '\\n\\n\\nONE USED FORD EXPLORER 2003 MODEL WITH CHASSIS NO:- 1FMZU67E51UB90383\\nIDENTIFIED AND EXAMINED BY  34714 DSC SULEIMAN M AND 44267,ASCII, AKINLADE,O.E\\nRELEASED': Int64Index([2723546, 2723547, 2723548], dtype='int64'),\n",
       " '\\n\\n\\nONE USED HONDA ACCORD 2004 MODEL WITH CHASSIS NO:- 1HGCM66845A074154\\nIDENTIFIED AND EXAMINED BY  34714 DSC SULEIMAN M AND 52867, ASCII, AKINLOYE,K.Y.\\nRELEASED': Int64Index([3020615, 3020616, 3020617], dtype='int64'),\n",
       " '\\n\\n\\nONE USED HONDA ACCORD 2007 MODEL WITH CHASSIS NO:- CH:1HGCM56867A089641\\nIDENTIFIED AND EXAMINED BY  34714 DSC SULEIMAN M AND 52867, ASCII, AKINLOYE,K.Y.\\nRELEASED': Int64Index([153524, 153525, 153526], dtype='int64'),\n",
       " '\\n\\n\\nONE USED HONDA ACCORD 2010 MODEL WITH CHASSIS NO:- 1HGCP2F35AA119889\\nIDENTIFIED AND EXAMINED BY  34714 DSC SULEIMAN M AND 52867, ASCII, AKINLOYE,K.Y.\\nRELEASED': Int64Index([149558, 149559, 149560], dtype='int64'),\n",
       " '\\n\\n\\nONE USED HONDA ACCORD 2012 MODEL WITH CHASSIS NO:- 1HGCP2F32CA160631\\nIDENTIFIED AND EXAMINED BY  34714 DSC SULEIMAN M AND 52867, ASCII, AKINLOYE,K.Y.\\nRELEASED\\n': Int64Index([2778606, 2778607, 2778608], dtype='int64'),\n",
       " '\\n\\n\\nONE USED LEXUS ES 350 2007 MODEL WITH CHASSIS N;- THBJ46G972108339\\nIDENTIFIED, AND EXAMINED BY-  34714,DSC,SULEIMAN AND 44267, ASCII,AKINLADE,O.E\\nRELEASED.': Int64Index([1816383, 1816384, 1816385], dtype='int64'),\n",
       " '\\n\\n\\nONE USED LEXUS GX 470 2004 MODEL WITH CHASSIS NO:- CH:JTJBT20X740026378\\nIDENTIFIED AND EXAMINED BY  34714 DSC SULEIMAN M AND 49798 ,ASCI, SIDI,M.M.\\nRELEASED': Int64Index([138207, 138208, 138209], dtype='int64'),\n",
       " '\\n\\n\\nONE USED LEXUS GX470 (ACC) 2006 MODEL WITH CHASSIS NO:- JTJBT20X060103417\\nIDENTIFIED AND EXAMINED BY  34714 DSC SULEIMAN M AND 52867, ASCII, AKINLOYE,K.Y.\\nREFER TO CPC': Int64Index([157940, 157941, 157942], dtype='int64'),\n",
       " '\\n\\n\\nONE USED LEXUS RX330 2003 MODEL WITH CHASIS NO:- CH: 2T2HA31U04C018864\\nIDENTIFIED AND EXAMINED BY-34714,DSC,SULEIMAN,M AND 44267, ASCII, AKINLADE, O.E\\nRELEASED\\n': Int64Index([1229478, 1229479, 1229480], dtype='int64'),\n",
       " '\\n\\n\\nONE USED LEXUS RX330 2004 MODEL WITH CHASSIS NO:- JTJHA31U340029692\\nIDENTIFIED AND EXAMINED BY  34714 DSC SULEIMAN M AND 49798 ,ASCI, SIDI,M.M.\\nRELEASED': Int64Index([2192414, 2192415, 2192416], dtype='int64'),\n",
       " '\\n\\n\\nONE USED M/BENZ 2003 MODEL WITH CHASSIS NO:- WDB2030461A395470\\nIDENTIFIED AND EXAMINED BY  34714 DSC SULEIMAN M AND 52867, ASCII, AKINLOYE,K.Y.\\nRELEASED': Int64Index([3279270, 3279271, 3279272], dtype='int64'),\n",
       " '\\n\\n\\nONE USED MERCEDES BENZ C230 {ACC] 2003 MODEL WITH CHASSIS NO:- WDBRF40J03F375036\\nIDENTIFIED AND EXAMINED BY  34714 DSC SULEIMAN M AND 52867, ASCII, AKINLOYE,K.Y.\\nRELEASED\\n': Int64Index([2868954, 2868955, 2868956], dtype='int64'),\n",
       " '\\n\\n\\nONE USED MERCEDES BENZ ML320 2003 MODEL WITH CHASSIS NO:- 4JGAB54E0XA067330\\nIDENTIFIED AND EXAMINED BY  34714 DSC SULEIMAN M AND 44267,ASCII, AKINLADE,O.E\\nRELEASED': Int64Index([1817134, 1817135, 1817136], dtype='int64'),\n",
       " '\\n\\n\\nONE USED MERCEDES BENZ ML350 2003 MODEL WITH CHASSIS NO:- 4JGAB54E31A225442\\nIDENTIFIED AND EXAMINED BY  34714 DSC SULEIMAN M AND 52867, ASCII, AKINLOYE,K.Y.\\nRELEASED': Int64Index([2068180, 2068181, 2068182], dtype='int64'),\n",
       " '\\n\\n\\nONE USED PONTIAC VIBE 2003 MODEL WITH CHASSIS NO:5Y2SM62843Z473564\\nIDENTIFIED AND EXAMINED BY  41814,CSC,ADESHINA,J.O AND 34714 DSC SULEIMAN M. \\nRELEASED': Int64Index([221441, 221442, 221443], dtype='int64'),\n",
       " '\\n\\n\\nONE USED PONTIAC VIBE 2004 MODEL WITH CHASSIS NO:- CH. 5Y2SL62874Z449067\\nIDENTIFIED AND EXAMINED BY  34714 DSC SULEIMAN M AND 52867, ASCII, AKINLOYE,K.Y.\\nRELEASED\\n': Int64Index([133528, 133529, 133530], dtype='int64'),\n",
       " '\\n\\n\\nONE USED PONTIAC VIBE 2005 MODEL WITH CHASIS NO:- 5Y2SM63865Z440700\\nIDENTIFIED AND EXAMINED BY-34714,DSC,SULEIMAN,M AND 49798, ASCI,SIDI \\nRELEASED': Int64Index([2617462, 2617463, 2617464], dtype='int64'),\n",
       " '\\n\\n\\nONE USED TOYOTA 4-RUNNER 2004 MODEL WITH CHASSIS NO:- CH: JTEZU14RX40027699\\nIDENTIFIED AND EXAMINED BY  34714 DSC SULEIMAN M AND 52867, ASCII, AKINLOYE,K.Y.\\nRELEASED\\n': Int64Index([134357, 134358, 134359], dtype='int64'),\n",
       " '\\n\\n\\nONE USED TOYOTA AVALON 2005 MODEL WITH CHASSIS NO:- 4T1BK36B35U056989\\nIDENTIFIED AND EXAMINED BY  34714 DSC SULEIMAN M AND 44267,ASCII, AKINLADE,O.E\\nRELEASED': Int64Index([3302945, 3302946, 3302947], dtype='int64'),\n",
       " '\\n\\n\\nONE USED TOYOTA CAMRY 2003 MODEL WITH CHASSIS NO:- 4T1BG28K7XU591352\\nIDENTIFIED AND EXAMINED BY  34714 DSC SULEIMAN M AND 44267,ASCII, AKINLADE,O.E\\nRELEASED': Int64Index([130400, 130401, 130402], dtype='int64'),\n",
       " '\\n\\n\\nONE USED TOYOTA CAMRY 2003 WITH CHASSIS NO:4T1BF32K23U542863 \\nIDENTIFIED AND EXAMINED BY  34714 DSC SULEIMAN M. AND 44267, ASCII, AKINLADE,O.E \\nRELEASED\\n ': Int64Index([2891273, 2891274, 2891275], dtype='int64'),\n",
       " '\\n\\n\\nONE USED TOYOTA CAMRY 2004 MODEL WITH CHASIS NO:- 4T1BE32K14U266244\\nIDENTIFIED AND EXAMINED BY-34714,DSC,SULEIMAN,M AND 44267, ASCII, AKINLADE, O.E\\nRELEASED\\n': Int64Index([2474959, 2474960, 2474961], dtype='int64'),\n",
       " '\\n\\n\\nONE USED TOYOTA CAMRY 2007 MODEL WITH CHASIS NO:- 4T1BE46K37U595869\\nIDENTIFIED AND EXAMINED BY-34714,DSC,SULEIMAN,M AND 44267, ASCII, AKINLADE, O.E\\nRELEASED\\n': Int64Index([1563154, 1563155, 1563156], dtype='int64'),\n",
       " '\\n\\n\\nONE USED TOYOTA CAMRY 2007 MODEL WITH CHASIS NO:- 4T1BK46KX7U025151\\nIDENTIFIED AND EXAMINED BY-34714,DSC,SULEIMAN,M AND 49798, ASCI,SIDI \\nRELEASED': Int64Index([2789907, 2789908, 2789909], dtype='int64'),\n",
       " '\\n\\n\\nONE USED TOYOTA CAMRY 2010 WITH CHASSIS NO:CH:  4T1BF3EK8AU007223 \\nIDENTIFIED AND EXAMINED BY  34714 DSC SULEIMAN M. AND 52867, ASCII, AKINLOYE, K.Y\\nRELEASED': Int64Index([1656295, 1656296, 1656297], dtype='int64'),\n",
       " '\\n\\n\\nONE USED TOYOTA CAMRY 2012 MODEL WITH CHASSIS NO:- 1HGCP2F31CA056731\\nIDENTIFIED AND EXAMINED BY  34714 DSC SULEIMAN M AND 52867, ASCII, AKINLOYE,K.Y.\\nRELEASED\\n': Int64Index([3439202, 3439203, 3439204], dtype='int64'),\n",
       " '\\n\\n\\nONE USED TOYOTA COROLLA 2003 MODEL WITH CHASSIS N;- JTDBR32E830605203\\nIDENTIFIED, AND EXAMINED BY-  34714,DSC,SULEIMAN AND 52867, ASC11, AKINLOYE,K.Y\\nRELEASED.': Int64Index([2148952, 2148953, 2148954], dtype='int64'),\n",
       " '\\n\\n\\nONE USED TOYOTA COROLLA 2003 MODEL WITH CHASSIS NO:- 1NXBR38E73Z046921\\nIDENTIFIED AND EXAMINED BY  34714 DSC SULEIMAN M AND 40923, ASCII, ABDULMALIK,I': Int64Index([171777, 171778, 171779], dtype='int64'),\n",
       " '\\n\\n\\nONE USED TOYOTA COROLLA 2004 MODEL WITH CHASIS NO:- 2T1BR32E14C186359\\nIDENTIFIED AND EXAMINED BY-34714,DSC,SULEIMAN,M AND 44267, ASCII, AKINLADE, O.E\\nRELEASED\\n': Int64Index([1617124, 1617125, 1617126], dtype='int64'),\n",
       " '\\n\\n\\nONE USED TOYOTA COROLLA 2004 MODEL WITH CHASSIS N;- JTDBR32E040052839\\nIDENTIFIED, AND EXAMINED BY-  34714,DSC,SULEIMAN AND 52867, ASC11, AKINLOYE,K.Y\\nRELEASED.': Int64Index([120338, 120339, 120340], dtype='int64'),\n",
       " '\\n\\n\\nONE USED TOYOTA COROLLA 2005 MODEL WITH CHASSIS NO:- 1NXBR32EX5Z515544\\nIDENTIFIED AND EXAMINED BY  34714 DSC SULEIMAN M AND 44267,ASCII, AKINLADE,O.E\\nRELEASED': Int64Index([143045, 143046, 143047], dtype='int64'),\n",
       " '\\n\\n\\nONE USED TOYOTA COROLLA 2005 MODEL WITH CHASSIS NO:- 2T1BR32E65C472273\\nIDENTIFIED AND EXAMINED BY  34714 DSC SULEIMAN M AND 52867, ASCII, AKINLOYE,K.Y.\\nRELEASED\\n': Int64Index([136847, 136848, 136849], dtype='int64'),\n",
       " '\\n\\n\\nONE USED TOYOTA COROLLA 2005 MODEL WITH CHASSIS NO:- INXBR32E95Z409943\\nIDENTIFIED AND EXAMINED BY  34714 DSC SULEIMAN M AND 49798 ,ASCI, SIDI,M.M.\\nRELEASED': Int64Index([1563139, 1563140, 1563141], dtype='int64'),\n",
       " '\\n\\n\\nONE USED TOYOTA COROLLA 2007 MODEL WITH CHASSIS NO:- INXBR32E57Z800297\\nIDENTIFIED AND EXAMINED BY  34714 DSC SULEIMAN M AND 52867, ASCII, AKINLOYE,K.Y.\\nRELEASED\\n': Int64Index([1230044, 1230045, 1230046], dtype='int64'),\n",
       " '\\n\\n\\nONE USED TOYOTA COROLLA 2009 MODEL (ACC)WITH CHASSIS NO:- JTDBL40E799066122\\nIDENTIFIED AND EXAMINED BY  34714 DSC SULEIMAN M AND 44267,ASCII, AKINLADE,O.E\\nREFER TO VALUATION\\n': Int64Index([88771, 88772, 88773], dtype='int64'),\n",
       " '\\n\\n\\nONE USED TOYOTA COROLLA 2010 MODEL WITH CHASSIS NO:JTDBU4EE0AJ058890\\nIDENTIFIED AND EXAMINED BY  34714 DSC SULEIMAN M. AND 52867, ASCII, AKINLOYE, K.Y\\nRELEASED': Int64Index([2318564, 2318565], dtype='int64'),\n",
       " '\\n\\n\\nONE USED TOYOTA HIGHLANDER 2003 MODEL WITH CHASSIS NO:- JTEHF21820058614\\nIDENTIFIED AND EXAMINED BY  34714 DSC SULEIMAN M AND 52867, ASCII, AKINLOYE,K.Y.\\nRELEASED': Int64Index([1394313, 1394314, 1394315], dtype='int64'),\n",
       " '\\n\\n\\nONE USED TOYOTA HIGHLANDER 2004 MODEL WITH CHASIS NO:- CHASS: JTEDP21AX60109389\\nIDENTIFIED AND EXAMINED BY-34714,DSC,SULEIMAN,M AND 49798, ASCI,SIDI \\nRELEASED': Int64Index([129278, 129279, 129280], dtype='int64'),\n",
       " '\\n\\n\\nONE USED TOYOTA HIGHLANDER 2004 MODEL WITH CHASIS NO:- JTEDP21A940022063\\nIDENTIFIED AND EXAMINED BY-34714,DSC,SULEIMAN,M AND 44267, ASCII, AKINLADE, O.E\\nRELEASED\\n': Int64Index([3302253, 3302254, 3302255], dtype='int64'),\n",
       " '\\n\\n\\nONE USED TOYOTA HIGHLANDER 2004 MODEL WITH CHASIS NO:- JTEEP21A840026318\\nIDENTIFIED AND EXAMINED BY-34714,DSC,SULEIMAN,M AND 44267, ASCII, AKINLADE, O.E\\nRELEASED\\n': Int64Index([122621, 122622, 122623], dtype='int64'),\n",
       " '\\n\\n\\nONE USED TOYOTA HIGHLANDER 2005 MODEL WITH CHASIS NO:- JTEEP21A750135340\\nIDENTIFIED AND EXAMINED BY-34714,DSC,SULEIMAN,M AND 44267, ASCII, AKINLADE, O.E\\nRELEASED\\n': Int64Index([122957, 122958, 122959], dtype='int64'),\n",
       " '\\n\\n\\nONE USED TOYOTA HIGHLANDER 2008 MODEL WITH CHASSIS N;- JTEEW41A882021614\\nIDENTIFIED, AND EXAMINED BY-  34714,DSC,SULEIMAN AND 52867, ASC11, AKINLOYE,K.Y\\nRELEASED.': Int64Index([2474754, 2474755, 2474756], dtype='int64'),\n",
       " '\\n\\n\\nONE USED TOYOTA HIGHLANDER 2010 MODEL WITH CHASIS NO:- CH: 5TDDK3EH6AS036365\\nIDENTIFIED AND EXAMINED BY-34714,DSC,SULEIMAN,M AND 49798, ASCI,SIDI \\nRELEASED': Int64Index([1397806, 1397807, 1397808], dtype='int64'),\n",
       " '\\n\\n\\nONE USED TOYOTA HIGHLANDER 2012 MODEL WITH CHASSIS NO:- 5TDZK3EH3CS077268\\nIDENTIFIED AND EXAMINED BY  34714 DSC SULEIMAN M AND 44267,ASCII, AKINLADE,O.E\\nRELEASED': Int64Index([130571, 130572, 130573], dtype='int64'),\n",
       " '\\n\\n\\nONE USED TOYOTA HIGHLANDER 2013 MODEL (ACC)WITH CHASSIS NO:5TDDK3EH8DS200008\\nIDENTIFIED AND EXAMINED BY  41814,CSC,ADESHINA,J.O AND 34714 DSC SULEIMAN M. \\nREFER TO VALUATION FOR VALUE CHECK': Int64Index([2126269, 2126270, 2126271], dtype='int64'),\n",
       " '\\n\\n\\nONE USED TOYOTA MATRIX 2005 MODEL WITH CHASSIS NO:- 2T1KR32E15C469586\\nIDENTIFIED AND EXAMINED BY  49798, ASCI, SIDI,M.M  AND 44267,ASCII, AKINLADE,O.E\\nRELEASED': Int64Index([2049566, 2049567, 2049568], dtype='int64'),\n",
       " '\\n\\n\\nONE USED TOYOTA RAV 4 (ACC) 2010 MODEL WITH CHASSIS NO:- CH NO: 2T3DF4DV9AW040040\\nIDENTIFIED AND EXAMINED BY  34714 DSC SULEIMAN M AND 44267,ASCII, AKINLADE,O.E\\nREFER TO VALUATION': Int64Index([1901224, 1901225, 1901226], dtype='int64'),\n",
       " '\\n\\n\\nONE USED TOYOTA RAV4 2006 MODEL WITH CHASSIS NO:- CH:  JTMBK31V865008695\\nIDENTIFIED AND EXAMINED BY  34714 DSC SULEIMAN M AND 52867, ASCII, AKINLOYE,K.Y.\\nRELEASED': Int64Index([1537926, 1537927, 1537928], dtype='int64'),\n",
       " '\\n\\n\\nONE USED TOYOTA SIENNA  2006 MODEL WITH CHASSIS NO:- CH NO: 5TDBA22C56S068518\\nIDENTIFIED AND EXAMINED BY  34714 DSC SULEIMAN M AND 49798 ,ASCI, SIDI,M.M.\\nRELEASED': Int64Index([137367, 137368, 137369], dtype='int64'),\n",
       " '\\n\\n\\nONE USED TOYOTA SIENNA 2003 MODEL WITH CHASSIS NO:- 4T3ZF13C3YU297242\\nIDENTIFIED AND EXAMINED BY  34714 DSC SULEIMAN M AND 49798 ,ASCI, SIDI,M.M.\\nRELEASED': Int64Index([1399135, 1399136, 1399137], dtype='int64'),\n",
       " '\\n\\n\\nONE USED TOYOTA SIENNA 2003 MODEL WITH CHASSIS NO:- 4T3ZF13C5YU175062\\nIDENTIFIED AND EXAMINED BY  34714 DSC SULEIMAN M AND 44267,ASCII, AKINLADE,O.E\\nRELEASED': Int64Index([1817148, 1817149, 1817150], dtype='int64'),\n",
       " '\\n\\n\\nONE USED TOYOTA SIENNA 2003 MODEL WITH CHASSIS NO:- 4T3ZF13C7YU298037\\nIDENTIFIED AND EXAMINED BY  49798, ASCI, SIDI,M.M  AND 44267,ASCII, AKINLADE,O.E\\nRELEASED': Int64Index([130684, 130685, 130686], dtype='int64'),\n",
       " '\\n\\n\\nONE USED TOYOTA SOLARA 2003 MODEL WITH CHASSIS NO:- 2T1CE22P62C009878\\nIDENTIFIED AND EXAMINED BY  34714 DSC SULEIMAN M AND 44267,ASCII, AKINLADE,O.E\\nRELEASED': Int64Index([1317080, 1317081, 1317082], dtype='int64'),\n",
       " '\\n\\n\\nONE USED TOYOTA VENZA 2010 MODEL (ACC)WITH CHASSIS NO:- 4T3BA3BB3AU009777\\nIDENTIFIED AND EXAMINED BY  34714 DSC SULEIMAN M AND 52867, ASCII, AKINLOYE,K.Y.\\nREFER TO VALUATION': Int64Index([2369056, 2369057, 2369058], dtype='int64'),\n",
       " '\\n\\n\\nONE USED TOYOTA YARIS 2008 MODEL WITH CHASSIS NO:- JTDBT923084012150\\nIDENTIFIED AND EXAMINED BY  34714 DSC SULEIMAN M AND 44267,ASCII, AKINLADE,O.E\\nRELEASED': Int64Index([1648984, 1648985, 1648986], dtype='int64'),\n",
       " '\\n\\n\\nONE USED VOLKSWAGEN GOLF 2009 MODEL WITH CHASSIS NO:WFOLXXGBFLYR32672 \\nIDENTIFIED AND EXAMINED BY  34714 DSC SULEIMAN M. AND 52867, ASCII, AKINLOYE, K.Y\\nRELEASED': Int64Index([182530, 182531], dtype='int64'),\n",
       " '\\n\\n\\nONE USED VOLKSWAGEN PASSAT 2003 MODEL WITH CHASSIS NO:- WVWZZZ3BZWE040753\\nIDENTIFIED AND EXAMINED BY  34714 DSC SULEIMAN M AND 52867, ASCII, AKINLOYE,K.Y.\\nRELEASED': Int64Index([2540850, 2540851, 2540852], dtype='int64'),\n",
       " '\\n\\n\\nONE USED VOLVO XC70 2004 MODEL WITH CHASSIS NO:- YV1SZ59H741137757\\nIDENTIFIED AND EXAMINED BY  34714 DSC SULEIMAN M AND 52867, ASCII, AKINLOYE,K.Y.\\nREFER TO VALUATION\\n': Int64Index([104741, 104742, 104743], dtype='int64'),\n",
       " '\\n\\n \\nC/EXAMINER, BASED ON EXAM REPORT, PAAR AND OTHER SUPPORTING \\nDOCUMENTS, HS CODE CONSIDERED CORRECTLY ENTERED.YOU MAY WISH TO \\nPROCEED WITH THE CLEARANCE PROCESS IF SATISFIED, PLS.\\n': Int64Index([1466835, 1466836], dtype='int64'),\n",
       " '\\n\\n ONE USED CITROEN PICASSO 2004 MODEL WITH CHASSIS NO:CH/NO: VF7CH6FZB39197931\\nIDENTIFIED AND EXAMINED BY 34714 DSC SULEIMAN M AND 38923 ASC I ABUBAKAR , T.A\\nRELEASED.': Int64Index([2178615, 2178616, 2178617], dtype='int64'),\n",
       " '\\n\\n ONE USED HONDA ACCORD 2006 MODEL WITH CHASSIS NO:- 1HGCM56796A121262\\nIDENTIFIED AND EXAMINED BY  34714 DSC SULEIMAN M AND 52867, ASCII, AKINLOYE,K.Y.\\nRELEASED\\n': Int64Index([1817983, 1817984, 1817985], dtype='int64'),\n",
       " '\\n\\n ONE USED HONDA ACCORD 2010 MODEL WITH CHASSIS NO:- 1HGCP2F8XAA000540\\nIDENTIFIED AND EXAMINED BY  34714 DSC SULEIMAN M AND 49798 ,ASCI, SIDI,M.M.\\nRELEASED': Int64Index([138375, 138376, 138377], dtype='int64'),\n",
       " \"\\n\\n01X20FT. CONT. No:MSKU-4325062, IDENTIFIED, OPENED JOINTLY, EXAMINED PHYSICALLY BY NCS39154 CSC OGUNKALE, O.T & NCS34784 ASCII. SAMAILA, M.A; WITH RELEVANT AGENCIES & UNITS AND FOUND 288PKGS. OF MEASURING TAPE SUMEC 2451K, AS EXAMINED.  ON EXAMINERS' RECOMMENDATION, SGD IS RELEASED\\n\\n\\n\\n\\n.\": Int64Index([306593, 306594, 306595, 306596, 306597], dtype='int64'),\n",
       " '\\n\\n0NE USED HONDA ACCORD [2010] CHASS. NO  1HGCP2F40AA025315\\nEXAMINED BY;   44798,DSC,SIDI,M. M AND 44267,ASCII,AKINLADE,O.E\\nRELEASED': Int64Index([281041, 281042, 281043], dtype='int64'),\n",
       " '\\n\\n1 USED LAND ROVER RANGE ROVER 2007 MODEL  WITH CHASSIS NO;- SALSK25447A117166\\nIDENTIFIED AND EXAMINED BY AND 34714,DSC,SULEIMAN,M AND 49798,ASCI,SIDI,MM\\nRELEASED\\n': Int64Index([126054, 126055, 126056], dtype='int64'),\n",
       " '\\n\\n1X20FT CONT.NO. CBHU3654136 WAS EXAMINED BY 52402 ASC1 ADAMU\\n50756 ASC1 ABDULHADI AND WAS FOUND TO CONTAIN 4PKGS OF STEEL COIL,\\n2PKGS OF JAW PLATE..\\n\\n\\nVALUATION AND Q&A REFERS.': Int64Index([90263, 90264, 90265, 90266, 90267, 90268, 90269, 90270, 90271,\n",
       "             90272],\n",
       "            dtype='int64'),\n",
       " '\\n\\n1X20FT CONT.NO. CCLU3699887 WAS EXAMINED BY 52402 ASC1 ADAMU\\n50756 ASC1 ABDULHADI AND WAS FOUND TO CONTAIN 4PKGS OF STEEL\\nCOIL, 3PKGS OF JAW PLTE AND 2PKGS OF RADIATOR, FIBERGLASS.\\n\\n\\nVALUATION AND Q&A REFERS.': Int64Index([3027369, 3027370, 3027371, 3027372, 3027373, 3027374, 3027385,\n",
       "             3027386, 3027387, 3027388, 3027389, 3027400, 3027401, 3027402,\n",
       "             3027403, 3027404],\n",
       "            dtype='int64'),\n",
       " '\\n\\n1X20FT CONT.NO. MSGU2267270 WAS EXAMINED BY 50095 ASC1 ABUBARKA\\n54813 ASC1 ELUMEZE AND WAS FOUND TO CONTAIN 717PKGS OF HANDHELD\\nALUMINIUM BLOW PIPE.\\n\\n\\nVALUTAION REFERS BASED ON LOW VALUE.': Int64Index([3438938, 3438939, 3438940, 3438941, 3438942], dtype='int64'),\n",
       " '\\n\\n1X20FT CONT.NO. TCKU3942661 WAS EXAMINED BY 52154 ASC1 SANI\\n52402 ASC1 ADAMU AND WAS TO CONTAIN 600PKGS OF SEALING MACHINE\\n\\n\\nVALUATION AND Q&A REFERS.': Int64Index([2720639, 2720640, 2720641, 2720642, 2720643], dtype='int64'),\n",
       " '\\n\\n1X40FT CONT NO  TCKU6376790   OPEND AND EXMD BY;  43109,CSC LASISI,M,A   50365,ASCI UKAH,R,C  54387 ASC1, SALIHU,SM 40833 ASCI OLAWODE,E.A  51416,ASCII IKIBE,F  FTC \\nUSED   TOYOTA  SIENNA  ACC  2000   CH/NO 4T3ZF19C3XU149811\\nUSED   NISSAN  QUEST  ACC   2004  CH/NO  5N1BV28U94N310195\\nUSED   FORD FRESTYLE  ACC   2007  CH/NO  1FMZK02157GA03667\\nUSED   TOYOTA  MATRIX  ACC  2004  CH/NO 2T1KR32E04C095498\\n\\nSDV  VAL REFERS FYNA  PLS': Int64Index([1040355, 1040356, 1040357, 1040358, 1040359, 1040360, 1040361,\n",
       "             1040362, 1040363, 1040364, 1040365, 1040366],\n",
       "            dtype='int64'),\n",
       " '\\n\\n1X40FT CONT NO APHU7328071  OPEND AND EXMD BY; 40833,ASCI OLAWODE,E,A 48955,ASCI KABIR,U,H  54351.ASCI TURAKI,I 51416,ASCII IKIBE,F 39812,DSC SULAIMAN.A.B  FTC \\nUSED TOYOTA CAMRY  ACC  2004  CH/NO JTDBE32K230199406\\nUSED  GMC TERRAIN  ACC  2010  CH/NO 2CTALBEW946234249\\nUSED HONDA  ACCORD  ACC  2004 CH/NO 1HGCM56424A808442\\nUSED  TOYOTA RAV4  ACC  2008  CH/NO JTMBD33V185149781\\n\\nSDV  VAL REFERS FYNA PLS\\n': Int64Index([1545011, 1545012, 1545013, 1545020, 1545021, 1545022, 1545029,\n",
       "             1545030, 1545031, 1545038, 1545039, 1545040],\n",
       "            dtype='int64'),\n",
       " '\\n\\n1X40FT CONT NO PCIU8173867 WAS EXAMINED BY 44571 ASC1 IHEANACHO\\n52560 ASC1 OTUKU AND WAS FOUND TO CONTAIN VEGETABLE SALAD CUTTER\\n250PKGS, MECHANICAL SACLE 870PKGS, ALU KETTLE 200PKGS, WATER PURIFIER\\n984PKGS.\\n\\n\\nVALUATION AND Q&A REFERS.': Int64Index([2150796, 2150797, 2150802, 2150803, 2150816, 2150817, 2150818,\n",
       "             2150819, 2150820, 2150821, 2150832, 2150833, 2150834, 2150835,\n",
       "             2150836],\n",
       "            dtype='int64'),\n",
       " '\\n\\n1X40FT CONT NO. TCNU3369805 WAS EXAMINED BY 44591 ASC1 BASSEY\\nAND WAS FOUND TO CONTAIN 1328CTNS OF ELECTRICAL ACCESSORIES\\nEXTENTION SOCKETS.\\n\\n\\nVALIUATION REFERS': Int64Index([3291148, 3291163, 3291164, 3291165, 3291166, 3291167, 3291168,\n",
       "             3291169, 3291182, 3291183, 3291184, 3291185, 3291186, 3291187,\n",
       "             3291204, 3291205, 3291206, 3291207, 3291208, 3291209, 3291210,\n",
       "             3291211, 3291222, 3291223, 3291224, 3291225, 3291226, 3291243,\n",
       "             3291244, 3291245, 3291246, 3291247, 3291248, 3291249, 3291250],\n",
       "            dtype='int64'),\n",
       " '\\n\\n1X40FT CONT NO. TRLU80968314 WAS EXAMINED BY 41159 CSC EVBOERUAN\\n50040 ASC1 KHAMOFU AND WAS FOUND TO CONTAIN 208BAGS OF MILLET AND\\n220BAGS OF BUCK WHEAT.\\n\\n\\nVALUATION AND Q&A REFERS.': Int64Index([79879, 79880, 79881, 79882, 79883, 79884, 79885], dtype='int64'),\n",
       " '\\n\\n1X40FT CONT NO.CSNU6577962 WAS EXAMINED BY 52402 ASC1 ADAMU, 50756 ASC1\\nABUBAKAR AND WAS FOUND TO CONTAIN 770PKGS OF CONVERTERS.\\n\\n\\nVALUATION AND Q&A REFERS': Int64Index([78571], dtype='int64'),\n",
       " '\\n\\n1X40FT CONT NO.DFSU7336011 WAS EXAMINED BY 44343 ASC1 MOHAMMED\\n52154 ASC1 SANI AND WAS FOUNDTO CONTAIN 5 STEEL COILS, 27BALL VALVES,\\nTRANSFORMER EXCEEDING 10,000KVA.\\n\\n\\nVALUATION AND Q&A REFERS.': Int64Index([3027564, 3027565, 3027566, 3027567, 3027568, 3027569, 3027570,\n",
       "             3027581, 3027582, 3027583, 3027584, 3027585, 3027596, 3027597,\n",
       "             3027598, 3027599, 3027600, 3027611, 3027612, 3027613, 3027614,\n",
       "             3027615],\n",
       "            dtype='int64'),\n",
       " '\\n\\n1X40FT CONT NO.MRKU2424402 WAS EXAMINED BY 52154 ASC1 SANI\\n44343 ASC1 MOHAMMED  AND WAS FOUND TO CONTAIN 3 USED VEHICLES;\\nLANDROVER (ACC) 2011 CH.SALMF1D42BA357558\\nMERCEDES GL4(ACC) 2011 CH.4JGBF7BEOBA728404\\nMERCEDES ML350(ACC) 2010 CH.4JGBB8GB5AA580233\\n\\n\\nRELEASED AUTHORISED BY 43285 AC OHADIKE,M.C.': Int64Index([3385432, 3385433, 3385434, 3385435, 3385436, 3385437, 3385438,\n",
       "             3385439, 3385440],\n",
       "            dtype='int64'),\n",
       " '\\n\\n1X40FT CONT NO.TCNU6832955 WAS EXAMINED BY 52402 ASC1 ADAMU,50756 ASC1\\nABUBAKAR AND WAS FOUND TO CONTAIN 12PKGS OF INDUSTRIAL MACHINERIES.\\n\\nVALUATION AND Q&A REFERS.': Int64Index([1314698, 1314699, 1314700, 1314701, 1314702], dtype='int64'),\n",
       " '\\n\\n1X40FT CONT. NO. TCLU5656237 WAS EXAMINED BY 52402 ASC1 ADAMU\\n50756 ASC1 ABDULHADI AND WAS FOUND TO CONTAIN 24PKGS OF WOWBUDD\\nINTERACTIVE COMPUTER MONITORS.\\n\\n\\nVALUATION AND Q& A REFERS.': Int64Index([2465386, 2465387, 2465388, 2465389, 2465398, 2465399, 2465400,\n",
       "             2465401, 2465410, 2465411, 2465412, 2465413, 2465422, 2465423,\n",
       "             2465424, 2465425, 2465434, 2465435, 2465436, 2465437],\n",
       "            dtype='int64'),\n",
       " '\\n\\n1X40FT CONT. NO. TEMU8188836 WAS EXAMINED BY 38749 SC AYOGO, 52560 ASC1\\nOTUKU AND WAS FOUND TO CONTAIN ONE(1) USED MACK TRUCK;\\nMACK TRUCK HEAD (ACC) 2004 CH.1M1AE02X54N002545\\nAND USED ELECTRONICS.\\n\\n\\nRELEASED AUTHORISED BY 43285 AC OHADIKE,M.C.': Int64Index([3054134, 3054135, 3054136, 3054137, 3054138], dtype='int64'),\n",
       " '\\n\\n1X40FT CONT. NO.SLSU8051411 WAS EXAMINED BY 52402 ASC1 ADAMU\\n44343 ASC1 MOHAMMED AND WAS FOUND TO CONTAIN 482PKGS OF CUTTING\\nMACHINE,1000PKGS OF LEVELS.\\n\\n\\nVALUATION AND Q&A REFERS.': Int64Index([1814338, 1814339, 1814340, 1814341, 1814342, 1814358, 1814359,\n",
       "             1814360, 1814361, 1814362],\n",
       "            dtype='int64'),\n",
       " '\\n\\n1X40FT CONT. NOS. TCNU7689880 WAS EXAMINED BY 44343 ASC1\\nMOHAMMED, 52402 ASC1 ADAMU AND WAS FOUND TO CONTAIN 700PKGS\\nCAMPHOR,206PKGS BODY SPRAY AND 400PKGS GEL PREPARATION FOR\\nPRPDUCTION.\\n\\n\\nVALUATION AND Q&A  REFERS.': Int64Index([2633478, 2633479, 2633480, 2633481, 2633491, 2633492, 2633493,\n",
       "             2633494, 2633495, 2633505, 2633506, 2633507, 2633508],\n",
       "            dtype='int64'),\n",
       " '\\n\\n1X40FT CONT.NO. AXIU1396295 WAS EXAMINED BY 44343 ASC1 MOHAMMED\\n52402 ASC1 ADAMU AND WAS FOUND TO CONTAIN VALVES FOR OLEOHYDRAULIC\\nOR PNEUMATIC TRASMISSION 400CTNS, OUTER SOLES AND HEELS OF RUBBER\\nOR PLASTICS,MOULDS,100CTNS AND 30CTNS OF SHOES PARTS.\\n\\n\\nVALUATION Q&A REFERS.': Int64Index([101848, 101849, 101850, 101851, 101852, 101853, 101854, 101855,\n",
       "             101856, 101857, 101858, 101859, 101860, 101861, 101862, 101863,\n",
       "             101864, 101865],\n",
       "            dtype='int64'),\n",
       " '\\n\\n1X40FT CONT.NO. CMAU4713494  WAS EXAMINED BY 50040 ASC1 KHAMOFU\\n53317 ASC1 SALIHU AND WAS FOUND TO CONTAIN 2 USED VEHICLES;\\nMERCEDES BENZ 2005 CH.WDBRF40J55A765968\\nMERCEDES BENZ 2006 CH.WDBUF56J96A969309\\nAND USED CHILDREN TOYS.\\n\\n\\nVALUATION REFERS.': Int64Index([1611996, 1611997, 1611998, 1612003, 1612004], dtype='int64'),\n",
       " '\\n\\n1X40FT CONT.NO. CRSU9035869 EXAMINED BY 44571 ASC1 IHEANACHO\\n52560 ASC1 OTUKU AND WAS FOUND TO CONTAIN 4 USED VEHICLES;\\nTOYOTA CAMRY(ACC) 2014 CH.4T1BF1FK6EU783147\\nTOYOTA SIENNA 2005 CH.5TDZA23C65S282963\\nTOYOTA CAMRY 2006 CH.4T1BE32K96U701580\\nFORD EDGE(ACC) 2011 CH.2FMDK3AK9BBA75449.\\n\\n\\nVALUATION REFERS.': Int64Index([1815848, 1815849, 1815850, 1815857, 1815858, 1815859, 1815866,\n",
       "             1815867, 1815868, 1815875, 1815876, 1815877],\n",
       "            dtype='int64'),\n",
       " '\\n\\n1X40FT CONT.NO. CSNU6126296 WAS EXAMINED BY 36780 DSC EDORHE\\n50095 ASC1 ABUBAKAR AND WAS FOUND TO CONTAIN 200CTNS OF GASOLINE\\nWATER PUMP BRAND ELIMAX TIGMAX AND 156CTNS OF GASOLINE GENERATOR\\nELEPAQ BRAND.\\n\\n\\nERROR EARLIER MADE CORRECTED\\n\\nVALUATION AND Q&A REFERS': Int64Index([2631668, 2631691, 2631692, 2631693, 2631694, 2631695, 2631696], dtype='int64'),\n",
       " '\\n\\n1X40FT CONT.NO. GAOU6052635 WAS EXAMINED BY 52402 ASC1 ADAMU, 50756 ASC1\\nAND WAS FOUND TO CONTAIN 1180PKGS OF INDUSTRIAL MACHINERIES.\\n\\n\\nVALUATION AND Q&A REFERS.': Int64Index([3215554, 3215555, 3215556, 3215557, 3215558], dtype='int64'),\n",
       " '\\n\\n1X40FT CONT.NO. HLBU705263 WAS EXAMINED BY 44501 ASC1 ARUKWEH\\n54671 ASC1 OKUNSAYA AND WAS FOUND TO CONTAIN SAMBAO ORAL LIQUID\\n4PALLETS, 4PALLETS OF LIUWEI CHAI SUPPLIMEMNTS, 2PALLETS OF MEIGIU\\nSUPPLIMENTS, 2PALLETS OF ROSA SOLID DRINKS, 2PALLETS OF CHANNEL\\nDREDGING PASTE, TOOTHPASTE IN 2PALLETS, 2PALLETS OF XUE GING FU,\\n2PALLETS DANSHEN EXTRACT TABLET, 2PALLETS EYE MASSAGER, 2PALLETS O\\nOF NECK MADDAGER, 2PALLETS OF NOURISH GEL, 2PALLETS OF CONDUCTIVE GLOVE \\nAND 1PALLET ENERGY MASSGER PASTE.\\n\\n\\nVALUATION AND Q&A REFERS.': Int64Index([85613, 85614, 85615, 85616, 85617, 85618, 85619, 85620, 85621,\n",
       "             85622, 85623, 85624, 85625, 85626, 85627, 85628, 85629, 85630,\n",
       "             85631, 85632, 85633, 85634, 85635, 85636, 85637, 85638, 85639,\n",
       "             85640, 85641, 85642, 85643, 85644, 85645, 85646, 85647, 85648,\n",
       "             85649, 85650, 85651, 85652, 85653, 85654, 85655, 85656, 85657,\n",
       "             85658, 85659, 85660],\n",
       "            dtype='int64'),\n",
       " '\\n\\n1X40FT CONT.NO. INKU6533375 WAS EXAMINED BY 37298 DSC  ACTOR\\n50040 ASC1 KHAMOFU AND WAS FOUND TO CONTAIN 4 USED VEHICLES;\\nTOYOTA CAMRY(ACC) 2004 CH.JTDBF30K920069413\\nLEXUS ES350(ACC) 2010 CH.JTHBK1EG5A2343292\\nLEXUS RX330(ACC) 2005 CH.2T2HA31U95C055963\\nM/BENZ GLK350(ACC) 2013 CH.WDCGC8HBXD6091760\\n\\n\\nRELEASED AUTHORISED BY 43285 AC OHADIKE,M.C.': Int64Index([1730971, 1730972, 1730973, 1730974, 1730975, 1730976, 1730977,\n",
       "             1730978, 1730979, 1730980, 1730981, 1730982],\n",
       "            dtype='int64'),\n",
       " '\\n\\n1X40FT CONT.NO. MAGU5146306 WAS EXAMINED BY 41159 EVBOERUAN\\n50040 ASC1 KHAMOFU AND WAS FOUND TO CONTAIN 2 USED VEHICLES;\\nVOLKSWAGEN GOLF 2004 CH.WVWZZZ1HZWB028650\\nVOLKSWAGEN GOLF 2004 CH.WVWZZZ1HZTW089410\\nAND USED AUTO SPARE PARTS.\\n\\nVALUATION REFERS.': Int64Index([59330, 59331, 59332, 59333, 59334, 59335, 59336], dtype='int64'),\n",
       " '\\n\\n1X40FT CONT.NO. MEDU7677378 WAS EXAMINED BY 50040 ASC1 KHAMOFU\\n54296 ASC11 ANYACHO AND WAS FOUND TO CONTAIN 2 USED VEHICLES;\\nNISSAN PATHFINDER 2010 CH.5N1ARINN8AC613077\\nTOYOTA COROLLA 2011 CH.2TIBU4EE1BC753263\\nUSED TOYS AND USED ELECTRONICS.\\n\\nRELEASED AUTHORISED BY 43285 AC OHADIKE,.MC.': Int64Index([2886848, 2886849, 2886850, 2886851, 2886852, 2886853, 2886854,\n",
       "             2886855, 2886856],\n",
       "            dtype='int64'),\n",
       " '\\n\\n1X40FT CONT.NO. MEDU8038540 WAS EXAMINED BY 44579 ASC1 FALAYI\\n54296 ASC11 ANYACHO AND WAS FOUND TO CONTAIN 2 USED VEHICLES;\\nTOYOTA RAV4  2010 CH.JTMZK4DV3AD004200\\nTOYOTA COROLLA  2010 CH.2T1BU4EE4AC256089\\n\\n\\nRELEASED AUTHORISED BY 43285 AC OHADIKE,M.C.': Int64Index([85199, 85200, 85201, 85202, 85203, 85204, 85205, 85206, 85207], dtype='int64'),\n",
       " '\\n\\n1X40FT CONT.NO. MEDU8489668 WAS EXAMINED BY 38936 DSC EDOMWANDE\\n39904 ASC1 AILOJE AND WAS FOUND TO CONTAIN 3089 BAGS OF ZEOLITE.\\n\\n\\n\\nVALUATION AND Q&A REFERS.': Int64Index([76838, 76839, 76840, 76841], dtype='int64'),\n",
       " '\\n\\n1X40FT CONT.NO. MEDU8992688 WAS EXAMINED BY 52560 ASC1 OTUKU\\n44588 ASC1 OGUGU AND WAS FOUND TO CONTAIN  4 USED VEHICLES;\\nMERCEDES BENZ E320 2005 CH.WDBF82J65X174401\\nTOYOTA  CAMRY 2003 CH.4T1BE32K33U753282\\nTOYOTA SIENNA 2003 CH.4T32FI3C73U281304\\nTOYOTA SIENNA 2003 CH.4T32FI3C33U487744\\n\\n\\nRELEASED AUTHORISED BY 43285 AC OHADIKE,M.C.': Int64Index([3052906, 3052907, 3052908, 3052909, 3052910, 3052911, 3052912,\n",
       "             3052913, 3052914, 3052915, 3052916, 3052917],\n",
       "            dtype='int64'),\n",
       " '\\n\\n1X40FT CONT.NO. MRKU2774951 WAS EXAMINED BY 41159 CSC EVBOEUAN\\n50040 ASC1 KHAMOFU AND WAS FOUND TO CONTAIN 3 USED VEHICLES;\\nTOYOTA CAMRY(ACC) 2007 CH.HTBEH6K57U191911\\nTOYOTA COROLLA(ACC) 2009 CH.JTDBLU0E599074882\\nMERCEDES BENZ 350(ACC) 2007 CH.4JGBB86EX7A151982\\n\\n\\nVALUATION AND Q&A REFERS.': Int64Index([106022, 106023, 106024, 106025, 106026, 106027, 106028, 106029,\n",
       "             106030],\n",
       "            dtype='int64'),\n",
       " '\\n\\n1X40FT CONT.NO. MRKU3925380 WAS EXAMINED BY 50040 ASC1 KHAMOFU\\n53317 ASC1 SALIHU AND WAS FOUND TO CONTAIN 3 USED VEHICLES;\\nTOYOTA RAV4(ACC) 2007 CH.JTM6D33V805293686\\nMITSUBISHI CANTER 2003 CH.6F6H4A16TRT031514\\nMITSUBISHI CANTER 2003 CH.6F6K4D23TRT030489\\n\\n\\nVALUATION REFERS.': Int64Index([3215188, 3215189, 3215190, 3215191, 3215192, 3215201, 3215202,\n",
       "             3215203, 3215210, 3215211, 3215212, 3215219, 3215220, 3215221],\n",
       "            dtype='int64'),\n",
       " '\\n\\n1X40FT CONT.NO. MRKU5290903 WAS EXAMINED BY 38652 SC IBRAHIM\\n49919 ASC1 AHMED AND WAS FOUND TO CONTAIN 3 USED VEHICLES;\\nCHEVROLET TRAVERSE(ACC) 2010 CH.1GNLREEDOA5146665\\nCHEROKEE JEEP(ACC) 2004 2004 CH.1J4W58N01Y518973\\nNISSAN MAXIMA(ACC) 2004 CH.NICA2100XT252427\\n\\n\\nVALUATION REFERS.\\n  ': Int64Index([103469, 103470, 103471, 103472, 103473, 103474, 103475, 103476,\n",
       "             103477, 103478, 103479, 103480, 103481, 103482, 103483],\n",
       "            dtype='int64'),\n",
       " '\\n\\n1X40FT CONT.NO. MRKU6318482 WAS EXAMINED BY 44343 ASC1 MOHAMMED\\n52154 ASC1 SANI AND WAS FOUND TO CONTAIN 400PKGS OF GUAZE, AND 300PKGS\\nOF ADULT DIAPERS.\\n\\n\\nVALUATION REFERS. ': Int64Index([1653211, 1653212, 1653213, 1653214, 1653215, 1653216, 1653223,\n",
       "             1653224],\n",
       "            dtype='int64'),\n",
       " '\\n\\n1X40FT CONT.NO. MSKU0137977 WAS EXAMINED BY \\n52402 ASC1 ADAMU, 50756 ASC1 ABDULHADI  AND WAS FOUND\\nTO CONTAIN 350PKGS OF SEWING MACHINE PARTS AND 195PKGS\\nOF SEWING NEEDLES.\\n\\n\\nVALUATION AND Q&A REFERS.': Int64Index([2148245, 2148246, 2148247, 2148248, 2148249, 2148260, 2148261,\n",
       "             2148262, 2148263, 2148264],\n",
       "            dtype='int64'),\n",
       " '\\n\\n1X40FT CONT.NO. MSKU9276588 WAS EXAMINED BY 41159 CSC EVBOERUAN\\n50040 ASC1 KHAMOFU AND WAS FOUND TO CONTAIN 3 USED VEHICLES;\\nTOYOTA COROLLA(ACC) 2005 CH.1NXBR32E652469887\\nLEXUS RX350(ACC) 2011 CH.2T2ZKIBA5BC058638\\nTOYOTA H/LANDER(ACC) 2006 CH.JTEDP21A660100494\\n\\n\\nVALUATION AND Q&A REFERS.': Int64Index([1316069, 1316070, 1316071, 1316078, 1316079, 1316080, 1316087,\n",
       "             1316088, 1316089],\n",
       "            dtype='int64'),\n",
       " '\\n\\n1X40FT CONT.NO. PCIU8397759 WAS EXAMINED BY 37123 CSC AYANYINKA\\n52560 ASC1 OTUKU AND WAS FOUND TO CONTAIN 4 USED VEHICLES;\\nMERCEDES BENZ(ACC) 2008 CH.4JGBB86E78A344382\\nHONDA CROSSTOUR(ACC) 2010 CH.5J6TF2H53AL015867\\nHONDA CROSSTOUR(ACC) 2011 CH,5J6TF1H57BL002177\\nKIA SERENTO(ACC) 2012 CH.5XYKT4A27CG286970\\n\\n\\nRELEASED AUTHORISED BY 43285 AC OHADIKE,M.C.': Int64Index([82358, 82359, 82360, 82361, 82362, 82363, 82364, 82365, 82366,\n",
       "             82367, 82368, 82369],\n",
       "            dtype='int64'),\n",
       " '\\n\\n1X40FT CONT.NO. TCLU9514781 WAS EXAMINED BY 41159 CSC EVBOERUAN\\n44579 ASC1 FALAYI AND WAS FOUND TO CONTAIN 4 USED VEHICLES;\\nFORD EXPLORER 2007 CH.1FMEU53887UB42118\\nNISSAN MURANO 2004 CH.JN8AZ08W73W232216\\nAUDI A6 2006 CH.WAUDG74F36N070976\\nTOYOTA COROLLA 2015 CH.2T1BURHEXFC251415.\\n\\nRELEASED AUTHORISED BY 43285 AC OHADIKE,M.C.': Int64Index([2808535, 2808536, 2808537, 2808538, 2808539, 2808540, 2808541,\n",
       "             2808542, 2808543, 2808544, 2808545, 2808546],\n",
       "            dtype='int64'),\n",
       " '\\n\\n1X40FT CONT.NO. TCNU12688518 WAS EXAMINED BY 50040 ASC1 KHAMOFU\\n53317 ASC1 SALIHU AND WAS FOUND TO CONTAIN 5 USED VEHICLES;\\nTOYOTA COROLLA(ACC) 2006 CH.2T1BR32E26C674917\\nTOYOTA COROLLA(ACC) 2010 CH.2T1BU4EE6AC247880\\nTOYOTA COROLLA(ACC) 2010 CH.2T1BU4EEXAC200318\\nTOYOTA COROLLA(ACC) 2006 CH.2T1BR32EX6C700518\\nTOYOTA CAMRY(ACC) 2007 CH.4T1BK46K27U558823\\n\\n\\nRELEASED AUTHORISED BY 43285 AC OHADIKE,MC.': Int64Index([89359, 89360, 89361, 89362, 89363, 89364, 89365, 89366, 89367,\n",
       "             89368, 89369, 89370, 89371, 89372, 89373],\n",
       "            dtype='int64'),\n",
       " '\\n\\n1X40FT CONT.NO. TCNU2525483 WAS EXAMINED BY 52402 ASC1 ADAMU, 50756 ASC1 ABUBAKAR\\nAND WAS FOUND TO CONTAIN 10PKGS OF INDUSTRIAL MACHINERIES.\\n\\n\\nVALUATION AND Q&A REFERS.': Int64Index([2808446, 2808447, 2808448, 2808449, 2808450], dtype='int64'),\n",
       " '\\n\\n1X40FT CONT.NO. TCNU6224277 WAS EXAMINED BY 50040 ASC1 KHAMOFU\\n54296 ASC11 ANYACHO AND WAS FOUND TO CONTAIN  3 USED VEHICLES;\\nTOYOTA COROLLA(ACC) 2009 CH.2T1BU40E09C074750\\nT0YOTA COROLLA(ACC) 2011 CH.JTDBU4EE2B9128070\\nTOYOTA COROLLA(ACC) 2010 CH.1NXBU4EEXAZ380253\\n\\n\\nRELEASED AUTHORISED BY 43285 AC OHADIKE,M.C.': Int64Index([1537673, 1537674, 1537675, 1537676, 1537677, 1537678, 1537679,\n",
       "             1537680, 1537681],\n",
       "            dtype='int64'),\n",
       " '\\n\\n1X40FT CONT.NO. TEMU7779789 WAS EXAMINED BY 50040 ASC1 KHAMOFU\\n54296 ASC11 ANYACHO AND WAS FOUND TO CONTAIN 2 USED VEHICLES;\\nCHRYSLER CAR 300 2007 CH.2C3KA43R17H88501\\nCHRYSLER CAR 300 2005 CH.2C3AA53G65H575458\\nUSED TOYS AND USED ELECTRONICS.\\n\\nVALUATION REFERS.': Int64Index([2631669, 2631697, 2631698, 2631699, 2631700, 2631701, 2631702], dtype='int64'),\n",
       " '\\n\\n1X40FT CONT.NO. TGHU8125594 WAS EXAMINED BY 52402 ASC1 ADAMU\\n44343 ASC1 MOHAMMED AND WAS FOUND TO CONTAIN 47PKGS OF\\nINDUSTRIAL MACHINERY, 67PKGS OF FILLING MACHINE, 55PKGS OF\\nSHRINK PACKAGING MACHINE.\\n\\n\\nVALUATION AND Q&A REFERS.': Int64Index([67331, 67332, 67333, 67334, 67335, 67336, 67337, 67338, 67339,\n",
       "             67340, 67341, 67342, 67343, 67344, 67345],\n",
       "            dtype='int64'),\n",
       " '\\n\\n1X40FT CONT.NO. TLLU4371161 WAS EXAMINED BY 49919 ASC1 AHMED, 52817 ASC1\\nRUFIA AND WAS FOUND TO CONTAIN 2 USED VEHICLES;\\nLEXUS RX300 2004 CH.JT6HF10U5X0018957\\nMITSUBISHI OUTLANDER 2004 CH.JA4LX41F34U003714\\nAND USED AUTO PARTS.\\n\\nRELEASED AUTHORISED BY 43285 AC OHADIKE,M.C.': Int64Index([80098, 80099, 80100, 80101, 80102, 80103], dtype='int64'),\n",
       " '\\n\\n1X40FT CONT.NO. ZCSU8422661 WAS EXAMINED BY 37123 CSC AYANYIKA\\n44571 ASC1 IHEANACHO, AND WAS FOUND TO CONTAIN SURVEY INSTRUMENT\\n155PKGS, SINKERS 189PKGS, SPIINDLE FLYERS 179PKGS, BABY LIFT MECHANISM\\n206PKGS, BABY INSULATION FITTINGS 153PKGS, BABY TOWEL 153PKGS\\n\\n\\nVALUATION AND Q&A  REFERS.': Int64Index([95687, 95688, 95689, 95690, 95691, 95692, 95693, 95694, 95695,\n",
       "             95696, 95697, 95698, 95699, 95700, 95701, 95702, 95703, 95704,\n",
       "             95705, 95706, 95707, 95708, 95709, 95710, 95711, 95712, 95713,\n",
       "             95714, 95715],\n",
       "            dtype='int64'),\n",
       " '\\n\\n1X40FT CONT.NO.CLHU8839425 WAS EXAMINED BY 38749 SC AYOGO\\n53560 ASC1 OTUKU AND WAS FOUND TO CONTAIN 5 USED VEHICLES;\\nTOYOTA COROLLA 2010 CH.2T1BU4EE9AC205428\\nTOYOTA COROLLA 2003 CH.2T1BR32E53C716752\\nTOYOTA COROLLA 2003 CH.2T1BR32EX3C765199\\nTOYOTA CAMRY 2012 CH.4T1BF1FK2CU552873\\nTOYOTA COROLLA 2005 CH.2T1BR32E05C910186.\\n\\n\\nVALUATION REFERS.': Int64Index([2393087, 2393088, 2393089, 2393096, 2393097, 2393098, 2393105,\n",
       "             2393106, 2393107, 2393114, 2393115, 2393116, 2393123, 2393124,\n",
       "             2393125],\n",
       "            dtype='int64'),\n",
       " '\\n\\n1X40FT CONT.NO.CSNU6079065 WAS EXAMINED BY 41159 CSC EVBOERUAN\\n36526 ASC1 ABDULKADIR AND WAS FOUND TO CONTAIN 4PKGS PRESSURE \\nREDUCING VALVE,4PKGS WATER TAPS AND 4PKGS OF COMPACTOR MODEL;\\nAX610C.\\n\\n\\nVALUATION AND Q&A REFERS.': Int64Index([36627, 36628, 36629, 36630, 36631, 36632, 36633, 36634, 36635,\n",
       "             36636, 36637, 36638, 36639, 36640, 36641, 36642],\n",
       "            dtype='int64'),\n",
       " '\\n\\n1X40FT CONT.NO.DFSU6593627 WAS EXAMINED BY 44343 ASC1 MOHAMMED\\n52402 ASC1 ADAMU AND WAS FOUND TO CONTAIN 2 USED VEHICLES;\\nCHEVROLET SUBURBAN 2006 CH.1GNSCHEC66R255393\\nCHEVROLET SUBURBAN 2007 CH.1GNSKHKCX7R325343\\n\\n\\nRELEASED AUTHORISED BY 43285 AC OHADIKE,M.C. ': Int64Index([3053969, 3053970, 3053971, 3053972, 3053973, 3053974], dtype='int64'),\n",
       " '\\n\\n1X40FT CONT.NO.MEDU4538363 WAS EXAMINED BY 41159 CSC EVOERUAN\\n50040 ASC1 KHAMOFU AND WAS FOUND TO CONTAIN 4 USED VEHICLES;\\nHONDA ACCORD(ACC) 2008 CH.1HGCP26858A807347\\nTOYOTA H/LANDER(ACC) 2004 CH.JTEHF21A710017556\\nHONDA ACCORD(ACC) 2008 CH.1HGCP36838A801553\\nTOYOTA CAMRY(ACC) 2007 CH.4TIBE46K67U522396.\\n\\n\\nRELEASED AUTHORISED BY 43285 AC OHADIKE,M.C.': Int64Index([2441326, 2441327, 2441328, 2441329, 2441330, 2441331, 2441332,\n",
       "             2441333, 2441334, 2441335, 2441336, 2441337],\n",
       "            dtype='int64'),\n",
       " '\\n\\n1X40FT CONT.NO.MEDU7353492 WAS EXAMINED BY 41159 CSC EVBOERUAN\\n44579 ASC1 FALAYI AND WAS FOUND TO CONTAIN 3 USED VEHICLES;\\nPEUGOT 307 2008 CH.VF33ENFUB82453092\\nDODGE CALIBER 2003 CH.X1B3H3G8BX70390473\\nLDU CONVOY(DAF) 2003 CH.SEYZMYGYGDN105691\\n\\n\\nVALUATION REFERS.': Int64Index([2223364, 2223369, 2223370, 2223371, 2223378, 2223379, 2223380,\n",
       "             2223387, 2223388, 2223389],\n",
       "            dtype='int64'),\n",
       " '\\n\\n1X40FT CONT.NO.TGHU6710590 WAS EXAMINED BY 39904 ASC1 AILOJE,\\n52817 ASC1 RUFIA AND AND WAS FOUND TO CONTAIN PAPER CUTTING MACHINE\\n200PKGS,CHILDREN LEARNING BOOKS 210PKGS.\\n\\n\\nVALUATION AND Q&A REFERS.': Int64Index([3464577, 3464578, 3464579, 3464580, 3464581, 3464582, 3464591,\n",
       "             3464592, 3464593, 3464594],\n",
       "            dtype='int64'),\n",
       " '\\n\\n1X40FT CONT.NO.ZCSU8485660 WAS EXAMINED BY 52402 ASC1 ADAMU,50756 ASC1\\nABUBAKAR AND WAS FOUND TO CONTAIN 14PKGS OF INDUSTRIAL MACHINERIES.\\n\\n\\nRELEASED AUTHORISED BY 43285 AC OHADIKE,M.C': Int64Index([78846, 78847, 78848, 78849, 78850], dtype='int64'),\n",
       " '\\n\\n1X40FT CONT.NOS BMOU4576531 WAS EXAMINED BY 41159 CSC\\nEVBOERUAN,50040 ASC1 KHAMOFU AND WAS FOUND TO CONTAIN\\n4 USED VEHICLES;\\nTOYOTA COROLLA  2003  CH.SBIKZ28E20E042123\\nPEUGEOT 206  2003  CH.VF32DNFUF42688248\\nMAZDA CAR  2003  CH.JHZTA12J501300758\\nMERCEDES C200  2003  CH.WDC2030452R044852\\n\\n\\nVALUATION  REFERS.': Int64Index([1979574, 1979575, 1979576, 1979583, 1979584, 1979585, 1979592,\n",
       "             1979593, 1979594, 1979601, 1979602, 1979603],\n",
       "            dtype='int64'),\n",
       " '\\n\\n1X40FT CONTAINERS NUMBER CAIU 8680210 JOINTLY EXAMINED WITH OTHER AGENCIES\\nFOUND TO CONTAIN GASOLINE GENERATOR SETS, GASOLINE WATER PUMP AND POULTRY INCUBATOR\\nEXAMINED BY 38598 CSC OLOROGUN L & 44990 ASCII AJAKAIYE M F': Int64Index([215168, 215169, 215170, 215171, 215172, 215173, 215174, 215175,\n",
       "             215176, 215177, 215178, 215179, 215180, 215181, 215182, 215183],\n",
       "            dtype='int64'),\n",
       " '\\n\\n24X40FT CONT.NOS TRLU481918,GLDU4127206,TLLU8051274,HLXU5384960 WAS \\nEXAMINED BY 44343 ASC1 MOHAMMED, 52402 ASC1 ADAMU AND WAS FOUND TO\\nCONTAIN UNDENATURED ETHLY ALCOHOL WITH 80% FOR MEDICAL PHARMACEUTICAL\\n3072 UNITS.\\n\\n\\nRELEASED AUTHORISED BY 43285 AC OHADIKE,M.C.': Int64Index([57722, 57723, 57724, 57725, 57726, 57727, 57728, 57729, 57730], dtype='int64'),\n",
       " '\\n\\n2X40FT CONT. NO. SEGU4996228, NYKU4308053  WAS EXAMINED BY 44591 ASC1 \\nBASSEY, 54245 ASC1 YAWALE AND WAS FTC 3802PKGS OF ELECRICAL ACCESSORIES \\nSUCH AS LAMPHOLDER, SWITCHES.\\n\\n\\nRELEASE AUTHORISED BY 43285 AC OHADIKE,M.C.': Int64Index([2797614, 2797615, 2797616, 2797617, 2797618, 2797619, 2797620,\n",
       "             2797621, 2797622, 2797623, 2797624, 2797625, 2797626, 2797627,\n",
       "             2797628, 2797629, 2797630, 2797631, 2797632, 2797633, 2797634,\n",
       "             2797635, 2797636, 2797637, 2797638, 2797639, 2797640, 2797641,\n",
       "             2797642, 2797643, 2797644, 2797645, 2797646, 2797647],\n",
       "            dtype='int64'),\n",
       " '\\n\\n2X40FT CONT. NOS. UETU5208025,UETU5177217 WAS EXAMINED BY 52402 ASC1 ADAMU\\n44343 ASC1 MOHAMMED AND WAS FOUND TO CONTAIN 186PKGS EQUIPMENTS/JAW PLATE\\nTOOTHED PLATE,PRESSURE SWITCH AND 100PKGS OF WIRE-DRAWING GALVANISED\\nEQUIPMENTS.\\n\\n\\nRELEASED AUTHORISEDE BY 43285 AC OHADIKE,M.C.': Int64Index([78959, 78960, 78961, 78962, 78963, 78964, 78965, 78966, 78967,\n",
       "             78968, 78969],\n",
       "            dtype='int64'),\n",
       " '\\n\\n2X40FT CONT.NOS. MRKU4893440, GESU6488880 WAS EXAMINED BY \\n44343 ASC1 MOHAMMED, 52402 ASC1 ADAMU AND WAS FOUND TO CONTAIN \\n700PKGS OF GUAZE, 700PKGS OF CHEMICAL WOOD PULP.\\n\\n\\nVALUATION AND Q&A REFERS.': Int64Index([1730677, 1730678, 1730679, 1730680, 1730681, 1730682, 1730701,\n",
       "             1730702, 1730703, 1730704, 1730705, 1730706],\n",
       "            dtype='int64'),\n",
       " '\\n\\n2X40FT CONT.NOS. MRSU3683782, GESU6002849 WAS EXAMINED BY  \\n44343 ASC1 MOHAMMED, 52402 ASC1 ADAMU AND WAS FOUND TO CONTAIN\\n700PKGS OF GUAZE, 700PKGS OF CHEMICLA WOOD PULP.\\n\\n\\nVALUATION AND Q&A REFERS.': Int64Index([1895737, 1895738, 1895739, 1895740, 1895741, 1895742, 1895761,\n",
       "             1895762, 1895763, 1895764, 1895765, 1895766],\n",
       "            dtype='int64'),\n",
       " '\\n\\n3X40FT CONT NOS MRKU2339975, MSKU1638973, TGHU6606775 WAS EXAMINED\\nBY 41159 CSC EVBOERUAN, 50040 ASC1 KHAMOFU AND WAS FOUND TO CONTAIN \\n1200PKGS OF POLYVINY CALCIUM CHLORIDE(20KG)\\n\\n\\nRELEASED AUTHORISED BY 43285 AC OHADIKE,M.C.': Int64Index([2295170, 2295171, 2295172, 2295173], dtype='int64'),\n",
       " '\\n\\n3X40FT CONT NOS. MRKU5520267, MRKU2454834, MRKU2658798 WAS EXAMINED BY \\n52154 ASC1 SANI, 52402 ASC1 ADAMU AND WAS FOUND TO CONTAIN 2100PKGS OF\\nSODIUM SULPHITES.\\n\\n\\nRELEASED AUTHORISED BY 43285 AC OHADIKE,M.C.': Int64Index([2556498, 2556499, 2556500, 2556501, 2556502], dtype='int64'),\n",
       " '\\n\\n3X40FT CONT. NOS. TCNU2693954,TCNU2696386,TCNU2697163\\nWAS EXAMINED BY 44343 ASC1 MOHAMMED, 52402 ASC1 ADAMU\\n700PKGS AGRICULTURAL MACHINERY WITH PRIME MOVER,160PKGS\\nOF PUMP WATER.\\n\\n\\nVALUATION AND Q&A REFERS.': Int64Index([2140062, 2140063, 2140064, 2140065, 2140066, 2140067, 2140086,\n",
       "             2140087, 2140088, 2140089, 2140090, 2140091],\n",
       "            dtype='int64'),\n",
       " '\\n\\n3X40FT CONT.NOS. CBHU8616714,CSLU6026324,MAGU5528295 WAS EXAMINED BY \\n49919 ASC1 AHMED, 52817 ASC1 RUFIA AND WAS FOUND TO CONTAIN GASOLINE\\nWATER PUMP AND GASOLINE GENERATOR 1070PKGS.\\n\\n\\nRELEASED AUTHORISED BY 43285 AC OHADIKE,M.C.': Int64Index([1312341, 1312345, 1312346, 1312347, 1312348, 1312349, 1312350], dtype='int64'),\n",
       " '\\n\\n3X40FT CONT.NOS.MSKU1510405,MSKU1212611,MIEU3026321\\nWAS EXAMINED BY 52402 ADAM,52154 ASC1 SANI AND WAS FOUND \\nTO CONTAIN 2100PKGS OF SODIUM SULPHITE.\\n\\n\\nRELEASED AUTHORISED BY 43285 AC OHADIKE,M.C.': Int64Index([3383552, 3383553, 3383554, 3383555, 3383556], dtype='int64'),\n",
       " '\\n\\n4X20FT CONT. NOS. CBHU3990249, TGHU1154857, TEMU3058193, TCKU1923718\\nWAS EXAMINED BY 44571 ASC1 IHEANACHO,52560 ASC1 OTUKU AND WAS FOUND \\nTO CONTAIN CHIPPING HAMMER 11PKGS, SEMI TUBULAR RIVETS 35PKGS, FITTING\\nKNIT GLUE 15PKGS, STONE COATED ROOFING TILES 13PKGS.\\n\\n\\nVALUATION AND  Q&A REFERS': Int64Index([1730057, 1730058, 1730059, 1730060, 1730061, 1730072, 1730073,\n",
       "             1730074, 1730075, 1730076, 1730077, 1730090, 1730091, 1730092,\n",
       "             1730093, 1730094, 1730095, 1730096, 1730097, 1730098, 1730099,\n",
       "             1730100, 1730101, 1730126, 1730127],\n",
       "            dtype='int64'),\n",
       " '\\n\\n4X20FT CONT.NOS CSLU2448574, TRHU2793129, BMOU1048377, CLSU2011141\\nWAS EXAMINED BY 44571 ASC1 IHEANACHO, 52560 ASC1 OTUKU AND WAS FOUND \\nTO CONTAIN CHIPPING HAMMER 10PKGS,ALI SEMI TUBULAR RIVETS 35PKGS,\\nFITTING KNIT GLUE 15PKGS, STONE COATED METAL ROOFING TILE 12PKGS.\\n\\n\\nVALUATION AND Q&A REFERS.': Int64Index([1982265, 1982266, 1982281, 1982282, 1982283, 1982284, 1982285,\n",
       "             1982286, 1982287, 1982288, 1982289, 1982290, 1982291, 1982292,\n",
       "             1982311, 1982312, 1982313, 1982314, 1982315, 1982316, 1982328,\n",
       "             1982329, 1982330, 1982331, 1982332],\n",
       "            dtype='int64'),\n",
       " '\\n\\n6X20FT CONT.NOS. CAIU6202989,CAIU6202968,CAIU6203054, AND THREE OTHERS\\nWERE EXAMINED BY 44343 ASC1 MOHAMMED, 52402 ASC1 ADAMU AND WAS FOUND\\nTO CONTAIN 48PKGS OF STEEL COIL.\\n\\n\\nRELEASED AUTHORISED BY 43285 AC OHADIKE,M.C.': Int64Index([80034, 80035, 80036, 80037, 80038], dtype='int64'),\n",
       " '\\n\\n6X40FT CONT.NOS. MIEU3045804,MIEU3026701,MIEU3045208\\nMRSU4045268,MIEU3044829,MIEU3041310. WAS EXAMINED BY\\n41159 CSC EVBORUAN,50040 ASC1 KHAMOFU, AND WAS FOUND TO\\nCONTAIN 2400PKGS OF POLYVINY CALCIUM CHLORIDE.\\n\\n\\nRELEASED AUTHORISED BY 43285 AC OHADIKE,M.C.': Int64Index([3196671, 3196672, 3196673, 3196674], dtype='int64'),\n",
       " '\\n\\n6X40FT CONT.NOS. SEGU5366305,DFSU7542985, TEMU6419659, FCIU9461615\\nAND 2 OTHERS, WERE EXAMINED BY 44343 ASC1 MOHAMMED, 52154 ASC1 SANI\\nAND WAS FOUND TO CONTAIN 108,000PCS OF TAPS, AF140, N/A 18PCS.\\n\\n\\nVALUATION AND Q&A REFERS.': Int64Index([3055352, 3055353, 3055354, 3055355, 3055356, 3055357], dtype='int64'),\n",
       " '\\n\\nBASED ON D/N RAISED AND PAID WITH RECT.N0.000596\\nRELEASE AUTHORIZED BY 36478 A/C ALIYU,M.A': Int64Index([1322605, 1322606, 1322607, 1322608, 1322609, 1322625, 1322626,\n",
       "             1322627, 1322628, 1322629],\n",
       "            dtype='int64'),\n",
       " '\\n\\nBASED ON MINUTE 2 ABOIVE VALUE IS CONSIDERED WITHIN RANGE ': Int64Index([2965476, 2965477, 2965478, 2965485, 2965486, 2965487, 2965494,\n",
       "             2965495, 2965496, 2965503, 2965504, 2965505],\n",
       "            dtype='int64'),\n",
       " '\\n\\nBASED ON THE REPORT ABOVE,RELEASE AUTHORIZED BY 39200\\nAC EGU,L.J': Int64Index([673342, 673343, 673344, 673345, 673346], dtype='int64'),\n",
       " '\\n\\nC/EXAMINER BASED ON PAAR, B/L AND EXAM REPORT\\n HS CODE CONSIDERED\\n CORRECTLY ENTERED YOU MAY WISH TO TFNA PLS.': Int64Index([ 101653,  101654,  101655,  101656,  101657,  101658,  109139,\n",
       "              109140,  109141,  109142,  111900,  111901,  111902,  111903,\n",
       "              111968,  111969,  111970,  111971,  111972,  111973,  111974,\n",
       "              111975,  111976,  111977,  111978,  111979,  111980,  111981,\n",
       "              111982,  111983,  111984,  111985,  111986,  111987,  111988,\n",
       "              111989,  111990,  111991,  111992, 1816057, 1816058, 1816059,\n",
       "             1816060],\n",
       "            dtype='int64'),\n",
       " '\\n\\nC/EXAMINER BASED ON PAAR, B/L AND EXAM REPORT \\nHS CODE CONSIDERED \\nCORRECTLY ENTERED YOU MAY WISH TO TFNA PLS.': Int64Index([110383, 110384, 110385, 110386, 110387, 110388, 110389, 110390,\n",
       "             110391, 110392, 110393],\n",
       "            dtype='int64'),\n",
       " '\\n\\nC/EXAMINER BASED ON PAAR, B/L AND EXAM REPORT \\nHS CODE CONSIDERED CORRECTLY\\n ENTERED YOU MAY WISH TO TFNA PLS.': Int64Index([3274081, 3274082, 3274083, 3274084, 3274085, 3274096, 3274099], dtype='int64'),\n",
       " '\\n\\nC/EXAMINER BASED ON PAAR, B/L AND EXAM REPORT HS CODE CONSIDERED\\n CORRECTLY ENTERED YOU MAY WISH TO TFNA PLS': Int64Index([124061, 124062, 124063, 124064, 124065, 124066, 124067, 124068,\n",
       "             124069, 124070, 124071],\n",
       "            dtype='int64'),\n",
       " '\\n\\nC/EXAMINER BASED ON PAAR, B/L AND EXAM REPORT HS CODE CONSIDERED\\n CORRECTLY ENTERED YOU MAY WISH TO TFNA PLS.': Int64Index([ 125250,  125251,  125252,  125253,  125254,  125860,  125861,\n",
       "              125862,  125863,  125864,  125865,  125866,  125867,  125868,\n",
       "              125869, 1478327, 1478328, 1478329, 1478330, 1478331, 2635939,\n",
       "             2635940, 2635941, 2635942, 2635943, 2635956, 2635957, 2635958,\n",
       "             2635959, 2635960, 2635961, 2635962, 2635979, 2635980, 2635981,\n",
       "             2635982, 2635983, 2635984, 2635985, 2635986, 2635987],\n",
       "            dtype='int64'),\n",
       " '\\n\\nC/EXAMINER BASED ON VALUATION \\nASSESSMENT AS ATTACHED, B/L AND EXAM REPORT NO CONCEALMENT FOUND\\nYOU MAY WISH TO TFNA IF SATISFIED PLS...Q/A': Int64Index([1653228, 1653229, 1653230, 1653237, 1653238, 1653239, 1653246,\n",
       "             1653247, 1653248],\n",
       "            dtype='int64'),\n",
       " '\\n\\nC/EXAMINER BASED ON VALUATION ASSESSMENT \\nAS ATTACHED, B/L AND EXAM REPORT\\n NO CONCEALMENT FOUND\\nYOU MAY WISH TO TFNA IF SATISFIED PLS...Q/A': Int64Index([2536731, 2536732, 2536733], dtype='int64'),\n",
       " '\\n\\nC/EXAMINER, BASED ON EXAM REPORT AND VALUATION ASSESSMENT GIVEN, \\n NO CONCEALMENT FOUND, BUT SGD RE-ROUTED TO VALUATION \\n FOR VALUE CHECK,  PLS\\n\\n': Int64Index([995115, 995116, 995117], dtype='int64'),\n",
       " '\\n\\nC/EXAMINER, BASED ON EXAM REPORT AND VALUATION ASSESSMENT GIVEN, \\n NO CONCEALMENT FOUND, BUT SGD RE-ROUTED TO VALUATION \\nFOR VALUE CHECK,  PLS\\n': Int64Index([2309347, 2309348, 2309349], dtype='int64'),\n",
       " '\\n\\nC/EXAMINER, BASED ON EXAM REPORT, PAAR AND OTHER SUPPORTING \\nDOCUMENTS, HS CODE CONSIDERED CORRECTLY ENTERED.YOU MAY WISH TO \\nPROCEED WITH THE CLEARANCE PROCESS IF SATISFIED, PLS.\\n': Int64Index([1838105, 1838106, 1838107, 1838108, 1838109, 1838110, 1838111,\n",
       "             1838112, 1838113, 1838114, 1838115],\n",
       "            dtype='int64'),\n",
       " '\\n\\nC/EXAMINER, BASED ON EXAM REPORT, PAAR AND OTHER SUPPORTING \\nDOCUMENTS, HS CODE CONSIDERED CORRECTLY ENTERED.YOU MAY WISH TO \\nPROCEED WITH THE CLEARANCE PROCESS IF SATISFIED, PLS.....Q/A\\n': Int64Index([1606173, 1606174, 1606175, 1606176, 1606177], dtype='int64'),\n",
       " '\\n\\nC/EXAMINER, BASED ON EXAM REPORT, PAAR AND PICTORAL EVIDENCE \\nPROVIDED, HS CODE CONSIDERED CORRECTLY ENTERED.YOU MAY WISH TO 0\\nPROCEED WITH THE CLEARANCE PROCESS IF SATISFIED, PLS.\\n': Int64Index([2171028, 2171029, 2171030, 2171031, 2171032], dtype='int64'),\n",
       " '\\n\\nC/EXAMINER, BASED ON EXAM REPORT, PAAR AND PICTORAL EVIDENCE \\nPROVIDED, HS CODE CONSIDERED CORRECTLY ENTERED.YOU MAY WISH TO 0\\nPROCEED WITH THE CLEARANCE PROCESS IF SATISFIED, PLS.\\n\\n\\n\\n\\n': Int64Index([2163251, 2163252, 2163253, 2163254, 2163255], dtype='int64'),\n",
       " '\\n\\nC/EXAMINER, BASED ON EXAMINATION REORT, VALUE CONSIDERED WITHIN RANGE, YOU MAY WISH TO PROCEED PLS.': Int64Index([1088162, 1088163, 1088164, 1088165], dtype='int64'),\n",
       " '\\n\\nC/EXAMINER, BASED ON PAAR, B/L AND EXAM REPORT,\\n HS CODE IS CONSIDERED \\nCORRECTLY ENTERED, YOU MAY WISH TO TFNA, PLS': Int64Index([3303317, 3303318, 3303319, 3303320, 3303321, 3303322], dtype='int64'),\n",
       " '\\n\\nC/EXAMINER, BASED ON PAAR, B/L AND EXAM REPORT, HS CODE IS CONSIDERED \\nCORRECTLY ENTERED, YOU MAY WISH TO TFNA, PLS': Int64Index([144662, 144663, 144664, 144665, 144666, 144667, 144668, 144669,\n",
       "             144670, 144671, 144672, 144673, 144674, 144675, 144676, 144677,\n",
       "             144678, 144679, 144680, 144681, 144682, 144683, 144684, 144685,\n",
       "             144686, 144687, 144688, 144689, 144690, 144691, 144692, 144693,\n",
       "             144694, 144695, 144696, 144697, 144698, 144699, 144700],\n",
       "            dtype='int64'),\n",
       " '\\n\\nC/EXAMINER, BASED ON PAAR, B/L AND EXAMINATION REPORT\\n, HS CODE CONSIDERED CORRECTLY\\n ENTERED, YOU MAY WISH TO TFNA, PLS': Int64Index([2452435, 2452436, 2452437, 2452438, 2452439, 2452440, 2452441,\n",
       "             2452442, 2452443, 2452444, 2452445, 2452490, 2452491, 2452492,\n",
       "             2452493, 2452494, 2452495, 2452496, 2452497, 2452498, 2452499,\n",
       "             2452500, 2452545, 2452546, 2452547, 2452548, 2452549, 2452550,\n",
       "             2452551, 2452552, 2452553, 2452554, 2452555, 2452600, 2452601,\n",
       "             2452602, 2452603, 2452604, 2452605, 2452606, 2452607, 2452608,\n",
       "             2452609, 2452610],\n",
       "            dtype='int64'),\n",
       " '\\n\\nC/EXAMINER, YOU MAY WISH TO TAKE FURTHER ACTION AFTER PAYMENT': Int64Index([1590569, 1590570, 1590571, 1590572, 1590573, 1590574, 1590593,\n",
       "             1590594, 1590595, 1590596, 1590597, 1590598, 1590616, 1590617,\n",
       "             1590618, 1590619, 1590620],\n",
       "            dtype='int64'),\n",
       " '\\n\\nC/EXAMINER, YOU MAY WISH TO TAKE FURTHER ACTION AFTER PAYMENT PL': Int64Index([998768, 998769, 998770, 998771, 998772, 998773], dtype='int64'),\n",
       " '\\n\\nC/EXAMINER, YOU MAY WISH TO TAKE FURTHER ACTION AFTER PAYMENT PLS': Int64Index([ 757323,  757324,  757325,  757326,  757327,  757328,  757329,\n",
       "              757330,  757331,  757332,\n",
       "             ...\n",
       "             3236527, 3236528, 3236529, 3236566, 3236567, 3236568, 3236569,\n",
       "             3236570, 3236571, 3236578],\n",
       "            dtype='int64', length=111),\n",
       " '\\n\\nC/EXAMINER, YOU MAY WISH TO TAKE FURTHER ACTION AFTER PAYMENT PLS\\n': Int64Index([ 595743,  595744,  595745,  595746,  595747,  595748,  595749,\n",
       "              595750,  595751,  595752, 1430250, 1430251, 1430252, 1430253,\n",
       "             1430254, 1430255, 1430274, 1430275, 1430276, 1430277, 1430278,\n",
       "             1430279, 1430280, 1430281, 1430282],\n",
       "            dtype='int64'),\n",
       " '\\n\\nC/EXAMINER, YOU MAY WISH TO TFNA AFTER PAYMENT, PLS': Int64Index([1052699, 1052700, 1052701, 1052702, 1052703, 1052704, 1052705,\n",
       "             1052706, 1052707, 1052708, 1052709],\n",
       "            dtype='int64'),\n",
       " '\\n\\nC/EXAMINER, YOU MAY WISH TO TFNA, PLS': Int64Index([ 723169,  723170,  723171,  723172,  723173,  723174,  723175,\n",
       "              723176,  723177,  723178,  723179,  723180,  736228,  736229,\n",
       "              736230,  736231,  736232,  736233,  736234,  736235,  736236,\n",
       "              736237,  736238,  736239,  736240,  736241,  736242,  736243,\n",
       "              736244,  736245,  736246, 1260330, 1260331, 1260332, 1260333,\n",
       "             1260334, 1260335, 1260354, 1260355, 1260356, 1260357, 1260358,\n",
       "             2752620, 2752621, 2752622, 2752623, 2752624, 2752625, 2752644,\n",
       "             2752645, 2752646, 2752647, 2752648, 2752649],\n",
       "            dtype='int64'),\n",
       " '\\n\\nC/EXAMINER, YOUIR EXAMINATION REPORT REFERS, YOU MAY \\nWISH TO RE-CONFIRM OR OTHERWISE, PLS\\n\\n\\n\\n\\n\\n\\n\\n\\n\\n\\n\\n': Int64Index([1412038, 1412039, 1412040, 1412041, 1412042, 1412043], dtype='int64'),\n",
       " '\\n\\nCLEARED BY VALUATION RELEASED\\n': Int64Index([152030, 152031, 152032], dtype='int64'),\n",
       " '\\n\\nGROUPAGE CONT NO. IDENTIFUED OPENED AND WAS EXAMONED BY 44591 ASC1 \\nBASSEY AND WAS FTC ONE UNIT OF USED HEIDELBERG TOPSETTER,AND \\nACCESSORIES. ALL IN TWO PALLETS.\\n\\n\\nVALUATION REFERS.': Int64Index([2916426, 2916427, 2916428, 2916429, 2916430], dtype='int64'),\n",
       " '\\n\\nGROUPAGE CONT. NO. IDENTIFIED OPENED  AND WAS EXAMINED BY 44591 ASC1\\nBASSEY AND WAS FTC 58PCS OF SPARE PR5TS FOR LOSCHE ROLLER GRINDING \\nMILL SUCH AS ARMOUR RING, 2-PART 10PCS, SEALING BAR 24PCS AND SEALING BAR(BIG)\\nALL IN ONE BOX,\\n\\nVALUATION REFERS.': Int64Index([681901, 681902, 681903, 681904, 681905], dtype='int64'),\n",
       " '\\n\\nGROUPAGE CONT. NO. IDENTIFIED OPENED AND WAS EXAMINED  BY 44591 ASC1 \\nBASSEY AND WAS FTC 52CTNS OF PVC RAIN BOOT AND 10PCS IN EACH CARTON.\\nALL IN 4 PALLETS.\\n\\n\\nVALUATION REFERS.': Int64Index([1295253, 1295254], dtype='int64'),\n",
       " '\\n\\nGROUPAGE CONT. NO. IDENTIFIED OPENED AND WAS EXAMINED BY 44591 ASC1\\nBASSEY AND WAS FTC 16PCS OF HOOKS AND CHAIN TRACK FOR LIMESTONE\\nCRUSHING FOR EDO CEMENT OBU PLANNT. ALL IN THREE PALLETS.\\n\\n\\nVALUATION REFERS.': Int64Index([2834843, 2834844, 2834845, 2834846, 2834847], dtype='int64'),\n",
       " '\\n\\nGROUPAGE CONT. NO. IDENTIFIED OPENED AND WAS EXAMINED BY 44591 ASC1\\nBASSEY AND WAS FTC 3 JERRYCANS OF VIKING SOLUTION, NEW EMPTY BLAD TANK,\\nFIRE FIGHING FOAM. ALL IN 3 PALLETS.\\n\\nVALUATION REFERS.': Int64Index([1635376, 1635377, 1635378, 1635379], dtype='int64'),\n",
       " '\\n\\nGROUPAGE CONT. NO. IDENTIFIED OPENED AND WAS EXAMINED BY 44591 ASC1\\nBASSEY AND WAS FTC ONE BAG OF SUPER MARKET ITEM SUCH AS COFFEE,\\nBISCUITS, MARGARINE. TOTAL OF 50PCS.\\n\\n\\nRELEASE AUTHORISED BY 43285 AC OHADIKE,M.C.': Int64Index([682712, 682713, 682714, 682715, 682716, 682717, 682718, 682719,\n",
       "             682720],\n",
       "            dtype='int64'),\n",
       " '\\n\\nGROUPAGE CONT. NO. IDENTIFIED OPENED AND WAS EXAMINED BY 44591 ASC1\\nBASSEY AND WAS FTC ONE UNIT OF PRCISE PANEL SAW WITH COMPONENT IN\\nTWO CASES.\\n\\n\\nVALUATION REFERS.': Int64Index([690316, 690317, 690318, 690319, 690320, 690321], dtype='int64'),\n",
       " '\\n\\nGROUPAGE CONT. NO. IDENTIFIED OPENED AND WAS EXAMINED BY 44591 ASC1 \\nBASSEY AN WAS FTC 2PCS OF PINION ASSY IN TWO BOXES.\\n\\nGROUPAGE CONT. NO. IDENTIFIED OPENED AND WAS EXAMINED BY 44591 ASC1\\nBASSEY AND WAS FTC 2PCS OF PINION ASSY IN TWO BOXES.\\n\\n\\nVALUATION REFERS.\\n\\n\\n\\n\\n\\nVALUATION REFERS.': Int64Index([722154, 722155, 722156, 722157, 722158], dtype='int64'),\n",
       " '\\n\\nGROUPAGE CONT. NO. IDENTIFIED OPENED AND WAS EXAMINED BY 44591 ASC1 \\nBASSEY AND FTC 1000PCS OF SPARE PARTS FOR CEMENT MAKING MACHINERY \\nSUCH AS HEXAGON HEAD SCREW 240PCS, CURTAIN 2PCS, U-BOLT WIRE ROPE GRID\\nINNER LAMELLA 120PCS ALL IN 6 PALLETS.\\n\\nQ&A AND VALUATION REFERS.': Int64Index([736478, 736479, 736480, 736481, 736482], dtype='int64'),\n",
       " '\\n\\nGROUPAGE CONT. NO. IDENTIFIED OPENED AND WAS EXAMINED BY 44591 ASC1 \\nBASSEY AND WAS FTC ONE ROLL OF PACKING MACHINE TEXTER FOR EDO \\nCEMENT.\\n\\n\\nRELEASE AUTHORISED BY 43285 AC OHADIKE,M.C.': Int64Index([677937, 677938, 677939, 677940, 677941], dtype='int64'),\n",
       " '\\n\\nGROUPAGE CONT. NO. IDENTIFIED OPENED AND WAS EXAMINED BY 44592 ASC1\\nBASSEY AND WAS FTC 22 ROLLS OF FOIL PAPER IN ELEVEN CASES.\\n\\n\\nVALUATION REFERS': Int64Index([2500214, 2500215, 2500216, 2500217, 2500218, 2500219, 2500220], dtype='int64'),\n",
       " '\\n\\nGROUPAGE CONT. NO. IDENTIFUED OPENED AND WAS EXAMINED BY 44591 ASC1 \\nBASSEY AND WAS FTC 4 BUMPER CAR 350KG, 2 WALKING ROBOTS 550PKGS WITH\\nACCESSORIES. ALL IN 7 PALLETS.\\n\\n\\nVALUATION REFERS.': Int64Index([714329, 714330, 714331, 714332, 714333, 714334, 714335, 714336,\n",
       "             714337, 714338],\n",
       "            dtype='int64'),\n",
       " '\\n\\nGROUPAGE CONT. NO. IDETIFIED OPENED AND WAS EXAMINED BY 44591 ASC1 \\nBASSEY AND WAS FTC 62CTNS OF VARIOUS ITEMS SUCH AS DISPOSABLE PVC\\nCUPS 45PCS, DISPOSABLE HANDLE BAGS AND TRAY, ASSORTED FREE GIFTS ITEMS\\nALL IN 3 PALLETS.\\n\\n\\nVALUATION REFERS.': Int64Index([694718, 694719, 694720, 694721, 694722], dtype='int64'),\n",
       " '\\n\\nGROUPAGE CONT.IDENTIFIED OPENED AND WAS EXAMINED BY 44591 ASC1 \\nBASSEY AND WAS FTC 32 BAGS OF MENTHOL FLAVOUR OF 25KG IN ONE\\nPALLET.\\n\\nVALUATION REFERS.': Int64Index([3103709, 3103710], dtype='int64'),\n",
       " '\\n\\nGROUPAGE CONT.NO. IDENTIFIED OPENED AND WAS EXAMIMED BY 44591 ASC1 \\nBASSEY AND WAS FTC 30PCS OF PRESSURE FLUID CONTROL, 20PCS OF VALVE\\nAND 5PACKS OF RINGS IN TWO CASES.\\n\\n\\nVALUATION REFERS.': Int64Index([628308, 628309, 628310, 628311, 628312], dtype='int64'),\n",
       " '\\n\\nONE  USED ACURA MDX 2005 MODEL WITH CHASSIS N;- CH. 2HNYD18245H550902\\nIDENTIFIED, AND EXAMINED BY-  34714,DSC,SULEIMAN AND 44267, ASCII,AKINLADE,O.E\\nRELEASED.': Int64Index([3467976, 3467977, 3467978], dtype='int64'),\n",
       " '\\n\\nONE  USED FORD GALAXY 2004 MODEL WITH CHASSIS NO:WF0FXXPSWGYR71991\\nIDENTIFIED AND EXAMINED BY 36970 SC IDRIS , M. AND 34714 DSC SULEIMAN, M\\nRELEASED.': Int64Index([2876187, 2876188, 2876189], dtype='int64'),\n",
       " '\\n\\nONE  USED HONDA PILOT 2003 MODEL WITH CHASSIS NO:- 2HKYF18573H567823\\nIDENTIFIED AND EXAMINED BY  34714 DSC SULEIMAN M AND 40923, ASCII, ABDULMALIK,I\\nRELEASED': Int64Index([2396771, 2396772, 2396773], dtype='int64'),\n",
       " '\\n\\nONE  USED LEXUS ES 350 (ACC) 2010 MODEL WITH CHASSIS NO:- JTHBK1EG8A2395337\\nIDENTIFIED AND EXAMINED BY  34714 DSC SULEIMAN M AND 44267,ASCII, AKINLADE,O.E\\nRELEASED\\n': Int64Index([1396143, 1396144, 1396145], dtype='int64'),\n",
       " '\\n\\nONE  USED LEXUS ES 350 [2007] CHASS; NO; JTHBJ46G872114827\\nEXAMINED BY; 34714, DSC, SULEIMAN,M. AND 40623, ASCII, ABDULMALIK,I\\nRELEASED': Int64Index([1238212, 1238213, 1238214], dtype='int64'),\n",
       " '\\n\\nONE  USED MITSUBISHI FUSO [1999] MODEL CHASS; NO; JW6AAF1H5XL001727\\nEXAMINED BY;  34714,DSC,SULEIMAN,M AND 44267,ASCII,AKINLADE,O.E\\nRELEASED': Int64Index([3397231, 3397232, 3397233], dtype='int64'),\n",
       " '\\n\\nONE  USED PEUGEOT 206 2004 MODEL WITH CHASSIS NO:- VF32CHFZE41065945\\nIDENTIFIED AND EXAMINED BY  34714 DSC SULEIMAN M AND 44267,ASCII, AKINLADE,O.E\\nRELEASED': Int64Index([207056, 207057, 207058], dtype='int64'),\n",
       " '\\n\\nONE  USED PEUGEOT 406 2004 MODEL WITH CHASSIS NO:VF38B6FZF81420508\\nIDENTIFIED AND EXAMINED BY 34714 DSC SULEIMAN M AND 38923 ASC I ABUBAKAR , T.A\\nRELEASED.': Int64Index([782596, 782597, 782598], dtype='int64'),\n",
       " '\\n\\nONE  USED PEUGEOT 407 2004 MODEL WITH CHASSIS NO:CH: VF36D6FZC21105958\\nIDENTIFIED AND EXAMINED BY 34714 DSC SULEIMAN M AND 38923 ASC I ABUBAKAR , T.A\\nRELEASED.': Int64Index([1431733, 1431734, 1431735], dtype='int64'),\n",
       " '\\n\\nONE 1  USED LEXUS ES 350 2007 MODEL WITH CHASSIS NO:- JTHBJ46G272089794\\nIDENTIFIED AND EXAMINED BY  34714 DSC SULEIMAN M AND 44267,ASCII, AKINLADE,O.E\\nRELEASED': Int64Index([1815675, 1815676, 1815677], dtype='int64'),\n",
       " '\\n\\nONE 1 USED  NISSAN TITAN PICK UP 2006 MODEL WITH CHASSIS NO:- 1N6AA07A86N553908\\nIDENTIFIED AND EXAMINED BY  34714 DSC SULEIMAN M AND 49798 ,ASCI, SIDI,M.M.\\nRELEASED': Int64Index([2473225, 2473226, 2473227], dtype='int64'),\n",
       " '\\n\\nONE 1 USED LEXUS GS 300 2006 MODEL  WITH CHASSIS NO;-JTHBH96S965000538\\nIDENTIFIED AND EXAMINED BY AND 34714,DSC,SULEIMAN,M AND 49798,ASCI,SIDI,MM\\nRELEASED\\n': Int64Index([3468831, 3468832, 3468833], dtype='int64'),\n",
       " '\\n\\nONE 1 USED LEXUS RX 300 2003 MODEL WITH CHASSIS NO:- JTJHF10U310221584\\nIDENTIFIED AND EXAMINED BY  49798, ASCI, SIDI,M.M  AND 44267,ASCII, AKINLADE,O.E\\nRELEASED': Int64Index([1898717, 1898718, 1898719], dtype='int64'),\n",
       " '\\n\\nONE 1 USED LEXUS RX 330 2004 MODEL WITH CHASSIS NO;- JTJHA31U440024002\\nIDENTIFIED AND EXAMINED BY 34714,DSC,SULEIMAN M AND 52867,ASCII,AKINLOYE\\nRELEASED.\\n': Int64Index([132096, 132097, 132098], dtype='int64'),\n",
       " '\\n\\nONE 1 USED MAZDA CX-9 2008 MODEL  WITH CHASSIS NO;- JM3TB38V380145304\\nIDENTIFIED AND EXAMINED BY AND 34714,DSC,SULEIMAN,M AND 49798,ASCI,SIDI,MM\\nRELEASED\\n': Int64Index([2532520, 2532521, 2532522], dtype='int64'),\n",
       " '\\n\\nONE 1 USED MERCEDES BENZ ML 320 2003 MODEL WITH CHASSIS NO:- 4JGAB54E62A345169\\nIDENTIFIED AND EXAMINED BY  49798, ASCI, SIDI,M.M  AND 44267,ASCII, AKINLADE,O.E\\nRELEASED\\n': Int64Index([78601, 78602, 78603], dtype='int64'),\n",
       " '\\n\\nONE MERCEDES BENZ C230 (ACC) 2006 MODEL WITH CHASSIS NO:- WDBRF52H06F831511\\nIDENTIFIED AND EXAMINED BY  34714 DSC SULEIMAN M AND 49798 ,ASCI, SIDI,M.M.\\nRELEASED': Int64Index([80978, 80979, 80980], dtype='int64'),\n",
       " '\\n\\nONE ONE USED  LEXUS  RX300 2003 MODEL WITH CHASSIS N;- JT6GF10U7Y0048118\\nIDENTIFIED, AND EXAMINED BY-  34714,DSC,SULEIMAN AND 44267, ASCII,AKINLADE,O.E\\nRELEASED.': Int64Index([2968376, 2968377, 2968378], dtype='int64'),\n",
       " '\\n\\nONE ONE USED CHEVROLET HHR 2008 MODEL WITH CHASSIS N;- 3GNDA23D68S532373\\nIDENTIFIED, AND EXAMINED BY-  34714,DSC,SULEIMAN AND 44267, ASCII,AKINLADE,O.E\\nRELEASED.': Int64Index([1816924, 1816925, 1816926], dtype='int64'),\n",
       " '\\n\\nONE ONE USED FORD ECONOLINE  BUS 1999 MODEL WITH CHASSIS NO:1FTRE1429XHB02418\\nIDENTIFIED AND EXAMINED BY 34714 DSC SULEIMAN M AND 38923 ASC I ABUBAKAR , T.A\\nRELEASED.': Int64Index([1306789, 1306790, 1306791], dtype='int64'),\n",
       " '\\n\\nONE ONE USED HONDA ACCORD 2006 MODEL WITH CHASSIS NO:1HGCM56726A122298\\nIDENTIFIED AND EXAMINED BY 34714 DSC SULEIMAN M AND 38923 ASC I ABUBAKAR , T.A\\nRELEASED.\\n': Int64Index([2263467, 2263468, 2263469], dtype='int64'),\n",
       " '\\n\\nONE ONE USED HONDA ACCORD 2008 MODEL WITH CHASSIS NO:1HGCP26438A043818\\nIDENTIFIED AND EXAMINED BY 41814 CSC ADESHINA J.O AND 38923 ASC I ABUBAKAR , T.A\\nRELEASED.': Int64Index([699535, 699536, 699537], dtype='int64'),\n",
       " '\\n\\nONE ONE USED HONDA CIVIC 2006 MODEL WITH CHASSIS NO:2HGFA16566H522606\\nIDENTIFIED AND EXAMINED BY 41814 CSC ADESHINA J.O AND 38923 ASC I ABUBAKAR , T.A\\nRELEASED.': Int64Index([733872, 733873, 733874], dtype='int64'),\n",
       " '\\n\\nONE ONE USED LEXUS ES330 2005 MODEL WITH CHASIS NO:- JYHBA30G855072447\\nIDENTIFIED AND EXAMINED BY-34714,DSC,SULEIMAN,M AND 49798, ASCI,SIDI \\nRELEASED': Int64Index([2626943, 2626944], dtype='int64'),\n",
       " '\\n\\nONE ONE USED LEXUS GX470 2006 MODEL WITH CHASSIS N;- CH: JTJBT20X660098918\\nIDENTIFIED, AND EXAMINED BY-  34714,DSC,SULEIMAN AND 44267, ASCII,AKINLADE,O.E\\nRELEASED.\\n': Int64Index([3467173, 3467174, 3467175], dtype='int64'),\n",
       " '\\n\\nONE ONE USED LEXUS RX 350 (ACC) 2007 MODEL  WITH CHASSIS NO;2T2GK31U07C020868\\nIDENTIFIED AND EXAMINED BY 36970, SC,IDRIS, M AND 34714,DSC,SULEIMAN,M\\nRELEASED\\n': Int64Index([124533, 124534, 124535], dtype='int64'),\n",
       " '\\n\\nONE ONE USED PONTIAC VIBE 2003 MODEL WITH CHASSIS NO:- 5Y2SM62803Z471780\\nIDENTIFIED AND EXAMINED BY  34714 DSC SULEIMAN M AND 49798 ,ASCI, SIDI,M.M.\\nRELEASED': Int64Index([133856, 133857, 133858], dtype='int64'),\n",
       " '\\n\\nONE ONE USED PONTIAC VIBE 2005 MODEL WITH CHASSIS NO:- CH: 5Y2SL63895Z402865\\nIDENTIFIED AND EXAMINED BY  34714 DSC SULEIMAN M AND 44267,ASCII, AKINLADE,O.E\\nRELEASED\\n': Int64Index([2722466, 2722467, 2722468], dtype='int64'),\n",
       " '\\n\\nONE ONE USED PONTIAC VIBE 2006 MODEL WITH CHASSIS NO:- 5Y2SM65856Z433025\\nIDENTIFIED AND EXAMINED BY  34714 DSC SULEIMAN M AND 44267,ASCII, AKINLADE,O.E\\nRELEASED': Int64Index([145750, 145751, 145752], dtype='int64'),\n",
       " '\\n\\nONE ONE USED SATURN VUE 2008 MODEL WITH CHASSIS NO:- 3GSDL43N08S701802\\nIDENTIFIED AND EXAMINED BY  34714 DSC SULEIMAN M AND 44267,ASCII, AKINLADE,O.E\\nRELEASED': Int64Index([1565840, 1565841, 1565842], dtype='int64'),\n",
       " '\\n\\nONE STC USED PONTIAC VIBE 2005 MODEL WITH CHASSIS NO:5Y25M680Z443060\\nIDENTIFIED AND EXAMINED BY  34714 DSC SULEIMAN M. AND 44267, ASCII, AKINLADE,O.E \\nRELEASED\\n': Int64Index([3439606, 3439607, 3439608], dtype='int64'),\n",
       " '\\n\\nONE USED   ACURA MDX 2005 MODEL WITH CHASSIS NO:2HNYD18955H505139\\nIDENTIFIED AND EXAMINED BY 34714 DSC SULEIMAN M AND 38923 ASC I ABUBAKAR , T.A\\nRELEASED.': Int64Index([764803, 764804, 764805], dtype='int64'),\n",
       " '\\n\\nONE USED   HONDA ACCORD 2006 MODEL WITH CHASSIS NO:- 1HGCM66846A063639\\nIDENTIFIED AND EXAMINED BY  34714 DSC SULEIMAN M AND 52867, ASCII, AKINLOYE,K.Y.\\nRELEASED': Int64Index([2304534, 2304535, 2304536], dtype='int64'),\n",
       " '\\n\\nONE USED  FORD ECONOLINE BUS  2000 MODEL WITH CHASSIS NO:1FTNE24L1YHB78844\\nIDENTIFIED AND EXAMINED BY 36970 SC IDRIS , M. AND 34714 DSC SULEIMAN, M\\nRELEASED.': Int64Index([2449569, 2449570, 2449571], dtype='int64'),\n",
       " '\\n\\nONE USED  GMC ENVOY 2004 MODEL WITH CHASSIS NO:- CH: 1GKDS13S652299931\\nIDENTIFIED AND EXAMINED BY  34714 DSC SULEIMAN M AND 49798 ,ASCI, SIDI,M.M.\\nREFER TO VALUATION': Int64Index([2528359, 2528360, 2528361], dtype='int64'),\n",
       " '\\n\\nONE USED  HONDA ACCORD 2004 MODEL WITH CHASSIS NO:1HGCM56634A065162\\nIDENTIFIED AND EXAMINED BY 36970 SC IDRIS , M. AND 34714 DSC SULEIMAN, M\\nRELEASED.': Int64Index([691801, 691802, 691803], dtype='int64'),\n",
       " '\\n\\nONE USED  HONDA CR-V 2007 MODEL WITH CHASSIS NO:- 5J6RE48577L011631\\nIDENTIFIED AND EXAMINED BY  49798, ASCI, SIDI,M.M  AND 44267,ASCII, AKINLADE,O.E\\nRELEASED': Int64Index([136370, 136371, 136372], dtype='int64'),\n",
       " '\\n\\nONE USED  LEXUS ES300 2004 MODEL WITH CHASSIS NO:JTHBF30G925001819\\nIDENTIFIED AND EXAMINED BY 34714 DSC SULEIMAN M AND 38923 ASC I ABUBAKAR , T.A\\nRELEASED.': Int64Index([1287092, 1287093, 1287094], dtype='int64'),\n",
       " '\\n\\nONE USED  LEXUS ES330 2006 MODEL WITH CHASSIS NO:JTHBA30G265173761\\nIDENTIFIED AND EXAMINED BY 34714 DSC SULEIMAN M AND 38923 ASC I ABUBAKAR , T.A\\nRELEASED.': Int64Index([2178516, 2178517, 2178518], dtype='int64'),\n",
       " '\\n\\nONE USED  LEXUS ES350 2008 MODEL WITH CHASSIS NO:JTHBJ46G382206476\\nIDENTIFIED AND EXAMINED BY 41814 CSC ADESHINA J.O AND 38923 ASC I ABUBAKAR , T.A\\nRELEASED.\\n': Int64Index([2014993, 2014994, 2014995], dtype='int64'),\n",
       " '\\n\\nONE USED  LEXUS RX 350 (ACC) 2010 MODEL WITH CHASSIS NO:- 2T2BK1BAXAC019821\\nIDENTIFIED AND EXAMINED BY  38923, ASCI, ABUBAKAR, T.A  AND 52867, ASCII, AKINLOYE,K.Y.\\nRELEASED': Int64Index([2812956, 2812957, 2812958], dtype='int64'),\n",
       " '\\n\\nONE USED  MERCEDES BENZ ML 350 2007 MODEL WITH CHASSIS NOCH: 4JGBB86EX7A204325\\nIDENTIFIED AND EXAMINED BY  34714 DSC SULEIMAN M. AND 44267, ASCII, AKINLADE,O.E \\nREFER TO VALUATION FOR VALUE CHECK': Int64Index([1632963, 1632964, 1632965], dtype='int64'),\n",
       " '\\n\\nONE USED  SATURN VUE 2006 MODEL WITH CHASSIS NO:5GZCZ63456S890575\\nIDENTIFIED AND EXAMINED BY 34714 DSC SULEIMAN M AND 38923 ASC I ABUBAKAR , T.A\\nRELEASED.': Int64Index([749319, 749320, 749321], dtype='int64'),\n",
       " '\\n\\nONE USED  SCION TC 2009 MODEL WITH CHASSIS NO:JTKDE167X90301118\\nIDENTIFIED AND EXAMINED BY  41814,CSC,ADESHINA,J.O AND 34714 DSC SULEIMAN M. \\nRELEASED': Int64Index([197463, 197464, 197465], dtype='int64'),\n",
       " '\\n\\nONE USED  USED HONDA PILOT 2005 MODEL WITH CHASSIS NO:- 5FNYF186X5B046010\\nIDENTIFIED AND EXAMINED BY  34714 DSC SULEIMAN M AND 40623, ASCII, ABDULMALIK, I\\nRELEASED': Int64Index([1318766, 1318767, 1318768], dtype='int64'),\n",
       " '\\n\\nONE USED  USED HYUNDAI SONATA [2004] MODEL CHASS; NO;KMHEN41BP4A030346\\nEXAMINED BY; 34714,DSC,SULEIMAN,M AND 38923,DSC,ABUBAKAR,T.A\\nRELEASED': Int64Index([397769, 397770, 397771], dtype='int64'),\n",
       " '\\n\\nONE USED 1 USED TOYOTA RAV4 2006 MODEL WITH CHASSIS NO:CH/NO. JTMBD33V265036502\\nIDENTIFIED AND EXAMINED BY 34714 DSC SULEIMAN M AND 38923 ASC I ABUBAKAR , T.A\\nRELEASED.': Int64Index([1366338, 1366339, 1366340], dtype='int64'),\n",
       " '\\n\\nONE USED :KIA SEDONA 2008 MODEL WITH CHASSIS NO:KNDJE723987453493\\nIDENTIFIED AND EXAMINED BY 34714 DSC SULEIMAN M AND 38923 ASC I ABUBAKAR , T.A\\nRELEASED.\\n': Int64Index([3337923, 3337924, 3337925], dtype='int64'),\n",
       " '\\n\\nONE USED ACURA 3.2 2003 MODEL WITH CHASSIS NO:19UUA56683A042004\\nIDENTIFIED AND EXAMINED BY  41814,CSC,ADESHINA,J.O AND 34714 DSC SULEIMAN M. \\nREFER TO VALUATION': Int64Index([198135, 198136, 198137], dtype='int64'),\n",
       " '\\n\\nONE USED ACURA MDX  2006 MODEL WITH CHASSIS NO:2HNYD18826H550953\\nIDENTIFIED AND EXAMINED BY  41814,CSC,ADESHINA,J.O AND 34714 DSC SULEIMAN M. \\nRELEASED': Int64Index([204479, 204480, 204481], dtype='int64'),\n",
       " '\\n\\nONE USED ACURA MDX 2006 MODEL WITH CHASSIS NO:- 2HNYD18996H537769\\nIDENTIFIED AND EXAMINED BY  34714 DSC SULEIMAN M AND 44267,ASCII, AKINLADE,O.E\\nRELEASED': Int64Index([2314027, 2314028, 2314029], dtype='int64'),\n",
       " '\\n\\nONE USED ACURA MDX 2006 MODEL WITH CHASSIS NO:- CH:2HNYD18276H551317\\nIDENTIFIED AND EXAMINED BY  49798, ASCI, SIDI,M.M  AND 44267,ASCII, AKINLADE,O.E\\nREFER TO VALUATION': Int64Index([132746, 132747, 132748], dtype='int64'),\n",
       " '\\n\\nONE USED ACURA MDX 2007 MODEL WITH CHASSIS NO:- 2HNYD28587H536164\\nIDENTIFIED AND EXAMINED BY  49798, ASCI, SIDI,M.M  AND 44267,ASCII, AKINLADE,O.E\\nRELEASED': Int64Index([2810521, 2810522, 2810523], dtype='int64'),\n",
       " '\\n\\nONE USED AUDI A6 2005 MODEL WITH CHASSIS NO:WAUDG74F05N096126\\nIDENTIFIED AND EXAMINED BY 34714 DSC SULEIMAN M AND 38923 ASC I ABUBAKAR , T.A\\nRELEASED.': Int64Index([798333, 798334, 798335], dtype='int64'),\n",
       " '\\n\\nONE USED AUDI A6 2008 MODEL WITH CHASSIS NO: WAUDH74F98N163212\\nIDENTIFIED AND EXAMINED BY  36970 SC IDRIS , M. AND 34714 DSC SULEIMAN M. \\nRELEASED': Int64Index([776254, 776255, 776256], dtype='int64'),\n",
       " '\\n\\nONE USED BMW 5 SERIES 2006 MODEL WITH CHASSIS NO:WBANF73526CG68961\\nIDENTIFIED AND EXAMINED BY 34714 DSC SULEIMAN M AND 38923 ASC I ABUBAKAR , T.A\\nRELEASED.\\n': Int64Index([2101004, 2101005, 2101006], dtype='int64'),\n",
       " '\\n\\nONE USED BMW 525 2003 MODEL WITH CHASSIS NO:WBADD11060BN24233 \\nIDENTIFIED AND EXAMINED BY  34714 DSC SULEIMAN M. AND 44267, ASCII, AKINLADE,O.E \\nRELEASED': Int64Index([185388, 185389, 185390], dtype='int64'),\n",
       " '\\n\\nONE USED BMW 750 (ACC) 2007 MODEL WITH CHASSIS NO:- WBAHN83557DT68345\\nIDENTIFIED AND EXAMINED BY  34714 DSC SULEIMAN M AND 49798 ,ASCI, SIDI,M.M.\\nREFER TO VALUATION\\n': Int64Index([3216423, 3216424, 3216425], dtype='int64'),\n",
       " '\\n\\nONE USED BMW X5 (ACC) 2011 MODEL WITH CHASSIS NO:- CH: 5UXZV8C50BLL67964\\nIDENTIFIED AND EXAMINED BY  49798, ASCI, SIDI,M.M  AND 44267,ASCII, AKINLADE,O.E\\nRELEASED': Int64Index([2150998, 2150999, 2151000], dtype='int64'),\n",
       " '\\n\\nONE USED CHEVROLET EQUINOX 2006 MODEL WITH CHASSIS NO:- 2CNDL63F966209440\\nIDENTIFIED AND EXAMINED BY  41814, CSC, ADESHINA,J.O AND 34714 DSC SULEIMAN M \\nRELEASED': Int64Index([2727591, 2727592, 2727593], dtype='int64'),\n",
       " '\\n\\nONE USED CHEVROLET EXPRESS 2003 MODEL WITH CHASSIS NO:1GCFG15W421173669 \\nIDENTIFIED AND EXAMINED BY  34714 DSC SULEIMAN M. AND 44267, ASCII, AKINLADE,O.E \\nRELEASED': Int64Index([306613, 306614, 306615], dtype='int64'),\n",
       " '\\n\\nONE USED DODGE CALIBER 2008 MODEL WITH CHASSIS NO:1B3HB48B78D673772\\nIDENTIFIED AND EXAMINED BY  41814,CSC,ADESHINA,J.O AND 34714 DSC SULEIMAN M. \\nRELEASED': Int64Index([1534347, 1534348, 1534349], dtype='int64'),\n",
       " '\\n\\nONE USED DODGE RAM PICK UP WITH CHASSIS NO:- CH. 3D7HA18N22G114236\\nIDENTIFIED AND EXAMINED BY  34714 DSC SULEIMAN M AND 44267,ASCII, AKINLADE,O.E\\nRELEASED': Int64Index([3207827, 3207828, 3207829], dtype='int64'),\n",
       " '\\n\\nONE USED FIAT DUCATO 2004 MODEL WITH CHASSIS NO:- ZFA23000005907545\\nIDENTIFIED AND EXAMINED BY  34714 DSC SULEIMAN M AND 49798 ,ASCI, SIDI,M.M.\\nRELEASED': Int64Index([2967343, 2967344, 2967345], dtype='int64'),\n",
       " '\\n\\nONE USED FIAT DUCATO BUS MODEL WITH CHASSIS NO:ZFA23000005430960\\nIDENTIFIED AND EXAMINED FOUND TO CONTAI USED ELECTRONIC BY  41814,CSC,ADESHINA,J.O AND 34714 DSC SULEIMAN M. \\nREFER TO VALUATION FOR NECESSARY ACTIONS.': Int64Index([3307255, 3307256, 3307257], dtype='int64'),\n",
       " '\\n\\nONE USED FIAT ULYSSE 2003 MODEL WITH CHASSIS NO:- ZFA22000012710149\\nIDENTIFIED AND EXAMINED BY  49798, ASCI, SIDI,M.M  AND 44267,ASCII, AKINLADE,O.E\\nRELEASED': Int64Index([1731470, 1731471, 1731472], dtype='int64'),\n",
       " '\\n\\nONE USED FORD E350 2011 MODEL WITH CHASSIS NO;- 1FDSS3EL3BDB39117\\nIDENTIFIED AND EXAMINED BY 34714,DSC,SULEIMAN M AND 52867,ASCII,AKINLOYE\\nRELEASED.\\n': Int64Index([3056873, 3056874, 3056875], dtype='int64'),\n",
       " '\\n\\nONE USED FORD ECONOLINE 2003 MODEL WITH CHASSIS NO:1FTNS24212HA26540\\nIDENTIFIED AND EXAMINED BY 34714 DSC SULEIMAN M AND 38923 ASC I ABUBAKAR , T.A\\nREFER TO VALUATION AS DIRECTED.': Int64Index([723518, 723519, 723520], dtype='int64'),\n",
       " '\\n\\nONE USED FORD ECONOLINE BUS MODEL WITH CHASSIS NO:- 1FMEE11L8HA21849\\nIDENTIFIED AND EXAMINED BY  34714 DSC SULEIMAN M AND 44267,ASCII, AKINLADE,O.E\\nRELEASED': Int64Index([205764, 205765, 205766], dtype='int64'),\n",
       " '\\n\\nONE USED FORD EDGE 2008 MODEL WITH CHASSIS NO:- CH:2FMDK39C98BB45196\\nIDENTIFIED AND EXAMINED BY  34714 DSC SULEIMAN M AND 49798 ,ASCI, SIDI,M.M.\\nRELEASED': Int64Index([2192142, 2192143, 2192144], dtype='int64'),\n",
       " '\\n\\nONE USED FORD EDGE [2012] CHASS; NO; 2FMDK3GC1CBA18311\\nEXAMINED BY; 49798, DSC, SIDI,M.M AND 40623, ASCII, ABDULMALIK,I\\nRELEASED': Int64Index([267029, 267030, 267031], dtype='int64'),\n",
       " '\\n\\nONE USED FORD ESCAPE 2008 MODEL WITH CHASSIS NO:CH NO:1FMCU94158KD14067 \\nIDENTIFIED AND EXAMINED BY  34714 DSC SULEIMAN M. AND 44267, ASCII, AKINLADE,O.E \\nRELEASED': Int64Index([1325059, 1325060, 1325061], dtype='int64'),\n",
       " '\\n\\nONE USED FORD EXPEDITION  (ACC) 2007 MODEL WITH CHASSIS NO:- CH. 1FMFU15517LA66537\\nIDENTIFIED AND EXAMINED BY  34714 DSC SULEIMAN M AND 49798 ,ASCI, SIDI,M.M.\\nREFER TO CPC TCIP': Int64Index([2063438, 2063439, 2063440], dtype='int64'),\n",
       " '\\n\\nONE USED FORD EXPLORER (ACC) 2005 MODEL WITH CHASSIS NO:- CH: 1FMDU74EX5UA55474\\nIDENTIFIED AND EXAMINED BY  49798, ASCI, SIDI,M.M  AND 44267,ASCII, AKINLADE,O.E\\nREFER TO CPC TCIP': Int64Index([148027, 148028, 148029], dtype='int64'),\n",
       " '\\n\\nONE USED FORD EXPLORER 2003 MODEL WITH CHASSIS N;- 1FMZU77E32UC50880\\nIDENTIFIED, AND EXAMINED BY-  34714,DSC,SULEIMAN AND 44267, ASCII,AKINLADE,O.E\\nRELEASED.\\n': Int64Index([2474531, 2474532, 2474533], dtype='int64'),\n",
       " '\\n\\nONE USED FORD EXPLORER 2003 MODEL WITH CHASSIS NO:- CH. 1FMZU67E61UA30528\\nIDENTIFIED AND EXAMINED BY  49798, ASCI, SIDI,M.M  AND 44267,ASCII, AKINLADE,O.E\\nRELEASED\\n': Int64Index([1222898, 1222899, 1222900], dtype='int64'),\n",
       " '\\n\\nONE USED FORD EXPLORER 2007 MODEL WITH CHASSIS NO:1FMEU51K87UB27715\\nIDENTIFIED AND EXAMINED BY 36970 SC IDRIS , M. AND 34714 DSC SULEIMAN, M\\nRELEASED.': Int64Index([685561, 685562, 685563], dtype='int64'),\n",
       " '\\n\\nONE USED FORD EXPLORER PICK-UP 2006 MODEL WITH CHASSIS NO:1FMEU758X6UA52119\\nIDENTIFIED AND EXAMINED BY 34714 DSC SULEIMAN M AND 38923 ASC I ABUBAKAR , T.A\\nRELEASED.': Int64Index([1702527, 1702528, 1702529], dtype='int64'),\n",
       " '\\n\\nONE USED FORD FOCUS 2008 MODEL WITH  CH/NO: 1FAHP35N08W145591\\nIDENTIFIED AND EXAMINED BY  34714 DSC SULEIMAN M AND 49798 ,ASCI, SIDI,M.M.\\nRELEASED': Int64Index([3466843, 3466844, 3466845], dtype='int64'),\n",
       " '\\n\\nONE USED FORD LOW CAB FO  450 2007 MODEL  WITH CHASSIS NO:3FRLL45Z67V634212\\nIDENTIFIED AND EXAMINED BY  34714 DSC SULEIMAN M. AND 44267, ASCII, AKINLADE,O.E \\nRELEASED': Int64Index([2290561, 2290562, 2290563], dtype='int64'),\n",
       " '\\n\\nONE USED FORD PICK-UP 2013 MODEL WITH CHASSIS NO:- CH/NO: 1FTFW1ET8DFC31166\\nIDENTIFIED AND EXAMINED BY  34714 DSC SULEIMAN M AND 49798 ,ASCI, SIDI,M.M.\\nRELEASED': Int64Index([82318, 82319, 82320], dtype='int64'),\n",
       " '\\n\\nONE USED FORD TANGER PICK-UP WITH CHASSIS NO:1FTCR14U7TTA25602\\nIDENTIFIED AND EXAMINED BY  41814,CSC,ADESHINA,J.O AND 34714 DSC SULEIMAN M. \\nRELEASED': Int64Index([3137057, 3137058, 3137059], dtype='int64'),\n",
       " '\\n\\nONE USED FORD TRANSIT BUS WITH CHASSIS NO:- WFOLXXGBVLTA76423\\nIDENTIFIED AND EXAMINED BY  34714 DSC SULEIMAN M AND 44267,ASCII, AKINLADE,O.E\\nRELEASED': Int64Index([1396031, 1396032, 1396033], dtype='int64'),\n",
       " '\\n\\nONE USED FORD TRANSIT VAN  MODEL WITH CHASSIS NO:- WF0VXXBDFV5R49923\\nIDENTIFIED AND EXAMINED BY  34714 DSC SULEIMAN M AND 44267,ASCII, AKINLADE,O.E\\nRELEASED': Int64Index([2040930, 2040931, 2040932], dtype='int64'),\n",
       " '\\n\\nONE USED FORD TRANSIT VAN WITH CHASSIS NO:- WF0LXXGBVLST43409\\nIDENTIFIED AND EXAMINED BY  34714 DSC SULEIMAN M AND 44267,ASCII, AKINLADE,O.E\\nRELEASED': Int64Index([1981346, 1981347, 1981348], dtype='int64'),\n",
       " '\\n\\nONE USED FORD TRANSIT VAN WITH CHASSIS NO:- WF0LXXGBVLWG41425\\nIDENTIFIED AND EXAMINED BY  34714 DSC SULEIMAN M AND 49798 ,ASCI, SIDI,M.M.\\nRELEASED': Int64Index([1627001, 1627002, 1627003], dtype='int64'),\n",
       " '\\n\\nONE USED FORD VAN BUS MODEL  WITH CHASSIS NO;- 1FTNE24201HA26521\\nIDENTIFIED AND EXAMINED BY 36970, SC,IDRIS, M AND 34714,44267,ASCII,AKINLADE\\nRELEASED\\n': Int64Index([3386577, 3386578, 3386579], dtype='int64'),\n",
       " '\\n\\nONE USED GMC SAVANA G3500 2004 MODEL WITH CHASSIS NO:1GTHG35U841224516\\nIDENTIFIED AND EXAMINED BY 36970 SC IDRIS , M. AND 34714 DSC SULEIMAN, M\\nRELEASED.\\n': Int64Index([2014585, 2014586, 2014587], dtype='int64'),\n",
       " '\\n\\nONE USED HONDA ACCORD  2003 MODEL WITH CHASSIS NO:- 1HGCM56633A049834\\nIDENTIFIED AND EXAMINED BY  34714 DSC SULEIMAN M AND 49798 ,ASCI, SIDI,M.M.\\nRELEASED': Int64Index([86331, 86332, 86333], dtype='int64'),\n",
       " '\\n\\nONE USED HONDA ACCORD  2004 MODEL WITH CHASSIS NO:1HGCM66544A096191\\nIDENTIFIED AND EXAMINED BY 34714 DSC SULEIMAN M AND 38923 ASC I ABUBAKAR , T.A\\nRELEASED.': Int64Index([1697924, 1697925, 1697926], dtype='int64'),\n",
       " '\\n\\nONE USED HONDA ACCORD  2006 MODEL WITH CHASIS NO:- 1HGCM56386A062010\\nIDENTIFIED AND EXAMINED BY-34714,DSC,SULEIMAN,M AND 49798, ASCI,SIDI \\nRELEASED': Int64Index([123340, 123341, 123342], dtype='int64'),\n",
       " '\\n\\nONE USED HONDA ACCORD  2007 MODEL WITH CHASSIS NO:- 1HGCM66537A093691\\nIDENTIFIED AND EXAMINED BY  34714 DSC SULEIMAN M AND 44267,ASCII, AKINLADE,O.E\\nRELEASED': Int64Index([2147527, 2147528, 2147529], dtype='int64'),\n",
       " '\\n\\nONE USED HONDA ACCORD  2012 MODEL  WITH CHASSIS NO;- 1HGCP2F34CA125332\\nIDENTIFIED AND EXAMINED BY 36970, SC,IDRIS, M AND 34714,44267,ASCII,AKINLADE\\nRELEASED\\n': Int64Index([2935242, 2935243, 2935244], dtype='int64'),\n",
       " '\\n\\nONE USED HONDA ACCORD (ACC) 2012 MODEL WITH CHASSIS NO:- 1HGCP2F4XCA234435\\nIDENTIFIED AND EXAMINED BY  34714 DSC SULEIMAN M AND 44267,ASCII, AKINLADE,O.E\\nRELEASED': Int64Index([3057196, 3057197, 3057198], dtype='int64'),\n",
       " '\\n\\nONE USED HONDA ACCORD (ACC) 2013 MODEL WITH CHASSIS NO:- CH: 1HGCR2F54DA099084\\nIDENTIFIED AND EXAMINED BY  34714 DSC SULEIMAN M AND 44267,ASCII, AKINLADE,O.E\\nRELEASED': Int64Index([1469348, 1469349, 1469350], dtype='int64'),\n",
       " '\\n\\nONE USED HONDA ACCORD 2003 MODEL WITH CHASSIS NO:- 1HGCM56303A098611\\nIDENTIFIED AND EXAMINED BY  41814, CSC, ADESHINA,J.O AND 34714 DSC SULEIMAN M \\nRELEASED': Int64Index([208661, 208662, 208663], dtype='int64'),\n",
       " '\\n\\nONE USED HONDA ACCORD 2004 MODEL WITH CHASSIS NO:- :  1HGCM563X4A112743\\nIDENTIFIED AND EXAMINED BY  34714 DSC SULEIMAN M AND 44267,ASCII, AKINLADE,O.E\\nRELEASED': Int64Index([3385159, 3385160, 3385161], dtype='int64'),\n",
       " '\\n\\nONE USED HONDA ACCORD 2004 MODEL WITH CHASSIS NO:1HGCM56364A155802\\nIDENTIFIED AND EXAMINED BY 41814 CSC ADESHINA J.O AND 38923 ASC I ABUBAKAR , T.A\\nRELEASED.': Int64Index([1512430, 1512431, 1512432], dtype='int64'),\n",
       " '\\n\\nONE USED HONDA ACCORD 2004 MODEL WITH CHASSIS NO:1HGCM56654A070928\\nIDENTIFIED AND EXAMINED BY 41814 CSC ADESHINA J.O AND 38923 ASC I ABUBAKAR , T.A\\nRELEASED.\\n': Int64Index([1946922, 1946923, 1946924], dtype='int64'),\n",
       " '\\n\\nONE USED HONDA ACCORD 2004 MODEL WITH CHASSIS NO:JHMCM56603C030692\\nIDENTIFIED AND EXAMINED BY 34714 DSC SULEIMAN M AND 38923 ASC I ABUBAKAR , T.A\\nRELEASED.\\n': Int64Index([719330, 719331, 719332], dtype='int64'),\n",
       " '\\n\\nONE USED HONDA ACCORD 2005 MODEL WITH CHASSIS NO:- 1HGCG6653XA007769\\nIDENTIFIED AND EXAMINED BY  34714 DSC SULEIMAN M AND 44267,ASCII, AKINLADE,O.E\\nRELEASED': Int64Index([1565914, 1565915, 1565916], dtype='int64'),\n",
       " '\\n\\nONE USED HONDA ACCORD 2005 MODEL WITH CHASSIS NO:- 1HGCM56115A136378\\nIDENTIFIED AND EXAMINED BY  34714 DSC SULEIMAN M AND 52867, ASCII, AKINLOYE,K.Y.\\nRELEASED\\n': Int64Index([151005, 151006, 151007], dtype='int64'),\n",
       " '\\n\\nONE USED HONDA ACCORD 2005 MODEL WITH CHASSIS NO:1HGCM56495A061293\\nIDENTIFIED AND EXAMINED BY  34714 DSC SULEIMAN M AND 44267,ASCII, AKINLADE,O.E\\nRELEASED': Int64Index([76906, 76907, 76908], dtype='int64'),\n",
       " '\\n\\nONE USED HONDA ACCORD 2006 MODEL WITH CHASSIS NO:- 1HGCM56396A802423\\nIDENTIFIED AND EXAMINED BY  34714 DSC SULEIMAN M AND 44267,ASCII, AKINLADE,O.E\\nRELEASED': Int64Index([1886119, 1886120, 1886121], dtype='int64'),\n",
       " '\\n\\nONE USED HONDA ACCORD 2006 MODEL WITH CHASSIS NO:- JTDBR32E360063319\\nIDENTIFIED AND EXAMINED BY  34714 DSC SULEIMAN M AND 44267,ASCII, AKINLADE,O.E\\nRELEASED': Int64Index([136853, 136854, 136855], dtype='int64'),\n",
       " '\\n\\nONE USED HONDA ACCORD 2006 WITH CHASSIS NO:1HGCM55716A095807 \\nIDENTIFIED AND EXAMINED BY  34714 DSC SULEIMAN M. AND 44267, ASCII, AKINLADE,O.E \\nRELEASED': Int64Index([2031997, 2031998, 2031999], dtype='int64'),\n",
       " '\\n\\nONE USED HONDA ACCORD 2007 MODEL WITH CHASSIS NO:- 1HGCM56857A112987\\nIDENTIFIED AND EXAMINED BY  49798, ASCI, SIDI,M.M  AND 44267,ASCII, AKINLADE,O.E\\nRELEASED': Int64Index([1397241, 1397242, 1397243], dtype='int64'),\n",
       " '\\n\\nONE USED HONDA ACCORD 2007 MODEL WITH CHASSIS NO:- 1HGCM66837A052990\\nIDENTIFIED AND EXAMINED BY  34714 DSC SULEIMAN M AND 49798 ,ASCI, SIDI,M.M.\\nREFER TO VALUATION': Int64Index([91799, 91800, 91801], dtype='int64'),\n",
       " '\\n\\nONE USED HONDA ACCORD 2007 MODEL WITH CHASSIS NO:JHMCM56417C026042\\nIDENTIFIED AND EXAMINED BY  36970, SC, IDRIS, M AND 34714 DSC SULEIMAN M. \\nRELEASED': Int64Index([2479231, 2479232, 2479233], dtype='int64'),\n",
       " '\\n\\nONE USED HONDA ACCORD 2007 MODEL WITH CHASSIS NO:JHMCM568X7C002986\\nIDENTIFIED AND EXAMINED BY 36970 SC IDRIS , M. AND 34714 DSC SULEIMAN, M\\nRELEASED.': Int64Index([2307631, 2307632, 2307633], dtype='int64'),\n",
       " '\\n\\nONE USED HONDA ACCORD 2008 MODEL WITH CHASSIS NO:- 1HGCP26708A017011\\nIDENTIFIED AND EXAMINED BY  34714 DSC SULEIMAN M AND 44267,ASCII, AKINLADE,O.E\\nRELEASED': Int64Index([1317200, 1317201, 1317202], dtype='int64'),\n",
       " '\\n\\nONE USED HONDA ACCORD 2008 MODEL WITH CHASSIS NO:- 1HGCP26838A109738\\nIDENTIFIED AND EXAMINED BY  49798, ASCI, SIDI,M.M  AND 44267,ASCII, AKINLADE,O.E\\nRELEASED\\n': Int64Index([1982409, 1982410, 1982411], dtype='int64'),\n",
       " '\\n\\nONE USED HONDA ACCORD 2008 MODEL WITH CHASSIS NO:- 1HGCP36848A048454\\nIDENTIFIED AND EXAMINED BY  34714 DSC SULEIMAN M AND 44267,ASCII, AKINLADE,O.E\\nRELEASED': Int64Index([86231, 86232, 86233], dtype='int64'),\n",
       " '\\n\\nONE USED HONDA ACCORD 2008 MODEL WITH CHASSIS NO:1HGCP26428A062912 \\nIDENTIFIED AND EXAMINED BY  41866, CSC, OLA, B.O AND 349798, DSC, SIDI,M.M. \\nRELEASED': Int64Index([3143568, 3143569, 3143570], dtype='int64'),\n",
       " '\\n\\nONE USED HONDA ACCORD 2008 MODEL WITH CHASSIS NO:1HGCP26838A004486\\nIDENTIFIED AND EXAMINED BY 36970 SC IDRIS , M. AND 34714 DSC SULEIMAN, M\\nRELEASED.': Int64Index([677267, 677268, 677269], dtype='int64'),\n",
       " '\\n\\nONE USED HONDA ACCORD 2008 MODEL WITH CHASSIS NO:1HGCP26858A017157\\nIDENTIFIED AND EXAMINED BY 41814 CSC ADESHINA J.O AND 38923 ASC I ABUBAKAR , T.A\\nRELEASED.\\n': Int64Index([677055, 677056, 677057], dtype='int64'),\n",
       " '\\n\\nONE USED HONDA ACCORD 2008 MODEL WITH CHASSIS NO:1HGCS12888A026451\\nIDENTIFIED AND EXAMINED BY 36970 SC IDRIS , M. AND 34714 DSC SULEIMAN, M\\nRELEASED.': Int64Index([1429181, 1429182, 1429183], dtype='int64'),\n",
       " '\\n\\nONE USED HONDA ACCORD 2009 MODEL WITH CHASSIS NO:- 1HGCP26429A079792\\nIDENTIFIED AND EXAMINED BY  34714 DSC SULEIMAN M AND 49798 ,ASCI, SIDI,M.M.\\nREFER TO VALUATION': Int64Index([102437, 102438, 102439], dtype='int64'),\n",
       " '\\n\\nONE USED HONDA ACCORD 2009 MODEL WITH CHASSIS NO:- 1HGCP26709A009900\\nIDENTIFIED AND EXAMINED BY  34714 DSC SULEIMAN M AND 44267,ASCII, AKINLADE,O.E\\nRELEASED\\n': Int64Index([2121707, 2121708, 2121709], dtype='int64'),\n",
       " '\\n\\nONE USED HONDA ACCORD 2009 MODEL WITH CHASSIS NO:- 1HGCP36899A019100\\nIDENTIFIED AND EXAMINED BY  34714 DSC SULEIMAN M AND 49798 ,ASCI, SIDI,M.M.\\nRELEASED': Int64Index([3039907, 3039908, 3039909], dtype='int64'),\n",
       " '\\n\\nONE USED HONDA ACCORD 2009 MODEL WITH CHASSIS NO:1HGCP263X9A169912\\nIDENTIFIED AND EXAMINED BY  41814,CSC,ADESHINA,J.O AND 34714 DSC SULEIMAN M. \\nREFER TO DC VALUATION': Int64Index([2069733, 2069734, 2069735], dtype='int64'),\n",
       " '\\n\\nONE USED HONDA ACCORD 2010 MODEL WITH CHASSIS NO:- 1HGCP2F8XAA003177\\nIDENTIFIED AND EXAMINED BY  49798, ASCI, SIDI,M.M  AND 44267,ASCII, AKINLADE,O.E\\nRELEASED': Int64Index([97916, 97917, 97918], dtype='int64'),\n",
       " '\\n\\nONE USED HONDA ACCORD 2012 MODEL WITH CHASSIS NO:- IHGCP2F60CA243601\\nIDENTIFIED AND EXAMINED BY  34714 DSC SULEIMAN M AND 49798 ,ASCI, SIDI,M.M.\\nREFER TO VALUATION\\n': Int64Index([100504, 100505, 100506], dtype='int64'),\n",
       " '\\n\\nONE USED HONDA ACCORD 2013 MODEL WITH CHASSIS NO:- 1HGCR2F3XDA084099\\nIDENTIFIED AND EXAMINED BY  34714 DSC SULEIMAN M AND 49798 ,ASCI, SIDI,M.M.\\nRELEASED': Int64Index([93661, 93662, 93663], dtype='int64'),\n",
       " '\\n\\nONE USED HONDA ACCORD 2013 MODEL WITH CHASSIS NO:- CH. 1HGCR2F8XDA263285\\nIDENTIFIED AND EXAMINED BY  34714 DSC SULEIMAN M AND 44267,ASCII, AKINLADE,O.E\\nRELEASED': Int64Index([87024, 87025, 87026], dtype='int64'),\n",
       " '\\n\\nONE USED HONDA ACCORD 2014 MODEL WITH CHASSIS NO:-  1HGCR2F36EA112353\\nIDENTIFIED AND EXAMINED BY  34714 DSC SULEIMAN M AND 40623, ASCII, ABDULMALIK, I\\nRELEASED': Int64Index([168985, 168986, 168987], dtype='int64'),\n",
       " '\\n\\nONE USED HONDA ACCORD 2014 MODEL WITH CHASSIS NO:-  1HGCR2F58EA218224\\nIDENTIFIED AND EXAMINED BY  34714 DSC SULEIMAN M AND 40623, ASCII, ABDULMALIK, I\\nRELEASED': Int64Index([1985466, 1985467, 1985468], dtype='int64'),\n",
       " '\\n\\nONE USED HONDA ACCORD 2015 MODEL WITH CHASSIS NO;- CH/NO 1HGCR2F81FA164034\\nIDENTIFIED AND EXAMINED BY 34714,DSC,SULEIMAN M AND 52867,ASCII,AKINLOYE\\nRELEASED.\\n': Int64Index([1454928, 1454929, 1454930], dtype='int64'),\n",
       " '\\n\\nONE USED HONDA ACCORD ACC [2014] CHASS. NO  L1HGCR2F51EA03973\\nEXAMINED BY;   44798,DSC,SIDI,M. M AND 44267,ASCII,AKINLADE,O.E\\nRELEASED': Int64Index([2365887, 2365888, 2365889], dtype='int64'),\n",
       " '\\n\\nONE USED HONDA ACCORD [2006] MODEL CHASS; NO; CH:1HGCM56856A081061\\nEXAMINED BY;  AND 41814, CSC, ADESHINA,J.O AND 44267,ASCII,AKINLADE,O.E\\nRELEASED\\n': Int64Index([3021203, 3021204, 3021205], dtype='int64'),\n",
       " '\\n\\nONE USED HONDA ACCORD [2008] MODEL CHASS; NO; 1HGCP26898A032633\\nEXAMINED BY;  34714,DSC,SULEIMAN,M AND 44267,ASCII,AKINLADE,O.E\\nRELEASED': Int64Index([1632994, 1632995, 1632996], dtype='int64'),\n",
       " '\\n\\nONE USED HONDA ACCORD [2008] MODEL CHASS; NO;1HGCP36828A039297\\nEXAMINED BY;  34714,DSC,SULEIMAN,M AND 44267,ASCII,AKINLADE,O.E\\nRELEASED': Int64Index([2325588, 2325589, 2325590], dtype='int64'),\n",
       " '\\n\\nONE USED HONDA ACCORD(ACC) 2006 MODEL WITH CHASSIS NO:- 1HGCM56316A013912\\nIDENTIFIED AND EXAMINED BY  38923, ASCI, ABUBAKAR, T.A  AND 52867, ASCII, AKINLOYE,K.Y.\\nRELEASED': Int64Index([2397243, 2397244, 2397245], dtype='int64'),\n",
       " '\\n\\nONE USED HONDA ACCRD 2003 MODEL WITH CHASIS NO:- 1HGCM66583A088495\\nIDENTIFIED AND EXAMINED BY-34714,DSC,SULEIMAN,M AND 44267, ASCII, AKINLADE, O.E\\nRELEASED\\n': Int64Index([124170, 124171, 124172], dtype='int64'),\n",
       " '\\n\\nONE USED HONDA CIVIC 2008 MODEL  WITH CHASSIS NO;-JHMFA36258S000933\\nIDENTIFIED AND EXAMINED BY 36970, SC,IDRIS, M AND 34714,DSC,SULEIMAN,M\\nRELEASED\\n': Int64Index([125244, 125245, 125246], dtype='int64'),\n",
       " '\\n\\nONE USED HONDA CIVIC [2006] MODEL CHASS; NO; 1HGFA16526L024583\\nEXAMINED BY;  34714,DSC,SULEIMAN,M AND 44267,ASCII,AKINLADE,O.E\\nREFER TO VALUATION AS DIRECTED': Int64Index([1409007, 1409008, 1409009], dtype='int64'),\n",
       " '\\n\\nONE USED HONDA CIVIC [2007] MODEL CHASS; NO; 2HGFG12627H525372\\nEXAMINED BY;  34714,DSC,SULEIMAN,M AND 44267,ASCII,AKINLADE,O.E\\nREFER TO VALUATION AS DIRECTED': Int64Index([1240028, 1240029, 1240030], dtype='int64'),\n",
       " '\\n\\nONE USED HONDA CR-V 2007 MODEL WITH CHASSIS NO:JHLRE48567C109803\\nIDENTIFIED AND EXAMINED BY 34714 DSC SULEIMAN M AND 38923 ASC I ABUBAKAR , T.A\\nRELEASED.': Int64Index([740051, 740052, 740053], dtype='int64'),\n",
       " '\\n\\nONE USED HONDA CR-V [2003] MODEL CHASS; NO; SHSRD78823U128690\\nEXAMINED BY;  34714,DSC,SULEIMAN,M AND 44267,ASCII,AKINLADE,O.E\\nRELEASED': Int64Index([3397155, 3397156, 3397157], dtype='int64'),\n",
       " '\\n\\nONE USED HONDA CR-V [2006] CHASS; NO; VLXJHLRD78556C032747\\nEXAMINED BY; 49798, DSC, SIDI,M.M AND 40623, ASCII, ABDULMALIK,I\\nRELEASED': Int64Index([266857, 266858, 266859], dtype='int64'),\n",
       " '\\n\\nONE USED HONDA CROSSTOUR 2010 MODEL WITH CHASSIS NO:5J6TF2H57AL006427\\nIDENTIFIED AND EXAMINED BY 34714 DSC SULEIMAN M AND 38923 ASC I ABUBAKAR , T.A\\nRELEASED.': Int64Index([748865, 748866, 748867], dtype='int64'),\n",
       " '\\n\\nONE USED HONDA CROSSTOUR 2011 MODEL WITH CHASSIS NO:- 5J6TF2H53BL007687\\nIDENTIFIED AND EXAMINED BY  34714 DSC SULEIMAN M AND 44267,ASCII, AKINLADE,O.E\\nRELEASED': Int64Index([2783082, 2783083, 2783084], dtype='int64'),\n",
       " '\\n\\nONE USED HONDA CROSSTOUR 2011 MODEL WITH CHASSIS NO:- CH:  5J6TF1H52BL002491\\nIDENTIFIED AND EXAMINED BY  34714 DSC SULEIMAN M AND 44267,ASCII, AKINLADE,O.E\\nRELEASED': Int64Index([146408, 146409, 146410], dtype='int64'),\n",
       " '\\n\\nONE USED HONDA CRV 2007 MODEL WITH CHASSIS NO:JHLRE48727C070855\\nIDENTIFIED AND EXAMINED BY 41814 CSC ADESHINA J.O AND 38923 ASC I ABUBAKAR , T.A\\nRELEASED.': Int64Index([698302, 698303, 698304], dtype='int64'),\n",
       " '\\n\\nONE USED HONDA ODYSSEY (ACC) 2003 MODEL WITH CHASSIS NO:- 2HKRL1851YH540587\\nIDENTIFIED AND EXAMINED BY  34714 DSC SULEIMAN M AND 49798 ,ASCI, SIDI,M.M.\\nRELEASED': Int64Index([93747, 93748, 93749], dtype='int64'),\n",
       " '\\n\\nONE USED HONDA ODYSSEY 2003 MODEL WITH CHASSIS NO:- CH: 2HKRL18681H620502\\nIDENTIFIED AND EXAMINED BY  34714 DSC SULEIMAN M AND 40623, ASCII, ABDULMALIK, I\\nRELEASED': Int64Index([3306317, 3306318, 3306319], dtype='int64'),\n",
       " '\\n\\nONE USED HONDA ODYSSEY 2009 MODEL WITH CHASIS NO:- 5FNRL386X942988\\nIDENTIFIED AND EXAMINED BY-34714,DSC,SULEIMAN,M AND 44267, ASCII, AKINLADE, O.E\\nRELEASED\\n': Int64Index([125547, 125548, 125549], dtype='int64'),\n",
       " '\\n\\nONE USED HONDA PILOT (ACC) 2003 MODEL WITH CHASSIS NO: 2HKYF18683H503122\\nIDENTIFIED AND EXAMINED BY  34714 DSC SULEIMAN M. AND 52867, ASCII, AKINLOYE, K.Y\\nRELEASED': Int64Index([2365259, 2365260, 2365261], dtype='int64'),\n",
       " '\\n\\nONE USED HONDA PILOT 2003 MODEL WITH CHASSIS NO:- 2HKYF18623H577880\\nIDENTIFIED AND EXAMINED BY  34714 DSC SULEIMAN M AND 44267,ASCII, AKINLADE,O.E\\nRELEASED': Int64Index([79323, 79324, 79325], dtype='int64'),\n",
       " '\\n\\nONE USED HONDA PILOT 2004 MODEL WITH CHASSIS NO:- 2HKYF18514H538917\\nIDENTIFIED AND EXAMINED BY  49798, ASCI, SIDI,M.M  AND 44267,ASCII, AKINLADE,O.E\\nRELEASED': Int64Index([2125870, 2125871, 2125872], dtype='int64'),\n",
       " '\\n\\nONE USED HONDA PILOT 2004 MODEL WITH CHASSIS NO:- 2HKYF18573H608340\\nIDENTIFIED AND EXAMINED BY  34714 DSC SULEIMAN M AND 49798 ,ASCI, SIDI,M.M.\\nRELEASED': Int64Index([78552, 78553, 78554], dtype='int64'),\n",
       " '\\n\\nONE USED HONDA PILOT 2004 MODEL WITH CHASSIS NO:- CH:  5FNYF18604B003150\\nIDENTIFIED AND EXAMINED BY  49798, ASCI, SIDI,M.M  AND 44267,ASCII, AKINLADE,O.E\\nRELEASED': Int64Index([83703, 83704, 83705], dtype='int64'),\n",
       " '\\n\\nONE USED HONDA PILOT 2005 MODEL WITH CHASSIS NO:- 5FNYF18545B029226\\nIDENTIFIED AND EXAMINED BY  34714 DSC SULEIMAN M AND 44267,ASCII, AKINLADE,O.E\\nVALUATION REFERRED': Int64Index([2472506, 2472507, 2472508], dtype='int64'),\n",
       " '\\n\\nONE USED HONDA PILOT 2006 MODEL WITH CHASIS NO:-  2HKYF18706H502060\\nIDENTIFIED AND EXAMINED BY-34714,DSC,SULEIMAN,M AND 49798, ASCI,SIDI \\nRELEASED': Int64Index([2607634, 2607635, 2607636], dtype='int64'),\n",
       " '\\n\\nONE USED HONDA PILOT 2006 MODEL WITH CHASSIS NO:- 5FNYF18616B005007\\nIDENTIFIED AND EXAMINED BY  34714 DSC SULEIMAN M AND 49798 ,ASCI, SIDI,M.M.\\nRELEASED': Int64Index([84826, 84827, 84828], dtype='int64'),\n",
       " '\\n\\nONE USED HONDA PILOT 2007 MODEL WITH CHASSIS NO:5FNYF18697B001398\\nIDENTIFIED AND EXAMINED BY 36970 SC IDRIS , M. AND 34714 DSC SULEIMAN, M\\nRELEASED.': Int64Index([1430699, 1430700, 1430701], dtype='int64'),\n",
       " '\\n\\nONE USED HONDA PILOT 2011 MODEL WITH CHASSIS NO:- 5FNYF3H27BB013826\\nIDENTIFIED AND EXAMINED BY  34714 DSC SULEIMAN M AND 49798 ,ASCI, SIDI,M.M.\\nRELEASED': Int64Index([81892, 81893, 81894], dtype='int64'),\n",
       " '\\n\\nONE USED HONDA PILOT [2003] CHASS; NO; 2HKYF18536H504559\\nEXAMINED BY;  AND 34714,DSC,SULEIMAN,M AND 44267,ASCII,AKINLADE,O.E\\nRELEASED': Int64Index([3393518, 3393519, 3393520], dtype='int64'),\n",
       " '\\n\\nONE USED HONDA RIDGELINE 2006 MODEL WITH CHASSIS NO:2HJYK165X6H526917\\nIDENTIFIED AND EXAMINED BY 36970 SC IDRIS , M. AND 34714 DSC SULEIMAN, M\\nRELEASED.': Int64Index([1845801, 1845802, 1845803], dtype='int64'),\n",
       " '\\n\\nONE USED HONDA VENZA 2013 MODEL WITH CHASSIS NO:- CH:  4T3BA3BB3DU035431\\nIDENTIFIED AND EXAMINED BY  34714 DSC SULEIMAN M AND 44267,ASCII, AKINLADE,O.E\\nRELEASED\\n': Int64Index([95610, 95611, 95612], dtype='int64'),\n",
       " '\\n\\nONE USED HYANDAI ELANTRA 2008 MODEL WITH CHASSIS NO:- CH:KMHDU46D08U307899\\nIDENTIFIED AND EXAMINED BY  34714 DSC SULEIMAN M AND 49798 ,ASCI, SIDI,M.M.\\nRELEASED\\n': Int64Index([1816664, 1816665, 1816666], dtype='int64'),\n",
       " '\\n\\nONE USED HYUNDAI ACCENT 2007 MODEL WITH CHASSIS NO:- KMHCN46C97U153479\\nIDENTIFIED AND EXAMINED BY  34714 DSC SULEIMAN M AND 49798 ,ASCI, SIDI,M.M.\\nRELEASED': Int64Index([77373, 77374, 77375], dtype='int64'),\n",
       " '\\n\\nONE USED HYUNDAI ELENTRA 2003 MODEL WITH CHASSIS N;- CH. KMHDN45D23U627586\\nIDENTIFIED, AND EXAMINED BY-  34714,DSC,SULEIMAN AND 44267, ASCII,AKINLADE,O.E\\nRELEASED.': Int64Index([1816434, 1816435, 1816436], dtype='int64'),\n",
       " '\\n\\nONE USED HYUNDAI ELENTRA(ACC) 2012 MODEL WITH CHASSIS NO:- CH: 5NPDH4AE3CH140501\\nIDENTIFIED AND EXAMINED BY  34714 DSC SULEIMAN M AND 44267,ASCII, AKINLADE,O.E\\nREFER TO VALUATION\\n': Int64Index([96363, 96364, 96365], dtype='int64'),\n",
       " '\\n\\nONE USED HYUNDAI SANATA2004 MODEL WITH CHASSIS NO:- 5NPEU46F99H543652\\nIDENTIFIED AND EXAMINED BY  34714 DSC SULEIMAN M AND 49798 ,ASCI, SIDI,M.M.\\nRELEASED': Int64Index([3465964, 3465965, 3465966], dtype='int64'),\n",
       " '\\n\\nONE USED HYUNDAI SONATA   2007 MODEL WITH CHASSIS NO:5NPEU46F27H213882\\nIDENTIFIED AND EXAMINED BY 36970 SC IDRIS , M. AND 34714 DSC SULEIMAN, M\\nRELEASED.': Int64Index([2034940, 2034941, 2034942], dtype='int64'),\n",
       " '\\n\\nONE USED INFINITI FX35  2004 MODEL WITH CHASSIS NO:CH/NO:  JNRAS08W13X000785\\nIDENTIFIED AND EXAMINED BY 36970 SC IDRIS , M. AND 34714 DSC SULEIMAN, M\\nRELEASED.': Int64Index([1344791, 1344792, 1344793], dtype='int64'),\n",
       " '\\n\\nONE USED JAGUAR S TYPE 2006 MODEL WITH CHASSIS NO:- SAJWA01A76FN57610\\nIDENTIFIED AND EXAMINED BY-34714,DSC,SULEIMAN,M AND 44267, ASCII, AKINLADE, O.E\\nRELEASED\\n': Int64Index([2800232, 2800233, 2800234], dtype='int64'),\n",
       " '\\n\\nONE USED LEXUS ES 2008 MODEL CHASS; NO; JTHBJ46G482162276\\nEXAMINED BY;  AND 41814, CSC, ADESHINA,J.O AND 44267,ASCII,AKINLADE,O.E\\nREFER TO VALUATION AS DIRECTED\\n': Int64Index([239158, 239159, 239160], dtype='int64'),\n",
       " '\\n\\nONE USED LEXUS ES 300 2003 MODEL WITH CHASSIS NO:- : JTHBF30G736003127\\nIDENTIFIED AND EXAMINED BY  34714 DSC SULEIMAN M AND 49798 ,ASCI, SIDI,M.M.\\nRELEASED': Int64Index([2635287, 2635288, 2635289], dtype='int64'),\n",
       " '\\n\\nONE USED LEXUS ES 300 2003 MODEL WITH CHASSIS NO:- JTHBF30G220075242\\nIDENTIFIED AND EXAMINED BY  34714 DSC SULEIMAN M AND 44267,ASCII, AKINLADE,O.E\\nRELEASED': Int64Index([136654, 136655, 136656], dtype='int64'),\n",
       " '\\n\\nONE USED LEXUS ES 300 2003 MODEL WITH CHASSIS NO:- JTHBF30G630123049\\nIDENTIFIED AND EXAMINED BY  34714 DSC SULEIMAN M AND 44267,ASCII, AKINLADE,O.E\\nRELEASED': Int64Index([106155, 106156, 106157], dtype='int64'),\n",
       " '\\n\\nONE USED LEXUS ES 300 [2003] MODEL CHASS; NO; JTHBF30G720057349\\nEXAMINED BY;  34714,DSC,SULEIMAN,M AND 44267,ASCII,AKINLADE,O.E\\nRELEASED': Int64Index([1917752, 1917753, 1917754], dtype='int64'),\n",
       " '\\n\\nONE USED LEXUS ES 330  2005 MODEL WITH CHASSIS NO:JTHBA30G455079461\\nIDENTIFIED AND EXAMINED BY 36970 SC IDRIS , M. AND 34714 DSC SULEIMAN, M\\nRELEASED.': Int64Index([3247914, 3247915, 3247916], dtype='int64'),\n",
       " '\\n\\nONE USED LEXUS ES 330 2004 MODEL WITH CHASSIS NO:- JTHBA30GX45024365\\nIDENTIFIED AND EXAMINED BY  34714 DSC SULEIMAN M AND 49798 ,ASCI, SIDI,M.M.\\nRELEASED': Int64Index([2724001, 2724002, 2724003], dtype='int64'),\n",
       " '\\n\\nONE USED LEXUS ES 330 2004 MODEL WITH CHASSIS NO:JTHBA30G040001870\\nIDENTIFIED AND EXAMINED BY 41814 CSC ADESHINA J.O AND 38923 ASC I ABUBAKAR , T.A\\nRELEASED.\\n': Int64Index([1846355, 1846356, 1846357], dtype='int64'),\n",
       " '\\n\\nONE USED LEXUS ES 330 2004 MODEL WITH CHASSIS NO:JTHBA30G445042554\\nIDENTIFIED AND EXAMINED BY 41814 CSC ADESHINA J.O AND 38923 ASC I ABUBAKAR , T.A\\nRELEASED.\\n': Int64Index([683273, 683274, 683275], dtype='int64'),\n",
       " '\\n\\nONE USED LEXUS ES 330 2005 MODEL WITH CHASSIS NO:JTHBA30G955081805\\nIDENTIFIED AND EXAMINED BY 41814 CSC ADESHINA J.O AND 38923 ASC I ABUBAKAR , T.A\\nRELEASED.': Int64Index([680322, 680323, 680324], dtype='int64'),\n",
       " '\\n\\nONE USED LEXUS ES 330 2006 MODEL  WITH CHASSIS NO:JTHBA30G465154225 \\nIDENTIFIED AND EXAMINED BY  34714 DSC SULEIMAN M. AND 52867, ASCII, AKINLOYE, K.Y\\nRELEASED': Int64Index([183577, 183578, 183579], dtype='int64'),\n",
       " '\\n\\nONE USED LEXUS ES 330 2006 MODEL WITH CHASSIS NO:JTHBA30G065161799\\nIDENTIFIED AND EXAMINED BY 36970 SC IDRIS , M. AND 34714 DSC SULEIMAN, M\\nRELEASED.': Int64Index([2220955, 2220956, 2220957], dtype='int64'),\n",
       " '\\n\\nONE USED LEXUS ES 350 2007 MODEL WITH CHASSIS NO:- JTHBJ46G172070847\\nIDENTIFIED AND EXAMINED BY  34714 DSC SULEIMAN M AND 49798 ,ASCI, SIDI,M.M.\\nRELEASED': Int64Index([79715, 79716, 79717], dtype='int64'),\n",
       " '\\n\\nONE USED LEXUS ES 350 2007 MODEL WITH CHASSIS NO:JTHBJ46G772121526 \\nIDENTIFIED AND EXAMINED BY  34714 DSC SULEIMAN M. AND 44267, ASCII, AKINLADE,O.E \\nRELEASED': Int64Index([215694, 215695, 215696], dtype='int64'),\n",
       " '\\n\\nONE USED LEXUS ES 350 2007 MODEL WITH CHASSIS NO:JTHBJ46G872073406\\nIDENTIFIED AND EXAMINED BY 41814 CSC ADESHINA J.O AND 38923 ASC I ABUBAKAR , T.A\\nRELEASED.': Int64Index([1947871, 1947872, 1947873], dtype='int64'),\n",
       " '\\n\\nONE USED LEXUS ES 350 2008 MODEL  WITH CHASSIS NO:JTHBJ46G282239162 \\nIDENTIFIED AND EXAMINED BY  34714 DSC SULEIMAN M. AND 52867, ASCII, AKINLOYE, K.Y\\nRELEASED\\n': Int64Index([295553, 295554, 295555], dtype='int64'),\n",
       " '\\n\\nONE USED LEXUS ES 350 2008 MODEL WITH CHASSIS NO:-   JTHBJ46G182212745\\nIDENTIFIED AND EXAMINED BY  34714 DSC SULEIMAN M AND 44267,ASCII, AKINLADE,O.E\\nRELEASED': Int64Index([3215618, 3215619, 3215620], dtype='int64'),\n",
       " '\\n\\nONE USED LEXUS ES 350 2008 MODEL WITH CHASSIS NO:- CH. JTHBJ46G282217369\\nIDENTIFIED AND EXAMINED BY  34714 DSC SULEIMAN M AND 44267,ASCII, AKINLADE,O.E\\nRELEASED\\n': Int64Index([2151344, 2151345, 2151346], dtype='int64'),\n",
       " '\\n\\nONE USED LEXUS ES 350 2008 MODEL WITH CHASSIS NO:- JTBJ46GX82221041\\nIDENTIFIED AND EXAMINED BY  34714 DSC SULEIMAN M AND 44267,ASCII, AKINLADE,O.E\\nRELEASED': Int64Index([104046, 104047, 104048], dtype='int64'),\n",
       " '\\n\\nONE USED LEXUS ES 350 2008 MODEL WITH CHASSIS NO:- JTHBJ46G282227237\\nIDENTIFIED AND EXAMINED BY  34714 DSC SULEIMAN M AND 49798 ,ASCI, SIDI,M.M.\\nRELEASED': Int64Index([97478, 97479, 97480], dtype='int64'),\n",
       " '\\n\\nONE USED LEXUS ES 350 2009 MODEL WITH CHASSIS NO:JTHBJ46G992304428\\nIDENTIFIED AND EXAMINED BY 41814 CSC ADESHINA J.O AND 38923 ASC I ABUBAKAR , T.A\\nRELEASED.': Int64Index([1697979, 1697980, 1697981], dtype='int64'),\n",
       " '\\n\\nONE USED LEXUS ES 350 [2007] CHASS; NO; JTHBJ46G072091091\\nEXAMINED BY;  AND 34714,DSC,SULEIMAN,M AND 44267,ASCII,AKINLADE,O.E\\nRELEASED': Int64Index([2199780, 2199781, 2199782], dtype='int64'),\n",
       " '\\n\\nONE USED LEXUS ES 350(ACC) 2008 MODEL WITH CHASSIS NO:- JTHBJ46G882168470\\nIDENTIFIED AND EXAMINED BY  34714 DSC SULEIMAN M AND 40623, ASCII, ABDULMALIK, I\\nRELEASED': Int64Index([3136919, 3136920, 3136921], dtype='int64'),\n",
       " '\\n\\nONE USED LEXUS ES300 (ACC) 2003 MODEL WITH CHASSIS NO:- JTHBF30G220024842\\nIDENTIFIED AND EXAMINED BY  34714 DSC SULEIMAN M AND 49798 ,ASCI, SIDI,M.M.\\nRELEASED': Int64Index([1373116, 1373117, 1373118], dtype='int64'),\n",
       " '\\n\\nONE USED LEXUS ES300 (ACC) 2003 WITH CHASSIS NO:JTHBF30G520035348 \\nIDENTIFIED AND EXAMINED BY  34714 DSC SULEIMAN M. AND 44267, ASCII, AKINLADE,O.E \\nRELEASED': Int64Index([1737738, 1737739, 1737740], dtype='int64'),\n",
       " '\\n\\nONE USED LEXUS ES300 2003 MODEL WITH CHASSIS NO:- JTHBF30G730093429\\nIDENTIFIED AND EXAMINED BY  34714 DSC SULEIMAN M AND 49798 ,ASCI, SIDI,M.M.\\nRELEASED': Int64Index([1459073, 1459074, 1459075], dtype='int64'),\n",
       " '\\n\\nONE USED LEXUS ES300 2004 MODEL WITH CHASSIS NO:JTHBF30G320072060\\nIDENTIFIED AND EXAMINED BY 34714 DSC SULEIMAN M AND 38923 ASC I ABUBAKAR , T.A\\nRELEASED.': Int64Index([794805, 794806, 794807], dtype='int64'),\n",
       " '\\n\\nONE USED LEXUS ES300 2004 MODEL WITH CHASSIS NO:JTHBF30G720067007\\nIDENTIFIED AND EXAMINED BY 36970 SC IDRIS , M. AND 34714 DSC SULEIMAN, M\\nRELEASED.': Int64Index([1946002, 1946003, 1946004], dtype='int64'),\n",
       " '\\n\\nONE USED LEXUS ES300 [2003] CHASS; NO; JTHBF30G036017869\\nEXAMINED BY;  34714,DSC,SULEIMAN,M AND 44267,ASCII,AKINLADE,O.E\\nRELEASED': Int64Index([327894, 327895, 327896], dtype='int64'),\n",
       " '\\n\\nONE USED LEXUS ES330 2004 MODEL WITH CHASSIS NO:- JTHBA30G745046243\\nIDENTIFIED AND EXAMINED BY  34714 DSC SULEIMAN M AND 49798 ,ASCI, SIDI,M.M.\\nRELEASED': Int64Index([2313866, 2313867, 2313868], dtype='int64'),\n",
       " '\\n\\nONE USED LEXUS ES330 2005 MODEL  WITH CHASSIS NO;- JTHBA30G455074874\\nIDENTIFIED AND EXAMINED BY AND 34714,DSC,SULEIMAN,M AND 49798,ASCI,SIDI,MM\\nRELEASED\\n': Int64Index([1617132, 1617133, 1617134], dtype='int64'),\n",
       " '\\n\\nONE USED LEXUS ES330 2005 MODEL WITH CHASSIS NO:- JTHBA30GX55130302\\nIDENTIFIED AND EXAMINED BY  41814, CSC, ADESHINA,J.O AND 34714 DSC SULEIMAN M \\nRELEASED\\n': Int64Index([2135160, 2135161, 2135162], dtype='int64'),\n",
       " '\\n\\nONE USED LEXUS ES330 2005 MODEL WITH CHASSIS NO; JTHBA30G755127048\\nIDENTIFIED AND EXAMINED BY 34714 DSC SULEIMAN M AND 38923 ASC I ABUBAKAR , T.A\\nRELEASED.': Int64Index([2372141, 2372142, 2372143], dtype='int64'),\n",
       " '\\n\\nONE USED LEXUS ES330 [2004] MODEL CHASS; NO; JTHBA30GX45011325\\nEXAMINED BY;  34714,DSC,SULEIMAN,M AND 44267,ASCII,AKINLADE,O.E\\nRELEASED': Int64Index([344512, 344513, 344514], dtype='int64'),\n",
       " '\\n\\nONE USED LEXUS ES350  2007 MODEL WITH CHASSIS N;- JTHBJ46G272019079\\nIDENTIFIED, AND EXAMINED BY-  34714,DSC,SULEIMAN AND 44267, ASCII,AKINLADE,O.E\\nRELEASED.': Int64Index([2636551, 2636552, 2636553], dtype='int64'),\n",
       " '\\n\\nONE USED LEXUS ES350 2008 MODEL WITH CHASSIS NO:- JTHBJ46G882163480\\nIDENTIFIED AND EXAMINED BY  34714 DSC SULEIMAN M AND 52867, ASCII, AKINLOYE,K.Y.\\nRELEASED': Int64Index([101298, 101299, 101300], dtype='int64'),\n",
       " '\\n\\nONE USED LEXUS ES350 2009 MODEL WITH CHASSIS NO:   JTHBJ46G992285198\\nIDENTIFIED AND EXAMINED BY 36970 SC IDRIS , M. AND 34714 DSC SULEIMAN, M\\nRELEASED.': Int64Index([733141, 733142, 733143], dtype='int64'),\n",
       " '\\n\\nONE USED LEXUS GS 350 2007 MODEL WITH CHASSIS NO:JTHBE96S170010861\\nIDENTIFIED AND EXAMINED BY 34714 DSC SULEIMAN M AND 38923 ASC I ABUBAKAR , T.A\\nREFER TO VALUATION AS DIRECTED.': Int64Index([764842, 764843, 764844], dtype='int64'),\n",
       " '\\n\\nONE USED LEXUS GS300(ACC) 2006 MODEL WITH CHASSIS NO:- JTHBH96S865006993\\nIDENTIFIED AND EXAMINED BY  34714 DSC SULEIMAN M AND 40623, ASCII, ABDULMALIK, I\\nRELEASED': Int64Index([2068779, 2068780, 2068781], dtype='int64'),\n",
       " '\\n\\nONE USED LEXUS GX 460 2010 MODEL  WITH CHASSIS NO;JTJBM7FX8A5007449\\nIDENTIFIED AND EXAMINED BY 36970, SC,IDRIS, M AND 34714,DSC,SULEIMAN,M\\nRELEASED\\n': Int64Index([3133449, 3133450, 3133451], dtype='int64'),\n",
       " '\\n\\nONE USED LEXUS GX 470 2004 MODEL WITH CHASSIS NO:CH..JTJBT20X240050894\\nIDENTIFIED AND EXAMINED BY  41814,CSC,ADESHINA,J.O AND 34714 DSC SULEIMAN M. \\nREFER TO VALUATION': Int64Index([208558, 208559, 208560], dtype='int64'),\n",
       " '\\n\\nONE USED LEXUS GX470 (ACC) 2007 MODEL WITH CHASSIS NO:- JTJBT20X070141344\\nIDENTIFIED AND EXAMINED BY  34714 DSC SULEIMAN M AND 44267,ASCII, AKINLADE,O.E\\nREFER TO VALUATION': Int64Index([3386076, 3386077, 3386078], dtype='int64'),\n",
       " '\\n\\nONE USED LEXUS IS 250 2006 MODEL  WITH CHASSIS NO;- JTHCK262762003212\\nIDENTIFIED AND EXAMINED BY AND 34714,DSC,SULEIMAN,M AND 49798,ASCI,SIDI,MM\\nRELEASED\\n': Int64Index([1735412, 1735413, 1735414], dtype='int64'),\n",
       " '\\n\\nONE USED LEXUS LX 470 2003 MODEL WITH CHASSIS N;- JTJHT00W313506305\\nIDENTIFIED, AND EXAMINED BY-  34714,DSC,SULEIMAN AND 44267, ASCII,AKINLADE,O.E\\nRELEASED.': Int64Index([1229527, 1229528, 1229529], dtype='int64'),\n",
       " '\\n\\nONE USED LEXUS RX 300  YEAR 2003 MODEL  WITH CHASSIS NO;- JTJHF10U720283118\\nIDENTIFIED AND EXAMINED BY AND 34714,DSC,SULEIMAN,M AND 49798,ASCI,SIDI,MM\\nRELEASED\\n': Int64Index([126401, 126402, 126403], dtype='int64'),\n",
       " '\\n\\nONE USED LEXUS RX 300 2003 MODEL WITH CHASSIS NO:- CH. JTJHF10U620259196\\nIDENTIFIED AND EXAMINED BY  34714 DSC SULEIMAN M AND 49798 ,ASCI, SIDI,M.M.\\nRELEASED\\n': Int64Index([3385721, 3385722, 3385723], dtype='int64'),\n",
       " '\\n\\nONE USED LEXUS RX 300 2003 MODEL WITH CHASSIS NO:- JT6HF10U5X0027108\\nIDENTIFIED AND EXAMINED BY  34714 DSC SULEIMAN M AND 49798 ,ASCI, SIDI,M.M.\\nRELEASED': Int64Index([1317165, 1317166, 1317167], dtype='int64'),\n",
       " '\\n\\nONE USED LEXUS RX 300 2004 MODEL WITH CHASSIS NO:JT6HF10U4X0044112\\nIDENTIFIED AND EXAMINED BY 36970 SC IDRIS , M. AND 34714 DSC SULEIMAN, M\\nREFER TO DC VALUATION AS DIRECTED.': Int64Index([2664637, 2664638, 2664639], dtype='int64'),\n",
       " '\\n\\nONE USED LEXUS RX 300 [2003] MODEL CHASS; NO; JT6HF10U7Y0142035\\nEXAMINED BY;  34714,DSC,SULEIMAN,M AND 44267,ASCII,AKINLADE,O.E\\nRELEASED': Int64Index([342829, 342830, 342831], dtype='int64'),\n",
       " '\\n\\nONE USED LEXUS RX 330 2003 MODEL WITH CHASSIS NO:- 2T2HA31U15C050479\\nIDENTIFIED AND EXAMINED BY  34714 DSC SULEIMAN M AND 49798 ,ASCI, SIDI,M.M.\\nRELEASED': Int64Index([2199193, 2199194, 2199195], dtype='int64'),\n",
       " '\\n\\nONE USED LEXUS RX 330 2004 MODEL WITH CHASSIS NO:JTJHA31U240061050\\nIDENTIFIED AND EXAMINED BY 34714 DSC SULEIMAN M AND 38923 ASC I ABUBAKAR , T.A\\nRELEASED.\\n': Int64Index([3416841, 3416842, 3416843], dtype='int64'),\n",
       " '\\n\\nONE USED LEXUS RX 330 2005 MODEL WITH CHASSIS NO:- 2T2HA31U55C61579\\nIDENTIFIED AND EXAMINED BY  41814, CSC, ADESHINA,J.O AND 34714 DSC SULEIMAN M \\nRELEASED': Int64Index([3306948, 3306949, 3306950], dtype='int64'),\n",
       " '\\n\\nONE USED LEXUS RX300 (ACCIDENTED) 2003 MODEL WITH CHASSIS NO:- JTJHF10U120255525\\nIDENTIFIED AND EXAMINED BY  49798, ASCI, SIDI,M.M  AND 44267,ASCII, AKINLADE,O.E\\nRELEASED': Int64Index([3301600, 3301601, 3301602], dtype='int64'),\n",
       " '\\n\\nONE USED LEXUS RX300 2003 MODEL  WITH CHASSIS NO;- CH:  JT6HF10U6X0037677\\nIDENTIFIED AND EXAMINED BY AND 34714,DSC,SULEIMAN,M AND 49798,ASCI,SIDI,MM\\nRELEASED\\n': Int64Index([2536752, 2536753, 2536754], dtype='int64'),\n",
       " '\\n\\nONE USED LEXUS RX300 2003 MODEL WITH CHASSIS NO:- JT6HF10U5X0077250\\nIDENTIFIED AND EXAMINED BY  34714 DSC SULEIMAN M AND 40623, ASCII, ABDULMALIK, I\\nRELEASED': Int64Index([1361157, 1361158, 1361159], dtype='int64'),\n",
       " '\\n\\nONE USED LEXUS RX300 2003 MODEL WITH CHASSIS NO:- JT6HF10UXY0154650\\nIDENTIFIED AND EXAMINED BY  34714 DSC SULEIMAN M AND 49798 ,ASCI, SIDI,M.M.\\nRELEASED': Int64Index([75469, 75470, 75471], dtype='int64'),\n",
       " '\\n\\nONE USED LEXUS RX300 2003 MODEL WITH CHASSIS NO;- JT6HF10U4Y0117190\\nIDENTIFIED AND EXAMINED BY 34714,DSC,SULEIMAN M AND 52867,ASCII,AKINLOYE\\nRELEASED.\\n': Int64Index([2149115, 2149116, 2149117], dtype='int64'),\n",
       " '\\n\\nONE USED LEXUS RX300 2004 MODEL WITH CHASSIS NO:JTJGF10U320141215\\nIDENTIFIED AND EXAMINED BY 41814 CSC ADESHINA J.O AND 38923 ASC I ABUBAKAR , T.A\\nRELEASED.\\n': Int64Index([706908, 706909, 706910], dtype='int64'),\n",
       " '\\n\\nONE USED LEXUS RX300 2004 MODEL WITH CHASSIS NO:JTJHF10U820254310\\nIDENTIFIED AND EXAMINED BY 36970 SC IDRIS , M. AND 34714 DSC SULEIMAN, M\\nRELEASED.': Int64Index([3414265, 3414266, 3414267], dtype='int64'),\n",
       " '\\n\\nONE USED LEXUS RX300 2004 MODEL WITH CHASSIS NO:JTJHF10UX20288894\\nIDENTIFIED AND EXAMINED BY 34714 DSC SULEIMAN M AND 38923 ASC I ABUBAKAR , T.A\\nRELEASED.': Int64Index([2179536, 2179537, 2179538], dtype='int64'),\n",
       " '\\n\\nONE USED LEXUS RX300 2006 MODEL WITH CHASSIS NO:- JTJHF10U010197812\\nIDENTIFIED AND EXAMINED BY  34714 DSC SULEIMAN M AND 40623, ASCII, ABDULMALIK, I\\nRELEASED': Int64Index([1656304, 1656305, 1656306], dtype='int64'),\n",
       " '\\n\\nONE USED LEXUS RX330 2004 MODEL  WITH CHASSIS NO;2T2HA31U54C030136\\nIDENTIFIED AND EXAMINED BY 36970, SC,IDRIS, M AND 34714,DSC,SULEIMAN,M\\nRELEASED\\n': Int64Index([1734322, 1734323, 1734324], dtype='int64'),\n",
       " '\\n\\nONE USED LEXUS RX330 2004 MODEL WITH CHASSIS NO:- JTJHA31U440011475\\nIDENTIFIED AND EXAMINED BY  34714 DSC SULEIMAN M AND 44267,ASCII, AKINLADE,O.E\\nRELEASED': Int64Index([71520, 71521, 71522], dtype='int64'),\n",
       " '\\n\\nONE USED LEXUS RX330 2004 MODEL WITH CHASSIS NO:CH:2T2HA31U24C022544\\nIDENTIFIED AND EXAMINED BY 34714 DSC SULEIMAN M AND 38923 ASC I ABUBAKAR , T.A\\nRELEASED.': Int64Index([1844480, 1844481, 1844482], dtype='int64'),\n",
       " '\\n\\nONE USED LEXUS RX330 2005 MODEL WITH CHASSIS NO:2T2HA31U25C058168\\nIDENTIFIED AND EXAMINED BY 41814 CSC ADESHINA J.O AND 38923 ASC I ABUBAKAR , T.A\\nRELEASED.': Int64Index([2787568, 2787569, 2787570], dtype='int64'),\n",
       " '\\n\\nONE USED LEXUS RX330 2005 MODEL WITH CHASSIS NO:2T2HA31U35C043467\\nIDENTIFIED AND EXAMINED BY 36970 SC IDRIS , M. AND 34714 DSC SULEIMAN, M\\nREFER TO VALUATION AS DIRECTED.': Int64Index([679625, 679626, 679627], dtype='int64'),\n",
       " '\\n\\nONE USED LEXUS RX330 2006 MODEL WITH CHASIS NO:- CH:2T2GA31U66C042939\\nIDENTIFIED AND EXAMINED BY-34714,DSC,SULEIMAN,M AND 44267, ASCII, AKINLADE, O.E\\nRELEASED\\n': Int64Index([122762, 122763, 122764], dtype='int64'),\n",
       " '\\n\\nONE USED LEXUS RX330 [2005] MODEL CHASS; NO; 2T2HA31UX5C047631\\nEXAMINED BY;  AND 34714,DSC,SULEIMAN,M AND 44267,ASCII,AKINLADE,O.E\\nRELEASED': Int64Index([1915277, 1915278, 1915279], dtype='int64'),\n",
       " '\\n\\nONE USED LEXUS RX350 2003 MODEL WITH CHASSIS NO:- JTJHF10U110217145\\nIDENTIFIED AND EXAMINED BY  34714 DSC SULEIMAN M AND 44267,ASCII, AKINLADE,O.E\\nRELEASED': Int64Index([3368107, 3368108, 3368109], dtype='int64'),\n",
       " '\\n\\nONE USED LEXUS RX350 2007 MODEL WITH CHASSIS NO:- : 2T2HK31U87C011033\\nIDENTIFIED AND EXAMINED BY  34714 DSC SULEIMAN M AND 44267,ASCII, AKINLADE,O.E\\nRELEASED': Int64Index([83995, 83996, 83997], dtype='int64'),\n",
       " '\\n\\nONE USED LEXUS RX350 2008  MODEL WITH CHASSIS NO:- CH: JTJGK31U980013785\\nIDENTIFIED AND EXAMINED BY  49798, ASCI, SIDI,M.M  AND 44267,ASCII, AKINLADE,O.E\\nRELEASED': Int64Index([83700, 83701, 83702], dtype='int64'),\n",
       " '\\n\\nONE USED LEXUS RX350 2008 MODEL WITH CHASSIS NO:2T2HK31U28C050007 \\nIDENTIFIED AND EXAMINED BY  349798, DSC, SIDI,M.M. AND 52867, ASCII, AKINLOYE, K.Y\\nRELEASED': Int64Index([197807, 197808, 197809], dtype='int64'),\n",
       " '\\n\\nONE USED LEXUS RX350 2010 MODEL WITH CHASSIS NO:-2T2BK1BA5AC078131\\nIDENTIFIED AND EXAMINED BY  34714 DSC SULEIMAN M AND 44267,ASCII, AKINLADE,O.E\\nRELEASED': Int64Index([206162, 206163, 206164], dtype='int64'),\n",
       " '\\n\\nONE USED LEXUS RX350 2010 MODEL WITH CHASSIS NO:2T2ZK1BA3AC002647\\nIDENTIFIED AND EXAMINED BY 36970 SC IDRIS , M. AND 34714 DSC SULEIMAN, M\\nRELEASED.': Int64Index([1430815, 1430816, 1430817], dtype='int64'),\n",
       " '\\n\\nONE USED LEXUS RX400H 2008 MODEL  WITH CHASSIS NO;- JTJHW31U482046724\\nIDENTIFIED AND EXAMINED BY 36970, SC,IDRIS, M AND 34714,44267,ASCII,AKINLADE\\nRELEASED\\n\\n                                          ': Int64Index([128630, 128631, 128632], dtype='int64'),\n",
       " '\\n\\nONE USED M/BENZ A170 2005 MODEL WITH CHASSIS NO:- 4T1BE30K53U715992\\nIDENTIFIED AND EXAMINED BY  34714 DSC SULEIMAN M AND 44267,ASCII, AKINLADE,O.E\\nRELEASED': Int64Index([80137, 80138, 80139], dtype='int64'),\n",
       " '\\n\\nONE USED M/BENZ C180 2003 MODEL WITH CHASSIS NO:- WDB2020781F574769\\nIDENTIFIED AND EXAMINED BY  34714 DSC SULEIMAN M AND 49798 ,ASCI, SIDI,M.M.\\nRELEASED': Int64Index([3359463, 3359464, 3359465], dtype='int64'),\n",
       " '\\n\\nONE USED M/BENZ C230 2003 MODEL  WITH CHASSIS NO:WDBHA24G0XA741206  \\nIDENTIFIED AND EXAMINED BY  34714 DSC SULEIMAN M. AND 44267, ASCII, AKINLADE,O.E \\nRELEASED': Int64Index([2320167, 2320168, 2320169], dtype='int64'),\n",
       " '\\n\\nONE USED M/BENZ E320 2003 MODEL WITH CHASSIS NO:- WDBUF65J33A220363\\nIDENTIFIED AND EXAMINED BY  34714 DSC SULEIMAN M AND 49798 ,ASCI, SIDI,M.M.\\nRELEASED': Int64Index([94762, 94763, 94764], dtype='int64'),\n",
       " '\\n\\nONE USED M/BENZ E350 2006 MODEL WITH CHASSIS NO:CH:WDBUF87J96X207434\\nIDENTIFIED AND EXAMINED BY  41814,CSC,ADESHINA,J.O AND 34714 DSC SULEIMAN M. \\nREFER TO VALUATION': Int64Index([3040648, 3040649, 3040650], dtype='int64'),\n",
       " '\\n\\nONE USED M/BENZ E350 2014 MODEL (ACC)WITH CHASSIS NO:- WDDHF8JB9EA988919\\nIDENTIFIED AND EXAMINED BY  34714 DSC SULEIMAN M AND 44267,ASCII, AKINLADE,O.E\\nRELEASED': Int64Index([1387802, 1387803, 1387804], dtype='int64'),\n",
       " '\\n\\nONE USED M/BENZ GLK 350 2010 WITH CHASSIS NO:WDCGG8HB1AF333654 \\nIDENTIFIED AND EXAMINED BY  34714 DSC SULEIMAN M. AND 44267, ASCII, AKINLADE,O.E \\nRELEASED': Int64Index([177552, 177553, 177554], dtype='int64'),\n",
       " '\\n\\nONE USED M/BENZ R 350 2008 MODEL WITH CHASSIS NO:- CH. 4JGCB65E98A079037\\nIDENTIFIED AND EXAMINED BY  49798, ASCI, SIDI,M.M  AND 44267,ASCII, AKINLADE,O.E\\nRELEASED': Int64Index([1317634, 1317635, 1317636], dtype='int64'),\n",
       " '\\n\\nONE USED MAZDA  CX7 2009 MODEL WITH CHASSIS NO:JM3ER29LX90226930\\nIDENTIFIED AND EXAMINED BY 36970 SC IDRIS , M. AND 34714 DSC SULEIMAN, M\\nRELEASED.': Int64Index([726397, 726398, 726399], dtype='int64'),\n",
       " '\\n\\nONE USED MAZDA 323 2003 MODEL WITH CHASSIS NO:- JMZBJ14L201253355\\nIDENTIFIED AND EXAMINED BY  34714 DSC SULEIMAN M AND 52867, ASCII, AKINLOYE,K.Y.\\nRELEASED': Int64Index([2477385, 2477386, 2477387], dtype='int64'),\n",
       " '\\n\\nONE USED MAZDA CX-7 SPORT 2004 MODEL WITH CHASSIS NO:- JM3ER29L170107273\\nIDENTIFIED AND EXAMINED BY  34714 DSC SULEIMAN M AND 52867, ASCII, AKINLOYE,K.Y.\\nRELEASED': Int64Index([3466973, 3466974, 3466975], dtype='int64'),\n",
       " '\\n\\nONE USED MAZDA CX9 2008 MODEL WITH CHASSIS NO;- JM3TB38V180134334\\nIDENTIFIED AND EXAMINED BY 34714,DSC,SULEIMAN M AND 49798, ASCI,SIDI,MM\\nRELEASED.': Int64Index([138925, 138926], dtype='int64'),\n",
       " '\\n\\nONE USED MAZDA MPV 2004 MODEL WITH CHASSIS NO:JM3LW28J640509706\\nIDENTIFIED AND EXAMINED BY 36970 SC IDRIS , M. AND 34714 DSC SULEIMAN, M\\nRELEASED.': Int64Index([2668742, 2668743, 2668744], dtype='int64'),\n",
       " '\\n\\nONE USED MERCEDES BENZ 300 2008 MODEL WITH CHASSIS N;- WDDGF54X98F102834\\nIDENTIFIED, AND EXAMINED BY-  34714,DSC,SULEIMAN AND 44267, ASCII,AKINLADE,O.E\\nRELEASED.': Int64Index([124847, 124848, 124849], dtype='int64'),\n",
       " '\\n\\nONE USED MERCEDES BENZ 350 2003 MODEL WITH CHASSIS NO:WDBUF65J43A273346 \\nIDENTIFIED AND EXAMINED BY  34714 DSC SULEIMAN M. AND 44267, ASCII, AKINLADE,O.E \\nRELEASED': Int64Index([197322, 197323, 197324], dtype='int64'),\n",
       " '\\n\\nONE USED MERCEDES BENZ C230 (ACC) 2006 MODEL WITH CHASSIS NO:-WDBRF52H46F764783\\nIDENTIFIED AND EXAMINED BY  34714 DSC SULEIMAN M AND 49798 ,ASCI, SIDI,M.M.\\nRELEASED\\n': Int64Index([106332, 106333, 106334], dtype='int64'),\n",
       " '\\n\\nONE USED MERCEDES BENZ C230 2003 MODEL  WITH CHASSIS NO;- WDBHA24G2YA836741\\nIDENTIFIED AND EXAMINED BY AND 34714,DSC,SULEIMAN,M AND 49798,ASCI,SIDI,MM\\nRELEASED\\n': Int64Index([2889417, 2889418, 2889419], dtype='int64'),\n",
       " '\\n\\nONE USED MERCEDES BENZ C230 2007 MODEL WITH CHASSIS NO:- WDBRF52H07F901896\\nIDENTIFIED AND EXAMINED BY  38923, ASCI, ABUBAKAR, T.A  AND 52867, ASCII, AKINLOYE,K.Y.\\nRELEASED': Int64Index([3294090, 3294091, 3294092], dtype='int64'),\n",
       " '\\n\\nONE USED MERCEDES BENZ C240 2004 MODEL WITH CHASSIS NO:WDBRF61J43E010956\\nIDENTIFIED AND EXAMINED BY 36970 SC IDRIS , M. AND 34714 DSC SULEIMAN, M\\nRELEASED.': Int64Index([1790079, 1790080, 1790081], dtype='int64'),\n",
       " '\\n\\nONE USED MERCEDES BENZ C240 2004 MODEL WITH CHASSIS NO:WDBRF61J62F243388\\nIDENTIFIED AND EXAMINED BY 36970 SC IDRIS , M. AND 34714 DSC SULEIMAN, M\\nRELEASED.': Int64Index([2014426, 2014427, 2014428], dtype='int64'),\n",
       " '\\n\\nONE USED MERCEDES BENZ C280 2003 MODEL WITH CHASSIS NO:- WDBHA29G6YA851686\\nIDENTIFIED AND EXAMINED BY  34714 DSC SULEIMAN M AND 44267,ASCII, AKINLADE,O.E\\nRELEASED': Int64Index([2635278, 2635279, 2635280], dtype='int64'),\n",
       " '\\n\\nONE USED MERCEDES BENZ C300 (ACC) 2008 MODEL WITH CHASSIS NO:- CH:  WDDGF81X28F106813\\nIDENTIFIED AND EXAMINED BY  34714 DSC SULEIMAN M AND 49798 ,ASCI, SIDI,M.M.\\nRELEASED': Int64Index([86250, 86251, 86252], dtype='int64'),\n",
       " '\\n\\nONE USED MERCEDES BENZ C300 2008 MODEL WITH CHASSIS NO:- 4T1BE32KX4U918987\\nIDENTIFIED AND EXAMINED BY  34714 DSC SULEIMAN M AND 49798 ,ASCI, SIDI,M.M.\\nRELEASED': Int64Index([2872981, 2872982, 2872983], dtype='int64'),\n",
       " '\\n\\nONE USED MERCEDES BENZ C300 2008 MODEL WITH CHASSIS NO:- WDDGF54X98R010668\\nIDENTIFIED AND EXAMINED BY  34714 DSC SULEIMAN M AND 49798 ,ASCI, SIDI,M.M.\\nRELEASED': Int64Index([131597, 131598, 131599], dtype='int64'),\n",
       " '\\n\\nONE USED MERCEDES BENZ C300 2009 MODEL  WITH CHASSIS NO;- WDDGF54X19F202301\\nIDENTIFIED AND EXAMINED BY AND 34714,DSC,SULEIMAN,M AND 49798,ASCI,SIDI,MM\\nRELEASED\\n': Int64Index([3303300, 3303301, 3303302], dtype='int64'),\n",
       " '\\n\\nONE USED MERCEDES BENZ C300(ACC) 2008 MODEL WITH CHASSIS NO:- CH: WDDGF54X58R016581\\nIDENTIFIED AND EXAMINED BY  38923, ASCI, ABUBAKAR, T.A  AND 52867, ASCII, AKINLOYE,K.Y.\\nRELEASED': Int64Index([1738309, 1738310, 1738311], dtype='int64'),\n",
       " '\\n\\nONE USED MERCEDES BENZ C300(ACC) 2009 MODEL WITH CHASSIS NO:- CH: WDDGF54X99F212803\\nIDENTIFIED AND EXAMINED BY  34714 DSC SULEIMAN M AND 44267,ASCII, AKINLADE,O.E\\nRELEASED': Int64Index([3101506, 3101507, 3101508], dtype='int64'),\n",
       " '\\n\\nONE USED MERCEDES BENZ E350 2007 MODEL WITH CHASSIS NO:WDBUF56X37B000329\\nIDENTIFIED AND EXAMINED BY 34714 DSC SULEIMAN M AND 38923 ASC I ABUBAKAR , T.A\\nRELEASED.\\n': Int64Index([710682, 710683, 710684], dtype='int64'),\n",
       " '\\n\\nONE USED MERCEDES BENZ E350 2010 MODEL WITH CHASSIS NO:- WDDHF8HB4AA105339\\nIDENTIFIED AND EXAMINED BY  34714 DSC SULEIMAN M AND 49798 ,ASCI, SIDI,M.M.\\nRELEASED': Int64Index([1817161, 1817162, 1817163], dtype='int64'),\n",
       " '\\n\\nONE USED MERCEDES BENZ GL 450 2009 MODEL WITH CHASSIS NO:-: 4JGBF71E99A447133\\nIDENTIFIED AND EXAMINED BY  34714 DSC SULEIMAN M AND 49798 ,ASCI, SIDI,M.M.\\nRELEASED': Int64Index([1815193, 1815194, 1815195], dtype='int64'),\n",
       " '\\n\\nONE USED MERCEDES BENZ GL450 2008 MODEL WITH CHASSIS NO:4JGBF71E08A391968\\nIDENTIFIED AND EXAMINED BY 34714 DSC SULEIMAN M AND 38923 ASC I ABUBAKAR , T.A\\nRELEASED.': Int64Index([2264124, 2264125, 2264126], dtype='int64'),\n",
       " '\\n\\nONE USED MERCEDES BENZ GL450 2010 MODEL WITH CHASSIS NO:- 4JGBF7BB1AA532993\\nIDENTIFIED AND EXAMINED BY  34714 DSC SULEIMAN M AND 49798 ,ASCI, SIDI,M.M.\\nRELEASED': Int64Index([132536, 132537, 132538], dtype='int64'),\n",
       " '\\n\\nONE USED MERCEDES BENZ GLK350 (ACC.) 2010 MODEL WITH CHASIS NO:- WDCGG5GB9AF433436\\nIDENTIFIED AND EXAMINED BY-34714,DSC,SULEIMAN,M AND 44267, ASCII, AKINLADE, O.E\\nRELEASED\\n': Int64Index([124770, 124771, 124772], dtype='int64'),\n",
       " '\\n\\nONE USED MERCEDES BENZ ML 350 2007 MODEL WITH CHASSIS NO:- CH/NO:  4JGBB86E17A278703\\nIDENTIFIED AND EXAMINED BY  34714 DSC SULEIMAN M AND 44267,ASCII, AKINLADE,O.E\\nRELEASED': Int64Index([2722463, 2722464, 2722465], dtype='int64'),\n",
       " '\\n\\nONE USED MERCEDES BENZ ML350(ACC) 2012 MODEL WITH CHASSIS NO:- 4JGDA5HB6CA067570\\nIDENTIFIED AND EXAMINED BY  49798, ASCI, SIDI,M.M  AND 44267,ASCII, AKINLADE,O.E\\nREFER TO CPC': Int64Index([155557, 155558, 155559], dtype='int64'),\n",
       " '\\n\\nONE USED MERCEDES BUS  WITH CHASSIS NO:- NMB67101013232963\\nIDENTIFIED AND EXAMINED BY  49798, ASCI, SIDI,M.M  AND 44267,ASCII, AKINLADE,O.E\\nRELEASED': Int64Index([2532628, 2532629, 2532630], dtype='int64'),\n",
       " '\\n\\nONE USED MERCEDES-BENZ C230 2003 MODEL WITH CHASSIS NO:- WDBHA24G3XA791002\\nIDENTIFIED AND EXAMINED BY  34714 DSC SULEIMAN M AND 40923, ASCII, ABDULMALIK,I\\nRELEASED': Int64Index([3268637, 3268638, 3268639], dtype='int64'),\n",
       " '\\n\\nONE USED MERCEDES-BENZ ML 350 2007 MODEL WITH CHASSIS NO:4JGBB86E07A153269\\nIDENTIFIED AND EXAMINED BY 36970 SC IDRIS , M. AND 34714 DSC SULEIMAN, M\\nRELEASED.': Int64Index([683496, 683497, 683498], dtype='int64'),\n",
       " '\\n\\nONE USED MERCEDES-BENZ ML350 2008 MODEL WITH CHASSIS NO: 4JGBB86EX8A397545\\nIDENTIFIED AND EXAMINED BY  36970 SC IDRIS , M. AND 34714 DSC SULEIMAN M. \\nREFER TO VALUATION AS DIRECTED': Int64Index([1540961, 1540962, 1540963], dtype='int64'),\n",
       " '\\n\\nONE USED MERCEDEZ BENZ ML500 2008 WITH CHASSIS NO: 4JGBB72E28A358562 \\nIDENTIFIED AND EXAMINED BY  34714 DSC SULEIMAN M. AND 52867, ASCII, AKINLOYE, K.Y\\nRELEASED\\n': Int64Index([2208767, 2208768, 2208769], dtype='int64'),\n",
       " '\\n\\nONE USED MITS. LANCER MODEL WITH CHASSIS NO:- 4T1BE32KX4U918987\\nIDENTIFIED AND EXAMINED BY  34714 DSC SULEIMAN M AND 49798 ,ASCI, SIDI,M.M.\\nRELEASED': Int64Index([3301419, 3301420, 3301421], dtype='int64'),\n",
       " '\\n\\nONE USED MITSUBISHI ENDEAVOR 2005 MODEL WITH CHASSIS NO:4A4MN21S95E047707\\nIDENTIFIED AND EXAMINED BY  349798, DSC, SIDI,M.M. AND 52867, ASCII, AKINLOYE, K.Y\\nRELEASED': Int64Index([195906, 195907, 195908], dtype='int64'),\n",
       " '\\n\\nONE USED NISSAN ALTIMA 2015 MODEL  WITH CHASSIS NO;- CH;  1N4AL3APXFN327080\\nIDENTIFIED AND EXAMINED BY AND 34714,DSC,SULEIMAN,M AND 49798,ASCI,SIDI,MM\\nRELEASED\\n': Int64Index([2150871, 2150872, 2150873], dtype='int64'),\n",
       " '\\n\\nONE USED NISSAN FRONITER PICK-UP MODEL WITH CHASSIS NO:1N6MD29YX2C388119\\nIDENTIFIED AND EXAMINED BY  41814,CSC,ADESHINA,J.O AND 34714 DSC SULEIMAN M. \\nRELEASED': Int64Index([1234420, 1234421, 1234422], dtype='int64'),\n",
       " '\\n\\nONE USED NISSAN FRONTIER 2007 MODEL WITH CHASSIS NO:1N6AD07W57C429823\\nIDENTIFIED AND EXAMINED BY 41814 CSC ADESHINA J.O AND 38923 ASC I ABUBAKAR , T.A\\nRELEASED.': Int64Index([678867, 678868, 678869], dtype='int64'),\n",
       " '\\n\\nONE USED NISSAN MAXIMA (ACC) 2003 MODEL WITH CHASSIS NO:- 4T1BE32KX4U918987\\nIDENTIFIED AND EXAMINED BY  34714 DSC SULEIMAN M AND 49798 ,ASCI, SIDI,M.M.\\nRELEASED\\n': Int64Index([3301041, 3301042, 3301043], dtype='int64'),\n",
       " '\\n\\nONE USED NISSAN MURANO 2006 MODEL WITH CHASSIS NO:- JN8AZ08T06W415693\\nIDENTIFIED AND EXAMINED BY  34714 DSC SULEIMAN M AND 44267,ASCII, AKINLADE,O.E\\nRELEASED': Int64Index([2726968, 2726969, 2726970], dtype='int64'),\n",
       " '\\n\\nONE USED NISSAN MURANO 2009 MODEL WITH CHASSIS NO:- JN8AZ18U39W000127\\nIDENTIFIED AND EXAMINED BY  41814, CSC, ADESHINA,J.O AND 34714 DSC SULEIMAN M \\nRELEASED': Int64Index([2069888, 2069889, 2069890], dtype='int64'),\n",
       " '\\n\\nONE USED NISSAN PATHFINDER 2003 MODEL WITH CHASSIS NO:- JN8DR09YX3W810399\\nIDENTIFIED AND EXAMINED BY  34714 DSC SULEIMAN M AND 49798 ,ASCI, SIDI,M.M.\\nRELEASED\\n': Int64Index([131504, 131505, 131506], dtype='int64'),\n",
       " '\\n\\nONE USED NISSAN PATHFINDER [2003] MODEL CHASS; NO; JN8DR09Y83W819439\\nEXAMINED BY; 34714,DSC,SULEIMAN,M AND 38923,DSC,ABUBAKAR,T.A\\nRELEASED': Int64Index([2487750, 2487751, 2487752], dtype='int64'),\n",
       " '\\n\\nONE USED NISSAN QUEST 2005 MODEL WITH CHASSIS NO:- 5N1BV28U65N112675\\nIDENTIFIED AND EXAMINED BY  34714 DSC SULEIMAN M AND 49798 ,ASCI, SIDI,M.M.\\nRELEASED': Int64Index([71442, 71443, 71444], dtype='int64'),\n",
       " '\\n\\nONE USED NISSAN ROGUE 2012 MODEL WITH CHASSIS NO:- CH. JN8AS5MT8CW263455\\nIDENTIFIED AND EXAMINED BY  34714 DSC SULEIMAN M AND 49798 ,ASCI, SIDI,M.M.\\nRELEASED': Int64Index([2279668, 2279669, 2279670], dtype='int64'),\n",
       " '\\n\\nONE USED NISSAN STANDARD PICK UP  WITH CHASSIS NO:- CH NO: 1N6SD11S0VC39100987\\nIDENTIFIED AND EXAMINED BY  34714 DSC SULEIMAN M AND 40623, ASCII, ABDULMALIK, I\\nRELEASED\\n': Int64Index([188240, 188241, 188242], dtype='int64'),\n",
       " '\\n\\nONE USED NISSAN TERRANO 2003 MODEL WITH CHASSIS NO:- 4T1BE30K53U715992\\nIDENTIFIED AND EXAMINED BY  34714 DSC SULEIMAN M AND 44267,ASCII, AKINLADE,O.E\\nRELEASED': Int64Index([188270, 188271, 188272], dtype='int64'),\n",
       " '\\n\\nONE USED NISSAN TRADE BUS WITH CHASSIS NO:VSKKE0553SA741340 \\nIDENTIFIED AND EXAMINED BY FOUND TO CONTAIN USED ELECTRONICS. 41866, CSC, OLA, B.O AND 349798, DSC, SIDI,M.M. \\nREFER TO VALUATION FOR PAYMENT ON GOODS': Int64Index([2074162, 2074163, 2074164], dtype='int64'),\n",
       " '\\n\\nONE USED NISSAN X-TERRA 2004 MODEL WITH CHASSIS NO:CH/NO.   5N1ED28Y2YC596072\\nIDENTIFIED AND EXAMINED BY 36970 SC IDRIS , M. AND 34714 DSC SULEIMAN, M\\nRELEASED.': Int64Index([3380749, 3380750, 3380751], dtype='int64'),\n",
       " '\\n\\nONE USED OPEL MOVANO  WITH CHASSIS NO:- VN1F9CEL5235139111\\nIDENTIFIED AND EXAMINED BY  34714 DSC SULEIMAN M AND 49798 ,ASCI, SIDI,M.M.\\nRELEASED': Int64Index([1360367, 1360368, 1360369], dtype='int64'),\n",
       " '\\n\\nONE USED OPEL ZAFIRA [2003] CHASS; NO; CH.W0L0TGF75Y2016194\\nEXAMINED BY; 41814, CSC, ADESHINA,J.O AND 34714,DSC,SULEIMAN,M\\nRELEASED': Int64Index([2608282, 2608283, 2608284], dtype='int64'),\n",
       " '\\n\\nONE USED PEUGEOT 406 2003 MODEL WITH CHASSIS NO:- CH/NO;VF38B3FZF81297273\\nIDENTIFIED AND EXAMINED BY  34714 DSC SULEIMAN M AND 52867, ASCII, AKINLOYE,K.Y.\\nRELEASED': Int64Index([166290, 166291, 166292], dtype='int64'),\n",
       " '\\n\\nONE USED PEUGEOT 406 2003 MODEL WITH CHASSIS NO:- VF38BLYE80264776\\nIDENTIFIED AND EXAMINED BY  34714 DSC SULEIMAN M AND 52867, ASCII, AKINLOYE,K.Y.\\nRELEASED\\n': Int64Index([165275, 165276], dtype='int64'),\n",
       " '\\n\\nONE USED PEUGEOT 406 2004 MODEL WITH CHASSIS NO:VF38B6FZF81527780\\nIDENTIFIED AND EXAMINED BY 34714 DSC SULEIMAN M AND 38923 ASC I ABUBAKAR , T.A\\nRELEASED.': Int64Index([2947866, 2947867, 2947868], dtype='int64'),\n",
       " '\\n\\nONE USED PEUGEOT 406 2004 MODEL WITH CHASSIS NO:VF38ELFYE80823877\\nIDENTIFIED AND EXAMINED BY 36970 SC IDRIS , M. AND 34714 DSC SULEIMAN, M\\nRELEASED.': Int64Index([732422, 732423, 732424], dtype='int64'),\n",
       " '\\n\\nONE USED PEUGEOT BOXER  WITH CHASSIS NO:- VF3232B5215689633\\nIDENTIFIED AND EXAMINED BY  34714 DSC SULEIMAN M AND 44267,ASCII, AKINLADE,O.E\\nRELEASED': Int64Index([185039, 185040, 185041], dtype='int64'),\n",
       " '\\n\\nONE USED PEUGEOT BOXER  WITH CHASSIS NO:VF3233B5215626046 \\nIDENTIFIED AND EXAMINED BY  34714 DSC SULEIMAN M. AND 44267, ASCII, AKINLADE,O.E \\nRELEASED': Int64Index([2890351, 2890352, 2890353], dtype='int64'),\n",
       " '\\n\\nONE USED PONTIAC VIBE 2003 MODEL  WITH CHASSIS NO;- 5Y2SL62863Z401509\\nIDENTIFIED AND EXAMINED BY AND 34714,DSC,SULEIMAN,M AND 49798,ASCI,SIDI,MM\\nRELEASED\\n': Int64Index([2289818, 2289819, 2289820], dtype='int64'),\n",
       " '\\n\\nONE USED PONTIAC VIBE 2003 MODEL WITH CHASSIS NO:- 5Y2SL62803Z427068\\nIDENTIFIED AND EXAMINED BY  34714 DSC SULEIMAN M AND 49798 ,ASCI, SIDI,M.M.\\nRELEASED': Int64Index([2441351, 2441352, 2441353], dtype='int64'),\n",
       " '\\n\\nONE USED PONTIAC VIBE 2003 MODEL WITH CHASSIS NO:- CH: 5Y2SL62883Z460268\\nIDENTIFIED AND EXAMINED BY  34714 DSC SULEIMAN M AND 49798 ,ASCI, SIDI,M.M.\\nRELEASED': Int64Index([100864, 100865, 100866], dtype='int64'),\n",
       " '\\n\\nONE USED PONTIAC VIBE 2003 MODEL WITH CHASSIS NO:5Y2SL628X3Z476083\\nIDENTIFIED AND EXAMINED BY  41814,CSC,ADESHINA,J.O AND 34714 DSC SULEIMAN M. \\nRELEASED': Int64Index([1621315, 1621316, 1621317], dtype='int64'),\n",
       " '\\n\\nONE USED PONTIAC VIBE 2004 MODEL WITH CHASSIS NO:-  5Y2SL62844Z418679\\nIDENTIFIED AND EXAMINED BY  34714 DSC SULEIMAN M AND 49798 ,ASCI, SIDI,M.M.\\nRELEASED': Int64Index([1816245, 1816246, 1816247], dtype='int64'),\n",
       " '\\n\\nONE USED PONTIAC VIBE 2004 MODEL WITH CHASSIS NO:5Y2SL62833Z454622\\nIDENTIFIED AND EXAMINED BY 34714 DSC SULEIMAN M AND 38923 ASC I ABUBAKAR , T.A\\nRELEASED.': Int64Index([3339264, 3339265, 3339266], dtype='int64'),\n",
       " '\\n\\nONE USED PONTIAC VIBE 2004 MODEL WITH CHASSIS NO:5Y2SM64803Z482291\\nIDENTIFIED AND EXAMINED BY 34714 DSC SULEIMAN M AND 38923 ASC I ABUBAKAR , T.A\\nRELEASED.': Int64Index([1431850, 1431851, 1431852], dtype='int64'),\n",
       " '\\n\\nONE USED PONTIAC VIBE 2005 MODEL WITH CHASSIS NO:- 5Y2SL63825Z423959\\nIDENTIFIED AND EXAMINED BY  34714 DSC SULEIMAN M AND 44267,ASCII, AKINLADE,O.E\\nRELEASED': Int64Index([2891253, 2891254, 2891255], dtype='int64'),\n",
       " '\\n\\nONE USED PONTIAC VIBE 2005 MODEL WITH CHASSIS NO:5Y2SL63885Z441110\\nIDENTIFIED AND EXAMINED BY 41814 CSC ADESHINA J.O AND 38923 ASC I ABUBAKAR , T.A\\nRELEASED.\\n': Int64Index([2717351, 2717352, 2717353], dtype='int64'),\n",
       " '\\n\\nONE USED PONTIAC VIBE 2006 MODEL WITH CHASSIS NO:- 5Y2SL65886Z455796\\nIDENTIFIED AND EXAMINED BY  49798, ASCI, SIDI,M.M  AND 44267,ASCII, AKINLADE,O.E\\nRELEASED': Int64Index([3216464, 3216465, 3216466], dtype='int64'),\n",
       " '\\n\\nONE USED PONTIAC VIBE 2006 MODEL WITH CHASSIS NO:- CH. 5Y2SL658X6Z427952\\nIDENTIFIED AND EXAMINED BY  34714 DSC SULEIMAN M AND 49798 ,ASCI, SIDI,M.M.\\nRELEASED': Int64Index([141741, 141742, 141743], dtype='int64'),\n",
       " '\\n\\nONE USED PONTIAC VIBE 2006 MODEL WITH CHASSIS NO:5Y2SL658X6Z411816\\nIDENTIFIED AND EXAMINED BY 34714 DSC SULEIMAN M AND 38923 ASC I ABUBAKAR , T.A\\nRELEASED.': Int64Index([3006038, 3006039, 3006040], dtype='int64'),\n",
       " '\\n\\nONE USED PONTIAC VIBE 2009 MODEL WITH CHASSIS NO:5Y2SP67069Z420352\\nIDENTIFIED AND EXAMINED BY 34714 DSC SULEIMAN M AND 38923 ASC I ABUBAKAR , T.A\\nRELEASED.': Int64Index([2101390, 2101391, 2101392], dtype='int64'),\n",
       " '\\n\\nONE USED PONTIAC VIBE BASE 2005 MODEL WITH CHASSIS NO:5Y2SL63815Z457620\\nIDENTIFIED AND EXAMINED BY 36970 SC IDRIS , M. AND 34714 DSC SULEIMAN, M\\nRELEASED.': Int64Index([2178022, 2178023, 2178024], dtype='int64'),\n",
       " '\\n\\nONE USED PONTIAC VIBE BASE 2007 MODEL WITH CHASSIS NO:- 5Y2SL65807Z420364\\nIDENTIFIED AND EXAMINED BY  34714 DSC SULEIMAN M AND 44267,ASCII, AKINLADE,O.E\\nRELEASED': Int64Index([93087, 93088, 93089], dtype='int64'),\n",
       " '\\n\\nONE USED PONTIAC VIBE BASE [2004] MODEL CHASS; NO; CH.5Y2SL628X4Z463111\\nEXAMINED BY;  34714,DSC,SULEIMAN,M AND 44267,ASCII,AKINLADE,O.E\\nRELEASED': Int64Index([343171, 343172, 343173], dtype='int64'),\n",
       " '\\n\\nONE USED RENAULT MEGANE SCENIC 2003 MODEL WITH CHASSIS NO:- VF1JA1A0526964198\\nIDENTIFIED AND EXAMINED BY  34714 DSC SULEIMAN M AND 44267,ASCII, AKINLADE,O.E\\nRELEASED': Int64Index([206584, 206585, 206586], dtype='int64'),\n",
       " '\\n\\nONE USED SATURN VUE 2008 MODEL WITH CHASSIS NO:- :  3GSCL33P38S703325\\nIDENTIFIED AND EXAMINED BY  34714 DSC SULEIMAN M AND 44267,ASCII, AKINLADE,O.E\\nRELEASED': Int64Index([2397930, 2397931, 2397932], dtype='int64'),\n",
       " '\\n\\nONE USED TOY1 USED PONTIAC BONNEVILLE 2004 MODEL WITH CHASSIS NO:CH/NO. 1G2HX53L0P1251336\\nIDENTIFIED AND EXAMINED BY 34714 DSC SULEIMAN M AND 38923 ASC I ABUBAKAR , T.A\\nRELEASED.': Int64Index([2580716, 2580717, 2580718], dtype='int64'),\n",
       " '\\n\\nONE USED TOYOTA  CAMRY 2003 MODEL WITH CHASSIS NO:4TB1GBFLYR32672 \\nIDENTIFIED AND EXAMINED BY  34714 DSC SULEIMAN M. AND 44267, ASCII, AKINLADE,O.E \\nRELEASED\\n': Int64Index([1297627, 1297628, 1297629], dtype='int64'),\n",
       " '\\n\\nONE USED TOYOTA  COROLLA  2005 MODEL WITH CHASSIS NO:2T1BR32E45C454421\\nIDENTIFIED AND EXAMINED BY 41814 CSC ADESHINA J.O AND 38923 ASC I ABUBAKAR , T.A\\nRELEASED.\\n': Int64Index([2919866, 2919867, 2919868], dtype='int64'),\n",
       " '\\n\\nONE USED TOYOTA  SIENNA 2008 MODEL WITH CHASSIS NO:5TDZA23C06S445544\\nIDENTIFIED AND EXAMINED BY  349798, DSC, SIDI,M.M. AND 49798, ASCII, AKINLADE, O.E\\nRELEASED': Int64Index([331469, 331470, 331471], dtype='int64'),\n",
       " '\\n\\nONE USED TOYOTA  TACOMA  2009 MODEL WITH CHASSIS NO:CH..4T1BE46K19U812659\\nIDENTIFIED AND EXAMINED BY 36970 SC IDRIS , M. AND 34714 DSC SULEIMAN, M\\nRELEASED.': Int64Index([681475, 681476, 681477], dtype='int64'),\n",
       " '\\n\\nONE USED TOYOTA 4-RUNNER 2006 MODEL WITH CHASSIS NO:- JTEBU14R860088313\\nIDENTIFIED AND EXAMINED BY  34714 DSC SULEIMAN M AND 44267,ASCII, AKINLADE,O.E\\nRELEASED': Int64Index([2313526, 2313527, 2313528], dtype='int64'),\n",
       " '\\n\\nONE USED TOYOTA 4-RUNNER 2007 MODEL WITH CHASSIS NO:- CH: JTEZU14RX78085446\\nIDENTIFIED AND EXAMINED BY  49798, ASCI, SIDI,M.M  AND 44267,ASCII, AKINLADE,O.E\\nRELEASED': Int64Index([2125873, 2125874, 2125875], dtype='int64'),\n",
       " '\\n\\nONE USED TOYOTA 4-RUNNER 2018 MODEL WITH CHASSIS NO:JTEBU5JR0J5572869\\nIDENTIFIED AND EXAMINED AND FOUND TO HAVE TRAVELLED 3,498.714KMS BY \\n34714 DSC SULEIMAN M AND 38923 ASC I ABUBAKAR , T.A\\nREFER TO VALUATION FOR PAYMENT OF LEVY.': Int64Index([781641, 781642, 781643], dtype='int64'),\n",
       " '\\n\\nONE USED TOYOTA AVALON  [2004] MODEL CHASS; NO; 4T1BF28BX4U359732\\nEXAMINED BY;  34714,DSC,SULEIMAN,M AND 44267,ASCII,AKINLADE,O.E\\nRELEASED': Int64Index([1298389, 1298390, 1298391], dtype='int64'),\n",
       " '\\n\\nONE USED TOYOTA AVALON 2003 MODEL WITH CHASSIS NO:- 4T1BF28B13U299046\\nIDENTIFIED AND EXAMINED BY  34714 DSC SULEIMAN M AND 40623, ASCII, ABDULMALIK, I\\nRELEASED': Int64Index([2959887, 2959888, 2959889], dtype='int64'),\n",
       " '\\n\\nONE USED TOYOTA AVALON 2003 MODEL WITH CHASSIS NO:- 4T1BF28B6YU105134\\nIDENTIFIED AND EXAMINED BY  41814, CSC, ADESHINA,J.O AND 34714 DSC SULEIMAN M \\nRELEASED': Int64Index([2233393, 2233394, 2233395], dtype='int64'),\n",
       " '\\n\\nONE USED TOYOTA AVALON 2004 MODEL WITH CHASSIS NO:- CH: 4T1BF28B24U375116\\nIDENTIFIED AND EXAMINED BY  34714 DSC SULEIMAN M AND 40623, ASCII, ABDULMALIK, I\\nRELEASED': Int64Index([2879144, 2879145, 2879146], dtype='int64'),\n",
       " '\\n\\nONE USED TOYOTA AVALON 2004 MODEL WITH CHASSIS NO:4T1BF28B22U202290\\nIDENTIFIED AND EXAMINED BY 41814 CSC ADESHINA J.O AND 38923 ASC I ABUBAKAR , T.A\\nRELEASED.\\n': Int64Index([3248474, 3248475, 3248476], dtype='int64'),\n",
       " '\\n\\nONE USED TOYOTA AVALON 2004 MODEL WITH CHASSIS NO:4T1BF28B54U384814\\nIDENTIFIED AND EXAMINED BY 34714 DSC SULEIMAN M AND 38923 ASC I ABUBAKAR , T.A\\nRELEASED.\\n': Int64Index([2753072, 2753073, 2753074], dtype='int64'),\n",
       " '\\n\\nONE USED TOYOTA AVALON 2004 MODEL WITH CHASSIS NO:4T1BF28B64U346170\\nIDENTIFIED AND EXAMINED BY 34714 DSC SULEIMAN M AND 38923 ASC I ABUBAKAR , T.A\\nRELEASED.': Int64Index([2752259, 2752260, 2752261], dtype='int64'),\n",
       " '\\n\\nONE USED TOYOTA AVALON 2005 MODEL WITH CHASIS NO:- 4T1BK36B35U031168\\nIDENTIFIED AND EXAMINED BY-34714,DSC,SULEIMAN,M AND 44267, ASCII, AKINLADE, O.E\\nRELEASED\\n': Int64Index([1478403, 1478404, 1478405], dtype='int64'),\n",
       " '\\n\\nONE USED TOYOTA AVALON 2005 MODEL WITH CHASSIS NO:4T1BK36B75U023719\\nIDENTIFIED AND EXAMINED BY  41814,CSC,ADESHINA,J.O AND 34714 DSC SULEIMAN M. \\nRELEASED': Int64Index([2641054, 2641055, 2641056], dtype='int64'),\n",
       " '\\n\\nONE USED TOYOTA AVALON 2006 MODEL WITH CHASSIS NO:4T1BK36B76U133137\\nIDENTIFIED AND EXAMINED BY 34714 DSC SULEIMAN M AND 38923 ASC I ABUBAKAR , T.A\\nRELEASED.': Int64Index([2586227, 2586228, 2586229], dtype='int64'),\n",
       " '\\n\\nONE USED TOYOTA AVALON 2007 MODEL  WITH CHASSIS NO;- 4T1BK36B97U225903\\nIDENTIFIED AND EXAMINED BY AND 34714,DSC,SULEIMAN,M AND 49798,ASCI,SIDI,MM\\nRELEASED\\n': Int64Index([2557652, 2557653, 2557654], dtype='int64'),\n",
       " '\\n\\nONE USED TOYOTA AVALON [2003] CHASS; NO; 4TBF281B1YUO58901\\nEXAMINED BY; 34714, DSC, SULEIMAN,M. AND 40623, ASCII, ABDULMALIK,I\\nRELEASED': Int64Index([3444283, 3444284], dtype='int64'),\n",
       " '\\n\\nONE USED TOYOTA AVALON [2006] MODEL CHASS; NO; 4T1BK36B56U164385\\nEXAMINED BY;  34714,DSC,SULEIMAN,M AND 44267,ASCII,AKINLADE,O.E\\nRELEASED': Int64Index([348059, 348060, 348061], dtype='int64'),\n",
       " '\\n\\nONE USED TOYOTA CAMRY 2002 MODEL WITH CHASSIS NO:- 4T1BE32K92U535183\\nIDENTIFIED AND EXAMINED BY  34714 DSC SULEIMAN M AND 49798 ,ASCI, SIDI,M.M.\\nRELEASED': Int64Index([3363778, 3363779, 3363780], dtype='int64'),\n",
       " '\\n\\nONE USED TOYOTA CAMRY 2003 MODEL  WITH CHASSIS NO;- 4T1BE32K82U508590\\nIDENTIFIED AND EXAMINED BY AND 34714,DSC,SULEIMAN,M AND 49798,ASCI,SIDI,MM\\nRELEASED\\n': Int64Index([1651278, 1651279, 1651280], dtype='int64'),\n",
       " '\\n\\nONE USED TOYOTA CAMRY 2003 MODEL  WITH CHASSIS NO;- 4T1BE32K83U132989\\nIDENTIFIED AND EXAMINED BY AND 34714,DSC,SULEIMAN,M AND 49798,ASCI,SIDI,MM\\nRELEASED\\n': Int64Index([126253, 126254, 126255], dtype='int64'),\n",
       " '\\n\\nONE USED TOYOTA CAMRY 2003 MODEL  WITH CHASSIS NO;- CH:4T1BE32K02U566418\\nIDENTIFIED AND EXAMINED BY AND 34714,DSC,SULEIMAN,M AND 49798,ASCI,SIDI,MM\\nRELEASED\\n': Int64Index([1899645, 1899646, 1899647], dtype='int64'),\n",
       " '\\n\\nONE USED TOYOTA CAMRY 2003 MODEL  WITH CHASSIS NO;4T1BG22K81U078420\\nIDENTIFIED AND EXAMINED BY 36970, SC,IDRIS, M AND 34714,DSC,SULEIMAN,M\\nRELEASED\\n': Int64Index([2474908, 2474909, 2474910], dtype='int64'),\n",
       " '\\n\\nONE USED TOYOTA CAMRY 2003 MODEL  WITH CHASSIS NO;CH. JTDBE32K130172861\\nIDENTIFIED AND EXAMINED BY 36970, SC,IDRIS, M AND 34714,DSC,SULEIMAN,M\\nRELEASED\\n': Int64Index([129196, 129197, 129198], dtype='int64'),\n",
       " '\\n\\nONE USED TOYOTA CAMRY 2003 MODEL WITH CHASIS NO:- 4T1BE32K25U628762\\nIDENTIFIED AND EXAMINED BY-34714,DSC,SULEIMAN,M AND 49798, ASCI,SIDI \\nRELEASED': Int64Index([3467544, 3467545, 3467546], dtype='int64'),\n",
       " '\\n\\nONE USED TOYOTA CAMRY 2003 MODEL WITH CHASIS NO:- CH NO: JTNBE46K073084173\\nIDENTIFIED AND EXAMINED BY-34714,DSC,SULEIMAN,M AND 44267, ASCII, AKINLADE, O.E\\nRELEASED\\n': Int64Index([2474914, 2474915, 2474916], dtype='int64'),\n",
       " '\\n\\nONE USED TOYOTA CAMRY 2003 MODEL WITH CHASIS NO:- JT2BG22K3Y0428096\\nIDENTIFIED AND EXAMINED BY-34714,DSC,SULEIMAN,M AND 44267, ASCII, AKINLADE, O.E\\nRELEASED\\n': Int64Index([2556817, 2556818, 2556819], dtype='int64'),\n",
       " '\\n\\nONE USED TOYOTA CAMRY 2003 MODEL WITH CHASIS NO:- JTHBA30G555133494\\nIDENTIFIED AND EXAMINED BY-34714,DSC,SULEIMAN,M AND 44267, ASCII, AKINLADE, O.E\\nRELEASED\\n': Int64Index([123112, 123113, 123114], dtype='int64'),\n",
       " '\\n\\nONE USED TOYOTA CAMRY 2003 MODEL WITH CHASSIS N;- 4T1BE32K52U536587\\nIDENTIFIED, AND EXAMINED BY-  34714,DSC,SULEIMAN AND 44267, ASCII,AKINLADE,O.E\\nRELEASED.': Int64Index([2064145, 2064146, 2064147], dtype='int64'),\n",
       " '\\n\\nONE USED TOYOTA CAMRY 2003 MODEL WITH CHASSIS N;- 4T1BG22K2YU709673\\nIDENTIFIED, AND EXAMINED BY-  34714,DSC,SULEIMAN AND 44267, ASCII,AKINLADE,O.E\\nRELEASED.\\n': Int64Index([2393793, 2393794, 2393795], dtype='int64'),\n",
       " '\\n\\nONE USED TOYOTA CAMRY 2003 MODEL WITH CHASSIS NO:- 4T1BE30K03U784797\\nIDENTIFIED AND EXAMINED BY  41814, CSC, ADESHINA,J.O AND 34714 DSC SULEIMAN M \\nRELEASED': Int64Index([208667, 208668, 208669], dtype='int64'),\n",
       " '\\n\\nONE USED TOYOTA CAMRY 2003 MODEL WITH CHASSIS NO:- 4T1BE32K03U689122\\nIDENTIFIED AND EXAMINED BY  34714 DSC SULEIMAN M AND 44267,ASCII, AKINLADE,O.E\\nRELEASED\\n': Int64Index([89385, 89386, 89387], dtype='int64'),\n",
       " '\\n\\nONE USED TOYOTA CAMRY 2003 MODEL WITH CHASSIS NO:- 4T1BE32K12U015723\\nIDENTIFIED AND EXAMINED BY  34714 DSC SULEIMAN M AND 44267,ASCII, AKINLADE,O.E\\nRELEASED': Int64Index([3468265, 3468266, 3468267], dtype='int64'),\n",
       " '\\n\\nONE USED TOYOTA CAMRY 2003 MODEL WITH CHASSIS NO:- 4T1BE32K23U685122\\nIDENTIFIED AND EXAMINED BY  34714 DSC SULEIMAN M AND 49798 ,ASCI, SIDI,M.M.\\nRELEASED\\n': Int64Index([3055455, 3055456, 3055457], dtype='int64'),\n",
       " '\\n\\nONE USED TOYOTA CAMRY 2003 MODEL WITH CHASSIS NO:- 4T1BE32K43U142774\\nIDENTIFIED AND EXAMINED BY  34714 DSC SULEIMAN M AND 44267,ASCII, AKINLADE,O.E\\nRELEASED': Int64Index([2369019, 2369020, 2369021], dtype='int64'),\n",
       " '\\n\\nONE USED TOYOTA CAMRY 2003 MODEL WITH CHASSIS NO:- 4T1BE32K44U316392\\nIDENTIFIED AND EXAMINED BY  34714 DSC SULEIMAN M AND 49798 ,ASCI, SIDI,M.M.\\nRELEASED\\n': Int64Index([2149044, 2149045, 2149046], dtype='int64'),\n",
       " '\\n\\nONE USED TOYOTA CAMRY 2003 MODEL WITH CHASSIS NO:- 4T1BE32KX3U134033\\nIDENTIFIED AND EXAMINED BY  34714 DSC SULEIMAN M AND 49798 ,ASCI, SIDI,M.M.\\nRELEASED': Int64Index([1731934, 1731935, 1731936], dtype='int64'),\n",
       " '\\n\\nONE USED TOYOTA CAMRY 2003 MODEL WITH CHASSIS NO:- 4T1BE32KX3U743249\\nIDENTIFIED AND EXAMINED BY  34714 DSC SULEIMAN M AND 49798 ,ASCI, SIDI,M.M.\\nRELEASED\\n': Int64Index([1649931, 1649932, 1649933], dtype='int64'),\n",
       " '\\n\\nONE USED TOYOTA CAMRY 2003 MODEL WITH CHASSIS NO:- 4T1BE46K97U717229\\nIDENTIFIED AND EXAMINED BY  34714 DSC SULEIMAN M AND 49798 ,ASCI, SIDI,M.M.\\nRELEASED\\n': Int64Index([104241, 104242, 104243], dtype='int64'),\n",
       " '\\n\\nONE USED TOYOTA CAMRY 2003 MODEL WITH CHASSIS NO:- 4T1BF30K33U036591\\nIDENTIFIED AND EXAMINED BY  34714 DSC SULEIMAN M AND 52867, ASCII, AKINLOYE,K.Y.\\nRELEASED': Int64Index([2855316, 2855317, 2855318], dtype='int64'),\n",
       " '\\n\\nONE USED TOYOTA CAMRY 2003 MODEL WITH CHASSIS NO:- 4T1BG22K11U827929\\nIDENTIFIED AND EXAMINED BY  34714 DSC SULEIMAN M AND 44267,ASCII, AKINLADE,O.E\\nRELEASED': Int64Index([145753, 145754, 145755], dtype='int64'),\n",
       " '\\n\\nONE USED TOYOTA CAMRY 2003 MODEL WITH CHASSIS NO:- CH/NO 4T1BF30K32U008904\\nIDENTIFIED AND EXAMINED BY  34714 DSC SULEIMAN M AND 49798 ,ASCI, SIDI,M.M.\\nRELEASED': Int64Index([83973, 83974, 83975], dtype='int64'),\n",
       " '\\n\\nONE USED TOYOTA CAMRY 2003 MODEL WITH CHASSIS NO:- CH/NO:  4T1BE32K13U725738\\nIDENTIFIED AND EXAMINED BY  34714 DSC SULEIMAN M AND 49798 ,ASCI, SIDI,M.M.\\nRELEASED': Int64Index([132941, 132942, 132943], dtype='int64'),\n",
       " '\\n\\nONE USED TOYOTA CAMRY 2003 MODEL WITH CHASSIS NO:- JT2BG22KXW0255996\\nIDENTIFIED AND EXAMINED BY  34714 DSC SULEIMAN M AND 44267,ASCII, AKINLADE,O.E\\nRELEASED': Int64Index([1482204, 1482205, 1482206], dtype='int64'),\n",
       " '\\n\\nONE USED TOYOTA CAMRY 2003 MODEL WITH CHASSIS NO:- JTDBE32K730239379\\nIDENTIFIED AND EXAMINED BY  34714 DSC SULEIMAN M AND 44267,ASCII, AKINLADE,O.E\\nRELEASED': Int64Index([1561110, 1561111, 1561112], dtype='int64'),\n",
       " '\\n\\nONE USED TOYOTA CAMRY 2003 MODEL WITH CHASSIS NO:- JTDBF30K420086751\\nIDENTIFIED AND EXAMINED BY  49798, ASCI, SIDI,M.M  AND 44267,ASCII, AKINLADE,O.E\\nRELEASED': Int64Index([3131433, 3131434, 3131435], dtype='int64'),\n",
       " '\\n\\nONE USED TOYOTA CAMRY 2003 MODEL WITH CHASSIS NO:4T1BE32K43U242308 \\nIDENTIFIED AND EXAMINED BY  34714 DSC SULEIMAN M. AND 44267, ASCII, AKINLADE,O.E \\nRELEASED\\n': Int64Index([1656955, 1656956, 1656957], dtype='int64'),\n",
       " '\\n\\nONE USED TOYOTA CAMRY 2003 MODEL WITH CHASSIS NO:4T1BE32K53U785196 \\nIDENTIFIED AND EXAMINED BY  41866, CSC, OLA, B.O AND 349798, DSC, SIDI,M.M. \\nRELEASED': Int64Index([336937, 336938, 336939], dtype='int64'),\n",
       " '\\n\\nONE USED TOYOTA CAMRY 2003 MODEL WITH CHASSIS NO:4T1BE32KX2U050230\\nIDENTIFIED AND EXAMINED BY  36970, SC, IDRIS, M AND 34714 DSC SULEIMAN M. \\nRELEASED': Int64Index([206892, 206893, 206894], dtype='int64'),\n",
       " '\\n\\nONE USED TOYOTA CAMRY 2003 MODEL WITH CHASSIS NO:CH NO: 4T1BE32K72U568943 \\nIDENTIFIED AND EXAMINED BY  34714 DSC SULEIMAN M. AND 44267, ASCII, AKINLADE,O.E \\nRELEASED': Int64Index([336783, 336784, 336785], dtype='int64'),\n",
       " '\\n\\nONE USED TOYOTA CAMRY 2003 MODEL WITH CHASSIS NO:CH: 4T1BE32K62U611443 \\nIDENTIFIED AND EXAMINED BY  34714 DSC SULEIMAN M. AND 44267, ASCII, AKINLADE,O.E \\nRELEASED\\n': Int64Index([3305617, 3305618, 3305619], dtype='int64'),\n",
       " '\\n\\nONE USED TOYOTA CAMRY 2003 MODEL WITH CHASSIS NO;- 4T1BE46K87U655323\\nIDENTIFIED AND EXAMINED BY 34714,DSC,SULEIMAN M AND 52867,ASCII,AKINLOYE\\nRELEASED.\\n': Int64Index([3468047, 3468048, 3468049], dtype='int64'),\n",
       " '\\n\\nONE USED TOYOTA CAMRY 2003 MODEL WITH CHASSIS NO;- 4T1BF30K02U504582\\nIDENTIFIED AND EXAMINED BY 34714,DSC,SULEIMAN M AND 52867,ASCII,AKINLOYE\\nRELEASED.\\n': Int64Index([1612173, 1612174, 1612175], dtype='int64'),\n",
       " '\\n\\nONE USED TOYOTA CAMRY 2004 MODEL  WITH CHASSIS NO;- CH: 4T1BE32K14U865631\\nIDENTIFIED AND EXAMINED BY AND 34714,DSC,SULEIMAN,M AND 49798,ASCI,SIDI,MM\\nRELEASED\\n': Int64Index([1293178, 1293179, 1293180], dtype='int64'),\n",
       " '\\n\\nONE USED TOYOTA CAMRY 2004 MODEL WITH CHASSIS N;- 4T1BE30KX4U303939\\nIDENTIFIED, AND EXAMINED BY-  34714,DSC,SULEIMAN AND 44267, ASCII,AKINLADE,O.E\\nRELEASED.': Int64Index([124748, 124749, 124750], dtype='int64'),\n",
       " '\\n\\nONE USED TOYOTA CAMRY 2004 MODEL WITH CHASSIS N;- 4T1BE32K64U362967\\nIDENTIFIED, AND EXAMINED BY-  34714,DSC,SULEIMAN AND 44267, ASCII,AKINLADE,O.E\\nRELEASED.': Int64Index([3467381, 3467382, 3467383], dtype='int64'),\n",
       " '\\n\\nONE USED TOYOTA CAMRY 2004 MODEL WITH CHASSIS NO:  4T1BG22K21U015863\\nIDENTIFIED AND EXAMINED BY 41814 CSC ADESHINA J.O AND 38923 ASC I ABUBAKAR , T.A\\nRELEASED.\\n': Int64Index([2197316, 2197317, 2197318], dtype='int64'),\n",
       " '\\n\\nONE USED TOYOTA CAMRY 2004 MODEL WITH CHASSIS NO:- 4T1BE30K04U310298\\nIDENTIFIED AND EXAMINED BY  34714 DSC SULEIMAN M AND 44267,ASCII, AKINLADE,O.E\\nRELEASED': Int64Index([2121674, 2121675, 2121676], dtype='int64'),\n",
       " '\\n\\nONE USED TOYOTA CAMRY 2004 MODEL WITH CHASSIS NO:- 4T1BE46K77U132360\\nIDENTIFIED AND EXAMINED BY  34714 DSC SULEIMAN M AND 49798 ,ASCI, SIDI,M.M.\\nRELEASED': Int64Index([130397, 130398, 130399], dtype='int64'),\n",
       " '\\n\\nONE USED TOYOTA CAMRY 2004 MODEL WITH CHASSIS NO:- JTDBR32E642024192\\nIDENTIFIED AND EXAMINED BY  34714 DSC SULEIMAN M AND 49798 ,ASCI, SIDI,M.M.\\nRELEASED': Int64Index([3467252, 3467253, 3467254], dtype='int64'),\n",
       " '\\n\\nONE USED TOYOTA CAMRY 2004 MODEL WITH CHASSIS NO:.4T1BE32K33U194008\\nIDENTIFIED AND EXAMINED BY 34714 DSC SULEIMAN M AND 38923 ASC I ABUBAKAR , T.A\\nRELEASED.': Int64Index([3285745, 3285746, 3285747], dtype='int64'),\n",
       " '\\n\\nONE USED TOYOTA CAMRY 2004 MODEL WITH CHASSIS NO:2T1KR32E44C271406\\nIDENTIFIED AND EXAMINED BY 34714 DSC SULEIMAN M AND 38923 ASC I ABUBAKAR , T.A\\nRELEASED.': Int64Index([708821, 708822, 708823], dtype='int64'),\n",
       " '\\n\\nONE USED TOYOTA CAMRY 2004 MODEL WITH CHASSIS NO:4T1BE30K14U909940\\nIDENTIFIED AND EXAMINED BY 34714 DSC SULEIMAN M AND 38923 ASC I ABUBAKAR , T.A\\nRELEASED.': Int64Index([3338036, 3338037, 3338038], dtype='int64'),\n",
       " '\\n\\nONE USED TOYOTA CAMRY 2004 MODEL WITH CHASSIS NO:4T1BE30K74U820292\\nIDENTIFIED AND EXAMINED BY 36970 SC IDRIS , M. AND 34714 DSC SULEIMAN, M\\nRELEASED.': Int64Index([2344193, 2344194, 2344195], dtype='int64'),\n",
       " '\\n\\nONE USED TOYOTA CAMRY 2004 MODEL WITH CHASSIS NO:4T1BE32K13U183735\\nIDENTIFIED AND EXAMINED BY 34714 DSC SULEIMAN M AND 38923 ASC I ABUBAKAR , T.A\\nRELEASED.\\n': Int64Index([1430855, 1430856, 1430857], dtype='int64'),\n",
       " '\\n\\nONE USED TOYOTA CAMRY 2004 MODEL WITH CHASSIS NO:4T1BE32K13U192113\\nIDENTIFIED AND EXAMINED BY 34714 DSC SULEIMAN M AND 38923 ASC I ABUBAKAR , T.A\\nRELEASED.': Int64Index([3417519, 3417520, 3417521], dtype='int64'),\n",
       " '\\n\\nONE USED TOYOTA CAMRY 2004 MODEL WITH CHASSIS NO:4T1BE32K13U649096\\nIDENTIFIED AND EXAMINED BY 36970 SC IDRIS , M. AND 34714 DSC SULEIMAN, M\\nRELEASED.': Int64Index([694432, 694433, 694434], dtype='int64'),\n",
       " '\\n\\nONE USED TOYOTA CAMRY 2004 MODEL WITH CHASSIS NO:4T1BE32K14U824044\\nIDENTIFIED AND EXAMINED BY 41814 CSC ADESHINA J.O AND 50635, ASCI, BALAREBE,S.Y\\nRELEASED.': Int64Index([706300, 706301, 706302], dtype='int64'),\n",
       " '\\n\\nONE USED TOYOTA CAMRY 2004 MODEL WITH CHASSIS NO:4T1BE32K14U849090\\nIDENTIFIED AND EXAMINED BY 36970 SC IDRIS , M. AND 34714 DSC SULEIMAN, M\\nRELEASED.': Int64Index([716124, 716125, 716126], dtype='int64'),\n",
       " '\\n\\nONE USED TOYOTA CAMRY 2004 MODEL WITH CHASSIS NO:4T1BE32K34U799163 \\nIDENTIFIED AND EXAMINED BY  41866, CSC, OLA, B.O AND 349798, DSC, SIDI,M.M. \\nRELEASED': Int64Index([2200021, 2200022, 2200023], dtype='int64'),\n",
       " '\\n\\nONE USED TOYOTA CAMRY 2004 MODEL WITH CHASSIS NO:4T1BE32K44U888272\\nIDENTIFIED AND EXAMINED BY 41814 CSC ADESHINA J.O AND 38923 ASC I ABUBAKAR , T.A\\nRELEASED.': Int64Index([2507034, 2507035, 2507036], dtype='int64'),\n",
       " '\\n\\nONE USED TOYOTA CAMRY 2004 MODEL WITH CHASSIS NO:4T1BE32K53U204571\\nIDENTIFIED AND EXAMINED BY 36970 SC IDRIS , M. AND 34714 DSC SULEIMAN, M\\nRELEASED.': Int64Index([1471820, 1471821, 1471822], dtype='int64'),\n",
       " '\\n\\nONE USED TOYOTA CAMRY 2004 MODEL WITH CHASSIS NO:4T1BE32K62U041055\\nIDENTIFIED AND EXAMINED BY 34714 DSC SULEIMAN M AND 38923 ASC I ABUBAKAR , T.A\\nRELEASED.': Int64Index([2449705, 2449706, 2449707], dtype='int64'),\n",
       " '\\n\\nONE USED TOYOTA CAMRY 2004 MODEL WITH CHASSIS NO:4T1BE32K73U669224\\nIDENTIFIED AND EXAMINED BY 36970 SC IDRIS , M. AND 34714 DSC SULEIMAN, M\\nRELEASED.': Int64Index([2342402, 2342403, 2342404], dtype='int64'),\n",
       " '\\n\\nONE USED TOYOTA CAMRY 2004 MODEL WITH CHASSIS NO:4T1BE32K73U677727\\nIDENTIFIED AND EXAMINED BY 34714 DSC SULEIMAN M AND 38923 ASC I ABUBAKAR , T.A\\nRELEASED.': Int64Index([1432104, 1432105, 1432106], dtype='int64'),\n",
       " '\\n\\nONE USED TOYOTA CAMRY 2004 MODEL WITH CHASSIS NO:4T1BE32K73U777634\\nIDENTIFIED AND EXAMINED BY 36970 SC IDRIS , M. AND 34714 DSC SULEIMAN, M\\nRELEASED.': Int64Index([684739, 684740, 684741], dtype='int64'),\n",
       " '\\n\\nONE USED TOYOTA CAMRY 2004 MODEL WITH CHASSIS NO:4T1BE32K74U827515\\nIDENTIFIED AND EXAMINED BY 41814 CSC ADESHINA J.O AND 38923 ASC I ABUBAKAR , T.A\\nRELEASED.': Int64Index([1701320, 1701321, 1701322], dtype='int64'),\n",
       " '\\n\\nONE USED TOYOTA CAMRY 2004 MODEL WITH CHASSIS NO:4T1BE32K83U210042\\nIDENTIFIED AND EXAMINED BY 36970 SC IDRIS , M. AND 34714 DSC SULEIMAN, M\\nRELEASED.': Int64Index([2750546, 2750547, 2750548], dtype='int64'),\n",
       " '\\n\\nONE USED TOYOTA CAMRY 2004 MODEL WITH CHASSIS NO:4T1BE32K83U219629\\nIDENTIFIED AND EXAMINED BY 41814 CSC ADESHINA J.O AND 38923 ASC I ABUBAKAR , T.A\\nRELEASED.': Int64Index([1789246, 1789247, 1789248], dtype='int64'),\n",
       " '\\n\\nONE USED TOYOTA CAMRY 2004 MODEL WITH CHASSIS NO:4T1BE32KX3U168327\\nIDENTIFIED AND EXAMINED BY 36970 SC IDRIS , M. AND 34714 DSC SULEIMAN, M\\nRELEASED.': Int64Index([3296243, 3296244, 3296245], dtype='int64'),\n",
       " '\\n\\nONE USED TOYOTA CAMRY 2004 MODEL WITH CHASSIS NO:4T1BEF30KX3U554651\\nIDENTIFIED AND EXAMINED BY 34714 DSC SULEIMAN M AND 38923 ASC I ABUBAKAR , T.A\\nRELEASED.': Int64Index([2840799, 2840800, 2840801], dtype='int64'),\n",
       " '\\n\\nONE USED TOYOTA CAMRY 2004 MODEL WITH CHASSIS NO:4T1BF30K94U568039\\nIDENTIFIED AND EXAMINED BY 36970 SC IDRIS , M. AND 34714 DSC SULEIMAN, M\\nRELEASED.': Int64Index([707676, 707677, 707678], dtype='int64'),\n",
       " '\\n\\nONE USED TOYOTA CAMRY 2004 MODEL WITH CHASSIS NO:4T1BG22K01U089542\\nIDENTIFIED AND EXAMINED BY 36970 SC IDRIS , M. AND 34714 DSC SULEIMAN, M\\nRELEASED.': Int64Index([1385003, 1385004, 1385005], dtype='int64'),\n",
       " '\\n\\nONE USED TOYOTA CAMRY 2004 MODEL WITH CHASSIS NO:4T1BG22K0XU458876\\nIDENTIFIED AND EXAMINED BY 34714 DSC SULEIMAN M AND 38923 ASC I ABUBAKAR , T.A\\nRELEASED.': Int64Index([2344835, 2344836, 2344837], dtype='int64'),\n",
       " '\\n\\nONE USED TOYOTA CAMRY 2004 MODEL WITH CHASSIS NO:4T1BG22K6YU671770\\nIDENTIFIED AND EXAMINED BY 41814 CSC ADESHINA J.O AND 38923 ASC I ABUBAKAR , T.A\\nRELEASED.': Int64Index([1947891, 1947892, 1947893], dtype='int64'),\n",
       " '\\n\\nONE USED TOYOTA CAMRY 2004 MODEL WITH CHASSIS NO:4T1BG22KX1U025010\\nIDENTIFIED AND EXAMINED BY 34714 DSC SULEIMAN M AND 38923 ASC I ABUBAKAR , T.A\\nRELEASED.': Int64Index([715520, 715521, 715522], dtype='int64'),\n",
       " '\\n\\nONE USED TOYOTA CAMRY 2004 MODEL WITH CHASSIS NO:CH NO: 4T1BE30K22U094113\\nIDENTIFIED AND EXAMINED BY 34714 DSC SULEIMAN M AND 38923 ASC I ABUBAKAR , T.A\\nRELEASED.': Int64Index([782999, 783000, 783001], dtype='int64'),\n",
       " '\\n\\nONE USED TOYOTA CAMRY 2004 MODEL WITH CHASSIS NO:CH...4T1BE32K63U784994\\nIDENTIFIED AND EXAMINED BY 34714 DSC SULEIMAN M AND 38923 ASC I ABUBAKAR , T.A\\nRELEASED.': Int64Index([1847047, 1847048, 1847049], dtype='int64'),\n",
       " '\\n\\nONE USED TOYOTA CAMRY 2004 MODEL WITH CHASSIS NO:CH.4T1BG22K4WU229941\\nIDENTIFIED AND EXAMINED BY 36970 SC IDRIS , M. AND 34714 DSC SULEIMAN, M\\nRELEASED.': Int64Index([715480, 715481, 715482], dtype='int64'),\n",
       " '\\n\\nONE USED TOYOTA CAMRY 2004 MODEL WITH CHASSIS NO:CH: 4T1BE32K54U842532\\nIDENTIFIED AND EXAMINED BY 34714 DSC SULEIMAN M AND 38923 ASC I ABUBAKAR , T.A\\nRELEASED.': Int64Index([2754207, 2754208, 2754209], dtype='int64'),\n",
       " '\\n\\nONE USED TOYOTA CAMRY 2004 MODEL WITH CHASSIS NO:CH: JTDBE32K140295528\\nIDENTIFIED AND EXAMINED BY 34714 DSC SULEIMAN M AND 38923 ASC I ABUBAKAR , T.A\\nRELEASED.\\n': Int64Index([3366796, 3366797, 3366798], dtype='int64'),\n",
       " '\\n\\nONE USED TOYOTA CAMRY 2004 MODEL WITH CHASSIS NO:JT2BG22K2Y0446962\\nIDENTIFIED AND EXAMINED BY 34714 DSC SULEIMAN M AND 38923 ASC I ABUBAKAR , T.A\\nRELEASED.': Int64Index([3164855, 3164856, 3164857], dtype='int64'),\n",
       " '\\n\\nONE USED TOYOTA CAMRY 2004 MODEL WITH CHASSIS NO:JTDBE32K930030286\\nIDENTIFIED AND EXAMINED BY 41814 CSC ADESHINA J.O AND 38923 ASC I ABUBAKAR , T.A\\nRELEASED.': Int64Index([727376, 727377, 727378], dtype='int64'),\n",
       " '\\n\\nONE USED TOYOTA CAMRY 2004 MODEL WITH CHASSIS NO:JTDBR32E830012524\\nIDENTIFIED AND EXAMINED BY 34714 DSC SULEIMAN M AND 38923 ASC I ABUBAKAR , T.A\\nRELEASED.': Int64Index([2876359, 2876360, 2876361], dtype='int64'),\n",
       " '\\n\\nONE USED TOYOTA CAMRY 2005 MODEL  WITH CHASSIS NO;- 4T1BE32K55U599435\\nIDENTIFIED AND EXAMINED BY AND 34714,DSC,SULEIMAN,M AND 49798,ASCI,SIDI,MM\\nRELEASED\\n': Int64Index([122618, 122619, 122620], dtype='int64'),\n",
       " '\\n\\nONE USED TOYOTA CAMRY 2005 MODEL  WITH CHASSIS NO;- CH. 4T1BE32K65U977438\\nIDENTIFIED AND EXAMINED BY AND 34714,DSC,SULEIMAN,M AND 49798,ASCI,SIDI,MM\\nRELEASED\\n': Int64Index([127401, 127402, 127403], dtype='int64'),\n",
       " '\\n\\nONE USED TOYOTA CAMRY 2005 MODEL WITH CHASIS NO:- 4T1BE32K65U411117\\nIDENTIFIED AND EXAMINED BY-34714,DSC,SULEIMAN,M AND 44267, ASCII, AKINLADE, O.E\\nRELEASED\\n': Int64Index([124675, 124676, 124677], dtype='int64'),\n",
       " '\\n\\nONE USED TOYOTA CAMRY 2005 MODEL WITH CHASSIS NO:- 4T1BE32K25U013340\\nIDENTIFIED AND EXAMINED BY  34714 DSC SULEIMAN M AND 49798 ,ASCI, SIDI,M.M.\\nRELEASED': Int64Index([84023, 84024, 84025], dtype='int64'),\n",
       " '\\n\\nONE USED TOYOTA CAMRY 2005 MODEL WITH CHASSIS NO:- 4T1BE32K25U585282\\nIDENTIFIED AND EXAMINED BY  34714 DSC SULEIMAN M AND 44267,ASCII, AKINLADE,O.E\\nRELEASED\\n': Int64Index([169512, 169513, 169514], dtype='int64'),\n",
       " '\\n\\nONE USED TOYOTA CAMRY 2005 MODEL WITH CHASSIS NO:- 4T1BE32K45U515024\\nIDENTIFIED AND EXAMINED BY  34714 DSC SULEIMAN M AND 44267,ASCII, AKINLADE,O.E\\nRELEASED': Int64Index([1653966, 1653967, 1653968], dtype='int64'),\n",
       " '\\n\\nONE USED TOYOTA CAMRY 2005 MODEL WITH CHASSIS NO:- 4T1BE32K75U629776\\nIDENTIFIED AND EXAMINED BY  34714 DSC SULEIMAN M AND 49798 ,ASCI, SIDI,M.M.\\nRELEASED': Int64Index([100521, 100522, 100523], dtype='int64'),\n",
       " '\\n\\nONE USED TOYOTA CAMRY 2005 MODEL WITH CHASSIS NO:- 4T1BF30K45U098021\\nIDENTIFIED AND EXAMINED BY  34714 DSC SULEIMAN M AND 49798 ,ASCI, SIDI,M.M.\\nRELEASED': Int64Index([95324, 95325, 95326], dtype='int64'),\n",
       " '\\n\\nONE USED TOYOTA CAMRY 2005 MODEL WITH CHASSIS NO:- 4T1BF30K55U083124\\nIDENTIFIED AND EXAMINED BY  34714 DSC SULEIMAN M AND 49798 ,ASCI, SIDI,M.M.\\nRELEASED\\n\\n': Int64Index([3027685, 3027686, 3027687], dtype='int64'),\n",
       " '\\n\\nONE USED TOYOTA CAMRY 2005 MODEL WITH CHASSIS NO:- 4T1BF32K45U608722\\nIDENTIFIED AND EXAMINED BY  34714 DSC SULEIMAN M AND 49798 ,ASCI, SIDI,M.M.\\nRELEASED': Int64Index([2459728, 2459729, 2459730], dtype='int64'),\n",
       " '\\n\\nONE USED TOYOTA CAMRY 2005 MODEL WITH CHASSIS NO:- CH:  4T1BE32K85U020065\\nIDENTIFIED AND EXAMINED BY  34714 DSC SULEIMAN M AND 40623, ASCII, ABDULMALIK, I\\nRELEASED': Int64Index([208753, 208754, 208755], dtype='int64'),\n",
       " '\\n\\nONE USED TOYOTA CAMRY 2005 MODEL WITH CHASSIS NO:- CH: 4T1BE32K95U584937\\nIDENTIFIED AND EXAMINED BY  34714 DSC SULEIMAN M AND 40623, ASCII, ABDULMALIK, I\\nRELEASED': Int64Index([168982, 168983, 168984], dtype='int64'),\n",
       " '\\n\\nONE USED TOYOTA CAMRY 2005 MODEL WITH CHASSIS NO:4T1BE30K05U006163\\nIDENTIFIED AND EXAMINED BY 36970 SC IDRIS , M. AND 34714 DSC SULEIMAN, M\\nRELEASED.': Int64Index([737186, 737187, 737188], dtype='int64'),\n",
       " '\\n\\nONE USED TOYOTA CAMRY 2005 MODEL WITH CHASSIS NO:4T1BE30K45U513602\\nIDENTIFIED AND EXAMINED BY  41814,CSC,ADESHINA,J.O AND 34714 DSC SULEIMAN M. \\nRELEASED': Int64Index([1658540, 1658541, 1658542], dtype='int64'),\n",
       " '\\n\\nONE USED TOYOTA CAMRY 2005 MODEL WITH CHASSIS NO:4T1BE32K55U548694\\nIDENTIFIED AND EXAMINED BY 41814 CSC ADESHINA J.O AND 38923 ASC I ABUBAKAR , T.A\\nRELEASED.\\n': Int64Index([722920, 722921, 722922], dtype='int64'),\n",
       " '\\n\\nONE USED TOYOTA CAMRY 2005 MODEL WITH CHASSIS NO:4T1BE32K65U577038\\nIDENTIFIED AND EXAMINED BY 34714 DSC SULEIMAN M AND 38923 ASC I ABUBAKAR , T.A\\nRELEASED.': Int64Index([3087064, 3087065, 3087066], dtype='int64'),\n",
       " '\\n\\nONE USED TOYOTA CAMRY 2005 MODEL WITH CHASSIS NO:4T1BE32K85U392537\\nIDENTIFIED AND EXAMINED BY  36970, SC, IDRIS, M AND 34714 DSC SULEIMAN M. \\nRELEASED': Int64Index([2460289, 2460290, 2460291], dtype='int64'),\n",
       " '\\n\\nONE USED TOYOTA CAMRY 2005 MODEL WITH CHASSIS NO:4T1BE32K85U603803\\nIDENTIFIED AND EXAMINED BY 34714 DSC SULEIMAN M AND 38923 ASC I ABUBAKAR , T.A\\nRELEASED.\\n': Int64Index([709630, 709631, 709632], dtype='int64'),\n",
       " '\\n\\nONE USED TOYOTA CAMRY 2005 MODEL WITH CHASSIS NO:4T1BE32K95U958835\\nIDENTIFIED AND EXAMINED BY 34714 DSC SULEIMAN M AND 38923 ASC I ABUBAKAR , T.A\\nRELEASED.': Int64Index([3418195, 3418196, 3418197], dtype='int64'),\n",
       " '\\n\\nONE USED TOYOTA CAMRY 2005 MODEL WITH CHASSIS NO:4T1BF30K35U616619\\nIDENTIFIED AND EXAMINED BY 34714 DSC SULEIMAN M AND 38923 ASC I ABUBAKAR , T.A\\nRELEASED.\\n': Int64Index([1375460, 1375461, 1375462], dtype='int64'),\n",
       " '\\n\\nONE USED TOYOTA CAMRY 2005 MODEL WITH CHASSIS NO:4T1BF30K65U600818\\nIDENTIFIED AND EXAMINED BY 41814 CSC ADESHINA J.O AND 38923 ASC I ABUBAKAR , T.A\\nRELEASED.\\n': Int64Index([1431078, 1431079, 1431080], dtype='int64'),\n",
       " '\\n\\nONE USED TOYOTA CAMRY 2005 MODEL WITH CHASSIS NO;- CH: 4T1BK46K37U009230\\nIDENTIFIED AND EXAMINED BY 34714,DSC,SULEIMAN M AND 52867,ASCII,AKINLOYE\\nRELEASED.\\n': Int64Index([3387180, 3387181, 3387182], dtype='int64'),\n",
       " '\\n\\nONE USED TOYOTA CAMRY 2006 MODEL WITH CHASSIS NO:  4T1BE32K56U664530\\nIDENTIFIED AND EXAMINED BY 41814 CSC ADESHINA J.O AND 38923 ASC I ABUBAKAR , T.A\\nRELEASED.\\n': Int64Index([2507523, 2507524, 2507525], dtype='int64'),\n",
       " '\\n\\nONE USED TOYOTA CAMRY 2006 MODEL WITH CHASSIS NO:- 4T1BE32K26U128800\\nIDENTIFIED AND EXAMINED BY  49798, ASCI, SIDI,M.M  AND 44267,ASCII, AKINLADE,O.E\\nRELEASED': Int64Index([2888815, 2888816, 2888817], dtype='int64'),\n",
       " '\\n\\nONE USED TOYOTA CAMRY 2006 MODEL WITH CHASSIS NO:- 4T1BE32K66U742636\\nIDENTIFIED AND EXAMINED BY  34714 DSC SULEIMAN M AND 49798 ,ASCI, SIDI,M.M.\\nRELEASED': Int64Index([94073, 94074, 94075], dtype='int64'),\n",
       " '\\n\\nONE USED TOYOTA CAMRY 2006 MODEL WITH CHASSIS NO:- CH: 4T1BE32K06U692624\\nIDENTIFIED AND EXAMINED BY  34714 DSC SULEIMAN M AND 44267,ASCII, AKINLADE,O.E\\nRELEASED': Int64Index([199231, 199232, 199233], dtype='int64'),\n",
       " '\\n\\nONE USED TOYOTA CAMRY 2006 MODEL WITH CHASSIS NO:- JT2BG22K610552918\\nIDENTIFIED AND EXAMINED BY  49798, ASCI, SIDI,M.M  AND 44267,ASCII, AKINLADE,O.E\\nRELEASED': Int64Index([3387238, 3387239, 3387240], dtype='int64'),\n",
       " '\\n\\nONE USED TOYOTA CAMRY 2006 MODEL WITH CHASSIS NO:- JTDBE32K163060175\\nIDENTIFIED AND EXAMINED BY  34714 DSC SULEIMAN M AND 44267,ASCII, AKINLADE,O.E\\nRELEASED': Int64Index([73272, 73273, 73274], dtype='int64'),\n",
       " '\\n\\nONE USED TOYOTA CAMRY 2006 MODEL WITH CHASSIS NO:4T1BE30K36U697545\\nIDENTIFIED AND EXAMINED BY 34714 DSC SULEIMAN M AND 38923 ASC I ABUBAKAR , T.A\\nRELEASED.': Int64Index([1346663, 1346664, 1346665], dtype='int64'),\n",
       " '\\n\\nONE USED TOYOTA CAMRY 2006 MODEL WITH CHASSIS NO:4T1BE32K56U107617 \\nIDENTIFIED AND EXAMINED BY  34714 DSC SULEIMAN M. AND 44267, ASCII, AKINLADE,O.E \\nRELEASED\\n': Int64Index([1904968, 1904969, 1904970], dtype='int64'),\n",
       " '\\n\\nONE USED TOYOTA CAMRY 2006 MODEL WITH CHASSIS NO:4T1BE32K76U113273\\nIDENTIFIED AND EXAMINED BY  34714 DSC SULEIMAN M. AND 52867, ASCII, AKINLOYE, K.Y\\nRELEASED\\n': Int64Index([1401699, 1401700, 1401701], dtype='int64'),\n",
       " '\\n\\nONE USED TOYOTA CAMRY 2006 MODEL WITH CHASSIS NO:4T1BE46K19U809812 \\nIDENTIFIED AND EXAMINED BY  34714 DSC SULEIMAN M. AND 44267, ASCII, AKINLADE,O.E \\nREFER TO VALUATION': Int64Index([2726623, 2726624, 2726625], dtype='int64'),\n",
       " '\\n\\nONE USED TOYOTA CAMRY 2007 MODEL  WITH CHASSIS NO;- 4T1BE46K27U074691\\nIDENTIFIED AND EXAMINED BY AND 34714,DSC,SULEIMAN,M AND 49798,ASCI,SIDI,MM\\nRELEASED\\n': Int64Index([126551, 126552, 126553], dtype='int64'),\n",
       " '\\n\\nONE USED TOYOTA CAMRY 2007 MODEL WITH CHASIS NO:- 4T1BE46K17U092082\\nIDENTIFIED AND EXAMINED BY-34714,DSC,SULEIMAN,M AND 49798, ASCI,SIDI \\nRELEASED': Int64Index([123363, 123364, 123365], dtype='int64'),\n",
       " '\\n\\nONE USED TOYOTA CAMRY 2007 MODEL WITH CHASSIS NO:  4T1BE46K67U540834\\nIDENTIFIED AND EXAMINED BY 34714 DSC SULEIMAN M AND 38923 ASC I ABUBAKAR , T.A\\nRELEASED.': Int64Index([2671051, 2671052, 2671053], dtype='int64'),\n",
       " '\\n\\nONE USED TOYOTA CAMRY 2007 MODEL WITH CHASSIS NO:-  4T1BE46K57U062082\\nIDENTIFIED AND EXAMINED BY  34714 DSC SULEIMAN M AND 44267,ASCII, AKINLADE,O.E\\nREFER TO VALUATION': Int64Index([3137126, 3137127, 3137128], dtype='int64'),\n",
       " '\\n\\nONE USED TOYOTA CAMRY 2007 MODEL WITH CHASSIS NO:- 4T1BB46K57U027504\\nIDENTIFIED AND EXAMINED BY  34714 DSC SULEIMAN M AND 49798 ,ASCI, SIDI,M.M.\\nRELEASED': Int64Index([2556239, 2556240, 2556241], dtype='int64'),\n",
       " '\\n\\nONE USED TOYOTA CAMRY 2007 MODEL WITH CHASSIS NO:- 4T1BE46K97U646677\\nIDENTIFIED AND EXAMINED BY  34714 DSC SULEIMAN M AND 49798 ,ASCI, SIDI,M.M.\\nRELEASED': Int64Index([2634984, 2634985, 2634986], dtype='int64'),\n",
       " '\\n\\nONE USED TOYOTA CAMRY 2007 MODEL WITH CHASSIS NO:4T1BE46K07U704675\\nIDENTIFIED AND EXAMINED BY 34714 DSC SULEIMAN M AND 38923 ASC I ABUBAKAR , T.A\\nRELEASED.\\n': Int64Index([721312, 721313, 721314], dtype='int64'),\n",
       " '\\n\\nONE USED TOYOTA CAMRY 2007 MODEL WITH CHASSIS NO:4T1BE46K57U066472\\nIDENTIFIED AND EXAMINED BY 36970 SC IDRIS , M. AND 34714 DSC SULEIMAN, M\\nRELEASED.': Int64Index([704135, 704136, 704137], dtype='int64'),\n",
       " '\\n\\nONE USED TOYOTA CAMRY 2007 MODEL WITH CHASSIS NO:4T1BE46K57U108185\\nIDENTIFIED AND EXAMINED BY 36970 SC IDRIS , M. AND 34714 DSC SULEIMAN, M\\nRELEASED.': Int64Index([739066, 739067, 739068], dtype='int64'),\n",
       " '\\n\\nONE USED TOYOTA CAMRY 2007 MODEL WITH CHASSIS NO:4T1BE46K87U582342\\nIDENTIFIED AND EXAMINED BY 41814 CSC ADESHINA J.O AND 38923 ASC I ABUBAKAR , T.A\\nRELEASED.\\n': Int64Index([2449587, 2449588, 2449589], dtype='int64'),\n",
       " '\\n\\nONE USED TOYOTA CAMRY 2007 MODEL WITH CHASSIS NO:4T1BE46K87U601696\\nIDENTIFIED AND EXAMINED BY 36970 SC IDRIS , M. AND 34714 DSC SULEIMAN, M\\nRELEASED.': Int64Index([2507151, 2507152, 2507153], dtype='int64'),\n",
       " '\\n\\nONE USED TOYOTA CAMRY 2007 MODEL WITH CHASSIS NO:4T1BF3EK2AU011283 \\nIDENTIFIED AND EXAMINED BY  34714 DSC SULEIMAN M. AND 44267, ASCII, AKINLADE,O.E \\nREFER TO VALUATION': Int64Index([2726813, 2726814, 2726815], dtype='int64'),\n",
       " '\\n\\nONE USED TOYOTA CAMRY 2007 MODEL WITH CHASSIS NO:4T1BK46K27U045507\\nIDENTIFIED AND EXAMINED BY 41814 CSC ADESHINA J.O AND 38923 ASC I ABUBAKAR , T.A\\nRELEASED.': Int64Index([2128405, 2128406, 2128407], dtype='int64'),\n",
       " '\\n\\nONE USED TOYOTA CAMRY 2007 MODEL WITH CHASSIS NO:CH:4T1BE46K07U130434\\nIDENTIFIED AND EXAMINED BY 36970 SC IDRIS , M. AND 34714 DSC SULEIMAN, M\\nRELEASED.\\n': Int64Index([2097685, 2097686, 2097687], dtype='int64'),\n",
       " '\\n\\nONE USED TOYOTA CAMRY 2007 MODEL WITH CHASSIS NO:JTNBE46K073063002\\nIDENTIFIED AND EXAMINED BY 36970 SC IDRIS , M. AND 34714 DSC SULEIMAN, M\\nRELEASED.': Int64Index([1259217, 1259218, 1259219], dtype='int64'),\n",
       " '\\n\\nONE USED TOYOTA CAMRY 2007 MODEL WITH CHASSIS NO:JTNBE46K873068541\\nIDENTIFIED AND EXAMINED BY 36970 SC IDRIS , M. AND 34714 DSC SULEIMAN, M\\nRELEASED.': Int64Index([3247942, 3247943, 3247944], dtype='int64'),\n",
       " '\\n\\nONE USED TOYOTA CAMRY 2007 MODEL WITH CHASSIS NO;- 4T1BE46K97U653130\\nIDENTIFIED AND EXAMINED BY 34714,DSC,SULEIMAN M AND 52867,ASCII,AKINLOYE\\nRELEASED.\\n': Int64Index([2218603, 2218604, 2218605], dtype='int64'),\n",
       " '\\n\\nONE USED TOYOTA CAMRY 2007 MODEL WITH CHASSIS NO;- 4T1BK46K47U040891\\nIDENTIFIED AND EXAMINED BY 34714,DSC,SULEIMAN M AND 52867,ASCII,AKINLOYE\\nRELEASED.\\n': Int64Index([2395219, 2395220, 2395221], dtype='int64'),\n",
       " '\\n\\nONE USED TOYOTA CAMRY 2008 MODEL WITH CHASSIS NO:-  JTNBE46K283142382\\nIDENTIFIED AND EXAMINED BY  34714 DSC SULEIMAN M AND 44267,ASCII, AKINLADE,O.E\\nRELEASED': Int64Index([3389715, 3389716, 3389717], dtype='int64'),\n",
       " '\\n\\nONE USED TOYOTA CAMRY 2008 MODEL WITH CHASSIS NO:- 4T1BE32KX4U918987\\nIDENTIFIED AND EXAMINED BY  38923, ASCI, ABUBAKAR, T.A  AND 52867, ASCII, AKINLOYE,K.Y.\\nRELEASED': Int64Index([2477117, 2477118, 2477119], dtype='int64'),\n",
       " '\\n\\nONE USED TOYOTA CAMRY 2008 MODEL WITH CHASSIS NO:- 4T1BE46K08U259985\\nIDENTIFIED AND EXAMINED BY  49798, ASCI, SIDI,M.M  AND 44267,ASCII, AKINLADE,O.E\\nRELEASED\\n': Int64Index([180904, 180905, 180906], dtype='int64'),\n",
       " '\\n\\nONE USED TOYOTA CAMRY 2008 MODEL WITH CHASSIS NO:- 4T1BE46K18U220693\\nIDENTIFIED AND EXAMINED BY  41814, CSC, ADESHINA,J.O AND 34714 DSC SULEIMAN M \\nRELEASED': Int64Index([2478781, 2478782, 2478783], dtype='int64'),\n",
       " '\\n\\nONE USED TOYOTA CAMRY 2008 MODEL WITH CHASSIS NO:- 4T1BE46K18U246422\\nIDENTIFIED AND EXAMINED BY  34714 DSC SULEIMAN M AND 49798 ,ASCI, SIDI,M.M.\\nRELEASED': Int64Index([1817439, 1817440, 1817441], dtype='int64'),\n",
       " '\\n\\nONE USED TOYOTA CAMRY 2008 MODEL WITH CHASSIS NO:- 4T1BE46KX8U760415\\nIDENTIFIED AND EXAMINED BY  34714 DSC SULEIMAN M AND 44267,ASCII, AKINLADE,O.E\\nRELEASED\\n': Int64Index([77303, 77304, 77305], dtype='int64'),\n",
       " '\\n\\nONE USED TOYOTA CAMRY 2008 MODEL WITH CHASSIS NO:- CH.4T1BE46K58U206277\\nIDENTIFIED AND EXAMINED BY  34714 DSC SULEIMAN M AND 49798 ,ASCI, SIDI,M.M.\\nRELEASED': Int64Index([89802, 89803, 89804], dtype='int64'),\n",
       " '\\n\\nONE USED TOYOTA CAMRY 2008 MODEL WITH CHASSIS NO:- CH:  4T1BE46K88U738929\\nIDENTIFIED AND EXAMINED BY  34714 DSC SULEIMAN M AND 40623, ASCII, ABDULMALIK, I\\nRELEASED': Int64Index([2727756, 2727757, 2727758], dtype='int64'),\n",
       " '\\n\\nONE USED TOYOTA CAMRY 2008 MODEL WITH CHASSIS NO:4T1BB46K58U061850 \\nIDENTIFIED AND EXAMINED BY  41866, CSC, OLA, B.O AND 349798, DSC, SIDI,M.M. \\nREFER TO VALUATION FOR VALUE CHECK': Int64Index([332012, 332013, 332014], dtype='int64'),\n",
       " '\\n\\nONE USED TOYOTA CAMRY 2008 MODEL WITH CHASSIS NO:4T1BE46K18U259445 \\nIDENTIFIED AND EXAMINED BY  34714 DSC SULEIMAN M. AND 44267, ASCII, AKINLADE,O.E \\nRELEASED': Int64Index([2159062, 2159063, 2159064], dtype='int64'),\n",
       " '\\n\\nONE USED TOYOTA CAMRY 2008 MODEL WITH CHASSIS NO:4T1BE46K38U202793\\nIDENTIFIED AND EXAMINED BY  41814,CSC,ADESHINA,J.O AND 34714 DSC SULEIMAN M. \\nRELEASED': Int64Index([197474, 197475, 197476], dtype='int64'),\n",
       " '\\n\\nONE USED TOYOTA CAMRY 2008 MODEL WITH CHASSIS NO:4T1BE46K58U224780\\nIDENTIFIED AND EXAMINED BY 34714 DSC SULEIMAN M AND 38923 ASC I ABUBAKAR , T.A\\nRELEASED.': Int64Index([2509239, 2509240, 2509241], dtype='int64'),\n",
       " '\\n\\nONE USED TOYOTA CAMRY 2008 MODEL WITH CHASSIS NO:4T1BE46K78U739862 \\nIDENTIFIED AND EXAMINED BY  34714 DSC SULEIMAN M. AND 52867, ASCII, AKINLOYE, K.Y\\nRELEASED': Int64Index([1750078, 1750079, 1750080], dtype='int64'),\n",
       " '\\n\\nONE USED TOYOTA CAMRY 2008 MODEL WITH CHASSIS NO:4T1BE46KX8U227609\\nIDENTIFIED AND EXAMINED BY 36970 SC IDRIS , M. AND 34714 DSC SULEIMAN, M\\nRELEASED.': Int64Index([3085412, 3085413, 3085414], dtype='int64'),\n",
       " '\\n\\nONE USED TOYOTA CAMRY 2008 MODEL WITH CHASSIS NO;- 4T4BF3EK8AR041653\\nIDENTIFIED AND EXAMINED BY 34714,DSC,SULEIMAN M AND 52867,ASCII,AKINLOYE\\nRELEASED.\\n': Int64Index([138332, 138333, 138334], dtype='int64'),\n",
       " '\\n\\nONE USED TOYOTA CAMRY 2009 MODEL  WITH CHASSIS NO; 4T1BK46K19U082275\\nIDENTIFIED AND EXAMINED BY 36970, SC,IDRIS, M AND 34714,DSC,SULEIMAN,M\\nRELEASED\\n': Int64Index([2149667, 2149668, 2149669], dtype='int64'),\n",
       " '\\n\\nONE USED TOYOTA CAMRY 2009 MODEL  WITH CHASSIS NO;- 4T1BE46K48U247760\\nIDENTIFIED AND EXAMINED BY AND 34714,DSC,SULEIMAN,M AND 49798,ASCI,SIDI,MM\\nRELEASED\\n': Int64Index([2557771, 2557772, 2557773], dtype='int64'),\n",
       " '\\n\\nONE USED TOYOTA CAMRY 2009 MODEL WITH CHASIS NO:- 4T1BE46K49U395344\\nIDENTIFIED AND EXAMINED BY-34714,DSC,SULEIMAN,M AND 44267, ASCII, AKINLADE, O.E\\nRELEASED\\n': Int64Index([1651829, 1651830], dtype='int64'),\n",
       " '\\n\\nONE USED TOYOTA CAMRY 2009 MODEL WITH CHASSIS NO:- 4T1BE46K19U395057\\nIDENTIFIED AND EXAMINED BY  34714 DSC SULEIMAN M AND 49798 ,ASCI, SIDI,M.M.\\nRELEASED': Int64Index([2636012, 2636013, 2636014], dtype='int64'),\n",
       " '\\n\\nONE USED TOYOTA CAMRY 2009 MODEL WITH CHASSIS NO:- 4T1BE46K99U817902\\nIDENTIFIED AND EXAMINED BY  41814, CSC, ADESHINA,J.O AND 34714 DSC SULEIMAN M \\nRELEASED': Int64Index([2397991, 2397992, 2397993], dtype='int64'),\n",
       " '\\n\\nONE USED TOYOTA CAMRY 2009 MODEL WITH CHASSIS NO:- CHASS : 4T1BE46K49U334771\\nIDENTIFIED AND EXAMINED BY  34714 DSC SULEIMAN M AND 49798 ,ASCI, SIDI,M.M.\\nRELEASED\\n': Int64Index([107753, 107754, 107755], dtype='int64'),\n",
       " '\\n\\nONE USED TOYOTA CAMRY 2009 MODEL WITH CHASSIS NO:- JTNBE46K473003384\\nIDENTIFIED AND EXAMINED BY  34714 DSC SULEIMAN M AND 52867, ASCII, AKINLOYE,K.Y.\\nRELEASED\\n': Int64Index([3378195, 3378196, 3378197], dtype='int64'),\n",
       " '\\n\\nONE USED TOYOTA CAMRY 2009 MODEL WITH CHASSIS NO:4T1BE46K79U317270\\nIDENTIFIED AND EXAMINED BY  41814,CSC,ADESHINA,J.O AND 34714 DSC SULEIMAN M. \\nRELEASED': Int64Index([197471, 197472, 197473], dtype='int64'),\n",
       " '\\n\\nONE USED TOYOTA CAMRY 2009 MODEL WITH CHASSIS NO:4T1BE46K89U399414 \\nIDENTIFIED AND EXAMINED BY  34714 DSC SULEIMAN M. AND 44267, ASCII, AKINLADE,O.E \\nRELEASED\\n': Int64Index([2032505, 2032506, 2032507], dtype='int64'),\n",
       " '\\n\\nONE USED TOYOTA CAMRY 2009 MODEL WITH CHASSIS NO;- 4T1BE46K39U351190\\nIDENTIFIED AND EXAMINED BY 34714,DSC,SULEIMAN M AND 52867,ASCII,AKINLOYE\\nRELEASED.\\n': Int64Index([2230382, 2230383, 2230384], dtype='int64'),\n",
       " '\\n\\nONE USED TOYOTA CAMRY 2010 MODEL  WITH CHASSIS NO;- 4T4BF3EK8AR055777\\nIDENTIFIED AND EXAMINED BY AND 34714,DSC,SULEIMAN,M AND 49798,ASCI,SIDI,MM\\nRELEASED\\n': Int64Index([124735, 124736, 124737], dtype='int64'),\n",
       " '\\n\\nONE USED TOYOTA CAMRY 2010 MODEL WITH CHASSIS N;- 4T1BF3EK2AU071953\\nIDENTIFIED, AND EXAMINED BY-  34714,DSC,SULEIMAN AND 44267, ASCII,AKINLADE,O.E\\nRELEASED.': Int64Index([1563302, 1563303, 1563304], dtype='int64'),\n",
       " '\\n\\nONE USED TOYOTA CAMRY 2010 MODEL WITH CHASSIS NO:-  4T4BF3EK2AR013573\\nIDENTIFIED AND EXAMINED BY  34714 DSC SULEIMAN M AND 49798 ,ASCI, SIDI,M.M.\\nREFER TO CPC TCIP': Int64Index([93740, 93741, 93742], dtype='int64'),\n",
       " '\\n\\nONE USED TOYOTA CAMRY 2010 WITH CHASSIS NO:4T1BF3EK3AU044860 \\nIDENTIFIED AND EXAMINED BY  34714 DSC SULEIMAN M. AND 44267, ASCII, AKINLADE,O.E \\nRELEASED': Int64Index([179812, 179813, 179814], dtype='int64'),\n",
       " '\\n\\nONE USED TOYOTA CAMRY 2010 WITH CHASSIS NO:CH: 4T1BF3EK0AU568256 \\nIDENTIFIED AND EXAMINED BY  34714 DSC SULEIMAN M. AND 52867, ASCII, AKINLOYE, K.Y\\nRELEASED': Int64Index([185076, 185077, 185078], dtype='int64'),\n",
       " '\\n\\nONE USED TOYOTA CAMRY 2011 MODEL WITH CHASSIS NO:- 4T1BF3EK1BU217907\\nIDENTIFIED AND EXAMINED BY  34714 DSC SULEIMAN M AND 49798 ,ASCI, SIDI,M.M.\\nVALUATION REFERRED': Int64Index([3182020, 3182021, 3182022], dtype='int64'),\n",
       " '\\n\\nONE USED TOYOTA CAMRY 2011 MODEL WITH CHASSIS NO:- 4T1BK3EK3BU622386\\nIDENTIFIED AND EXAMINED BY  34714 DSC SULEIMAN M AND 44267,ASCII, AKINLADE,O.E\\nRELEASED': Int64Index([2064357, 2064358, 2064359], dtype='int64'),\n",
       " '\\n\\nONE USED TOYOTA CAMRY 2011 MODEL WITH CHASSIS NO:- 4T4BF3EK6BR167902\\nIDENTIFIED AND EXAMINED BY  38923, ASCI, ABUBAKAR, T.A  AND 52867, ASCII, AKINLOYE,K.Y.\\nREFER TO VALUATION\\n': Int64Index([2397942, 2397943, 2397944], dtype='int64'),\n",
       " '\\n\\nONE USED TOYOTA CAMRY 2011 WITH CHASSIS NO:4T4BF3EK9BR182877\\nIDENTIFIED AND EXAMINED BY  349798, DSC, SIDI,M.M. AND 52867, ASCII, AKINLOYE, K.Y\\nRELEASED': Int64Index([2891717, 2891718, 2891719], dtype='int64'),\n",
       " '\\n\\nONE USED TOYOTA CAMRY 2012 MODEL  WITH CHASSIS NO;-4T4BF1FK0CR269491\\nIDENTIFIED AND EXAMINED BY AND 34714,DSC,SULEIMAN,M AND 49798,ASCI,SIDI,MM\\nRELEASED\\n': Int64Index([2373834, 2373835, 2373836], dtype='int64'),\n",
       " '\\n\\nONE USED TOYOTA CAMRY 2012 MODEL  WITH CHASSIS NOCH: 4T1BF1FK5CU157439\\nIDENTIFIED AND EXAMINED BY 36970, SC,IDRIS, M AND 34714,DSC,SULEIMAN,M\\nRELEASED\\n': Int64Index([2636992, 2636993, 2636994], dtype='int64'),\n",
       " '\\n\\nONE USED TOYOTA CAMRY 2012 MODEL WITH CHASSIS NO:- 4T1BF1FK9CU529641\\nIDENTIFIED AND EXAMINED BY  34714 DSC SULEIMAN M AND 44267,ASCII, AKINLADE,O.E\\nVALUATION REFERRED': Int64Index([81629, 81630, 81631], dtype='int64'),\n",
       " '\\n\\nONE USED TOYOTA CAMRY 2012 MODEL WITH CHASSIS NO:- 4T4BF1FKXCR229757\\nIDENTIFIED AND EXAMINED BY  34714 DSC SULEIMAN M AND 44267,ASCII, AKINLADE,O.E\\nRELEASED': Int64Index([80134, 80135, 80136], dtype='int64'),\n",
       " '\\n\\nONE USED TOYOTA CAMRY 2012 MODEL WITH CHASSIS NO:4T1BF1FKXCU500388 \\nIDENTIFIED AND EXAMINED BY  34714 DSC SULEIMAN M. AND 44267, ASCII, AKINLADE,O.E \\nREFER TO DC VALUATION FOR VALUE CHECK': Int64Index([1382432, 1382433, 1382434], dtype='int64'),\n",
       " '\\n\\nONE USED TOYOTA CAMRY 2013 MODEL  WITH CHASSIS NO;- CH. 2T1BR32E17C835551\\nIDENTIFIED AND EXAMINED BY AND 34714,DSC,SULEIMAN,M AND 49798,ASCI,SIDI,MM\\nRELEASED\\n': Int64Index([2394783, 2394784, 2394785], dtype='int64'),\n",
       " '\\n\\nONE USED TOYOTA CAMRY 2013 MODEL WITH CHASSIS NO:- CH: 4T4BF1FK8DR297198\\nIDENTIFIED AND EXAMINED BY  38923, ASCI, ABUBAKAR, T.A  AND 52867, ASCII, AKINLOYE,K.Y.\\nRELEASED': Int64Index([175095, 175096, 175097], dtype='int64'),\n",
       " '\\n\\nONE USED TOYOTA CAMRY 2013 MODEL WITH CHASSIS NO:4T1BK1FK5DU532226 \\nIDENTIFIED AND EXAMINED BY  34714 DSC SULEIMAN M. AND 49798,DSC,SIDI,M.M\\nREFER TO VALUATION FOR VALUE CHECK': Int64Index([1408658, 1408659, 1408660], dtype='int64'),\n",
       " '\\n\\nONE USED TOYOTA CAMRY 2014 MODEL WITH CHASIS NO:- 4T4BF1FKDER341003\\nIDENTIFIED AND EXAMINED BY-34714,DSC,SULEIMAN,M AND 44267, ASCII, AKINLADE, O.E\\nCPC REFERRED': Int64Index([2612472, 2612473, 2612474], dtype='int64'),\n",
       " '\\n\\nONE USED TOYOTA CAMRY 2014 MODEL WITH CHASSIS NO;- 4T4BF1FKXER430481\\nIDENTIFIED AND EXAMINED BY 34714,DSC,SULEIMAN M AND 52867,ASCII,AKINLOYE\\nRELEASED.\\n': Int64Index([2636822, 2636823, 2636824], dtype='int64'),\n",
       " '\\n\\nONE USED TOYOTA CAMRY 2015 MODEL WITH CHASSIS NO:-   4T1BF1FK3FU485009\\nIDENTIFIED AND EXAMINED BY  34714 DSC SULEIMAN M AND 40623, ASCII, ABDULMALIK, I\\nRELEASED': Int64Index([2945495, 2945496, 2945497], dtype='int64'),\n",
       " '\\n\\nONE USED TOYOTA CAMRY CHASS NO 4T1BK46K39UO75926 EXAM BY BY 25017 DSC IBRAHIM H\\nREFES TO CPC AS PER ALERT ABOVE.': Int64Index([2777926, 2777927], dtype='int64'),\n",
       " '\\n\\nONE USED TOYOTA CAMRY [2003] CHASS; NO; 4T1BG22K5WU261135\\nEXAMINED BY;  AND 34714,DSC,SULEIMAN,M AND 44267,ASCII,AKINLADE,O.E\\nREFER TO VALUATION AS DIRECTED': Int64Index([296504, 296505, 296506], dtype='int64'),\n",
       " '\\n\\nONE USED TOYOTA CAMRY [2003] MODEL CHASS; NO; CH: 4T1BE32K03U154016\\nEXAMINED BY;  AND 34714,DSC,SULEIMAN,M AND 44267,ASCII,AKINLADE,O.E\\nRELEASED': Int64Index([2894214, 2894215, 2894216], dtype='int64'),\n",
       " '\\n\\nONE USED TOYOTA CAMRY [2004] MODEL CHASS; NO; 4T1BE32K92BU532445\\nEXAMINED BY; 34714, DSC, SULEIMAN,M. AND 40623, ASCII, ABDULMALIK,I\\nRELEASED': Int64Index([1672049, 1672050, 1672051], dtype='int64'),\n",
       " '\\n\\nONE USED TOYOTA CAMRY [2005] CHASS; NO; 4T1BE32K054083452\\nEXAMINED BY;  AND 41814, CSC, ADESHINA,J.O AND 44267,ASCII,AKINLADE,O.E\\nREFER TO VALUATION AS DIRECTED\\n': Int64Index([2398890, 2398891, 2398892], dtype='int64'),\n",
       " '\\n\\nONE USED TOYOTA CAMRY [2005] MODEL CHASS; NO; 4T1BE32K95U949746\\nEXAMINED BY;  34714,DSC,SULEIMAN,M AND 44267,ASCII,AKINLADE,O.E\\nRELEASED': Int64Index([338945, 338946, 338947], dtype='int64'),\n",
       " '\\n\\nONE USED TOYOTA CAMRY [2006] MODEL CHASS; NO; 4T1BE32K86U674002\\nEXAMINED BY;  34714,DSC,SULEIMAN,M AND 44267,ASCII,AKINLADE,O.E\\nRELEASED': Int64Index([343102, 343103, 343104], dtype='int64'),\n",
       " '\\n\\nONE USED TOYOTA CMRY  2006 MODEL WITH CHASSIS NO:- CH. 4T1BE32K16U746500\\nIDENTIFIED AND EXAMINED BY  34714 DSC SULEIMAN M AND 44267,ASCII, AKINLADE,O.E\\nRELEASED': Int64Index([81671, 81672, 81673], dtype='int64'),\n",
       " '\\n\\nONE USED TOYOTA CORLLA  2007 MODEL WITH CHASSIS NO:INXBR32E97Z917381\\nIDENTIFIED AND EXAMINED BY  41814,CSC,ADESHINA,J.O AND 34714 DSC SULEIMAN M. \\nRELEASED': Int64Index([1481440, 1481441, 1481442], dtype='int64'),\n",
       " '\\n\\nONE USED TOYOTA COROLL  2005 MODEL WITH CHASIS NO:- 1NXBR32E35Z360044\\nIDENTIFIED AND EXAMINED BY-34714,DSC,SULEIMAN,M AND 44267, ASCII, AKINLADE, O.E\\nRELEASED\\n': Int64Index([3467859, 3467860, 3467861], dtype='int64'),\n",
       " '\\n\\nONE USED TOYOTA COROLLA  2004 MODEL WITH CHASSIS NO: JTDBR32E342019385\\nIDENTIFIED AND EXAMINED BY  34714 DSC SULEIMAN M. AND 44267, ASCII, AKINLADE,O.E \\nRELEASED': Int64Index([2466421, 2466422, 2466423], dtype='int64'),\n",
       " '\\n\\nONE USED TOYOTA COROLLA  2005 MODEL WITH CHASSIS NO:1NXBR32E95Z380279\\nIDENTIFIED AND EXAMINED BY  349798, DSC, SIDI,M.M. AND 49798, ASCII, AKINLADE, O.E\\nRELEASED': Int64Index([3476815, 3476816, 3476817], dtype='int64'),\n",
       " '\\n\\nONE USED TOYOTA COROLLA  2009 MODEL  WITH CHASSIS NO;- 2T1BU40E69C034902\\nIDENTIFIED AND EXAMINED BY AND 34714,DSC,SULEIMAN,M AND 49798,ASCI,SIDI,MM\\nRELEASED\\n': Int64Index([2724072, 2724073, 2724074], dtype='int64'),\n",
       " '\\n\\nONE USED TOYOTA COROLLA  2011 MODEL WITH CHASSIS NO: 5TDYK3DC3BS107286 \\nIDENTIFIED AND EXAMINED BY  349798, DSC, SIDI,M.M. AND 52867, ASCII, AKINLOYE, K.Y\\nRELEASED': Int64Index([195497, 195498, 195499], dtype='int64'),\n",
       " '\\n\\nONE USED TOYOTA COROLLA 2003 MODEL  WITH CHASSIS NO;- 2T1BR32E83C736588\\nIDENTIFIED AND EXAMINED BY AND 34714,DSC,SULEIMAN,M AND 49798,ASCI,SIDI,MM\\nRELEASED\\n': Int64Index([1478882, 1478883, 1478884], dtype='int64'),\n",
       " '\\n\\nONE USED TOYOTA COROLLA 2003 MODEL  WITH CHASSIS NO;- INXBR32E43Z105335\\nIDENTIFIED AND EXAMINED BY AND 34714,DSC,SULEIMAN,M AND 49798,ASCI,SIDI,MM\\nRELEASED\\n': Int64Index([1563822, 1563823, 1563824], dtype='int64'),\n",
       " '\\n\\nONE USED TOYOTA COROLLA 2003 MODEL  WITH CHASSIS NO;- JTDBR32E760078213\\nIDENTIFIED AND EXAMINED BY AND 34714,DSC,SULEIMAN,M AND 49798,ASCI,SIDI,MM\\nRELEASED\\n': Int64Index([1733128, 1733129, 1733130], dtype='int64'),\n",
       " '\\n\\nONE USED TOYOTA COROLLA 2003 MODEL  WITH CHASSIS NOCH:  2T1BR32E13C051042\\nIDENTIFIED AND EXAMINED BY 36970, SC,IDRIS, M AND 34714,DSC,SULEIMAN,M\\nRELEASED\\n': Int64Index([1563537, 1563538, 1563539], dtype='int64'),\n",
       " '\\n\\nONE USED TOYOTA COROLLA 2003 MODEL WITH CHASIS NO:- 1NXBR32E23Z017741\\nIDENTIFIED AND EXAMINED BY-34714,DSC,SULEIMAN,M AND 49798, ASCI,SIDI \\nRELEASED': Int64Index([1612136, 1612137, 1612138], dtype='int64'),\n",
       " '\\n\\nONE USED TOYOTA COROLLA 2003 MODEL WITH CHASSIS NO:- 1NXBR32E03Z166861\\nIDENTIFIED AND EXAMINED BY  34714 DSC SULEIMAN M AND 44267,ASCII, AKINLADE,O.E\\nREFERRED TO VALUATION': Int64Index([1815190, 1815191, 1815192], dtype='int64'),\n",
       " '\\n\\nONE USED TOYOTA COROLLA 2003 MODEL WITH CHASSIS NO:- 1NXBR32E13Z014393\\nIDENTIFIED AND EXAMINED BY  41814, CSC, ADESHINA,J.O AND 34714 DSC SULEIMAN M \\nRELEASED': Int64Index([205469, 205470, 205471], dtype='int64'),\n",
       " '\\n\\nONE USED TOYOTA COROLLA 2003 MODEL WITH CHASSIS NO:- 1NXBR32E63Z082527\\nIDENTIFIED AND EXAMINED BY  34714 DSC SULEIMAN M AND 40623, ASCII, ABDULMALIK, I\\nRELEASED\\n': Int64Index([188243, 188244, 188245], dtype='int64'),\n",
       " '\\n\\nONE USED TOYOTA COROLLA 2003 MODEL WITH CHASSIS NO:- 1NXBR32E73Z175718\\nIDENTIFIED AND EXAMINED BY  34714 DSC SULEIMAN M AND 49798 ,ASCI, SIDI,M.M.\\nRELEASED\\n': Int64Index([99255, 99256, 99257], dtype='int64'),\n",
       " '\\n\\nONE USED TOYOTA COROLLA 2003 MODEL WITH CHASSIS NO:- 1NXBR32E83Z158751\\nIDENTIFIED AND EXAMINED BY  34714 DSC SULEIMAN M AND 49798 ,ASCI, SIDI,M.M.\\nRELEASED': Int64Index([2062846, 2062847, 2062848], dtype='int64'),\n",
       " '\\n\\nONE USED TOYOTA COROLLA 2003 MODEL WITH CHASSIS NO:- 2T1KR32E23C057402\\nIDENTIFIED AND EXAMINED BY  34714 DSC SULEIMAN M AND 40623, ASCII, ABDULMALIK, I\\nRELEASED': Int64Index([3110693, 3110694, 3110695], dtype='int64'),\n",
       " '\\n\\nONE USED TOYOTA COROLLA 2003 MODEL WITH CHASSIS NO:- CH: JT152EEB103156118\\nIDENTIFIED AND EXAMINED BY  49798, ASCI, SIDI,M.M  AND 44267,ASCII, AKINLADE,O.E\\nRELEASED': Int64Index([2612703, 2612704, 2612705], dtype='int64'),\n",
       " '\\n\\nONE USED TOYOTA COROLLA 2003 MODEL WITH CHASSIS NO:- CH: JTDBR32E130008668\\nIDENTIFIED AND EXAMINED BY  41814, CSC, ADESHINA,J.O AND 34714 DSC SULEIMAN M \\nRELEASED': Int64Index([3439719, 3439720, 3439721], dtype='int64'),\n",
       " '\\n\\nONE USED TOYOTA COROLLA 2003 MODEL WITH CHASSIS NO:- INXBR32EX3Z46789\\nIDENTIFIED AND EXAMINED BY  34714 DSC SULEIMAN M AND 44267,ASCII, AKINLADE,O.E\\nRELEASED\\n': Int64Index([3031413, 3031414, 3031415], dtype='int64'),\n",
       " '\\n\\nONE USED TOYOTA COROLLA 2003 MODEL WITH CHASSIS NO:- JTDBR32E132013647\\nIDENTIFIED AND EXAMINED BY  49798, ASCI, SIDI,M.M  AND 44267,ASCII, AKINLADE,O.E\\nRELEASED': Int64Index([1221839, 1221840, 1221841], dtype='int64'),\n",
       " '\\n\\nONE USED TOYOTA COROLLA 2003 MODEL WITH CHASSIS NO:JTDBR32E930010992\\nIDENTIFIED AND EXAMINED BY  41814,CSC,ADESHINA,J.O AND 34714 DSC SULEIMAN M. \\nRELEASED': Int64Index([197477, 197478, 197479], dtype='int64'),\n",
       " '\\n\\nONE USED TOYOTA COROLLA 2004 MODEL  WITH CHASSIS NO;- 1FMCU0H93H9DUA41110\\nIDENTIFIED AND EXAMINED BY AND 34714,DSC,SULEIMAN,M AND 49798,ASCI,SIDI,MM\\nRELEASED\\n': Int64Index([2724155, 2724156, 2724157], dtype='int64'),\n",
       " '\\n\\nONE USED TOYOTA COROLLA 2004 MODEL WITH CHASIS NO:- CH NO: JTDBR32E942044999\\nIDENTIFIED AND EXAMINED BY-34714,DSC,SULEIMAN,M AND 44267, ASCII, AKINLADE, O.E\\nRELEASED\\n': Int64Index([1651478, 1651479, 1651480], dtype='int64'),\n",
       " '\\n\\nONE USED TOYOTA COROLLA 2004 MODEL WITH CHASSIS NO:  JTDBR32E242030040\\nIDENTIFIED AND EXAMINED BY 36970 SC IDRIS , M. AND 34714 DSC SULEIMAN, M\\nRELEASED.': Int64Index([1591096, 1591097, 1591098], dtype='int64'),\n",
       " '\\n\\nONE USED TOYOTA COROLLA 2004 MODEL WITH CHASSIS NO:  JTDBR32E330032826\\nIDENTIFIED AND EXAMINED BY 36970 SC IDRIS , M. AND 34714 DSC SULEIMAN, M\\nRELEASED.': Int64Index([683240, 683241, 683242], dtype='int64'),\n",
       " '\\n\\nONE USED TOYOTA COROLLA 2004 MODEL WITH CHASSIS NO: 1NXBR32E34Z211891\\nIDENTIFIED AND EXAMINED BY  349798, DSC, SIDI,M.M. AND 49798, ASCII, AKINLADE, O.E\\nRELEASED\\n': Int64Index([288457, 288458, 288459], dtype='int64'),\n",
       " '\\n\\nONE USED TOYOTA COROLLA 2004 MODEL WITH CHASSIS NO:- 1NXBR32E14Z191544\\nIDENTIFIED AND EXAMINED BY  34714 DSC SULEIMAN M AND 44267,ASCII, AKINLADE,O.E\\nRELEASED': Int64Index([72439, 72440, 72441], dtype='int64'),\n",
       " '\\n\\nONE USED TOYOTA COROLLA 2004 MODEL WITH CHASSIS NO:- 1NXBR32E14Z247322\\nIDENTIFIED AND EXAMINED BY  34714 DSC SULEIMAN M AND 49798 ,ASCI, SIDI,M.M.\\nRELEASED': Int64Index([3215743, 3215744, 3215745], dtype='int64'),\n",
       " '\\n\\nONE USED TOYOTA COROLLA 2004 MODEL WITH CHASSIS NO:- 1NXBR38E74Z221184\\nIDENTIFIED AND EXAMINED BY  38923, ASCI, ABUBAKAR, T.A  AND 52867, ASCII, AKINLOYE,K.Y.\\nRELEASED': Int64Index([1303744, 1303745, 1303746], dtype='int64'),\n",
       " '\\n\\nONE USED TOYOTA COROLLA 2004 MODEL WITH CHASSIS NO:- CH: 2T1BR32E74C303295\\nIDENTIFIED AND EXAMINED BY  38923, ASCI, ABUBAKAR, T.A  AND 52867, ASCII, AKINLOYE,K.Y.\\nRELEASED': Int64Index([2203966, 2203967, 2203968], dtype='int64'),\n",
       " '\\n\\nONE USED TOYOTA COROLLA 2004 MODEL WITH CHASSIS NO:1NXBR32E53Z082776\\nIDENTIFIED AND EXAMINED BY 34714 DSC SULEIMAN M AND 38923 ASC I ABUBAKAR , T.A\\nRELEASED.\\n': Int64Index([2263682, 2263683, 2263684], dtype='int64'),\n",
       " '\\n\\nONE USED TOYOTA COROLLA 2004 MODEL WITH CHASSIS NO:1NXBR32E73Z068197\\nIDENTIFIED AND EXAMINED BY 41814 CSC ADESHINA J.O AND 38923 ASC I ABUBAKAR , T.A\\nRELEASED.': Int64Index([719978, 719979, 719980], dtype='int64'),\n",
       " '\\n\\nONE USED TOYOTA COROLLA 2004 MODEL WITH CHASSIS NO:1NXBR32E74Z208007\\nIDENTIFIED AND EXAMINED BY 36970 SC IDRIS , M. AND 34714 DSC SULEIMAN, M\\nRELEASED.': Int64Index([2668878, 2668879, 2668880], dtype='int64'),\n",
       " '\\n\\nONE USED TOYOTA COROLLA 2004 MODEL WITH CHASSIS NO:1NXBR32E83Z120730\\nIDENTIFIED AND EXAMINED BY 34714 DSC SULEIMAN M AND 38923 ASC I ABUBAKAR , T.A\\nRELEASED.': Int64Index([2539122, 2539123, 2539124], dtype='int64'),\n",
       " '\\n\\nONE USED TOYOTA COROLLA 2004 MODEL WITH CHASSIS NO:2T1BR12E0XC183073\\nIDENTIFIED AND EXAMINED BY 34714 DSC SULEIMAN M AND 38923 ASC I ABUBAKAR , T.A\\nRELEASED.': Int64Index([772942, 772943, 772944], dtype='int64'),\n",
       " '\\n\\nONE USED TOYOTA COROLLA 2004 MODEL WITH CHASSIS NO:2T1BR12E11C416868\\nIDENTIFIED AND EXAMINED BY 34714 DSC SULEIMAN M AND 38923 ASC I ABUBAKAR , T.A\\nRELEASED.': Int64Index([764325, 764326, 764327], dtype='int64'),\n",
       " '\\n\\nONE USED TOYOTA COROLLA 2004 MODEL WITH CHASSIS NO:2T1BR32E03C125843\\nIDENTIFIED AND EXAMINED BY 34714 DSC SULEIMAN M AND 38923 ASC I ABUBAKAR , T.A\\nRELEASED.\\n': Int64Index([1698110, 1698111, 1698112], dtype='int64'),\n",
       " '\\n\\nONE USED TOYOTA COROLLA 2004 MODEL WITH CHASSIS NO:2T1BR32E14C194882\\nIDENTIFIED AND EXAMINED BY 41814 CSC ADESHINA J.O AND 38923 ASC I ABUBAKAR , T.A\\nRELEASED.': Int64Index([3416439, 3416440, 3416441], dtype='int64'),\n",
       " '\\n\\nONE USED TOYOTA COROLLA 2004 MODEL WITH CHASSIS NO:2T1BR32E33C121611\\nIDENTIFIED AND EXAMINED BY 34714 DSC SULEIMAN M AND 38923 ASC I ABUBAKAR , T.A\\nRELEASED.': Int64Index([3005807, 3005808, 3005809], dtype='int64'),\n",
       " '\\n\\nONE USED TOYOTA COROLLA 2004 MODEL WITH CHASSIS NO:2T1BR32E44C289937\\nIDENTIFIED AND EXAMINED BY  41814,CSC,ADESHINA,J.O AND 34714 DSC SULEIMAN M. \\nRELEASED': Int64Index([2479343, 2479344, 2479345], dtype='int64'),\n",
       " '\\n\\nONE USED TOYOTA COROLLA 2004 MODEL WITH CHASSIS NO:4T1BE32K52U073804\\nIDENTIFIED AND EXAMINED BY 36970 SC IDRIS , M. AND 34714 DSC SULEIMAN, M\\nRELEASED.': Int64Index([701596, 701597, 701598], dtype='int64'),\n",
       " '\\n\\nONE USED TOYOTA COROLLA 2004 MODEL WITH CHASSIS NO:CH NO:2T1BR32E54C250886\\nIDENTIFIED AND EXAMINED BY 34714 DSC SULEIMAN M AND 38923 ASC I ABUBAKAR , T.A\\nRELEASED.': Int64Index([3335504, 3335505, 3335506], dtype='int64'),\n",
       " '\\n\\nONE USED TOYOTA COROLLA 2004 MODEL WITH CHASSIS NO:INXBR32E03Z063469\\nIDENTIFIED AND EXAMINED BY 41814 CSC ADESHINA J.O AND 38923 ASC I ABUBAKAR , T.A\\nRELEASED.\\n': Int64Index([3205889, 3205890, 3205891], dtype='int64'),\n",
       " '\\n\\nONE USED TOYOTA COROLLA 2004 MODEL WITH CHASSIS NO:JTDBR32E530026171\\nIDENTIFIED AND EXAMINED BY 41814 CSC ADESHINA J.O AND 38923 ASC I ABUBAKAR , T.A\\nRELEASED.\\n': Int64Index([2797822, 2797823, 2797824], dtype='int64'),\n",
       " '\\n\\nONE USED TOYOTA COROLLA 2004 MODEL WITH CHASSIS NO:JTDBR32E730037852\\nIDENTIFIED AND EXAMINED BY 34714 DSC SULEIMAN M AND 38923 ASC I ABUBAKAR , T.A\\nRELEASED.': Int64Index([2444822, 2444823, 2444824], dtype='int64'),\n",
       " '\\n\\nONE USED TOYOTA COROLLA 2004 MODEL WITH CHASSIS NO:JTDBR32E830018212\\nIDENTIFIED AND EXAMINED BY 36970 SC IDRIS , M. AND 34714 DSC SULEIMAN, M\\nRELEASE.': Int64Index([2629132, 2629133, 2629134], dtype='int64'),\n",
       " '\\n\\nONE USED TOYOTA COROLLA 2004 MODEL WITH CHASSIS NO:JTDBR32E832003942\\nIDENTIFIED AND EXAMINED BY 36970 SC IDRIS , M. AND 34714 DSC SULEIMAN, M\\nRELEASED.': Int64Index([716140, 716141, 716142], dtype='int64'),\n",
       " '\\n\\nONE USED TOYOTA COROLLA 2005 MODEL  WITH CHASSIS NO;- 2T1BR32E95C508019\\nIDENTIFIED AND EXAMINED BY 36970, SC,IDRIS, M AND 34714,44267,ASCII,AKINLADE\\nRELEASED\\n': Int64Index([126516, 126517, 126518], dtype='int64'),\n",
       " '\\n\\nONE USED TOYOTA COROLLA 2005 MODEL WITH CHASIS NO:- 1NXBR32E45Z399404\\nIDENTIFIED AND EXAMINED BY-34714,DSC,SULEIMAN,M AND 44267, ASCII, AKINLADE, O.E\\nRELEASED\\n': Int64Index([125054, 125055, 125056], dtype='int64'),\n",
       " '\\n\\nONE USED TOYOTA COROLLA 2005 MODEL WITH CHASIS NO:- JTEEP21A440048736\\nIDENTIFIED AND EXAMINED BY-34714,DSC,SULEIMAN,M AND 44267, ASCII, AKINLADE, O.E\\nRELEASED\\n': Int64Index([2789897, 2789898, 2789899], dtype='int64'),\n",
       " '\\n\\nONE USED TOYOTA COROLLA 2005 MODEL WITH CHASSIS N;- 2T1BR32E35C365875\\nIDENTIFIED, AND EXAMINED BY-  34714,DSC,SULEIMAN AND 44267, ASCII,AKINLADE,O.E\\nRELEASED.': Int64Index([2969297, 2969298, 2969299], dtype='int64'),\n",
       " '\\n\\nONE USED TOYOTA COROLLA 2005 MODEL WITH CHASSIS NO: 2T1BR32EX5C372094\\nIDENTIFIED AND EXAMINED BY  36970 SC IDRIS , M. AND 34714 DSC SULEIMAN M. \\nRELEASED\\n': Int64Index([2363019, 2363020, 2363021], dtype='int64'),\n",
       " '\\n\\nONE USED TOYOTA COROLLA 2005 MODEL WITH CHASSIS NO:- 1NXBR30E15Z474515\\nIDENTIFIED AND EXAMINED BY  34714 DSC SULEIMAN M AND 49798 ,ASCI, SIDI,M.M.\\nRELEASED': Int64Index([2959511, 2959512, 2959513], dtype='int64'),\n",
       " '\\n\\nONE USED TOYOTA COROLLA 2005 MODEL WITH CHASSIS NO:- 1NXBR32E95Z505992\\nIDENTIFIED AND EXAMINED BY  34714 DSC SULEIMAN M AND 44267,ASCII, AKINLADE,O.E\\nRELEASED': Int64Index([2465919, 2465920, 2465921], dtype='int64'),\n",
       " '\\n\\nONE USED TOYOTA COROLLA 2005 MODEL WITH CHASSIS NO:- 2T1BR30E95C464817\\nIDENTIFIED AND EXAMINED BY  34714 DSC SULEIMAN M AND 44267,ASCII, AKINLADE,O.E\\nRELEASED': Int64Index([3219347, 3219348, 3219349], dtype='int64'),\n",
       " '\\n\\nONE USED TOYOTA COROLLA 2005 MODEL WITH CHASSIS NO:- 2T1BR32E25C491743\\nIDENTIFIED AND EXAMINED BY  34714 DSC SULEIMAN M AND 44267,ASCII, AKINLADE,O.E\\nRELEASED': Int64Index([3301685, 3301686, 3301687], dtype='int64'),\n",
       " '\\n\\nONE USED TOYOTA COROLLA 2005 MODEL WITH CHASSIS NO:- 2T1BR32KX4U415787\\nIDENTIFIED AND EXAMINED BY  34714 DSC SULEIMAN M AND 52867, ASCII, AKINLOYE,K.Y.\\nRELEASED\\n': Int64Index([3452418, 3452419, 3452420], dtype='int64'),\n",
       " '\\n\\nONE USED TOYOTA COROLLA 2005 MODEL WITH CHASSIS NO:1NXBR30E05Z403855\\nIDENTIFIED AND EXAMINED BY 34714 DSC SULEIMAN M AND 38923 ASC I ABUBAKAR , T.A\\nRELEASED.\\n': Int64Index([712655, 712656, 712657], dtype='int64'),\n",
       " '\\n\\nONE USED TOYOTA COROLLA 2005 MODEL WITH CHASSIS NO:1NXBR32E05Z488872\\nIDENTIFIED AND EXAMINED BY 36970 SC IDRIS , M. AND 34714 DSC SULEIMAN, M\\nRELEASED.': Int64Index([2424078, 2424079, 2424080], dtype='int64'),\n",
       " '\\n\\nONE USED TOYOTA COROLLA 2005 MODEL WITH CHASSIS NO:1NXBR32E35Z458281\\nIDENTIFIED AND EXAMINED BY 36970 SC IDRIS , M. AND 34714 DSC SULEIMAN, M\\nRELEASED.': Int64Index([706017, 706018, 706019], dtype='int64'),\n",
       " '\\n\\nONE USED TOYOTA COROLLA 2005 MODEL WITH CHASSIS NO:1NXBR32E75Z387649 \\nIDENTIFIED AND EXAMINED BY  349798, DSC, SIDI,M.M. AND 52867, ASCII, AKINLOYE, K.Y\\nRELEASED': Int64Index([195489, 195490, 195491], dtype='int64'),\n",
       " '\\n\\nONE USED TOYOTA COROLLA 2005 MODEL WITH CHASSIS NO:2T1BR32E45C899919\\nIDENTIFIED AND EXAMINED BY  41814,CSC,ADESHINA,J.O AND 34714 DSC SULEIMAN M. \\nRELEASED': Int64Index([2384607, 2384608, 2384609], dtype='int64'),\n",
       " '\\n\\nONE USED TOYOTA COROLLA 2005 MODEL WITH CHASSIS NO:2T1BR32E65C354028\\nIDENTIFIED AND EXAMINED BY  349798, DSC, SIDI,M.M. AND 49798, ASCII, AKINLADE, O.E\\nRELEASED\\n': Int64Index([287425, 287426, 287427], dtype='int64'),\n",
       " '\\n\\nONE USED TOYOTA COROLLA 2005 MODEL WITH CHASSIS NO:2T1BR32E75C424264\\nIDENTIFIED AND EXAMINED BY 36970 SC IDRIS , M. AND 34714 DSC SULEIMAN, M\\nRELEASED.': Int64Index([2128387, 2128388, 2128389], dtype='int64'),\n",
       " '\\n\\nONE USED TOYOTA COROLLA 2005 MODEL WITH CHASSIS NO:4T1BE32K65U515073\\nIDENTIFIED AND EXAMINED BY 41814 CSC ADESHINA J.O AND 38923 ASC I ABUBAKAR , T.A\\nRELEASED.': Int64Index([3086463, 3086464, 3086465], dtype='int64'),\n",
       " '\\n\\nONE USED TOYOTA COROLLA 2005 MODEL WITH CHASSIS NO:CH: 1NXBR32E25Z376378\\nIDENTIFIED AND EXAMINED BY  34714 DSC SULEIMAN M. AND 44267, ASCII, AKINLADE,O.E \\nRELEASED': Int64Index([1459398, 1459399, 1459400], dtype='int64'),\n",
       " '\\n\\nONE USED TOYOTA COROLLA 2005 MODEL WITH CHASSIS NO:JTDBR32E652053953\\nIDENTIFIED AND EXAMINED BY 36970 SC IDRIS , M. AND 34714 DSC SULEIMAN, M\\nRELEASED.': Int64Index([681490, 681491, 681492], dtype='int64'),\n",
       " '\\n\\nONE USED TOYOTA COROLLA 2005 MODEL WITH CHASSIS NO:SB1KZ20E90F011280\\nIDENTIFIED AND EXAMINED BY 34714 DSC SULEIMAN M AND 38923 ASC I ABUBAKAR , T.A\\nRELEASED.': Int64Index([2454097, 2454098, 2454099], dtype='int64'),\n",
       " '\\n\\nONE USED TOYOTA COROLLA 2006 MODEL  WITH CHASSIS NO;- INXBR32E56Z619599\\nIDENTIFIED AND EXAMINED BY AND 34714,DSC,SULEIMAN,M AND 49798,ASCI,SIDI,MM\\nRELEASED\\n': Int64Index([2723957, 2723958, 2723959], dtype='int64'),\n",
       " '\\n\\nONE USED TOYOTA COROLLA 2006 MODEL WITH CHASSIS N;- CH:  1NXBR32E26Z630026\\nIDENTIFIED, AND EXAMINED BY-  34714,DSC,SULEIMAN AND 44267, ASCII,AKINLADE,O.E\\nRELEASED.': Int64Index([124209, 124210, 124211], dtype='int64'),\n",
       " '\\n\\nONE USED TOYOTA COROLLA 2006 MODEL WITH CHASSIS NO:- 1NXBE32E46Z608626\\nIDENTIFIED AND EXAMINED BY  34714 DSC SULEIMAN M AND 49798 ,ASCI, SIDI,M.M.\\nRELEASED': Int64Index([2121680, 2121681, 2121682], dtype='int64'),\n",
       " '\\n\\nONE USED TOYOTA COROLLA 2006 MODEL WITH CHASSIS NO:- 1NXBR32E46Z739040\\nIDENTIFIED AND EXAMINED BY  34714 DSC SULEIMAN M AND 49798 ,ASCI, SIDI,M.M.\\nRELEASED': Int64Index([2313532, 2313533, 2313534], dtype='int64'),\n",
       " '\\n\\nONE USED TOYOTA COROLLA 2006 MODEL WITH CHASSIS NO:- 1NXBU40E09Z014336\\nIDENTIFIED AND EXAMINED BY  49798, ASCI, SIDI,M.M  AND 44267,ASCII, AKINLADE,O.E\\nRELEASED': Int64Index([2228671, 2228672, 2228673], dtype='int64'),\n",
       " '\\n\\nONE USED TOYOTA COROLLA 2006 MODEL WITH CHASSIS NO:- 2T1BR30E56C638058\\nIDENTIFIED AND EXAMINED BY  34714 DSC SULEIMAN M AND 44267,ASCII, AKINLADE,O.E\\nRELEASED': Int64Index([81344, 81345, 81346], dtype='int64'),\n",
       " '\\n\\nONE USED TOYOTA COROLLA 2006 MODEL WITH CHASSIS NO:- 2T1BR32E26C632148\\nIDENTIFIED AND EXAMINED BY  34714 DSC SULEIMAN M AND 52867, ASCII, AKINLOYE,K.Y.\\nRELEASED': Int64Index([1656064, 1656065, 1656066], dtype='int64'),\n",
       " '\\n\\nONE USED TOYOTA COROLLA 2006 MODEL WITH CHASSIS NO:- 2T1BR32E26C684072\\nIDENTIFIED AND EXAMINED BY  34714 DSC SULEIMAN M AND 52867, ASCII, AKINLOYE,K.Y.\\nRELEASED': Int64Index([2151496, 2151497, 2151498], dtype='int64'),\n",
       " '\\n\\nONE USED TOYOTA COROLLA 2006 MODEL WITH CHASSIS NO:- 2T1KR32E66C601906\\nIDENTIFIED AND EXAMINED BY  34714 DSC SULEIMAN M AND 44267,ASCII, AKINLADE,O.E\\nRELEASED': Int64Index([1649185, 1649186, 1649187], dtype='int64'),\n",
       " '\\n\\nONE USED TOYOTA COROLLA 2006 MODEL WITH CHASSIS NO:- CH:  2T1BR30E46C633126\\nIDENTIFIED AND EXAMINED BY  34714 DSC SULEIMAN M AND 44267,ASCII, AKINLADE,O.E\\nRELEASED': Int64Index([1562066, 1562067, 1562068], dtype='int64'),\n",
       " '\\n\\nONE USED TOYOTA COROLLA 2006 MODEL WITH CHASSIS NO:- CH: 2T1BR32E96C641428\\nIDENTIFIED AND EXAMINED BY  34714 DSC SULEIMAN M AND 44267,ASCII, AKINLADE,O.E\\nRELEASED': Int64Index([2854960, 2854961, 2854962], dtype='int64'),\n",
       " '\\n\\nONE USED TOYOTA COROLLA 2006 MODEL WITH CHASSIS NO:- INXBR32E86Z702492\\nIDENTIFIED AND EXAMINED BY  38923, ASCI, ABUBAKAR, T.A  AND 52867, ASCII, AKINLOYE,K.Y.\\nRELEASED': Int64Index([172420, 172421, 172422], dtype='int64'),\n",
       " '\\n\\nONE USED TOYOTA COROLLA 2006 MODEL WITH CHASSIS NO:- JTDBR32E752055064\\nIDENTIFIED AND EXAMINED BY  49798, ASCI, SIDI,M.M  AND 44267,ASCII, AKINLADE,O.E\\nRELEASED': Int64Index([1649786, 1649787, 1649788], dtype='int64'),\n",
       " '\\n\\nONE USED TOYOTA COROLLA 2006 MODEL WITH CHASSIS NO:- JTDBR32E960078827\\nIDENTIFIED AND EXAMINED BY  34714 DSC SULEIMAN M AND 49798 ,ASCI, SIDI,M.M.\\nRELEASED\\n': Int64Index([103307, 103308, 103309], dtype='int64'),\n",
       " '\\n\\nONE USED TOYOTA COROLLA 2006 MODEL WITH CHASSIS NO:1NXBR32E06Z626041\\nIDENTIFIED AND EXAMINED BY 34714 DSC SULEIMAN M AND 38923 ASC I ABUBAKAR , T.A\\nRELEASED.': Int64Index([1789884, 1789885, 1789886], dtype='int64'),\n",
       " '\\n\\nONE USED TOYOTA COROLLA 2006 MODEL WITH CHASSIS NO:1NXBR32E16Z589940\\nIDENTIFIED AND EXAMINED BY  41814,CSC,ADESHINA,J.O AND 34714 DSC SULEIMAN M. \\nRELEASED': Int64Index([1660017, 1660018, 1660019], dtype='int64'),\n",
       " '\\n\\nONE USED TOYOTA COROLLA 2006 MODEL WITH CHASSIS NO:1NXBR32E16Z700048\\nIDENTIFIED AND EXAMINED BY 36970 SC IDRIS , M. AND 34714 DSC SULEIMAN, M\\nRELEASED.': Int64Index([2098805, 2098806, 2098807], dtype='int64'),\n",
       " '\\n\\nONE USED TOYOTA COROLLA 2006 MODEL WITH CHASSIS NO:1NXBR32E46Z667112\\nIDENTIFIED AND EXAMINED BY 34714 DSC SULEIMAN M AND 38923 ASC I ABUBAKAR , T.A\\nRELEASED.': Int64Index([2015214, 2015215, 2015216], dtype='int64'),\n",
       " '\\n\\nONE USED TOYOTA COROLLA 2006 MODEL WITH CHASSIS NO:1NXBR32E86Z723536 \\nIDENTIFIED AND EXAMINED BY  34714 DSC SULEIMAN M. AND 52867, ASCII, AKINLOYE, K.Y\\nRELEASED': Int64Index([188533, 188534, 188535], dtype='int64'),\n",
       " '\\n\\nONE USED TOYOTA COROLLA 2006 MODEL WITH CHASSIS NO:2T1BR32E26C594582 \\nIDENTIFIED AND EXAMINED BY  34714 DSC SULEIMAN M. AND 44267, ASCII, AKINLADE,O.E \\nRELEASED': Int64Index([305080, 305081, 305082], dtype='int64'),\n",
       " '\\n\\nONE USED TOYOTA COROLLA 2006 MODEL WITH CHASSIS NO:2T1BR32E96C603469\\nIDENTIFIED AND EXAMINED BY 34714 DSC SULEIMAN M AND 38923 ASC I ABUBAKAR , T.A\\nRELEASED.': Int64Index([744860, 744861, 744862], dtype='int64'),\n",
       " '\\n\\nONE USED TOYOTA COROLLA 2006 MODEL WITH CHASSIS NO:CH/NO :2T1BR32E76C561819\\nIDENTIFIED AND EXAMINED BY 36970 SC IDRIS , M. AND 34714 DSC SULEIMAN, M\\nRELEASED.': Int64Index([1430748, 1430749, 1430750], dtype='int64'),\n",
       " '\\n\\nONE USED TOYOTA COROLLA 2006 MODEL WITH CHASSIS NO:CH:2T1BR32EX6C630650\\nIDENTIFIED AND EXAMINED BY 36970 SC IDRIS , M. AND 34714 DSC SULEIMAN, M\\nRELEASED.': Int64Index([2839896, 2839897, 2839898], dtype='int64'),\n",
       " '\\n\\nONE USED TOYOTA COROLLA 2006 MODEL WITH CHASSIS NO:INXBR32E762573726\\nIDENTIFIED AND EXAMINED BY 34714 DSC SULEIMAN M AND 38923 ASC I ABUBAKAR , T.A\\nRELEASED.\\n': Int64Index([1640706, 1640707], dtype='int64'),\n",
       " '\\n\\nONE USED TOYOTA COROLLA 2006 MODEL WITH CHASSIS NO:JTDBR32E060062404 \\nIDENTIFIED AND EXAMINED BY  34714 DSC SULEIMAN M. AND 44267, ASCII, AKINLADE,O.E \\nRELEASED\\n': Int64Index([3058887, 3058888, 3058889], dtype='int64'),\n",
       " '\\n\\nONE USED TOYOTA COROLLA 2007 MODEL WITH CHASSIS NO:- 2T1BE32E57C741236\\nIDENTIFIED AND EXAMINED BY  34714 DSC SULEIMAN M AND 44267,ASCII, AKINLADE,O.E\\nRELEASED\\n': Int64Index([1880234, 1880235, 1880236], dtype='int64'),\n",
       " '\\n\\nONE USED TOYOTA COROLLA 2007 MODEL WITH CHASSIS NO:- 4T1BE46K17U013865\\nIDENTIFIED AND EXAMINED BY  34714 DSC SULEIMAN M AND 44267,ASCII, AKINLADE,O.E\\nRELEASED': Int64Index([144136, 144137, 144138], dtype='int64'),\n",
       " '\\n\\nONE USED TOYOTA COROLLA 2007 MODEL WITH CHASSIS NO:- CH. 2T1BR32E77C740086\\nIDENTIFIED AND EXAMINED BY  49798, ASCI, SIDI,M.M  AND 44267,ASCII, AKINLADE,O.E\\nRELEASED\\n': Int64Index([181345, 181346, 181347], dtype='int64'),\n",
       " '\\n\\nONE USED TOYOTA COROLLA 2007 MODEL WITH CHASSIS NO:- CH: 2T1KR32E17C680645\\nIDENTIFIED AND EXAMINED BY  49798, ASCI, SIDI,M.M  AND 44267,ASCII, AKINLADE,O.E\\nRELEASED': Int64Index([3447920, 3447921, 3447922], dtype='int64'),\n",
       " '\\n\\nONE USED TOYOTA COROLLA 2007 MODEL WITH CHASSIS NO:- CH:JTHCK262662004514\\nIDENTIFIED AND EXAMINED BY  49798, ASCI, SIDI,M.M  AND 44267,ASCII, AKINLADE,O.E\\nRELEASED': Int64Index([3452306, 3452307, 3452308], dtype='int64'),\n",
       " '\\n\\nONE USED TOYOTA COROLLA 2007 MODEL WITH CHASSIS NO:- CHASS:  2T1BR30E97C766238\\nIDENTIFIED AND EXAMINED BY  34714 DSC SULEIMAN M AND 44267,ASCII, AKINLADE,O.E\\nRELEASED': Int64Index([1315346, 1315347, 1315348], dtype='int64'),\n",
       " '\\n\\nONE USED TOYOTA COROLLA 2007 MODEL WITH CHASSIS NO:- JTDBR32E770131459\\nIDENTIFIED AND EXAMINED BY  34714 DSC SULEIMAN M AND 49798 ,ASCI, SIDI,M.M.\\nRELEASED': Int64Index([2116158, 2116159, 2116160], dtype='int64'),\n",
       " '\\n\\nONE USED TOYOTA COROLLA 2007 MODEL WITH CHASSIS NO:2T1BR30E27C810483\\nIDENTIFIED AND EXAMINED BY 36970 SC IDRIS , M. AND 34714 DSC SULEIMAN, M\\nRELEASED.\\n': Int64Index([729618, 729619, 729620], dtype='int64'),\n",
       " '\\n\\nONE USED TOYOTA COROLLA 2007 MODEL WITH CHASSIS NO:CH: 2T1BR32E57C835620\\nIDENTIFIED AND EXAMINED BY 34714 DSC SULEIMAN M AND 38923 ASC I ABUBAKAR , T.A\\nRELEASED.': Int64Index([2587547, 2587548, 2587549], dtype='int64'),\n",
       " '\\n\\nONE USED TOYOTA COROLLA 2008 MODEL  WITH CHASSIS NO;- CH: 2T1BR32E38C906816\\nIDENTIFIED AND EXAMINED BY AND 34714,DSC,SULEIMAN,M AND 49798,ASCI,SIDI,MM\\nRELEASED\\n': Int64Index([1653693, 1653694, 1653695], dtype='int64'),\n",
       " '\\n\\nONE USED TOYOTA COROLLA 2008 MODEL WITH CHASSIS NO:- 1NXBR32E58Z968569\\nIDENTIFIED AND EXAMINED BY  49798, ASCI, SIDI,M.M  AND 44267,ASCII, AKINLADE,O.E\\nRELEASED': Int64Index([81895, 81896, 81897], dtype='int64'),\n",
       " '\\n\\nONE USED TOYOTA COROLLA 2008 MODEL WITH CHASSIS NO:- 2T1BR30EX8C916326\\nIDENTIFIED AND EXAMINED BY  34714 DSC SULEIMAN M AND 44267,ASCII, AKINLADE,O.E\\nRELEASED\\n': Int64Index([89749, 89750, 89751], dtype='int64'),\n",
       " '\\n\\nONE USED TOYOTA COROLLA 2008 MODEL WITH CHASSIS NO:- 2T1BR32E08C874519\\nIDENTIFIED AND EXAMINED BY  41814, CSC, ADESHINA, J.O, M  AND 34714 DSC SULEIMAN M \\nRELEASED': Int64Index([1658546, 1658547, 1658548], dtype='int64'),\n",
       " '\\n\\nONE USED TOYOTA COROLLA 2008 MODEL WITH CHASSIS NO:- 2T1BR32E48C890562\\nIDENTIFIED AND EXAMINED BY  49798, ASCI, SIDI,M.M  AND 44267,ASCII, AKINLADE,O.E\\nREFER TO CPC': Int64Index([159833, 159834, 159835], dtype='int64'),\n",
       " '\\n\\nONE USED TOYOTA COROLLA 2008 MODEL WITH CHASSIS NO:- 2T1BR32E68C899375\\nIDENTIFIED AND EXAMINED BY  34714 DSC SULEIMAN M AND 44267,ASCII, AKINLADE,O.E\\nRELEASED': Int64Index([2954203, 2954204, 2954205], dtype='int64'),\n",
       " '\\n\\nONE USED TOYOTA COROLLA 2008 MODEL WITH CHASSIS NO:- 2T1BR32E88C857743\\nIDENTIFIED AND EXAMINED BY  34714 DSC SULEIMAN M AND 40623, ASCII, ABDULMALIK, I\\nRELEASED': Int64Index([3220281, 3220282, 3220283], dtype='int64'),\n",
       " '\\n\\nONE USED TOYOTA COROLLA 2008 MODEL WITH CHASSIS NO:- 4A4MN21S27E071575\\nIDENTIFIED AND EXAMINED BY  49798, ASCI, SIDI,M.M  AND 44267,ASCII, AKINLADE,O.E\\nRELEASED': Int64Index([2954134, 2954135, 2954136], dtype='int64'),\n",
       " '\\n\\nONE USED TOYOTA COROLLA 2008 MODEL WITH CHASSIS NO:- 4T1BE46K78U233867\\nIDENTIFIED AND EXAMINED BY  34714 DSC SULEIMAN M AND 40623, ASCII, ABDULMALIK, I\\nRELEASED\\n': Int64Index([188365, 188366, 188367], dtype='int64'),\n",
       " '\\n\\nONE USED TOYOTA COROLLA 2008 MODEL WITH CHASSIS NO:- CH: 2T1BR32E08C872818\\nIDENTIFIED AND EXAMINED BY  34714 DSC SULEIMAN M AND 49798 ,ASCI, SIDI,M.M.\\nREFER TO VALUATION': Int64Index([3192053, 3192054, 3192055], dtype='int64'),\n",
       " '\\n\\nONE USED TOYOTA COROLLA 2009 MODEL  WITH CHASSIS NO;- 1NXBU40E79Z014169\\nIDENTIFIED AND EXAMINED BY AND 34714,DSC,SULEIMAN,M AND 49798,ASCI,SIDI,MM\\nRELEASED\\n': Int64Index([2475661, 2475662, 2475663], dtype='int64'),\n",
       " '\\n\\nONE USED TOYOTA COROLLA 2009 MODEL WITH CHASSIS NO:- 2T1BU40E69C133526\\nIDENTIFIED AND EXAMINED BY  49798, ASCI, SIDI,M.M  AND 44267,ASCII, AKINLADE,O.E\\nREFER TO CPC TCIP': Int64Index([3216370, 3216371, 3216372], dtype='int64'),\n",
       " '\\n\\nONE USED TOYOTA COROLLA 2009 MODEL WITH CHASSIS NO:- 2T1KU40E29C048960\\nIDENTIFIED AND EXAMINED BY  34714 DSC SULEIMAN M AND 44267,ASCII, AKINLADE,O.E\\nRELEASED\\n': Int64Index([1562546, 1562547, 1562548], dtype='int64'),\n",
       " '\\n\\nONE USED TOYOTA COROLLA 2009 MODEL WITH CHASSIS NO:- CH: 2T1BU40E29C027204\\nIDENTIFIED AND EXAMINED BY  49798, ASCI, SIDI,M.M  AND 44267,ASCII, AKINLADE,O.E\\nRELEASED': Int64Index([136373, 136374, 136375], dtype='int64'),\n",
       " '\\n\\nONE USED TOYOTA COROLLA 2009 MODEL WITH CHASSIS NO:- JTDBL40E299034209\\nIDENTIFIED AND EXAMINED BY  34714 DSC SULEIMAN M AND 44267,ASCII, AKINLADE,O.E\\nVALUATION REFERRED\\n': Int64Index([83421, 83422, 83423], dtype='int64'),\n",
       " '\\n\\nONE USED TOYOTA COROLLA 2009 MODEL WITH CHASSIS NO:CH: JTDBL40E19J013706\\nIDENTIFIED AND EXAMINED BY 36970 SC IDRIS , M. AND 34714 DSC SULEIMAN, M\\nRELEASED.': Int64Index([1619179, 1619180, 1619181], dtype='int64'),\n",
       " '\\n\\nONE USED TOYOTA COROLLA 2009 MODEL WITH CHASSIS NO:JTDBL40E89J026470\\nIDENTIFIED AND EXAMINED BY  34714 DSC SULEIMAN M. AND 44267, ASCII, AKINLADE,O.E \\nRELEASED': Int64Index([2319870, 2319871, 2319872], dtype='int64'),\n",
       " '\\n\\nONE USED TOYOTA COROLLA 2009 MODEL WITH CHASSIS NOCH: 2T1BU40E69C163237\\nIDENTIFIED AND EXAMINED BY  349798, DSC, SIDI,M.M. AND 52867, ASCII, AKINLOYE, K.Y\\nREFER TO VALUATION': Int64Index([199444, 199445, 199446], dtype='int64'),\n",
       " '\\n\\nONE USED TOYOTA COROLLA 2010 MODEL WITH CHASSIS NO:- CH:   2T1BU4EE5AC304988\\nIDENTIFIED AND EXAMINED BY  34714 DSC SULEIMAN M AND 44267,ASCII, AKINLADE,O.E\\nRELEASED': Int64Index([133585, 133586, 133587], dtype='int64'),\n",
       " '\\n\\nONE USED TOYOTA COROLLA 2010 MODEL WITH CHASSIS NO:2T1BU4EE3AC283767\\nIDENTIFIED AND EXAMINED BY  34714 DSC SULEIMAN M. AND 44267, ASCII, AKINLADE,O.E \\nREFER TO VALUATION': Int64Index([2397521, 2397522, 2397523], dtype='int64'),\n",
       " '\\n\\nONE USED TOYOTA COROLLA 2010 MODEL WITH CHASSIS NO:2T1BU4EEXAC315386\\nIDENTIFIED AND EXAMINED BY 34714 DSC SULEIMAN M AND 38923 ASC I ABUBAKAR , T.A\\nREFER TO VALUATION AS DIRECTED.': Int64Index([764800, 764801, 764802], dtype='int64'),\n",
       " '\\n\\nONE USED TOYOTA COROLLA 2011 MODEL WITH CHASSIS NO:- 2T1BU4EE6BC664322\\nIDENTIFIED AND EXAMINED BY  34714 DSC SULEIMAN M AND 40623, ASCII, ABDULMALIK, I\\nRELEASED': Int64Index([1986665, 1986666, 1986667], dtype='int64'),\n",
       " '\\n\\nONE USED TOYOTA COROLLA 2011 MODEL WITH CHASSIS NO:: 2T1BU4EE4BC610226 \\nIDENTIFIED AND EXAMINED BY  349798, DSC, SIDI,M.M. AND 52867, ASCII, AKINLOYE, K.Y\\nRELEASED': Int64Index([1233895, 1233896, 1233897], dtype='int64'),\n",
       " '\\n\\nONE USED TOYOTA COROLLA 2012 MODEL WITH CHASSIS NO:- 2T1BU4EE2CC909599\\nIDENTIFIED AND EXAMINED BY  34714 DSC SULEIMAN M AND 44267,ASCII, AKINLADE,O.E\\nRELEASED': Int64Index([1546976, 1546977, 1546978], dtype='int64'),\n",
       " '\\n\\nONE USED TOYOTA COROLLA 2013 MODEL WITH CHASSIS NO: 5YFBU4EE3DP139978\\nIDENTIFIED AND EXAMINED BY 41814 CSC ADESHINA J.O AND 38923 ASC I ABUBAKAR , T.A\\nRELEASED.\\n': Int64Index([1430590, 1430591, 1430592], dtype='int64'),\n",
       " '\\n\\nONE USED TOYOTA COROLLA 2013 MODEL WITH CHASSIS NO:-. 2T1BU4EE4DC938927\\nIDENTIFIED AND EXAMINED BY  34714 DSC SULEIMAN M AND 44267,ASCII, AKINLADE,O.E\\nRELEASED': Int64Index([1731467, 1731468, 1731469], dtype='int64'),\n",
       " '\\n\\nONE USED TOYOTA COROLLA 2014 MODEL WITH CHASIS NO:- 5YFBURHE4EP074455\\nIDENTIFIED AND EXAMINED BY-34714,DSC,SULEIMAN,M AND 44267, ASCII, AKINLADE, O.E\\nRELEASED': Int64Index([125554, 125555, 125556], dtype='int64'),\n",
       " '\\n\\nONE USED TOYOTA COROLLA 2014 MODEL WITH CHASSIS NO:- 2T1BURHE0EC140404\\nIDENTIFIED AND EXAMINED BY  34714 DSC SULEIMAN M AND 44267,ASCII, AKINLADE,O.E\\nRELEASED': Int64Index([196826, 196827, 196828], dtype='int64'),\n",
       " '\\n\\nONE USED TOYOTA COROLLA 2014 MODEL WITH CHASSIS NO:2T1BURHE6EC133988\\nIDENTIFIED AND EXAMINED BY 41814 CSC ADESHINA J.O AND 38923 ASC I ABUBAKAR , T.A\\nRELEASED.': Int64Index([3450606, 3450607, 3450608], dtype='int64'),\n",
       " '\\n\\nONE USED TOYOTA COROLLA 2016 MODEL WITH CHASSIS NO:2T1BURHE4GC633392\\nIDENTIFIED AND EXAMINED BY 34714 DSC SULEIMAN M AND 38923 ASC I ABUBAKAR , T.A\\nREFER TO CPC TTCIP.': Int64Index([2753904, 2753905, 2753906], dtype='int64'),\n",
       " '\\n\\nONE USED TOYOTA COROLLA 2016 MODEL WITH CHASSIS NO:2T1BURHE9GC628768\\nIDENTIFIED AND EXAMINED BY 36970 SC IDRIS , M. AND 34714 DSC SULEIMAN, M\\nRELEASED.': Int64Index([2178389, 2178390, 2178391], dtype='int64'),\n",
       " '\\n\\nONE USED TOYOTA COROLLA WITH CHASSIS NO:WFOLXXGBFLYR32672 \\nIDENTIFIED AND EXAMINED BY  34714 DSC SULEIMAN M. AND 44267, ASCII, AKINLADE,O.E \\nRELEASED\\n': Int64Index([1986931, 1986932, 1986933], dtype='int64'),\n",
       " '\\n\\nONE USED TOYOTA COROLLA [2003] CHASS; NO; 2T1BR32E53C132187\\nEXAMINED BY;  AND 41814, CSC, ADESHINA,J.O AND 44267,ASCII,AKINLADE,O.E\\nRELEASED\\n': Int64Index([3473158, 3473159, 3473160], dtype='int64'),\n",
       " '\\n\\nONE USED TOYOTA COROLLA [2003] CHASS; NO; 4T1BE30K0347466\\nEXAMINED BY;  AND 34714,DSC,SULEIMAN,M AND 44267,ASCII,AKINLADE,O.E\\nRELEASED': Int64Index([1867490, 1867491, 1867492], dtype='int64'),\n",
       " '\\n\\nONE USED TOYOTA COROLLA [2003] MODEL CHASS; NO;  2T1BR32E63C040604\\nEXAMINED BY;  34714,DSC,SULEIMAN,M AND 44267,ASCII,AKINLADE,O.E\\nRELEASED': Int64Index([344071, 344072, 344073], dtype='int64'),\n",
       " '\\n\\nONE USED TOYOTA COROLLA [2003] MODEL CHASS; NO; 2T1BR32E53C045227\\nEXAMINED BY; 34714,DSC,SULEIMAN,M AND 38923,DSC,ABUBAKAR,T.A\\nRELEASED': Int64Index([2457112, 2457113, 2457114], dtype='int64'),\n",
       " '\\n\\nONE USED TOYOTA COROLLA [2004] CHASS; NO; 1NXBR32E74Z334531\\nEXAMINED BY;  AND 34714,DSC,SULEIMAN,M AND 44267,ASCII,AKINLADE,O.E\\nRELEASED': Int64Index([1665071, 1665072, 1665073], dtype='int64'),\n",
       " '\\n\\nONE USED TOYOTA COROLLA [2005] MODEL CHASS; NO; 2T1BR30EX5C453146\\nEXAMINED BY;  34714,DSC,SULEIMAN,M AND 44267,ASCII,AKINLADE,O.E\\nREFER TO VALUATION AS DIRECTED': Int64Index([2820023, 2820024, 2820025], dtype='int64'),\n",
       " '\\n\\nONE USED TOYOTA COROLLA [2006] CHASS; NO;  NO:2T1BR32E66C658087\\nEXAMINED BY;  AND 34714,DSC,SULEIMAN,M AND 44267,ASCII,AKINLADE,O.E\\nRELEASED': Int64Index([294296, 294297, 294298], dtype='int64'),\n",
       " '\\n\\nONE USED TOYOTA COROLLA [2006] MODEL CHASS; NO; 1NXBR32E96Z743701.\\nEXAMINED BY;  34714,DSC,SULEIMAN,M AND 44267,ASCII,AKINLADE,O.E\\nREFER TO D/C VALUATION AS DIRECTED': Int64Index([3226076, 3226077, 3226078], dtype='int64'),\n",
       " '\\n\\nONE USED TOYOTA COROLLA [2006] MODEL CHASS; NO; 2T1BR30E36C683502\\nEXAMINED BY;  34714,DSC,SULEIMAN,M AND 44267,ASCII,AKINLADE,O.E\\nRELEASED': Int64Index([2820123, 2820124, 2820125], dtype='int64'),\n",
       " '\\n\\nONE USED TOYOTA COROLLA [2008] MODEL CHASS; NO; 2T1BR32EX8C919160\\nEXAMINED BY;  34714,DSC,SULEIMAN,M AND 44267,ASCII,AKINLADE,O.E\\nREFER TO VALUATION AS DIRECTED': Int64Index([3479490, 3479491, 3479492], dtype='int64'),\n",
       " '\\n\\nONE USED TOYOTA COROLLA [2010] MODEL CHASS; NO; JTDBU4EE6AJ073782\\nEXAMINED BY;  34714,DSC,SULEIMAN,M AND 44267,ASCII,AKINLADE,O.E\\nRELEASED': Int64Index([1240715, 1240716, 1240717], dtype='int64'),\n",
       " '\\n\\nONE USED TOYOTA COROLLS 2003 MODEL WITH CHASSIS NO:- INXBR3ZD95844\\nIDENTIFIED AND EXAMINED BY  34714 DSC SULEIMAN M AND 40623, ASCII, ABDULMALIK, I\\nRELEASED\\n': Int64Index([3208137, 3208138, 3208139], dtype='int64'),\n",
       " '\\n\\nONE USED TOYOTA COROOLA 2005 MODEL WITH CHASSIS NO:2T1BR32E35C35637\\nIDENTIFIED AND EXAMINED BY  36970, SC, IDRIS, M AND 34714 DSC SULEIMAN M. \\nRELEASED': Int64Index([1293323, 1293324, 1293325], dtype='int64'),\n",
       " '\\n\\nONE USED TOYOTA ECHO 2003 MODEL WITH CHASSIS N;- JTDBT123010136448\\nIDENTIFIED, AND EXAMINED BY-  34714,DSC,SULEIMAN AND 44267, ASCII,AKINLADE,O.E\\nRELEASED.': Int64Index([120950, 120951, 120952], dtype='int64'),\n",
       " '\\n\\nONE USED TOYOTA FJ CRUISER 2007 MODEL WITH CHASSIS NO:- JTEBU11F770030852\\nIDENTIFIED AND EXAMINED BY  34714 DSC SULEIMAN M AND 49798 ,ASCI, SIDI,M.M.\\nRELEASED': Int64Index([2063450, 2063451, 2063452], dtype='int64'),\n",
       " '\\n\\nONE USED TOYOTA FJ CRUISER [2007] MODEL CHASS; NO; JTEBU11F070067161\\nEXAMINED BY; 34714,DSC,SULEIMAN,M AND 38923,DSC,ABUBAKAR,T.A\\nRELEASED': Int64Index([2488232, 2488233, 2488234], dtype='int64'),\n",
       " '\\n\\nONE USED TOYOTA HIGHLANDER  2003 MODEL WITH CHASSIS NO:- JTEGF21A710010246\\nIDENTIFIED AND EXAMINED BY  34714 DSC SULEIMAN M AND 49798 ,ASCI, SIDI,M.M.\\nRELEASED': Int64Index([2063471, 2063472, 2063473], dtype='int64'),\n",
       " '\\n\\nONE USED TOYOTA HIGHLANDER  2005 MODEL WITH CHASSIS NO:JTEEP21A350095418\\nIDENTIFIED AND EXAMINED BY  41814,CSC,ADESHINA,J.O AND 34714 DSC SULEIMAN M. \\nRELEASED': Int64Index([2233614, 2233615, 2233616], dtype='int64'),\n",
       " '\\n\\nONE USED TOYOTA HIGHLANDER  2006 MODEL WITH CHASIS NO:- JTEEP21A260169347\\nIDENTIFIED AND EXAMINED BY-34714,DSC,SULEIMAN,M AND 44267, ASCII, AKINLADE, O.E\\nRELEASED\\n': Int64Index([1230126, 1230127, 1230128], dtype='int64'),\n",
       " '\\n\\nONE USED TOYOTA HIGHLANDER  2010 MODEL WITH CHASSIS NO:- CH: 5TDBK3EH0AS006625\\nIDENTIFIED AND EXAMINED BY  34714 DSC SULEIMAN M AND 44267,ASCII, AKINLADE,O.E\\nRELEASED': Int64Index([199228, 199229, 199230], dtype='int64'),\n",
       " '\\n\\nONE USED TOYOTA HIGHLANDER  [2003] CHASS; NO; JTEHF21A730150093\\nEXAMINED BY;  AND 34714,DSC,SULEIMAN,M AND 44267,ASCII,AKINLADE,O.E\\nREFER TO VALUATION FOR VALUE': Int64Index([1991082, 1991083], dtype='int64'),\n",
       " '\\n\\nONE USED TOYOTA HIGHLANDER 2003 MODEL  WITH CHASSIS NO;- CH:  JTEHF21A110040332\\nIDENTIFIED AND EXAMINED BY AND 34714,DSC,SULEIMAN,M AND 49798,ASCI,SIDI,MM\\nRELEASED\\n': Int64Index([1563769, 1563770, 1563771], dtype='int64'),\n",
       " '\\n\\nONE USED TOYOTA HIGHLANDER 2003 MODEL  WITH CHASSIS NO;-JTEGD21A210020561\\nIDENTIFIED AND EXAMINED BY 36970, SC,IDRIS, M AND 34714,DSC,SULEIMAN,M\\nRELEASED\\n': Int64Index([125634, 125635, 125636], dtype='int64'),\n",
       " '\\n\\nONE USED TOYOTA HIGHLANDER 2003 MODEL WITH CHASIS NO:- JTHBA30G555133494\\nIDENTIFIED AND EXAMINED BY-34714,DSC,SULEIMAN,M AND 44267, ASCII, AKINLADE, O.E\\nRELEASED\\n': Int64Index([2121750, 2121751, 2121752], dtype='int64'),\n",
       " '\\n\\nONE USED TOYOTA HIGHLANDER 2003 MODEL WITH CHASSIS NO:- JTEHF21A320083085\\nIDENTIFIED AND EXAMINED BY  41814, CSC, ADESHINA,J.O AND 34714 DSC SULEIMAN M \\nRELEASED': Int64Index([202376, 202377, 202378], dtype='int64'),\n",
       " '\\n\\nONE USED TOYOTA HIGHLANDER 2004 MODEL WITH CHASSIS NO:- JTEEP21A340032673\\nIDENTIFIED AND EXAMINED BY  34714 DSC SULEIMAN M AND 44267,ASCII, AKINLADE,O.E\\nRELEASED': Int64Index([76665, 76666, 76667], dtype='int64'),\n",
       " '\\n\\nONE USED TOYOTA HIGHLANDER 2004 MODEL WITH CHASSIS NO:CH/NO:  JTEEP21A740018081\\nIDENTIFIED AND EXAMINED BY  41814,CSC,ADESHINA,J.O AND 34714 DSC SULEIMAN M. \\nRELEASED': Int64Index([1905836, 1905837, 1905838], dtype='int64'),\n",
       " '\\n\\nONE USED TOYOTA HIGHLANDER 2004 MODEL WITH CHASSIS NO:JTEDP21AX40041608\\nIDENTIFIED AND EXAMINED BY 34714 DSC SULEIMAN M AND 38923 ASC I ABUBAKAR , T.A\\nRELEASED.': Int64Index([748660, 748661, 748662], dtype='int64'),\n",
       " '\\n\\nONE USED TOYOTA HIGHLANDER 2004 MODEL WITH CHASSIS NO:JTEEP21A340066404\\nIDENTIFIED AND EXAMINED BY 34714 DSC SULEIMAN M AND 38923 ASC I ABUBAKAR , T.A\\nREFER TO VALUATION AS DIRECTED.': Int64Index([1457268, 1457269, 1457270], dtype='int64'),\n",
       " '\\n\\nONE USED TOYOTA HIGHLANDER 2004 MODEL WITH CHASSIS NO:JTEGF21A220060814\\nIDENTIFIED AND EXAMINED BY 34714 DSC SULEIMAN M AND 38923 ASC I ABUBAKAR , T.A\\nRELEASED.\\n': Int64Index([3165676, 3165677, 3165678], dtype='int64'),\n",
       " '\\n\\nONE USED TOYOTA HIGHLANDER 2004 MODEL WITH CHASSIS NO:JTEHF21A830115997\\nIDENTIFIED AND EXAMINED BY 34714 DSC SULEIMAN M AND 38923 ASC I ABUBAKAR , T.A\\nRELEASED.': Int64Index([791874, 791875, 791876], dtype='int64'),\n",
       " '\\n\\nONE USED TOYOTA HIGHLANDER 2004 MODEL WITH CHASSIS NO:JTEHF21A930117080\\nIDENTIFIED AND EXAMINED BY 41814 CSC ADESHINA J.O AND 38923 ASC I ABUBAKAR , T.A\\nRELEASED.\\n': Int64Index([2381803, 2381804, 2381805], dtype='int64'),\n",
       " '\\n\\nONE USED TOYOTA HIGHLANDER 2005 MODEL WITH CHASIS NO:- JTEDP21A450082785\\nIDENTIFIED AND EXAMINED BY-34714,DSC,SULEIMAN,M AND 49798, ASCI,SIDI \\nRELEASED': Int64Index([123337, 123338, 123339], dtype='int64'),\n",
       " '\\n\\nONE USED TOYOTA HIGHLANDER 2005 MODEL WITH CHASSIS NO:\\nIDENTIFIED AND EXAMINED BY 36970 SC IDRIS , M. AND 34714 DSC SULEIMAN, M\\nRELEASED.': Int64Index([2507242, 2507243, 2507244], dtype='int64'),\n",
       " '\\n\\nONE USED TOYOTA HIGHLANDER 2005 MODEL WITH CHASSIS NO:- JTEEP21A850077450\\nIDENTIFIED AND EXAMINED BY  34714 DSC SULEIMAN M AND 49798 ,ASCI, SIDI,M.M.\\nRELEASED': Int64Index([2393214, 2393215, 2393216], dtype='int64'),\n",
       " '\\n\\nONE USED TOYOTA HIGHLANDER 2005 MODEL WITH CHASSIS NO:- JTEGD21AX50125712\\nIDENTIFIED AND EXAMINED BY  49798, ASCI, SIDI,M.M  AND 44267,ASCII, AKINLADE,O.E\\nRELEASED': Int64Index([1368784, 1368785, 1368786], dtype='int64'),\n",
       " '\\n\\nONE USED TOYOTA HIGHLANDER 2006 MODEL WITH CHASIS NO:- JTEDP21A460124809\\nIDENTIFIED AND EXAMINED BY-34714,DSC,SULEIMAN,M AND 44267, ASCII, AKINLADE, O.E\\nRELEASED\\n': Int64Index([1297315, 1297316, 1297317], dtype='int64'),\n",
       " '\\n\\nONE USED TOYOTA HIGHLANDER 2006 MODEL WITH CHASSIS NO:- JTEDP21A560107940\\nIDENTIFIED AND EXAMINED BY  34714 DSC SULEIMAN M AND 52867, ASCII, AKINLOYE,K.Y.\\nRELEASED': Int64Index([1900625, 1900626, 1900627], dtype='int64'),\n",
       " '\\n\\nONE USED TOYOTA HIGHLANDER 2006 MODEL WITH CHASSIS NO:JTEDW21A160001407\\nIDENTIFIED AND EXAMINED BY 36970 SC IDRIS , M. AND 34714 DSC SULEIMAN, M\\nRELEASED.': Int64Index([715474, 715475, 715476], dtype='int64'),\n",
       " '\\n\\nONE USED TOYOTA HIGHLANDER 2006 MODEL WITH CHASSIS NO:JTEEP21AX60143403\\nIDENTIFIED AND EXAMINED BY 36970 SC IDRIS , M. AND 34714 DSC SULEIMAN, M\\nRELEASED.': Int64Index([1512214, 1512215, 1512216], dtype='int64'),\n",
       " '\\n\\nONE USED TOYOTA HIGHLANDER 2006 MODEL WITH CHASSIS NO;- JTEDP21A460092329\\nIDENTIFIED AND EXAMINED BY 34714,DSC,SULEIMAN M AND 49798, ASCI,SIDI,MM\\nRELEASED.': Int64Index([133904, 133905, 133906], dtype='int64'),\n",
       " '\\n\\nONE USED TOYOTA HIGHLANDER 2008 MODEL WITH CHASSIS NO:- JTEDS41A382031135\\nIDENTIFIED AND EXAMINED BY  34714 DSC SULEIMAN M AND 40623, ASCII, ABDULMALIK, I\\nRELEASED': Int64Index([204270, 204271, 204272], dtype='int64'),\n",
       " '\\n\\nONE USED TOYOTA HIGHLANDER 2008 MODEL WITH CHASSIS NO:- JTEDS41A982061997\\nIDENTIFIED AND EXAMINED BY  34714 DSC SULEIMAN M AND 49798 ,ASCI, SIDI,M.M.\\nRELEASED': Int64Index([2809296, 2809297, 2809298], dtype='int64'),\n",
       " '\\n\\nONE USED TOYOTA HIGHLANDER 2008 MODEL WITH CHASSIS NO:JTEES41A082034742\\nIDENTIFIED AND EXAMINED BY 41814 CSC ADESHINA J.O AND 38923 ASC I ABUBAKAR , T.A\\nRELEASED.': Int64Index([725127, 725128, 725129], dtype='int64'),\n",
       " '\\n\\nONE USED TOYOTA HIGHLANDER 2008 MODEL WITH CHASSIS NO:JTEES42A582093297\\nIDENTIFIED AND EXAMINED BY 36970 SC IDRIS , M. AND 34714 DSC SULEIMAN, M\\nRELEASED.': Int64Index([677254, 677255, 677256], dtype='int64'),\n",
       " '\\n\\nONE USED TOYOTA HIGHLANDER 2009 MODEL WITH CHASSIS NO:JTEDS41A992071544 \\nIDENTIFIED AND EXAMINED BY  34714 DSC SULEIMAN M. AND 44267, ASCII, AKINLADE,O.E \\nRELEASED': Int64Index([2397380, 2397381, 2397382], dtype='int64'),\n",
       " '\\n\\nONE USED TOYOTA HIGHLANDER 2011 MODEL  WITH CHASSIS NO;- CH: 5TDBK3EH3BS048871\\nIDENTIFIED AND EXAMINED BY AND 34714,DSC,SULEIMAN,M AND 49798,ASCI,SIDI,MM\\nRELEASED\\n': Int64Index([2969810, 2969811, 2969812], dtype='int64'),\n",
       " '\\n\\nONE USED TOYOTA HIGHLANDER 2011 MODEL WITH CHASSIS NO:- 5TDBK3EH5BS042716\\nIDENTIFIED AND EXAMINED BY  34714 DSC SULEIMAN M AND 49798 ,ASCI, SIDI,M.M.\\nRELEASED\\n': Int64Index([1373125, 1373126, 1373127], dtype='int64'),\n",
       " '\\n\\nONE USED TOYOTA HIGHLANDER 2012 MODEL WITH CHASSIS NO:5TDBK3EH9CS158292\\nIDENTIFIED AND EXAMINED BY 41814 CSC ADESHINA J.O AND 38923 ASC I ABUBAKAR , T.A\\nRELEASED.': Int64Index([722625, 722626, 722627], dtype='int64'),\n",
       " '\\n\\nONE USED TOYOTA HIGHLANDER [2003] CHASS; NO; JTEHF21A620084540\\nEXAMINED BY; 49798, DSC, SIDI,M.M AND 40623, ASCII, ABDULMALIK,I\\nRELEASED': Int64Index([3062756, 3062757, 3062758], dtype='int64'),\n",
       " '\\n\\nONE USED TOYOTA HIGHLANDER [2003] MODEL CHASS; NO; JTEGF21A920047574\\nEXAMINED BY;  34714,DSC,SULEIMAN,M AND 44267,ASCII,AKINLADE,O.E\\nRELEASED': Int64Index([1751732, 1751733, 1751734], dtype='int64'),\n",
       " '\\n\\nONE USED TOYOTA HIGHLANDER [2004] CHASS; NO;  JTEEP21A740029890\\nEXAMINED BY; 49798, DSC, SIDI,M.M AND 40623, ASCII, ABDULMALIK,I\\nRELEASED': Int64Index([2323062, 2323063, 2323064], dtype='int64'),\n",
       " '\\n\\nONE USED TOYOTA HIGHLANDER [2005] MODEL CHASS; NO; JTEEP21A250069389\\nEXAMINED BY; 34714,DSC,SULEIMAN,M AND 38923,DSC,ABUBAKAR,T.A\\nRELEASED': Int64Index([2161731, 2161732, 2161733], dtype='int64'),\n",
       " '\\n\\nONE USED TOYOTA HIGHLANDER [2008] MODEL CHASS. NO  JTEDS43A382049485\\nEXAMINED BY;   41866,CSC, OLA,B.O AND 44798,DSC,SIDI,M. M \\nREFER TO VALUATION AS DIRECTED': Int64Index([1917559, 1917560, 1917561], dtype='int64'),\n",
       " '\\n\\nONE USED TOYOTA LANDCRUISER 2003 MODEL WITH CHASSIS NO:- CH:JTEHT05J112012994\\nIDENTIFIED AND EXAMINED BY  34714 DSC SULEIMAN M AND 49798 ,ASCI, SIDI,M.M.\\nREFER TO VALUATION': Int64Index([2359632, 2359633, 2359634], dtype='int64'),\n",
       " '\\n\\nONE USED TOYOTA LANDCRUISER 2003 MODEL WITH CHASSIS NO:- JTEHT05J922022187\\nIDENTIFIED AND EXAMINED BY  34714 DSC SULEIMAN M AND 49798 ,ASCI, SIDI,M.M.\\nRELEASED\\n': Int64Index([1816248, 1816249, 1816250], dtype='int64'),\n",
       " '\\n\\nONE USED TOYOTA LANDCRUISER 2004 MODEL WITH CHASSIS NO:JT3HT05J1X0066342\\nIDENTIFIED AND EXAMINED BY 34714 DSC SULEIMAN M AND 38923 ASC I ABUBAKAR , T.A\\nRELEASED.': Int64Index([774009, 774010, 774011], dtype='int64'),\n",
       " '\\n\\nONE USED TOYOTA MATRIX  2009 MODEL WITH CHASSIS NO:- 2T1KE40E09C012584\\nIDENTIFIED AND EXAMINED BY  49798, ASCI, SIDI,M.M  AND 44267,ASCII, AKINLADE,O.E\\nRELEASED': Int64Index([1897524, 1897525, 1897526], dtype='int64'),\n",
       " '\\n\\nONE USED TOYOTA MATRIX 2003 MODEL WITH CHASSIS NO:- 2T1KR32E33C048479\\nIDENTIFIED AND EXAMINED BY  34714 DSC SULEIMAN M AND 49798 ,ASCI, SIDI,M.M.\\nRELEASED': Int64Index([93077, 93078, 93079], dtype='int64'),\n",
       " '\\n\\nONE USED TOYOTA MATRIX 2004 MODEL WITH CHASSIS NO:- 2T1LR32EX4C191466\\nIDENTIFIED AND EXAMINED BY  34714 DSC SULEIMAN M AND 44267,ASCII, AKINLADE,O.E\\nRELEASED': Int64Index([98510, 98511, 98512], dtype='int64'),\n",
       " '\\n\\nONE USED TOYOTA MATRIX 2004 MODEL WITH CHASSIS NO:2T1KR32E24C234824\\nIDENTIFIED AND EXAMINED BY 36970 SC IDRIS , M. AND 34714 DSC SULEIMAN, M\\nRELEASED.': Int64Index([703210, 703211, 703212], dtype='int64'),\n",
       " '\\n\\nONE USED TOYOTA MATRIX 2004 MODEL WITH CHASSIS NO:2T1KR32E43C116451\\nIDENTIFIED AND EXAMINED BY 36970 SC IDRIS , M. AND 34714 DSC SULEIMAN, M\\nRELEASED.': Int64Index([2262525, 2262526, 2262527], dtype='int64'),\n",
       " '\\n\\nONE USED TOYOTA MATRIX 2004 MODEL WITH CHASSIS NO:2T1KR32E73C026467\\nIDENTIFIED AND EXAMINED BY 34714 DSC SULEIMAN M AND 38923 ASC I ABUBAKAR , T.A\\nRELEASED.': Int64Index([1945108, 1945109, 1945110], dtype='int64'),\n",
       " '\\n\\nONE USED TOYOTA MATRIX 2004 MODEL WITH CHASSIS NO:2T1KR38E33C052135\\nIDENTIFIED AND EXAMINED BY 36970 SC IDRIS , M. AND 34714 DSC SULEIMAN, M\\nRELEASED.': Int64Index([2840210, 2840211, 2840212], dtype='int64'),\n",
       " '\\n\\nONE USED TOYOTA MATRIX 2005 MODEL WITH CHASSIS NO:- 2T1KR32E45C341147\\nIDENTIFIED AND EXAMINED BY  49798, ASCI, SIDI,M.M  AND 44267,ASCII, AKINLADE,O.E\\nRELEASED\\n': Int64Index([145044, 145045, 145046], dtype='int64'),\n",
       " '\\n\\nONE USED TOYOTA MATRIX 2005 MODEL WITH CHASSIS NO:2T1LR32E35C343279 \\nIDENTIFIED AND EXAMINED BY  41866, CSC, OLA, B.O AND 349798, DSC, SIDI,M.M. \\nRELEASED': Int64Index([1304234, 1304235, 1304236], dtype='int64'),\n",
       " '\\n\\nONE USED TOYOTA MATRIX 2005 MODEL WITH CHASSIS NO:2T1LR32E75C373451\\nIDENTIFIED AND EXAMINED BY 34714 DSC SULEIMAN M AND 38923 ASC I ABUBAKAR , T.A\\nRELEASED.': Int64Index([3086712, 3086713, 3086714], dtype='int64'),\n",
       " '\\n\\nONE USED TOYOTA MATRIX 2005 MODEL WITH CHASSIS NO:CH/NO:  2T1LR30E46C561512\\nIDENTIFIED AND EXAMINED BY 41814 CSC ADESHINA J.O AND 38923 ASC I ABUBAKAR , T.A\\nRELEASED.': Int64Index([1698540, 1698541, 1698542], dtype='int64'),\n",
       " '\\n\\nONE USED TOYOTA MATRIX 2006 MODEL WITH CHASSIS NO:- 2T1LR32E66C561458\\nIDENTIFIED AND EXAMINED BY  34714 DSC SULEIMAN M AND 49798 ,ASCI, SIDI,M.M.\\nRELEASED': Int64Index([1733984, 1733985, 1733986], dtype='int64'),\n",
       " '\\n\\nONE USED TOYOTA MATRIX 2006 MODEL WITH CHASSIS NO:CH/NO: 2T1KR32E05C386814\\nIDENTIFIED AND EXAMINED BY 41814 CSC ADESHINA J.O AND 38923 ASC I ABUBAKAR , T.A\\nRELEASED.': Int64Index([725105, 725106, 725107], dtype='int64'),\n",
       " '\\n\\nONE USED TOYOTA MATRIX 2008 MODEL WITH CHASSIS NO: 2T1KR32E48C704941\\nIDENTIFIED AND EXAMINED BY 36970 SC IDRIS , M. AND 34714 DSC SULEIMAN, M\\nRELEASED.': Int64Index([1345054, 1345055, 1345056], dtype='int64'),\n",
       " '\\n\\nONE USED TOYOTA MATRIX 2009 MODEL WITH CHASSIS NO:2T1KU40E09C047984\\nIDENTIFIED AND EXAMINED BY 34714 DSC SULEIMAN M AND 38923 ASC I ABUBAKAR , T.A\\nREFER TO VALUATION AS DIRECTED': Int64Index([1432849, 1432850, 1432851], dtype='int64'),\n",
       " '\\n\\nONE USED TOYOTA PRIUS 2007 MODEL WITH CHASSIS NO:JTDKB20U677644119\\nIDENTIFIED AND EXAMINED BY  41814,CSC,ADESHINA,J.O AND 34714 DSC SULEIMAN M. \\nRELEASED': Int64Index([2935609, 2935610, 2935611], dtype='int64'),\n",
       " '\\n\\nONE USED TOYOTA PRIUS 2008 MODEL WITH CHASSIS NO:- JTDKB20U783378456\\nIDENTIFIED AND EXAMINED BY  49798, ASCI, SIDI,M.M  AND 44267,ASCII, AKINLADE,O.E\\nRELEASED': Int64Index([78572, 78573, 78574], dtype='int64'),\n",
       " '\\n\\nONE USED TOYOTA RAV 4 2005 MODEL WITH CHASSIS NO:JTEGD20V450075541 \\nIDENTIFIED AND EXAMINED BY  34714 DSC SULEIMAN M. AND 52867, ASCII, AKINLOYE, K.Y\\nRELEASED\\n': Int64Index([188018, 188019, 188020], dtype='int64'),\n",
       " '\\n\\nONE USED TOYOTA RAV 4 2010 MODEL WITH CHASIS NO:- JTMBF4DV6AD030313\\nIDENTIFIED AND EXAMINED BY-34714,DSC,SULEIMAN,M AND 49798, ASCI,SIDI \\nRELEASED': Int64Index([1229666, 1229667, 1229668], dtype='int64'),\n",
       " '\\n\\nONE USED TOYOTA RAV4  2006 MODEL WITH CHASSIS NO:- CH: JTMBK33V766009490\\nIDENTIFIED AND EXAMINED BY  49798, ASCI, SIDI,M.M  AND 44267,ASCII, AKINLADE,O.E\\nRELEASED': Int64Index([82321, 82322, 82323], dtype='int64'),\n",
       " '\\n\\nONE USED TOYOTA RAV4 2003 MODEL WITH CHASSIS NO:- . JTEHH20V730248913\\nIDENTIFIED AND EXAMINED BY  41814, CSC, ADESHINA, J.O, M  AND 34714 DSC SULEIMAN M \\nRELEASED': Int64Index([3354297, 3354298, 3354299], dtype='int64'),\n",
       " '\\n\\nONE USED TOYOTA RAV4 2006 MODEL WITH CHASSIS NO:- JTMZK33VX66000619\\nIDENTIFIED AND EXAMINED BY  34714 DSC SULEIMAN M AND 44267,ASCII, AKINLADE,O.E\\nRELEASED': Int64Index([1450888, 1450889, 1450890], dtype='int64'),\n",
       " '\\n\\nONE USED TOYOTA RAV4 2007 MODEL WITH CHASSIS NO:- CH. JTMBD31V475055265\\nIDENTIFIED AND EXAMINED BY  34714 DSC SULEIMAN M AND 49798 ,ASCI, SIDI,M.M.\\nREFER TO VALUATION': Int64Index([2808883, 2808884, 2808885], dtype='int64'),\n",
       " '\\n\\nONE USED TOYOTA RAV4 2007 MODEL WITH CHASSIS NO:- JTMBD33V475120466\\nIDENTIFIED AND EXAMINED BY  34714 DSC SULEIMAN M AND 52867, ASCII, AKINLOYE,K.Y.\\nRELEASED': Int64Index([104595, 104596, 104597], dtype='int64'),\n",
       " '\\n\\nONE USED TOYOTA RAV4 2007 MODEL WITH CHASSIS NO:JTMBD33VX75060600\\nIDENTIFIED AND EXAMINED BY 34714 DSC SULEIMAN M AND 38923 ASC I ABUBAKAR , T.A\\nRELEASED.\\n': Int64Index([720654, 720655, 720656], dtype='int64'),\n",
       " '\\n\\nONE USED TOYOTA RAV4 2008 MODEL  WITH CHASSIS NO;- JTMBK31V186030907\\nIDENTIFIED AND EXAMINED BY AND 34714,DSC,SULEIMAN,M AND 49798,ASCI,SIDI,MM\\nRELEASED\\n': Int64Index([124286, 124287, 124288], dtype='int64'),\n",
       " '\\n\\nONE USED TOYOTA RAV4 2008 MODEL WITH CHASSIS NO;- CH: JTMBK31V976023606\\nIDENTIFIED AND EXAMINED BY 34714,DSC,SULEIMAN M AND 52867,ASCII,AKINLOYE\\nRELEASED.\\n': Int64Index([138326, 138327, 138328], dtype='int64'),\n",
       " '\\n\\nONE USED TOYOTA RAV4 2009 MODEL WITH CHASSIS NO:- 2T3ZF31V49W012517\\nIDENTIFIED AND EXAMINED BY  34714 DSC SULEIMAN M AND 49798 ,ASCI, SIDI,M.M.\\nRELEASED': Int64Index([70294, 70295, 70296], dtype='int64'),\n",
       " '\\n\\nONE USED TOYOTA RAV4 2011 MODEL WITH CHASSIS NO: JTMYK4DV9B5027536\\nIDENTIFIED AND EXAMINED BY 34714 DSC SULEIMAN M AND 38923 ASC I ABUBAKAR , T.A\\nREFER TO CPC TICP': Int64Index([2526024, 2526025, 2526026], dtype='int64'),\n",
       " '\\n\\nONE USED TOYOTA RAV4 [2003] MODEL CHASS; NO; JT3GP10V6Y0043821\\nEXAMINED BY;  34714,DSC,SULEIMAN,M AND 44267,ASCII,AKINLADE,O.E\\nRELEASED': Int64Index([2117559, 2117560, 2117561], dtype='int64'),\n",
       " '\\n\\nONE USED TOYOTA RAV4 [2003] MODEL CHASS; NO; JTMBD33V075064638\\nEXAMINED BY; 34714, DSC, SULEIMAN,M. AND 40623, ASCII, ABDULMALIK,I\\nRELEASED': Int64Index([1996248, 1996249, 1996250], dtype='int64'),\n",
       " '\\n\\nONE USED TOYOTA RAV4 [2007] CHASS; NO; JTMZK31V176004093\\nEXAMINED BY; 49798, DSC, SIDI,M.M AND 40623, ASCII, ABDULMALIK,I\\nRELEASED': Int64Index([1747442, 1747443, 1747444], dtype='int64'),\n",
       " '\\n\\nONE USED TOYOTA SCION TC  2006 MODEL WITH CHASSIS NO;JTKDE167460083351\\nIDENTIFIED AND EXAMINED BY  41814,CSC,ADESHINA,J.O AND 34714 DSC SULEIMAN M. \\nRELEASED': Int64Index([3136876, 3136877, 3136878], dtype='int64'),\n",
       " '\\n\\nONE USED TOYOTA SEQUIOR  2003 MODEL  WITH CHASSIS NO;- 5TDBT44A63S190320\\nIDENTIFIED AND EXAMINED BY AND 34714,DSC,SULEIMAN,M AND 49798,ASCI,SIDI,MM\\nRELEASED\\n': Int64Index([125185, 125186, 125187], dtype='int64'),\n",
       " '\\n\\nONE USED TOYOTA SEQUOIA 2004 MODEL WITH CHASSIS NO:5TDBT44A54S206086\\nIDENTIFIED AND EXAMINED BY 34714 DSC SULEIMAN M AND 38923 ASC I ABUBAKAR , T.A\\nRELEASED.': Int64Index([1697976, 1697977, 1697978], dtype='int64'),\n",
       " '\\n\\nONE USED TOYOTA SIENNA  2006 MODEL WITH CHASSIS NO:- 5TDZA23C865577421\\nIDENTIFIED AND EXAMINED BY  38923, ASCI, ABUBAKAR, T.A  AND 52867, ASCII, AKINLOYE,K.Y.\\nRELEASED\\n': Int64Index([1566607, 1566608, 1566609], dtype='int64'),\n",
       " '\\n\\nONE USED TOYOTA SIENNA  2007 MODEL WITH CHASSIS NO:5TDZK23C07S089109 \\nIDENTIFIED AND EXAMINED BY  34714 DSC SULEIMAN M. AND 44267, ASCII, AKINLADE,O.E \\nRELEASED\\n': Int64Index([2285518, 2285519, 2285520], dtype='int64'),\n",
       " '\\n\\nONE USED TOYOTA SIENNA  [2010] MODEL CHASS; NO;  5TDYK4CC1AS325894\\nEXAMINED BY;  34714,DSC,SULEIMAN,M AND 44267,ASCII,AKINLADE,O.E\\nRELEASED': Int64Index([338384, 338385, 338386], dtype='int64'),\n",
       " '\\n\\nONE USED TOYOTA SIENNA 2002 MODEL WITH CHASSIS NO:- 4T3ZF13C02U484669\\nIDENTIFIED AND EXAMINED BY  34714 DSC SULEIMAN M AND 44267,ASCII, AKINLADE,O.E\\nRELEASED': Int64Index([1476997, 1476998, 1476999], dtype='int64'),\n",
       " '\\n\\nONE USED TOYOTA SIENNA 2003 MODEL WITH CHASIS NO:- CH; 4T3ZF13C92U481138\\nIDENTIFIED AND EXAMINED BY-34714,DSC,SULEIMAN,M AND 44267, ASCII, AKINLADE, O.E\\nRELEASED\\n': Int64Index([2794706, 2794707, 2794708], dtype='int64'),\n",
       " '\\n\\nONE USED TOYOTA SIENNA 2003 MODEL WITH CHASSIS NO:-  4T3ZF13CX2U488440\\nIDENTIFIED AND EXAMINED BY  34714 DSC SULEIMAN M AND 49798 ,ASCI, SIDI,M.M.\\nRELEASED': Int64Index([2808582, 2808583, 2808584], dtype='int64'),\n",
       " '\\n\\nONE USED TOYOTA SIENNA 2003 MODEL WITH CHASSIS NO:- 4T3ZF13C03U515680\\nIDENTIFIED AND EXAMINED BY  34714 DSC SULEIMAN M AND 44267,ASCII, AKINLADE,O.E\\nRELEASED': Int64Index([82701, 82702, 82703], dtype='int64'),\n",
       " '\\n\\nONE USED TOYOTA SIENNA 2003 MODEL WITH CHASSIS NO:- 4T3ZF13C0WU032002\\nIDENTIFIED AND EXAMINED BY  34714 DSC SULEIMAN M AND 52867, ASCII, AKINLOYE,K.Y.\\nRELEASED BASED ON MIN.2 ABOVE': Int64Index([2886910, 2886911, 2886912], dtype='int64'),\n",
       " '\\n\\nONE USED TOYOTA SIENNA 2003 MODEL WITH CHASSIS NO:- 4T3ZF13C21U389867\\nIDENTIFIED AND EXAMINED BY  34714 DSC SULEIMAN M AND 49798 ,ASCI, SIDI,M.M.\\nRELEASED': Int64Index([86107, 86108, 86109], dtype='int64'),\n",
       " '\\n\\nONE USED TOYOTA SIENNA 2003 MODEL WITH CHASSIS NO:- 4T3ZF13C61U358279\\nIDENTIFIED AND EXAMINED BY  34714 DSC SULEIMAN M AND 40623, ASCII, ABDULMALIK, I\\nRELEASED': Int64Index([204907, 204908, 204909], dtype='int64'),\n",
       " '\\n\\nONE USED TOYOTA SIENNA 2003 MODEL WITH CHASSIS NO:- 4T3ZF13C7YU189643\\nIDENTIFIED AND EXAMINED BY  34714 DSC SULEIMAN M AND 49798 ,ASCI, SIDI,M.M.\\nRELEASED': Int64Index([105916, 105917, 105918], dtype='int64'),\n",
       " '\\n\\nONE USED TOYOTA SIENNA 2003 MODEL WITH CHASSIS NO:- 4T3ZF13C91U364917\\nIDENTIFIED AND EXAMINED BY  34714 DSC SULEIMAN M AND 49798 ,ASCI, SIDI,M.M.\\nRELEASED': Int64Index([2721883, 2721884, 2721885], dtype='int64'),\n",
       " '\\n\\nONE USED TOYOTA SIENNA 2003 MODEL WITH CHASSIS NO:- 4T3ZF13C91U398386\\nIDENTIFIED AND EXAMINED BY  34714 DSC SULEIMAN M AND 49798 ,ASCI, SIDI,M.M.\\nRELEASED': Int64Index([95194, 95195, 95196], dtype='int64'),\n",
       " '\\n\\nONE USED TOYOTA SIENNA 2003 MODEL WITH CHASSIS NO:- 4T3ZF19C92U423120\\nIDENTIFIED AND EXAMINED BY  34714 DSC SULEIMAN M AND 44267,ASCII, AKINLADE,O.E\\nREFERTO VALUATION': Int64Index([2147620, 2147621, 2147622], dtype='int64'),\n",
       " '\\n\\nONE USED TOYOTA SIENNA 2003 MODEL WITH CHASSIS NO:4T3ZF13C61U384669\\nIDENTIFIED AND EXAMINED BY  41814,CSC,ADESHINA,J.O AND 34714 DSC SULEIMAN M. \\nRELEASED': Int64Index([197779, 197780, 197781], dtype='int64'),\n",
       " '\\n\\nONE USED TOYOTA SIENNA 2003 MODEL WITH CHASSIS NO:4T3ZF19C61U331199\\nIDENTIFIED AND EXAMINED BY  34714 DSC SULEIMAN M. AND 44267, ASCII, AKINLADE,O.E \\nRELEASED': Int64Index([2715343, 2715344, 2715345], dtype='int64'),\n",
       " '\\n\\nONE USED TOYOTA SIENNA 2003 MODEL WITH CHASSIS NO:4T3ZF19C8YU176228 \\nIDENTIFIED AND EXAMINED BY  349798, DSC, SIDI,M.M. AND 52867, ASCII, AKINLOYE, K.Y\\nRELEASED': Int64Index([1905680, 1905681, 1905682], dtype='int64'),\n",
       " '\\n\\nONE USED TOYOTA SIENNA 2003 MODEL WITH CHASSIS NO:CH/NO: 4T3ZF13C6YU208019 \\nIDENTIFIED AND EXAMINED BY  36970, SC, IDRIS, M AND 34714 DSC SULEIMAN M. \\nRELEASED': Int64Index([2069438, 2069439, 2069440], dtype='int64'),\n",
       " '\\n\\nONE USED TOYOTA SIENNA 2003 MODEL WITH CHASSIS NO;- 4T3ZF13C0WU032002\\nIDENTIFIED AND EXAMINED BY 34714,DSC,SULEIMAN M AND 52867,ASCII,AKINLOYE\\nREFER TO VALUATION': Int64Index([2886916, 2886917, 2886918], dtype='int64'),\n",
       " '\\n\\nONE USED TOYOTA SIENNA 2004 MODEL WITH CHASSIS N;- 5TDZA23C64S071132\\nIDENTIFIED, AND EXAMINED BY-  34714,DSC,SULEIMAN AND 44267, ASCII,AKINLADE,O.E\\nRELEASED.': Int64Index([3386253, 3386254, 3386255], dtype='int64'),\n",
       " '\\n\\nONE USED TOYOTA SIENNA 2004 MODEL WITH CHASSIS NO:- 5TDBA22C24S023128\\nIDENTIFIED AND EXAMINED BY  41814, CSC, ADESHINA,J.O AND 34714 DSC SULEIMAN M \\nRELEASED': Int64Index([2973310, 2973311, 2973312], dtype='int64'),\n",
       " '\\n\\nONE USED TOYOTA SIENNA 2004 MODEL WITH CHASSIS NO:- 5TDZA22C24S169317\\nIDENTIFIED AND EXAMINED BY  34714 DSC SULEIMAN M AND 40923, ASCII, ABDULMALIK,I\\nRELEASED': Int64Index([1656080, 1656081, 1656082], dtype='int64'),\n",
       " '\\n\\nONE USED TOYOTA SIENNA 2004 MODEL WITH CHASSIS NO:4T3ZF13C32U420318\\nIDENTIFIED AND EXAMINED BY 34714 DSC SULEIMAN M AND 38923 ASC I ABUBAKAR , T.A\\nRELEASED.': Int64Index([795357, 795358, 795359], dtype='int64'),\n",
       " '\\n\\nONE USED TOYOTA SIENNA 2004 MODEL WITH CHASSIS NO:4T3ZF13C32U434512\\nIDENTIFIED AND EXAMINED BY 41814 CSC ADESHINA J.O AND 38923 ASC I ABUBAKAR , T.A\\nRELEASED.': Int64Index([2128455, 2128456, 2128457], dtype='int64'),\n",
       " '\\n\\nONE USED TOYOTA SIENNA 2004 MODEL WITH CHASSIS NO:4T3ZF13C8YU253558\\nIDENTIFIED AND EXAMINED BY 34714 DSC SULEIMAN M AND 38923 ASC I ABUBAKAR , T.A\\nRELEASED.': Int64Index([1949366, 1949367, 1949368], dtype='int64'),\n",
       " '\\n\\nONE USED TOYOTA SIENNA 2004 MODEL WITH CHASSIS NO:4T3ZF13CXYU273875\\nIDENTIFIED AND EXAMINED BY 36970 SC IDRIS , M. AND 34714 DSC SULEIMAN, M\\nRELEASED.': Int64Index([3163293, 3163294, 3163295], dtype='int64'),\n",
       " '\\n\\nONE USED TOYOTA SIENNA 2004 MODEL WITH CHASSIS NO:4T3ZF19C61U406256\\nIDENTIFIED AND EXAMINED BY 34714 DSC SULEIMAN M AND 38923 ASC I ABUBAKAR , T.A\\nRELEASED.': Int64Index([788170, 788171, 788172], dtype='int64'),\n",
       " '\\n\\nONE USED TOYOTA SIENNA 2004 MODEL WITH CHASSIS NO:5TDBA22C24S025025 \\nIDENTIFIED AND EXAMINED BY  34714 DSC SULEIMAN M. AND 44267, ASCII, AKINLADE,O.E \\nRELEASED': Int64Index([272271, 272272, 272273], dtype='int64'),\n",
       " '\\n\\nONE USED TOYOTA SIENNA 2004 MODEL WITH CHASSIS NO:5TDZA22C04S071256\\nIDENTIFIED AND EXAMINED BY 34714 DSC SULEIMAN M AND 38923 ASC I ABUBAKAR , T.A\\nRELEASED.': Int64Index([3276993, 3276994, 3276995], dtype='int64'),\n",
       " '\\n\\nONE USED TOYOTA SIENNA 2004 MODEL WITH CHASSIS NO:5TDZA22C64S144338\\nIDENTIFIED AND EXAMINED BY  349798, DSC, SIDI,M.M. AND 52867, ASCII, AKINLOYE, K.Y\\nRELEASED': Int64Index([195893, 195894, 195895], dtype='int64'),\n",
       " '\\n\\nONE USED TOYOTA SIENNA 2004 MODEL WITH CHASSIS NO:5TDZA22C74S187893\\nIDENTIFIED AND EXAMINED BY 34714 DSC SULEIMAN M AND 38923 ASC I ABUBAKAR , T.A\\nRELEASED.': Int64Index([791732, 791733, 791734], dtype='int64'),\n",
       " '\\n\\nONE USED TOYOTA SIENNA 2004 MODEL WITH CHASSIS NO:5TDZA22C84506214\\nIDENTIFIED AND EXAMINED BY 36970 SC IDRIS , M. AND 34714 DSC SULEIMAN, M\\nRELEASED.': Int64Index([723475, 723476, 723477], dtype='int64'),\n",
       " '\\n\\nONE USED TOYOTA SIENNA 2004 MODEL WITH CHASSIS NO:5TDZA23C14S144293\\nIDENTIFIED AND EXAMINED BY 36970 SC IDRIS , M. AND 34714 DSC SULEIMAN, M\\nRELEASED.': Int64Index([688094, 688095, 688096], dtype='int64'),\n",
       " '\\n\\nONE USED TOYOTA SIENNA 2004 MODEL WITH CHASSIS NO:CH. 5TDZA23C84S096968\\nIDENTIFIED AND EXAMINED BY  34714 DSC SULEIMAN M. AND 44267, ASCII, AKINLADE,O.E \\nRELEASED\\n': Int64Index([1565949, 1565950, 1565951], dtype='int64'),\n",
       " '\\n\\nONE USED TOYOTA SIENNA 2004 MODEL WITH CHASSIS NO:CH.4T3ZF13C7YU294036\\nIDENTIFIED AND EXAMINED BY 36970 SC IDRIS , M. AND 34714 DSC SULEIMAN, M\\nRELEASED.': Int64Index([3336893, 3336894, 3336895], dtype='int64'),\n",
       " '\\n\\nONE USED TOYOTA SIENNA 2004 MODEL WITH CHASSIS NO:CH: 4T3ZF19C53U515083\\nIDENTIFIED AND EXAMINED BY 34714 DSC SULEIMAN M AND 38923 ASC I ABUBAKAR , T.A\\nRELEASED.': Int64Index([1949286, 1949287, 1949288], dtype='int64'),\n",
       " '\\n\\nONE USED TOYOTA SIENNA 2004 MODEL WITH CHASSIS NO;4T3ZF13C4XU126224\\nIDENTIFIED AND EXAMINED BY 34714 DSC SULEIMAN M AND 38923 ASC I ABUBAKAR , T.A\\nRELEASED.': Int64Index([3445690, 3445691, 3445692], dtype='int64'),\n",
       " '\\n\\nONE USED TOYOTA SIENNA 2005 MODEL WITH CHASIS NO:- 5TDZA23C75S322547\\nIDENTIFIED AND EXAMINED BY-34714,DSC,SULEIMAN,M AND 49798, ASCI,SIDI \\nRELEASED': Int64Index([123343, 123344, 123345], dtype='int64'),\n",
       " '\\n\\nONE USED TOYOTA SIENNA 2005 MODEL WITH CHASIS NO:- 5TDZK23C87S086684\\nIDENTIFIED AND EXAMINED BY-34714,DSC,SULEIMAN,M AND 44267, ASCII, AKINLADE, O.E\\nRELEASED\\n': Int64Index([3055822, 3055823, 3055824], dtype='int64'),\n",
       " '\\n\\nONE USED TOYOTA SIENNA 2005 MODEL WITH CHASSIS NO:- CH:5TDZA23C55S344868\\nIDENTIFIED AND EXAMINED BY  34714 DSC SULEIMAN M AND 44267,ASCII, AKINLADE,O.E\\nRELEASED': Int64Index([2394062, 2394063, 2394064], dtype='int64'),\n",
       " '\\n\\nONE USED TOYOTA SIENNA 2005 MODEL WITH CHASSIS NO:5TDZA23C05S255855 \\nIDENTIFIED AND EXAMINED BY  34714 DSC SULEIMAN M. AND 44267, ASCII, AKINLADE,O.E \\nRELEASED': Int64Index([2483284, 2483285, 2483286], dtype='int64'),\n",
       " '\\n\\nONE USED TOYOTA SIENNA 2005 MODEL WITH CHASSIS NO:5TDZA23C05S381651\\nIDENTIFIED AND EXAMINED BY  34714 DSC SULEIMAN M. AND 52867, ASCII, AKINLOYE, K.Y\\nRELEASED': Int64Index([3219955, 3219956, 3219957], dtype='int64'),\n",
       " '\\n\\nONE USED TOYOTA SIENNA 2005 MODEL WITH CHASSIS NO:5TDZA23C35S340026\\nIDENTIFIED AND EXAMINED BY 34714 DSC SULEIMAN M AND 38923 ASC I ABUBAKAR , T.A\\nRELEASED.\\n': Int64Index([1260518, 1260519, 1260520], dtype='int64'),\n",
       " '\\n\\nONE USED TOYOTA SIENNA 2005 MODEL WITH CHASSIS NO:5TDZA23C35S365511\\nIDENTIFIED AND EXAMINED BY 41814 CSC ADESHINA J.O AND 38923 ASC I ABUBAKAR , T.A\\nRELEASED.\\n': Int64Index([721838, 721839, 721840], dtype='int64'),\n",
       " '\\n\\nONE USED TOYOTA SIENNA 2005 MODEL WITH CHASSIS NO:5TDZA23C65S379998\\nIDENTIFIED AND EXAMINED BY 41814 CSC ADESHINA J.O AND 38923 ASC I ABUBAKAR , T.A\\nRELEASED.': Int64Index([3416874, 3416875, 3416876], dtype='int64'),\n",
       " '\\n\\nONE USED TOYOTA SIENNA 2005 MODEL WITH CHASSIS NO:CH: 5TDZA23C55S289998\\nIDENTIFIED AND EXAMINED BY 34714 DSC SULEIMAN M AND 38923 ASC I ABUBAKAR , T.A\\nRELEASED.': Int64Index([1432038, 1432039, 1432040], dtype='int64'),\n",
       " '\\n\\nONE USED TOYOTA SIENNA 2006 MODEL WITH CHASSIS NO:- 5TDZA22C86S532982\\nIDENTIFIED AND EXAMINED BY  34714 DSC SULEIMAN M AND 52867, ASCII, AKINLOYE,K.Y.\\nRELEASED': Int64Index([2723805, 2723806, 2723807], dtype='int64'),\n",
       " '\\n\\nONE USED TOYOTA SIENNA 2006 MODEL WITH CHASSIS NO:- 5TDZA23C46S442405\\nIDENTIFIED AND EXAMINED BY  34714 DSC SULEIMAN M AND 44267,ASCII, AKINLADE,O.E\\nRELEASED': Int64Index([2608085, 2608086, 2608087], dtype='int64'),\n",
       " '\\n\\nONE USED TOYOTA SIENNA 2006 MODEL WITH CHASSIS NO:- 5TDZA23C76S412282\\nIDENTIFIED AND EXAMINED BY  34714 DSC SULEIMAN M AND 49798 ,ASCI, SIDI,M.M.\\nRELEASED': Int64Index([2199167, 2199168, 2199169], dtype='int64'),\n",
       " '\\n\\nONE USED TOYOTA SIENNA 2006 MODEL WITH CHASSIS NO:5TDBA22C56S063142\\nIDENTIFIED AND EXAMINED BY 34714 DSC SULEIMAN M AND 38923 ASC I ABUBAKAR , T.A\\nRELEASED.': Int64Index([776861, 776862, 776863], dtype='int64'),\n",
       " '\\n\\nONE USED TOYOTA SIENNA 2006 MODEL WITH CHASSIS NO:5TDZA23C16S437243\\nIDENTIFIED AND EXAMINED BY 34714 DSC SULEIMAN M AND 38923 ASC I ABUBAKAR , T.A\\nRELEASED.': Int64Index([2043353, 2043354, 2043355], dtype='int64'),\n",
       " '\\n\\nONE USED TOYOTA SIENNA 2006 MODEL WITH CHASSIS NO:5TDZA23C66S529822\\nIDENTIFIED AND EXAMINED BY 36970 SC IDRIS , M. AND 34714 DSC SULEIMAN, M\\nRELEASED.': Int64Index([1540705, 1540706, 1540707], dtype='int64'),\n",
       " ...}"
      ]
     },
     "execution_count": 28,
     "metadata": {},
     "output_type": "execute_result"
    }
   ],
   "source": [
    "grouped.groups"
   ]
  },
  {
   "cell_type": "code",
   "execution_count": 7,
   "metadata": {},
   "outputs": [],
   "source": [
    "check = data1.iloc[30:50].copy()"
   ]
  },
  {
   "cell_type": "code",
   "execution_count": 11,
   "metadata": {},
   "outputs": [],
   "source": [
    "new_dataset2 = new_dataset2.drop_duplicates()"
   ]
  },
  {
   "cell_type": "code",
   "execution_count": 12,
   "metadata": {},
   "outputs": [
    {
     "data": {
      "text/plain": [
       "(6778497, 17)"
      ]
     },
     "execution_count": 12,
     "metadata": {},
     "output_type": "execute_result"
    }
   ],
   "source": [
    "new_dataset2.shape"
   ]
  }
 ],
 "metadata": {
  "kernelspec": {
   "display_name": "Python 3.7.4 64-bit ('base': conda)",
   "language": "python",
   "name": "python37464bitbaseconda305f0a039dc3471183f17be085ad691e"
  },
  "language_info": {
   "codemirror_mode": {
    "name": "ipython",
    "version": 3
   },
   "file_extension": ".py",
   "mimetype": "text/x-python",
   "name": "python",
   "nbconvert_exporter": "python",
   "pygments_lexer": "ipython3",
   "version": "3.7.4-final"
  }
 },
 "nbformat": 4,
 "nbformat_minor": 2
}